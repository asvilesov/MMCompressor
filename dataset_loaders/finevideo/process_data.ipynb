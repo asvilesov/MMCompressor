{
 "cells": [
  {
   "cell_type": "code",
   "execution_count": 2,
   "metadata": {},
   "outputs": [
    {
     "data": {
      "application/vnd.jupyter.widget-view+json": {
       "model_id": "722f3a6aacfb46b3b62dbbf0cd01c97a",
       "version_major": 2,
       "version_minor": 0
      },
      "text/plain": [
       "Resolving data files:   0%|          | 0/1357 [00:00<?, ?it/s]"
      ]
     },
     "metadata": {},
     "output_type": "display_data"
    },
    {
     "data": {
      "application/vnd.jupyter.widget-view+json": {
       "model_id": "c1f99ebf12074ad0a26da9b961dcacbf",
       "version_major": 2,
       "version_minor": 0
      },
      "text/plain": [
       "Resolving data files:   0%|          | 0/1357 [00:00<?, ?it/s]"
      ]
     },
     "metadata": {},
     "output_type": "display_data"
    },
    {
     "data": {
      "application/vnd.jupyter.widget-view+json": {
       "model_id": "91d9f802d55d4e55a2aa2ca3179cd64f",
       "version_major": 2,
       "version_minor": 0
      },
      "text/plain": [
       "Loading dataset shards:   0%|          | 0/906 [00:00<?, ?it/s]"
      ]
     },
     "metadata": {},
     "output_type": "display_data"
    }
   ],
   "source": [
    "from datasets import load_dataset\n",
    "import os\n",
    "\n",
    "#full dataset (600GB of data)\n",
    "dataset = load_dataset(\"HuggingFaceFV/finevideo\", split=\"train\", num_proc=64)"
   ]
  },
  {
   "cell_type": "code",
   "execution_count": 3,
   "metadata": {},
   "outputs": [
    {
     "data": {
      "text/plain": [
       "{'content_fine_category': 'Engineering Projects',\n",
       " 'content_metadata': {'characterList': [{'characterId': '1',\n",
       "    'description': 'A young woman with long blonde hair, wearing a grey shirt and an orange safety vest. She is a participant in the heavy equipment operators course.',\n",
       "    'name': 'Sara Paynton'},\n",
       "   {'characterId': '2',\n",
       "    'description': 'A man with a beard and glasses, wearing an orange polo shirt. He works at WorkBC as a Quality Assurance Training Coordinator.',\n",
       "    'name': 'Paulo Fulgencio'},\n",
       "   {'characterId': '3',\n",
       "    'description': 'A man with short brown hair, wearing a light blue shirt. He is the COO of the Southern Interior Construction Association.',\n",
       "    'name': 'Bill Everitt'},\n",
       "   {'characterId': '4',\n",
       "    'description': 'A man with short grey hair and glasses, wearing a black jacket. He is a Civil Manager at Construction Services Southern Interior.',\n",
       "    'name': 'Charlie Kopola'},\n",
       "   {'characterId': '5',\n",
       "    'description': 'A man with long black hair, wearing a black jacket. He is a SICA/Velocity client and a BC Hydro Labourer.',\n",
       "    'name': 'Adam Christian'}],\n",
       "  'description': 'A video highlighting the Heavy Equipment Operators course, focusing on its benefits, collaboration between institutions, and testimonials from clients and coordinators.',\n",
       "  'fps': 23.976024615513296,\n",
       "  'qAndA': [{'answer': 'He emphasizes the amount of time clients get to spend operating the equipment, which is crucial for their success in the field.',\n",
       "    'question': 'What specific benefit does Paulo Fulgencio highlight about the heavy equipment operators course?'},\n",
       "   {'answer': 'He is responsible for civil construction projects across the Southern Interior region.',\n",
       "    'question': 'What type of construction projects does Charlie Kopola oversee?'},\n",
       "   {'answer': 'He obtained further training in equipment operating, specifically focusing on skills like excavating.',\n",
       "    'question': 'What specific training did Adam Christian attain during his time away from BC Hydro?'},\n",
       "   {'answer': 'He appreciated the fact that Velocity brings their training to the clients, eliminating the need for clients to travel to access the program.',\n",
       "    'question': \"What aspect of Velocity's training did Adam Christian find particularly beneficial?\"},\n",
       "   {'answer': \"The video states that the employment rate is around 70%, signifying the program's effectiveness in helping participants find jobs.\",\n",
       "    'question': 'What is the approximate employment rate for participants who complete the heavy equipment operators course?'}],\n",
       "  'scenes': [{'activities': [{'description': \"Sara stands in front of a 'Heavy Equipment Operator Training Centre' sign and talks about the course.\",\n",
       "      'timestamp': {'end_timestamp': '00:00:09.009',\n",
       "       'start_timestamp': '00:00:00.000'}},\n",
       "     {'description': 'Sara explains her prior exposure to heavy equipment.',\n",
       "      'timestamp': {'end_timestamp': '00:00:18.018',\n",
       "       'start_timestamp': '00:00:09.009'}},\n",
       "     {'description': 'Sara describes the course structure, mentioning classroom time and equipment practice.',\n",
       "      'timestamp': {'end_timestamp': '00:00:28.779',\n",
       "       'start_timestamp': '00:00:18.018'}}],\n",
       "    'audioVisualCorrelation': 0.8,\n",
       "    'cast': ['Sara Paynton'],\n",
       "    'characterInteraction': [],\n",
       "    'contextualRelevance': 'The visuals of heavy equipment in action create a sense of excitement and potential for those interested in this field.',\n",
       "    'dynamismScore': 0.7,\n",
       "    'mood': {'description': 'Excited', 'keyMoments': []},\n",
       "    'narrativeProgression': [{'description': \"Introduction to the training center and Sara's presence.\",\n",
       "      'timestamp': '00:00:00.000'},\n",
       "     {'description': \"Sara's personal connection to heavy equipment.\",\n",
       "      'timestamp': '00:00:09.009'},\n",
       "     {'description': 'Structure of the course and initial experiences.',\n",
       "      'timestamp': '00:00:18.018'}],\n",
       "    'props': [{'name': \"'Heavy Equipment Operator Training Centre' sign, construction site in the background.\",\n",
       "      'timestamp': {'end_timestamp': '00:00:09.009',\n",
       "       'start_timestamp': '00:00:00.000'}},\n",
       "     {'name': 'Construction site in the background.',\n",
       "      'timestamp': {'end_timestamp': '00:00:18.018',\n",
       "       'start_timestamp': '00:00:09.009'}},\n",
       "     {'name': 'Construction site in the background with excavator, dump truck, and bulldozer.',\n",
       "      'timestamp': {'end_timestamp': '00:00:28.779',\n",
       "       'start_timestamp': '00:00:18.018'}}],\n",
       "    'sceneId': 1,\n",
       "    'thematicElements': 'Importance of training, career opportunities, personal growth.',\n",
       "    'timestamps': {'end_timestamp': '00:00:28.779',\n",
       "     'start_timestamp': '00:00:00.000'},\n",
       "    'title': 'Introductory Scenes',\n",
       "    'videoEditingDetails': [{'description': 'Fade in from black, slow zoom into the sign.',\n",
       "      'timestamps': {'end_timestamp': '00:00:09.009',\n",
       "       'start_timestamp': '00:00:00.000'}},\n",
       "     {'description': 'Cut to Sara talking, excavator working in the background.',\n",
       "      'timestamps': {'end_timestamp': '00:00:18.018',\n",
       "       'start_timestamp': '00:00:09.009'}},\n",
       "     {'description': 'Cut to a wider shot of the construction site, dump truck driving by.',\n",
       "      'timestamps': {'end_timestamp': '00:00:28.779',\n",
       "       'start_timestamp': '00:00:18.018'}}]},\n",
       "   {'activities': [{'description': 'Paulo speaks about the benefits of the course for clients, highlighting the amount of time spent on equipment.',\n",
       "      'timestamp': {'end_timestamp': '00:00:51.009',\n",
       "       'start_timestamp': '00:00:28.987'}},\n",
       "     {'description': 'Paulo discusses the collaboration between institutions, employers, and education providers in creating the project.',\n",
       "      'timestamp': {'end_timestamp': '00:01:15.993',\n",
       "       'start_timestamp': '00:00:51.009'}}],\n",
       "    'audioVisualCorrelation': 0.7,\n",
       "    'cast': ['Paulo Fulgencio'],\n",
       "    'characterInteraction': [],\n",
       "    'contextualRelevance': 'The visuals of people going to work and heavy machinery in action underscore the practical and relevant nature of the program.',\n",
       "    'dynamismScore': 0.6,\n",
       "    'mood': {'description': 'Positive', 'keyMoments': []},\n",
       "    'narrativeProgression': [{'description': 'Emphasis on the practical experience gained by clients.',\n",
       "      'timestamp': '00:00:28.987'},\n",
       "     {'description': 'Explanation of the collaborative effort to design the project.',\n",
       "      'timestamp': '00:00:51.009'}],\n",
       "    'props': [{'name': 'WorkBC Employment Services Centre building.',\n",
       "      'timestamp': {'end_timestamp': '00:00:51.009',\n",
       "       'start_timestamp': '00:00:28.987'}},\n",
       "     {'name': 'Construction site with bulldozer and dump truck, person entering a building carrying a red hard hat.',\n",
       "      'timestamp': {'end_timestamp': '00:01:15.993',\n",
       "       'start_timestamp': '00:00:51.009'}}],\n",
       "    'sceneId': 2,\n",
       "    'thematicElements': 'Collaboration, community needs, skill development, employment opportunities.',\n",
       "    'timestamps': {'end_timestamp': '00:01:16.034',\n",
       "     'start_timestamp': '00:00:28.820'},\n",
       "    'title': 'Benefits & Collaboration',\n",
       "    'videoEditingDetails': [{'description': 'Cut to the exterior of the WorkBC building, slow zoom out.',\n",
       "      'timestamps': {'end_timestamp': '00:00:51.009',\n",
       "       'start_timestamp': '00:00:28.987'}},\n",
       "     {'description': 'Cut to construction site with bulldozer, then cut to person entering a building.',\n",
       "      'timestamps': {'end_timestamp': '00:01:15.993',\n",
       "       'start_timestamp': '00:00:51.009'}}]},\n",
       "   {'activities': [{'description': 'Bill explains the role of the Southern Interior Construction Association in funding the project and its need to address the shortage of skilled workers.',\n",
       "      'timestamp': {'end_timestamp': '00:01:37.014',\n",
       "       'start_timestamp': '00:01:16.076'}},\n",
       "     {'description': \"Bill highlights the importance of Velocity's training program in providing skilled workers for the construction community.\",\n",
       "      'timestamp': {'end_timestamp': '00:01:45.981',\n",
       "       'start_timestamp': '00:01:37.014'}}],\n",
       "    'audioVisualCorrelation': 0.6,\n",
       "    'cast': ['Bill Everitt'],\n",
       "    'characterInteraction': [],\n",
       "    'contextualRelevance': 'The emphasis on the high employment rate (70%) signifies the effectiveness of the program in achieving its objective.',\n",
       "    'dynamismScore': 0.5,\n",
       "    'mood': {'description': 'Proud', 'keyMoments': []},\n",
       "    'narrativeProgression': [{'description': \"Explanation of the Association's funding and its motivation.\",\n",
       "      'timestamp': '00:01:16.076'},\n",
       "     {'description': \"Appreciation for Velocity's contribution to filling the skill gap.\",\n",
       "      'timestamp': '00:01:37.014'}],\n",
       "    'props': [{'name': 'Bill sits in an office chair.',\n",
       "      'timestamp': {'end_timestamp': '00:01:37.014',\n",
       "       'start_timestamp': '00:01:16.076'}},\n",
       "     {'name': \"'Active Construction Site' sign, woman putting on a red hard hat.\",\n",
       "      'timestamp': {'end_timestamp': '00:01:45.981',\n",
       "       'start_timestamp': '00:01:37.014'}}],\n",
       "    'sceneId': 3,\n",
       "    'thematicElements': 'Industry partnerships, workforce development, community impact.',\n",
       "    'timestamps': {'end_timestamp': '00:01:46.064',\n",
       "     'start_timestamp': '00:01:16.076'},\n",
       "    'title': \"Association's Perspective\",\n",
       "    'videoEditingDetails': [{'description': 'Cut to Bill talking in an office.',\n",
       "      'timestamps': {'end_timestamp': '00:01:37.014',\n",
       "       'start_timestamp': '00:01:16.076'}},\n",
       "     {'description': \"Cut to 'Active Construction Site' sign, then to a woman putting on a hard hat.\",\n",
       "      'timestamps': {'end_timestamp': '00:01:45.981',\n",
       "       'start_timestamp': '00:01:37.014'}}]},\n",
       "   {'activities': [{'description': \"Charlie speaks about his hiring of various contractors, including Adam Christian, who benefited from the training program. Adam shares his experience with Velocity's training program, highlighting the accessibility and quality of instruction.\",\n",
       "      'timestamp': {'end_timestamp': '00:02:18.638',\n",
       "       'start_timestamp': '00:01:46.106'}}],\n",
       "    'audioVisualCorrelation': 0.7,\n",
       "    'cast': ['Charlie Kopola', 'Adam Christian'],\n",
       "    'characterInteraction': [{'characters': ['Charlie Kopola',\n",
       "       'Adam Christian'],\n",
       "      'description': \"Charlie and Adam's narratives are connected, showcasing the positive impact of the program on both employers and employees.\"}],\n",
       "    'contextualRelevance': \"The focus on Adam's journey from training to employment demonstrates the tangible results of the program and its impact on individual lives.\",\n",
       "    'dynamismScore': 0.6,\n",
       "    'mood': {'description': 'Grateful', 'keyMoments': []},\n",
       "    'narrativeProgression': [{'description': \"Charlie's experience hiring contractors, including Adam, who had training.\",\n",
       "      'timestamp': '00:01:46.106'},\n",
       "     {'description': \"Adam's experience with Velocity's program and its benefits.\",\n",
       "      'timestamp': '00:02:10.005'}],\n",
       "    'props': [{'name': 'BC Hydro sign, photos of construction work, excavator, bulldozer.',\n",
       "      'timestamp': {'end_timestamp': '00:02:18.638',\n",
       "       'start_timestamp': '00:01:46.106'}}],\n",
       "    'sceneId': 4,\n",
       "    'thematicElements': 'Skill development, employability, community benefits, Aboriginal businesses.',\n",
       "    'timestamps': {'end_timestamp': '00:02:18.638',\n",
       "     'start_timestamp': '00:01:46.106'},\n",
       "    'title': \"Contractors' Experience\",\n",
       "    'videoEditingDetails': [{'description': 'Cut to Charlie talking, then cut to Adam, then back to construction site.',\n",
       "      'timestamps': {'end_timestamp': '00:02:18.638',\n",
       "       'start_timestamp': '00:01:46.106'}}]},\n",
       "   {'activities': [{'description': \"Adam elaborates on the benefits of Velocity's training, mentioning on-site training and the quality of instruction.\",\n",
       "      'timestamp': {'end_timestamp': '00:02:33.987',\n",
       "       'start_timestamp': '00:02:19.014'}},\n",
       "     {'description': 'Bill speaks about the high success and employment rates of the program and the broad range of skills learned by participants.',\n",
       "      'timestamp': {'end_timestamp': '00:02:56.009',\n",
       "       'start_timestamp': '00:02:33.987'}},\n",
       "     {'description': 'Paulo encourages individuals with employment questions to reach out to WorkBC for assistance and guidance.',\n",
       "      'timestamp': {'end_timestamp': '00:03:16.988',\n",
       "       'start_timestamp': '00:02:56.009'}}],\n",
       "    'audioVisualCorrelation': 0.7,\n",
       "    'cast': ['Adam Christian', 'Bill Everitt', 'Paulo Fulgencio'],\n",
       "    'characterInteraction': [{'characters': ['Adam Christian',\n",
       "       'Bill Everitt',\n",
       "       'Paulo Fulgencio'],\n",
       "      'description': \"All three characters contribute to the narrative, reinforcing the program's positive aspects and its importance for the community.\"}],\n",
       "    'contextualRelevance': 'The scene concludes with a call to action, encouraging viewers to visit WorkBC for more information, bringing the video full circle.',\n",
       "    'dynamismScore': 0.5,\n",
       "    'mood': {'description': 'Happy', 'keyMoments': []},\n",
       "    'narrativeProgression': [{'description': \"Adam's continued appreciation for Velocity's training.\",\n",
       "      'timestamp': '00:02:19.014'},\n",
       "     {'description': \"Bill's summary of the program's success and comprehensive skill development.\",\n",
       "      'timestamp': '00:02:33.987'},\n",
       "     {'description': \"Paulo's encouragement for individuals to seek assistance from WorkBC.\",\n",
       "      'timestamp': '00:02:56.009'}],\n",
       "    'props': [{'name': 'Construction site with excavator, bulldozer, and dump truck.',\n",
       "      'timestamp': {'end_timestamp': '00:02:33.987',\n",
       "       'start_timestamp': '00:02:19.014'}},\n",
       "     {'name': 'Office setting, woman putting on a hard hat.',\n",
       "      'timestamp': {'end_timestamp': '00:02:56.009',\n",
       "       'start_timestamp': '00:02:33.987'}},\n",
       "     {'name': 'No specific props.',\n",
       "      'timestamp': {'end_timestamp': '00:03:16.988',\n",
       "       'start_timestamp': '00:02:56.009'}}],\n",
       "    'sceneId': 5,\n",
       "    'thematicElements': 'Empowerment, skill acquisition, career opportunities, community support.',\n",
       "    'timestamps': {'end_timestamp': '00:03:28.291',\n",
       "     'start_timestamp': '00:02:18.680'},\n",
       "    'title': 'Program Outcomes',\n",
       "    'videoEditingDetails': [{'description': 'Cut back to Adam talking.',\n",
       "      'timestamps': {'end_timestamp': '00:02:33.987',\n",
       "       'start_timestamp': '00:02:19.014'}},\n",
       "     {'description': 'Cut to Bill talking, then to a woman putting on a hard hat.',\n",
       "      'timestamps': {'end_timestamp': '00:02:56.009',\n",
       "       'start_timestamp': '00:02:33.987'}},\n",
       "     {'description': 'Cut to Paulo talking.',\n",
       "      'timestamps': {'end_timestamp': '00:03:16.988',\n",
       "       'start_timestamp': '00:02:56.009'}}]}],\n",
       "  'storylines': {'climax': {'description': 'High success and employment rates emphasized by Bill Everitt.',\n",
       "    'timestamp': '00:01:45.981'},\n",
       "   'description': 'Stories surrounding the Heavy Equipment Operators Course, featuring its success, training benefits, and client experiences.',\n",
       "   'scenes': [1, 2, 3, 4, 5]},\n",
       "  'title': 'Heavy Equipment Operators Course Promo',\n",
       "  'trimmingSuggestions': [{'description': 'The shot of the WorkBC building could be shortened or replaced with more dynamic visuals like interviews with participants or scenes from the training site.',\n",
       "    'timestamps': {'end_timestamp': '00:02:18.680',\n",
       "     'start_timestamp': '00:02:18.680'}},\n",
       "   {'description': \"Bill's talking head could be trimmed or intercut with footage of the training program or interviews with participants.\",\n",
       "    'timestamps': {'end_timestamp': '00:02:18.680',\n",
       "     'start_timestamp': '00:02:18.680'}}]},\n",
       " 'content_parent_category': 'Education',\n",
       " 'duration_seconds': 208,\n",
       " 'original_json_filename': 'd6b4OmUFt7I.json',\n",
       " 'original_video_filename': 'd6b4OmUFt7I.mp4',\n",
       " 'resolution': '640x360',\n",
       " 'text_to_speech': \"we're in West Bank BC in the heart of the reserve and I'm part of this heavy equipment operators course and yeah I'm loving it with the email Anderson for about a year but my whole life growing up I was exposed to it a lot my dad always show me all the equipment we get our class time go through all that and then after we get to go on the equipment for a couple hours and get used to it when you leave here at the end of the day you know you're more familiar with the machines and the basic understanding of how they work and what they do I think it's amazing for the fact that clients actually get a lot of hours on the equipment so usually when they go for training in this field they get a couple of hours but not necessarily everything they need to be successful so it's more than just an education they're getting the hours and employers are looking for when they make their hiring decisions give them a huge leg up compared to everybody else the cool thing about these projects is it's based on what the community needs so it actually comes from the partnerships between the institutions employers and education providers so they actually create the project and presented to us to see if there's a need to fill it so it's extremely flexible completely customizable for what employers need and what the issues they're facing as an association were funded by construction companies who will join our association and so what that provides us with is an opportunity to actually bring an employer to the table so we very clearly understand what their needs are they've communicated a need for skilled workers and this provided us an opportunity to fill that void it deals with the losses capability to do the training on the ground and to essentially provide skilled workers for our construction community that needs those workers I'm responsible for civil construction for various projects throughout the southern interior I hire many different contractors including Aboriginal businesses Adam Christian worked with us number of years ago Adam approached us to see if you get back on in his absence he had attained some further training equipment operating and brought that back with them for us and we've been able to utilize that and make them more employable with us and and just add more resources for us that way velocity offered from other safety training different tickets on top of the operating stuff yet they bring their training to you instead of you having to go to them which was big their instructors are confident and they good leadership in that nice atmosphere the success rate is high I think we're seeing something like 80 percent passing rate a really of greater importance we're seeing something like a high 70 percent employment rate so not only are they completing the course they're getting these skill training they're learning how to operate mobile equipment at the same time learning how to maintain the equipment how to work around it safely it provides them with a broad range of skills I think the biggest thing is that if anyone has any questions around employment to come and talk to us you know a lot of employers aren't sure what can be a good fit or what is something that would actually work and what we found especially in the employment program is there's so many things that we can do that's hard for us to describe it one soundbite so if they come and have that conversation we can really see how we can work together you\",\n",
       " 'text_to_speech_word_count': 622,\n",
       " 'timecoded_text_to_speech': [{'end': '00:00:04.546',\n",
       "   'start': '00:00:00.000',\n",
       "   'text': \" We're in West Bank, BC, in the heart of the reserve.\"},\n",
       "  {'end': '00:00:09.384',\n",
       "   'start': '00:00:04.546',\n",
       "   'text': \" And I'm part of this heavy equipment operators course, and I love it.\"},\n",
       "  {'end': '00:00:15.599',\n",
       "   'start': '00:00:09.384',\n",
       "   'text': ' With the email Anderson for about a year, but my whole life growing up, I was exposed to it a lot.'},\n",
       "  {'end': '00:00:19.394',\n",
       "   'start': '00:00:15.599',\n",
       "   'text': ' My dad always showed me all the equipment.'},\n",
       "  {'end': '00:00:25.567',\n",
       "   'start': '00:00:19.394',\n",
       "   'text': ' We get our class time, go through all that, and then after we get to go on the equipment for a couple hours and get used to it.'},\n",
       "  {'end': '00:00:34.159',\n",
       "   'start': '00:00:25.567',\n",
       "   'text': \" When you leave here at the end of the day, you know you're more familiar with the machines and the basic understanding of how they work and what they do.\"},\n",
       "  {'end': '00:00:40.374',\n",
       "   'start': '00:00:36.161',\n",
       "   'text': \" I think it's amazing for the fact that clients actually get a lot of hours on the equipment.\"},\n",
       "  {'end': '00:00:46.380',\n",
       "   'start': '00:00:40.374',\n",
       "   'text': ' So usually when they go for trading in this field, they get a couple of hours, but not necessarily everything they need to be successful.'},\n",
       "  {'end': '00:00:48.382',\n",
       "   'start': '00:00:46.380',\n",
       "   'text': \" So it's more than just an education.\"},\n",
       "  {'end': '00:00:51.969',\n",
       "   'start': '00:00:48.382',\n",
       "   'text': \" They're getting the hours and employers are looking for when they make their hiring decisions.\"},\n",
       "  {'end': '00:00:54.388',\n",
       "   'start': '00:00:51.969',\n",
       "   'text': ' Give them a huge leg up, compared to everybody else.'},\n",
       "  {'end': '00:00:58.767',\n",
       "   'start': '00:00:55.180',\n",
       "   'text': \" The cool thing about these projects is it's based on what the community needs.\"},\n",
       "  {'end': '00:01:04.982',\n",
       "   'start': '00:00:58.767',\n",
       "   'text': ' So it actually comes from the partnerships between the institutions, employers, and education providers.'},\n",
       "  {'end': '00:01:09.987',\n",
       "   'start': '00:01:04.982',\n",
       "   'text': \" So they actually create the project and then present it to us to see if there's a need to fill it.\"},\n",
       "  {'end': '00:01:17.786',\n",
       "   'start': '00:01:09.987',\n",
       "   'text': \" So it's extremely flexible, completely customizable for what employers need and what the issues they're facing.\"},\n",
       "  {'end': '00:01:24.167',\n",
       "   'start': '00:01:17.786',\n",
       "   'text': \" As an association, we're funded by construction companies who will join our association.\"},\n",
       "  {'end': '00:01:28.964',\n",
       "   'start': '00:01:24.167',\n",
       "   'text': ' And so what that provides us with is an opportunity to actually bring an employer to the table.'},\n",
       "  {'end': '00:01:31.967',\n",
       "   'start': '00:01:28.964',\n",
       "   'text': ' So we very clearly understand what their needs are.'},\n",
       "  {'end': '00:01:37.180',\n",
       "   'start': '00:01:31.967',\n",
       "   'text': \" They've communicated a need for skilled workers and this provided us an opportunity to fill that void.\"},\n",
       "  {'end': '00:01:46.565',\n",
       "   'start': '00:01:37.180',\n",
       "   'text': ' It deals with the loss of its capability to do the training on the ground and to essentially provide skilled workers for our construction community that needs those workers.'},\n",
       "  {'end': '00:01:53.363',\n",
       "   'start': '00:01:48.191',\n",
       "   'text': \" I'm responsible for civil construction for various projects throughout the southern interior.\"},\n",
       "  {'end': '00:01:58.160',\n",
       "   'start': '00:01:53.363',\n",
       "   'text': ' I hire many different contractors including Aboriginal businesses.'},\n",
       "  {'end': '00:02:00.996',\n",
       "   'start': '00:01:58.160',\n",
       "   'text': ' Adam Christian worked with us a number of years ago.'},\n",
       "  {'end': '00:02:02.998',\n",
       "   'start': '00:02:00.996',\n",
       "   'text': ' Adam approached us to see if we get back on.'},\n",
       "  {'end': '00:02:10.964',\n",
       "   'start': '00:02:02.998',\n",
       "   'text': ' In his absence, he had attained some further training, equipment operating, and brought that back with him for us.'},\n",
       "  {'end': '00:02:19.389',\n",
       "   'start': '00:02:10.964',\n",
       "   'text': \" And we've been able to utilize that and make him more employable with us and just add more resources for us that way.\"},\n",
       "  {'end': '00:02:24.561',\n",
       "   'start': '00:02:19.389',\n",
       "   'text': ' Velocity offers from other safety training, different tickets, and so on, of the operating stuff.'},\n",
       "  {'end': '00:02:28.565',\n",
       "   'start': '00:02:24.561',\n",
       "   'text': ' They bring their training to you instead of you having to go to them, which was big.'},\n",
       "  {'end': '00:02:32.569',\n",
       "   'start': '00:02:28.565',\n",
       "   'text': ' Their instructors are competent and they have good leadership in that.'},\n",
       "  {'end': '00:02:34.571',\n",
       "   'start': '00:02:32.569',\n",
       "   'text': ' Nice atmosphere.'},\n",
       "  {'end': '00:02:35.572',\n",
       "   'start': '00:02:34.571',\n",
       "   'text': ' The success rate is high.'},\n",
       "  {'end': '00:02:38.575',\n",
       "   'start': '00:02:35.572',\n",
       "   'text': \" I think we're seeing something like 80% passing rate.\"},\n",
       "  {'end': '00:02:42.996',\n",
       "   'start': '00:02:38.575',\n",
       "   'text': \" A really of greater importance, we're seeing something like a high 70% employment rate.\"},\n",
       "  {'end': '00:02:46.583',\n",
       "   'start': '00:02:42.996',\n",
       "   'text': ' So not only are they completing the course, they get any skill training.'},\n",
       "  {'end': '00:02:48.960',\n",
       "   'start': '00:02:46.583',\n",
       "   'text': \" They're learning how to operate mobile equipment.\"},\n",
       "  {'end': '00:02:52.964',\n",
       "   'start': '00:02:48.960',\n",
       "   'text': ' At the same time, learning how to maintain the equipment, how to work around it safely.'},\n",
       "  {'end': '00:02:56.968',\n",
       "   'start': '00:02:52.964',\n",
       "   'text': ' It provides them with a broad range of skills.'},\n",
       "  {'end': '00:03:02.974',\n",
       "   'start': '00:02:56.968',\n",
       "   'text': ' I think the biggest thing is that if anyone has any questions around employment, come and talk to us.'},\n",
       "  {'end': '00:03:07.771',\n",
       "   'start': '00:03:02.974',\n",
       "   'text': \" You know, a lot of employers aren't sure what could be a good fit or what is something that would actually work.\"},\n",
       "  {'end': '00:03:12.192',\n",
       "   'start': '00:03:07.771',\n",
       "   'text': \" And what we found, especially in the employment program is there's so many things that we can do\"},\n",
       "  {'end': '00:03:14.194',\n",
       "   'start': '00:03:12.192',\n",
       "   'text': \" that's hard for us to describe in one sound bite.\"},\n",
       "  {'end': '00:03:18.198',\n",
       "   'start': '00:03:14.194',\n",
       "   'text': ' So if they come and have that conversation, we can really see how we can work together.'}],\n",
       " 'youtube_age_limit': 0,\n",
       " 'youtube_categories': ['News & Politics'],\n",
       " 'youtube_channel': 'GovernmentofBC',\n",
       " 'youtube_channel_follower_count': 34800,\n",
       " 'youtube_comment_count': 0,\n",
       " 'youtube_description': 'WorkBC has developed a Heavy Equipment Operator training course with the Southern Interior Construction Association to provide skills training opportunities in the Okanagan.\\n\\nRead more: https://news.gov.bc.ca/releases/2016SDSI0016-000673',\n",
       " 'youtube_like_count': 555,\n",
       " 'youtube_tags': ['Province of BC',\n",
       "  'British Columbia',\n",
       "  'Heavy equipment',\n",
       "  'construction',\n",
       "  'bulldozer',\n",
       "  'excavator',\n",
       "  'front loader',\n",
       "  'skills training',\n",
       "  'skills upgrade',\n",
       "  'skills'],\n",
       " 'youtube_title': 'Training Heavy Equipment Operators',\n",
       " 'youtube_upload_date': '20160511',\n",
       " 'youtube_view_count': 89462}"
      ]
     },
     "execution_count": 3,
     "metadata": {},
     "output_type": "execute_result"
    }
   ],
   "source": [
    "dataset[0]['json']"
   ]
  },
  {
   "cell_type": "code",
   "execution_count": 4,
   "metadata": {},
   "outputs": [],
   "source": [
    "# Define the category you want to filter by\n",
    "desired_category = 'Sports'  # Replace with your desired category\n",
    "\n",
    "def is_desired_category(sample):\n",
    "    return sample['json']['content_parent_category'] == desired_category\n",
    "\n",
    "filtered_dataset = dataset.filter(is_desired_category, num_proc=32)"
   ]
  },
  {
   "cell_type": "code",
   "execution_count": 5,
   "metadata": {},
   "outputs": [
    {
     "data": {
      "text/plain": [
       "Dataset({\n",
       "    features: ['mp4', 'json'],\n",
       "    num_rows: 3359\n",
       "})"
      ]
     },
     "execution_count": 5,
     "metadata": {},
     "output_type": "execute_result"
    }
   ],
   "source": [
    "filtered_dataset"
   ]
  },
  {
   "cell_type": "code",
   "execution_count": 43,
   "metadata": {},
   "outputs": [
    {
     "name": "stderr",
     "output_type": "stream",
     "text": [
      "100%|██████████| 3359/3359 [00:13<00:00, 246.82it/s]\n"
     ]
    }
   ],
   "source": [
    "import random \n",
    "from tqdm import tqdm\n",
    "\n",
    "def convert_to_seconds(timestamp_str):\n",
    "        h, m, s = map(float, timestamp_str.split(':'))\n",
    "        return int(h*3600 + m*60 + s)\n",
    "\n",
    "filtered_list = []\n",
    "save_dir = \"/home/ubuntu/temp\"\n",
    "os.makedirs(save_dir, exist_ok=True)\n",
    "mp4_path = os.path.join(save_dir, \"mp4s\")\n",
    "os.makedirs(mp4_path, exist_ok=True)\n",
    "\n",
    "num_chunks = 4\n",
    "chunk_seconds = 5\n",
    "for i, sample in tqdm(enumerate(filtered_dataset), total=len(filtered_dataset)):\n",
    "    mp4_video_path = f\"{mp4_path}/{i}.mp4\"\n",
    "\n",
    "    chunks = []\n",
    "    all_activities = []\n",
    "    for activity in sample['json']['content_metadata']['scenes']:\n",
    "        all_activities += activity['activities']\n",
    "    timestamps_start = []\n",
    "    timestamps_end = []\n",
    "    for act in all_activities:\n",
    "        # convert from string to seconds '00:02:01.000' -> 121\n",
    "        try:\n",
    "            timestamp_start = convert_to_seconds(act['timestamp']['start_timestamp'])\n",
    "        except:\n",
    "            timestamp_start = 0\n",
    "        try:\n",
    "            timestamp_end = convert_to_seconds(act['timestamp']['end_timestamp'])\n",
    "        except:\n",
    "            timestamp_end = timestamp_start + 5\n",
    "        timestamps_start.append(timestamp_start)\n",
    "        timestamps_end.append(timestamp_end)\n",
    "\n",
    "    # 0. Filter out if few activities\n",
    "    # print(len(timestamps_start), num_chunks, timestamps_start[num_chunks-1], chunk_seconds*num_chunks)\n",
    "    if(len(timestamps_start) < num_chunks):\n",
    "        continue\n",
    "    else:\n",
    "        if(timestamps_start[num_chunks-1] > chunk_seconds*num_chunks):\n",
    "            continue\n",
    "    # filter out if duration is less than num_chunks*chunk_seconds\n",
    "    if(timestamps_start[-1] - timestamps_start[0] < num_chunks*chunk_seconds):\n",
    "        continue\n",
    "    # 1. Create Chunks\n",
    "    curr_visible_activities = []\n",
    "    activity_idx = 0\n",
    "    for j in range(num_chunks):\n",
    "        chunk = {\n",
    "            'interval': (j*chunk_seconds, (j+1)*chunk_seconds),\n",
    "        }\n",
    "        for idx, act in enumerate(all_activities):\n",
    "            if(idx >= activity_idx):\n",
    "                if(timestamps_start[idx] < (j+1)*chunk_seconds):\n",
    "                    curr_visible_activities.append(all_activities[activity_idx])\n",
    "                    activity_idx += 1\n",
    "        #random sample from visible activities\n",
    "        if(len(curr_visible_activities) == 0):\n",
    "            chunk['activity'] = {\"start\": timestamps_start[0], \n",
    "                                 \"end\": timestamps_end[0], \n",
    "                                 \"description\": all_activities[0]['description']}\n",
    "        else:\n",
    "            random_idx = random.randint(0, len(curr_visible_activities)-1)\n",
    "            chunk['activity'] = {\"start\": timestamps_start[random_idx],\n",
    "                                 \"end\": timestamps_end[random_idx], \n",
    "                                 \"description\": curr_visible_activities[random_idx]['description']}\n",
    "        chunks.append(chunk)\n",
    "\n",
    "\n",
    "    # C. Video mp4 save\n",
    "    with open(f\"{mp4_video_path}\", \"wb\") as f:\n",
    "        f.write(sample['mp4'])\n",
    "    \n",
    "    filtered_list.append({\"chunks\": chunks, \"mp4_path\": mp4_video_path})"
   ]
  },
  {
   "cell_type": "code",
   "execution_count": 45,
   "metadata": {},
   "outputs": [
    {
     "data": {
      "application/vnd.jupyter.widget-view+json": {
       "model_id": "e1aaec7c7ede44c69e4912855da38d50",
       "version_major": 2,
       "version_minor": 0
      },
      "text/plain": [
       "Saving the dataset (0/1 shards):   0%|          | 0/579 [00:00<?, ? examples/s]"
      ]
     },
     "metadata": {},
     "output_type": "display_data"
    }
   ],
   "source": [
    "len(filtered_list)\n",
    "# save to huggingface dataset\n",
    "from datasets import Dataset\n",
    "filtered_dataset = Dataset.from_list(filtered_list)\n",
    "filtered_dataset.save_to_disk(f\"/home/ubuntu/temp/{desired_category}_dataset\")"
   ]
  },
  {
   "cell_type": "code",
   "execution_count": 46,
   "metadata": {},
   "outputs": [
    {
     "data": {
      "text/plain": [
       "{'chunks': [{'activity': {'description': 'Police recruits work together on laptops',\n",
       "    'end': 4,\n",
       "    'start': 3},\n",
       "   'interval': [0, 5]},\n",
       "  {'activity': {'description': 'Police recruit #2 runs', 'end': 8, 'start': 7},\n",
       "   'interval': [5, 10]},\n",
       "  {'activity': {'description': 'Police recruits practice combat',\n",
       "    'end': 1,\n",
       "    'start': 0},\n",
       "   'interval': [10, 15]},\n",
       "  {'activity': {'description': 'Police officers walk together on a sidewalk',\n",
       "    'end': 3,\n",
       "    'start': 2},\n",
       "   'interval': [15, 20]}],\n",
       " 'mp4_path': '/home/ubuntu/temp/mp4s/0.mp4'}"
      ]
     },
     "execution_count": 46,
     "metadata": {},
     "output_type": "execute_result"
    }
   ],
   "source": [
    "filtered_dataset[0]"
   ]
  },
  {
   "cell_type": "code",
   "execution_count": 31,
   "metadata": {},
   "outputs": [
    {
     "data": {
      "text/plain": [
       "[{'description': 'Police recruits practice combat',\n",
       "  'timestamp': {'end_timestamp': '00:00:01.000',\n",
       "   'start_timestamp': '00:00:00.000'}},\n",
       " {'description': 'Police officers walk together on a sidewalk',\n",
       "  'timestamp': {'end_timestamp': '00:00:03.000',\n",
       "   'start_timestamp': '00:00:02.000'}},\n",
       " {'description': 'Police recruits work together on laptops',\n",
       "  'timestamp': {'end_timestamp': '00:00:04.000',\n",
       "   'start_timestamp': '00:00:03.000'}},\n",
       " {'description': 'Police officers stand in formation',\n",
       "  'timestamp': {'end_timestamp': '00:00:08.000',\n",
       "   'start_timestamp': '00:00:06.000'}},\n",
       " {'description': 'Police recruit #2 runs',\n",
       "  'timestamp': {'end_timestamp': '00:00:08.000',\n",
       "   'start_timestamp': '00:00:07.000'}},\n",
       " {'description': 'Police recruits practice shooting',\n",
       "  'timestamp': {'end_timestamp': '00:00:10.000',\n",
       "   'start_timestamp': '00:00:09.000'}},\n",
       " {'description': 'Police officers ride in a patrol car',\n",
       "  'timestamp': {'end_timestamp': '00:00:11.000',\n",
       "   'start_timestamp': '00:00:10.000'}},\n",
       " {'description': 'Police recruit #2 practices CPR on a dummy',\n",
       "  'timestamp': {'end_timestamp': '00:00:14.000',\n",
       "   'start_timestamp': '00:00:13.000'}},\n",
       " {'description': 'Police recruits run an obstacle course',\n",
       "  'timestamp': {'end_timestamp': '00:00:16.000',\n",
       "   'start_timestamp': '00:00:15.000'}},\n",
       " {'description': 'Police recruits practice combat techniques',\n",
       "  'timestamp': {'end_timestamp': '00:00:20.000',\n",
       "   'start_timestamp': '00:00:19.000'}},\n",
       " {'description': 'Police recruit #1 runs on a sidewalk',\n",
       "  'timestamp': {'end_timestamp': '00:00:21.000',\n",
       "   'start_timestamp': '00:00:20.000'}},\n",
       " {'description': 'Unknown Officer 1 sprays Police recruit #1 with pepper spray',\n",
       "  'timestamp': {'end_timestamp': '00:00:23.000',\n",
       "   'start_timestamp': '00:00:22.000'}},\n",
       " {'description': 'Police car navigates an obstacle course',\n",
       "  'timestamp': {'end_timestamp': '00:00:25.000',\n",
       "   'start_timestamp': '00:00:24.000'}},\n",
       " {'description': 'Police recruits practice fighting techniques',\n",
       "  'timestamp': {'end_timestamp': '00:00:26.000',\n",
       "   'start_timestamp': '00:00:25.000'}},\n",
       " {'description': 'Police recruits apply a tourniquet',\n",
       "  'timestamp': {'end_timestamp': '00:00:28.000',\n",
       "   'start_timestamp': '00:00:27.000'}},\n",
       " {'description': 'Police recruits shoot at a shooting range',\n",
       "  'timestamp': {'end_timestamp': '00:00:31.000',\n",
       "   'start_timestamp': '00:00:30.000'}}]"
      ]
     },
     "execution_count": 31,
     "metadata": {},
     "output_type": "execute_result"
    }
   ],
   "source": [
    "filtered_dataset[0]['json']['content_metadata']['scenes'][0]['activities']"
   ]
  },
  {
   "cell_type": "code",
   "execution_count": 37,
   "metadata": {},
   "outputs": [
    {
     "data": {
      "text/plain": [
       "[{'interval': (0, 5),\n",
       "  'mp4_path': '/home/ubuntu/temp/mp4s/0.mp4',\n",
       "  'activity': {'start': 0,\n",
       "   'end': 1,\n",
       "   'activity': 'Police recruits practice combat'}},\n",
       " {'interval': (5, 10),\n",
       "  'mp4_path': '/home/ubuntu/temp/mp4s/0.mp4',\n",
       "  'activity': {'start': 6,\n",
       "   'end': 8,\n",
       "   'activity': 'Police officers stand in formation'}},\n",
       " {'interval': (10, 15),\n",
       "  'mp4_path': '/home/ubuntu/temp/mp4s/0.mp4',\n",
       "  'activity': {'start': 9,\n",
       "   'end': 10,\n",
       "   'activity': 'Police recruits practice shooting'}},\n",
       " {'interval': (15, 20),\n",
       "  'mp4_path': '/home/ubuntu/temp/mp4s/0.mp4',\n",
       "  'activity': {'start': 7, 'end': 8, 'activity': 'Police recruit #2 runs'}}]"
      ]
     },
     "execution_count": 37,
     "metadata": {},
     "output_type": "execute_result"
    }
   ],
   "source": [
    "chunks"
   ]
  },
  {
   "cell_type": "code",
   "execution_count": 26,
   "metadata": {},
   "outputs": [
    {
     "data": {
      "text/plain": [
       "[5, 41, 71, 86, 126, 150, 192]"
      ]
     },
     "execution_count": 26,
     "metadata": {},
     "output_type": "execute_result"
    }
   ],
   "source": [
    "timestamps_start"
   ]
  },
  {
   "cell_type": "code",
   "execution_count": 24,
   "metadata": {},
   "outputs": [
    {
     "data": {
      "text/plain": [
       "[{'interval': (0, 5),\n",
       "  'mp4_path': '/home/ubuntu/temp/mp4s/1.mp4',\n",
       "  'activity': {'start': 5,\n",
       "   'end': 40,\n",
       "   'activity': 'Kerry talks about her role as a trainer assessor.'}},\n",
       " {'interval': (5, 10),\n",
       "  'mp4_path': '/home/ubuntu/temp/mp4s/1.mp4',\n",
       "  'activity': {'start': 5,\n",
       "   'end': 40,\n",
       "   'activity': 'Kerry talks about her role as a trainer assessor.'}},\n",
       " {'interval': (10, 15),\n",
       "  'mp4_path': '/home/ubuntu/temp/mp4s/1.mp4',\n",
       "  'activity': {'start': 5,\n",
       "   'end': 40,\n",
       "   'activity': 'Kerry talks about her role as a trainer assessor.'}},\n",
       " {'interval': (15, 20),\n",
       "  'mp4_path': '/home/ubuntu/temp/mp4s/1.mp4',\n",
       "  'activity': {'start': 5,\n",
       "   'end': 40,\n",
       "   'activity': 'Kerry talks about her role as a trainer assessor.'}}]"
      ]
     },
     "execution_count": 24,
     "metadata": {},
     "output_type": "execute_result"
    }
   ],
   "source": [
    "chunks"
   ]
  },
  {
   "cell_type": "code",
   "execution_count": 13,
   "metadata": {},
   "outputs": [
    {
     "data": {
      "text/plain": [
       "dict_keys(['content_fine_category', 'content_metadata', 'content_parent_category', 'duration_seconds', 'original_json_filename', 'original_video_filename', 'resolution', 'text_to_speech', 'text_to_speech_word_count', 'timecoded_text_to_speech', 'youtube_age_limit', 'youtube_categories', 'youtube_channel', 'youtube_channel_follower_count', 'youtube_comment_count', 'youtube_description', 'youtube_like_count', 'youtube_tags', 'youtube_title', 'youtube_upload_date', 'youtube_view_count'])"
      ]
     },
     "execution_count": 13,
     "metadata": {},
     "output_type": "execute_result"
    }
   ],
   "source": [
    "filtered_dataset[0]['json'].keys()"
   ]
  },
  {
   "cell_type": "code",
   "execution_count": 14,
   "metadata": {},
   "outputs": [
    {
     "data": {
      "text/plain": [
       "[{'description': 'Police recruits practice combat',\n",
       "  'timestamp': {'end_timestamp': '00:00:01.000',\n",
       "   'start_timestamp': '00:00:00.000'}},\n",
       " {'description': 'Police officers walk together on a sidewalk',\n",
       "  'timestamp': {'end_timestamp': '00:00:03.000',\n",
       "   'start_timestamp': '00:00:02.000'}},\n",
       " {'description': 'Police recruits work together on laptops',\n",
       "  'timestamp': {'end_timestamp': '00:00:04.000',\n",
       "   'start_timestamp': '00:00:03.000'}},\n",
       " {'description': 'Police officers stand in formation',\n",
       "  'timestamp': {'end_timestamp': '00:00:08.000',\n",
       "   'start_timestamp': '00:00:06.000'}},\n",
       " {'description': 'Police recruit #2 runs',\n",
       "  'timestamp': {'end_timestamp': '00:00:08.000',\n",
       "   'start_timestamp': '00:00:07.000'}},\n",
       " {'description': 'Police recruits practice shooting',\n",
       "  'timestamp': {'end_timestamp': '00:00:10.000',\n",
       "   'start_timestamp': '00:00:09.000'}},\n",
       " {'description': 'Police officers ride in a patrol car',\n",
       "  'timestamp': {'end_timestamp': '00:00:11.000',\n",
       "   'start_timestamp': '00:00:10.000'}},\n",
       " {'description': 'Police recruit #2 practices CPR on a dummy',\n",
       "  'timestamp': {'end_timestamp': '00:00:14.000',\n",
       "   'start_timestamp': '00:00:13.000'}},\n",
       " {'description': 'Police recruits run an obstacle course',\n",
       "  'timestamp': {'end_timestamp': '00:00:16.000',\n",
       "   'start_timestamp': '00:00:15.000'}},\n",
       " {'description': 'Police recruits practice combat techniques',\n",
       "  'timestamp': {'end_timestamp': '00:00:20.000',\n",
       "   'start_timestamp': '00:00:19.000'}},\n",
       " {'description': 'Police recruit #1 runs on a sidewalk',\n",
       "  'timestamp': {'end_timestamp': '00:00:21.000',\n",
       "   'start_timestamp': '00:00:20.000'}},\n",
       " {'description': 'Unknown Officer 1 sprays Police recruit #1 with pepper spray',\n",
       "  'timestamp': {'end_timestamp': '00:00:23.000',\n",
       "   'start_timestamp': '00:00:22.000'}},\n",
       " {'description': 'Police car navigates an obstacle course',\n",
       "  'timestamp': {'end_timestamp': '00:00:25.000',\n",
       "   'start_timestamp': '00:00:24.000'}},\n",
       " {'description': 'Police recruits practice fighting techniques',\n",
       "  'timestamp': {'end_timestamp': '00:00:26.000',\n",
       "   'start_timestamp': '00:00:25.000'}},\n",
       " {'description': 'Police recruits apply a tourniquet',\n",
       "  'timestamp': {'end_timestamp': '00:00:28.000',\n",
       "   'start_timestamp': '00:00:27.000'}},\n",
       " {'description': 'Police recruits shoot at a shooting range',\n",
       "  'timestamp': {'end_timestamp': '00:00:31.000',\n",
       "   'start_timestamp': '00:00:30.000'}},\n",
       " {'description': 'Police recruit #1 speaks about life at the Academy',\n",
       "  'timestamp': {'end_timestamp': '00:00:36.000',\n",
       "   'start_timestamp': '00:00:35.000'}},\n",
       " {'description': 'Shot of a swimming pool at the Academy',\n",
       "  'timestamp': {'end_timestamp': '00:00:38.000',\n",
       "   'start_timestamp': '00:00:37.000'}},\n",
       " {'description': 'Shots of the Academy buildings and grounds',\n",
       "  'timestamp': {'end_timestamp': '00:00:40.000',\n",
       "   'start_timestamp': '00:00:39.000'}},\n",
       " {'description': 'Shot of police recruits eating in a cafeteria',\n",
       "  'timestamp': {'end_timestamp': '00:00:47.000',\n",
       "   'start_timestamp': '00:00:46.000'}},\n",
       " {'description': 'Joe Jaramazovic speaks about the purpose of the course',\n",
       "  'timestamp': {'end_timestamp': '00:00:52.560',\n",
       "   'start_timestamp': '00:00:52.560'}},\n",
       " {'description': 'Jane Fitzgerald speaks about a typical day for a recruit',\n",
       "  'timestamp': {'end_timestamp': '00:01:04.000',\n",
       "   'start_timestamp': '00:01:03.000'}},\n",
       " {'description': 'Shots of police recruits standing in formation',\n",
       "  'timestamp': {'end_timestamp': '00:01:08.000',\n",
       "   'start_timestamp': '00:01:07.000'}},\n",
       " {'description': 'Police recruits walking to training',\n",
       "  'timestamp': {'end_timestamp': '00:01:12.000',\n",
       "   'start_timestamp': '00:01:11.000'}},\n",
       " {'description': 'Police recruits working on computers in a classroom',\n",
       "  'timestamp': {'end_timestamp': '00:01:17.000',\n",
       "   'start_timestamp': '00:01:16.000'}},\n",
       " {'description': 'Police recruit reading and taking notes',\n",
       "  'timestamp': {'end_timestamp': '00:01:20.000',\n",
       "   'start_timestamp': '00:01:19.000'}},\n",
       " {'description': 'Police recruits in a classroom listening to an instructor',\n",
       "  'timestamp': {'end_timestamp': '00:01:23.000',\n",
       "   'start_timestamp': '00:01:22.000'}},\n",
       " {'description': 'Police recruits walking down a hallway',\n",
       "  'timestamp': {'end_timestamp': '00:01:28.000',\n",
       "   'start_timestamp': '00:01:27.000'}},\n",
       " {'description': 'Police officers conducting a training scenario',\n",
       "  'timestamp': {'end_timestamp': '00:01:29.000',\n",
       "   'start_timestamp': '00:01:28.000'}},\n",
       " {'description': 'Police recruits walking beside a pool',\n",
       "  'timestamp': {'end_timestamp': '00:01:31.000',\n",
       "   'start_timestamp': '00:01:30.000'}},\n",
       " {'description': 'Police officers interacting with a recruit during a training scenario',\n",
       "  'timestamp': {'end_timestamp': '00:01:33.000',\n",
       "   'start_timestamp': '00:01:32.000'}},\n",
       " {'description': 'Police officers conducting an interrogation scenario',\n",
       "  'timestamp': {'end_timestamp': '00:01:36.000',\n",
       "   'start_timestamp': '00:01:35.000'}},\n",
       " {'description': 'Unknown Officer 1 speaks about the challenging nature of the course',\n",
       "  'timestamp': {'end_timestamp': '00:01:39.000',\n",
       "   'start_timestamp': '00:01:38.000'}},\n",
       " {'description': 'Police recruits watching a presentation',\n",
       "  'timestamp': {'end_timestamp': '00:01:41.000',\n",
       "   'start_timestamp': '00:01:40.000'}},\n",
       " {'description': 'Police recruits working on computers',\n",
       "  'timestamp': {'end_timestamp': '00:01:45.000',\n",
       "   'start_timestamp': '00:01:44.000'}},\n",
       " {'description': 'Police recruit practicing handcuffing another recruit',\n",
       "  'timestamp': {'end_timestamp': '00:01:46.000',\n",
       "   'start_timestamp': '00:01:46.000'}},\n",
       " {'description': 'Police Recruit #1 speaks about the biggest challenge she faced',\n",
       "  'timestamp': {'end_timestamp': '00:01:47.000',\n",
       "   'start_timestamp': '00:01:46.040'}},\n",
       " {'description': 'Shots of police recruits participating in various training exercises',\n",
       "  'timestamp': {'end_timestamp': '00:01:50.000',\n",
       "   'start_timestamp': '00:01:49.000'}},\n",
       " {'description': 'Unknown Officer 1 speaks about the critical nature of the training',\n",
       "  'timestamp': {'end_timestamp': '00:02:06.000',\n",
       "   'start_timestamp': '00:02:05.000'}},\n",
       " {'description': 'Shots of police recruits participating in various training exercises',\n",
       "  'timestamp': {'end_timestamp': '00:02:10.000',\n",
       "   'start_timestamp': '00:02:09.000'}},\n",
       " {'description': 'Joe Jaramazovic speaks about the importance of understanding the laws and making decisions',\n",
       "  'timestamp': {'end_timestamp': '00:02:18.000',\n",
       "   'start_timestamp': '00:02:17.000'}},\n",
       " {'description': 'Jane Fitzgerald speaks about the first year of service',\n",
       "  'timestamp': {'end_timestamp': '00:03:07.000',\n",
       "   'start_timestamp': '00:03:06.000'}},\n",
       " {'description': 'Shots of police recruits graduating from the Academy',\n",
       "  'timestamp': {'end_timestamp': '00:03:09.000',\n",
       "   'start_timestamp': '00:03:08.000'}},\n",
       " {'description': 'Joe Jaramazovic speaks about the importance of leadership',\n",
       "  'timestamp': {'end_timestamp': '00:03:57.000',\n",
       "   'start_timestamp': '00:03:56.000'}},\n",
       " {'description': 'Shots of police officers interacting with the community',\n",
       "  'timestamp': {'end_timestamp': '00:04:08.000',\n",
       "   'start_timestamp': '00:04:07.000'}}]"
      ]
     },
     "execution_count": 14,
     "metadata": {},
     "output_type": "execute_result"
    }
   ],
   "source": [
    "all_activities"
   ]
  },
  {
   "cell_type": "code",
   "execution_count": 20,
   "metadata": {},
   "outputs": [
    {
     "data": {
      "image/png": "[encoded data removed]",
      "text/plain": [
       "<Figure size 432x288 with 1 Axes>"
      ]
     },
     "metadata": {
      "needs_background": "light"
     },
     "output_type": "display_data"
    },
    {
     "data": {
      "image/png": "[encoded data removed]",
      "text/plain": [
       "<Figure size 432x288 with 1 Axes>"
      ]
     },
     "metadata": {
      "needs_background": "light"
     },
     "output_type": "display_data"
    },
    {
     "data": {
      "image/png": "[encoded data removed]",
      "text/plain": [
       "<Figure size 432x288 with 1 Axes>"
      ]
     },
     "metadata": {
      "needs_background": "light"
     },
     "output_type": "display_data"
    },
    {
     "data": {
      "image/png": "[encoded data removed]",
      "text/plain": [
       "<Figure size 432x288 with 1 Axes>"
      ]
     },
     "metadata": {
      "needs_background": "light"
     },
     "output_type": "display_data"
    },
    {
     "data": {
      "image/png": "[encoded data removed]",
      "text/plain": [
       "<Figure size 432x288 with 1 Axes>"
      ]
     },
     "metadata": {
      "needs_background": "light"
     },
     "output_type": "display_data"
    },
    {
     "data": {
      "image/png": "[encoded data removed]",
      "text/plain": [
       "<Figure size 432x288 with 1 Axes>"
      ]
     },
     "metadata": {
      "needs_background": "light"
     },
     "output_type": "display_data"
    },
    {
     "data": {
      "image/png": "[encoded data removed]",
      "text/plain": [
       "<Figure size 432x288 with 1 Axes>"
      ]
     },
     "metadata": {
      "needs_background": "light"
     },
     "output_type": "display_data"
    },
    {
     "data": {
      "image/png": "[encoded data removed]",
      "text/plain": [
       "<Figure size 432x288 with 1 Axes>"
      ]
     },
     "metadata": {
      "needs_background": "light"
     },
     "output_type": "display_data"
    },
    {
     "data": {
      "image/png": "[encoded data removed]",
      "text/plain": [
       "<Figure size 432x288 with 1 Axes>"
      ]
     },
     "metadata": {
      "needs_background": "light"
     },
     "output_type": "display_data"
    },
    {
     "data": {
      "image/png": "[encoded data removed]",
      "text/plain": [
       "<Figure size 432x288 with 1 Axes>"
      ]
     },
     "metadata": {
      "needs_background": "light"
     },
     "output_type": "display_data"
    },
    {
     "data": {
      "image/png": "[encoded data removed]",
      "text/plain": [
       "<Figure size 432x288 with 1 Axes>"
      ]
     },
     "metadata": {
      "needs_background": "light"
     },
     "output_type": "display_data"
    },
    {
     "data": {
      "image/png": "[encoded data removed]",
      "text/plain": [
       "<Figure size 432x288 with 1 Axes>"
      ]
     },
     "metadata": {
      "needs_background": "light"
     },
     "output_type": "display_data"
    }
   ],
   "source": [
    "for i, sample in enumerate(filtered_dataset):\n",
    "    with open(f\"{mp4_path}/{i}.mp4\", \"wb\") as f:\n",
    "        f.write(sample['mp4'])\n",
    "\n",
    "    chunks = {}\n",
    "    all_activities = []\n",
    "    for activity in sample['json']['content_metadata']['scenes']:\n",
    "        all_activities += activity['activities']\n",
    "\n",
    "    acts = all_activities\n",
    "    timestamps_start = []\n",
    "    timestamps_end = []\n",
    "    def convert_to_seconds(timestamp_str):\n",
    "        h, m, s = map(float, timestamp_str.split(':'))\n",
    "        return int(h*3600 + m*60 + s)\n",
    "    for act in acts:\n",
    "        # convert from string to seconds '00:02:01.000' -> 121\n",
    "        timestamp_start = convert_to_seconds(act['timestamp']['start_timestamp'])\n",
    "        timestamp_end = convert_to_seconds(act['timestamp']['end_timestamp'])\n",
    "        \n",
    "        timestamps_start.append(timestamp_start)\n",
    "        timestamps_end.append(timestamp_end)\n",
    "\n",
    "    import matplotlib.pyplot as plt\n",
    "    plt.figure()\n",
    "    plt.plot(timestamps_start, timestamps_start, 'ro')\n",
    "    plt.plot(timestamps_start, timestamps_end, 'bo')\n",
    "    plt.show()\n",
    "\n",
    "    if(i>10):\n",
    "        break"
   ]
  },
  {
   "cell_type": "code",
   "execution_count": null,
   "metadata": {},
   "outputs": [],
   "source": []
  }
 ],
 "metadata": {
  "kernelspec": {
   "display_name": "usr",
   "language": "python",
   "name": "python3"
  },
  "language_info": {
   "codemirror_mode": {
    "name": "ipython",
    "version": 3
   },
   "file_extension": ".py",
   "mimetype": "text/x-python",
   "name": "python",
   "nbconvert_exporter": "python",
   "pygments_lexer": "ipython3",
   "version": "3.10.12"
  }
 },
 "nbformat": 4,
 "nbformat_minor": 2
}
