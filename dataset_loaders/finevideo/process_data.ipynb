{
 "cells": [
  {
   "cell_type": "code",
   "execution_count": null,
   "metadata": {},
   "outputs": [],
   "source": [
    "from datasets import load_dataset\n",
    "import os\n",
    "\n",
    "#full dataset (600GB of data)\n",
    "dataset = load_dataset(\"HuggingFaceFV/finevideo\", split=\"train\", num_proc=64)"
   ]
  },
  {
   "cell_type": "code",
   "execution_count": null,
   "metadata": {},
   "outputs": [],
   "source": [
    "dataset[0]['json']"
   ]
  },
  {
   "cell_type": "code",
   "execution_count": null,
   "metadata": {},
   "outputs": [],
   "source": [
    "# Define the category you want to filter by\n",
    "desired_categories = ['Sports',]# 'Lifestyle', 'Hobbies and Interests', 'Automotive']  # Replace with your desired category\n",
    "\n",
    "def is_desired_category(sample):\n",
    "    return sample['json']['content_parent_category'] in desired_categories\n",
    "\n",
    "filtered_dataset = dataset.filter(is_desired_category, num_proc=32)"
   ]
  },
  {
   "cell_type": "code",
   "execution_count": null,
   "metadata": {},
   "outputs": [],
   "source": [
    "filtered_dataset"
   ]
  },
  {
   "cell_type": "code",
   "execution_count": null,
   "metadata": {},
   "outputs": [],
   "source": [
    "import random \n",
    "from tqdm import tqdm\n",
    "\n",
    "filtered_list = []\n",
    "save_dir = \"/home/ubuntu/temp/large_sports\"\n",
    "os.makedirs(save_dir, exist_ok=True)\n",
    "mp4_path = os.path.join(save_dir, \"mp4s\")\n",
    "os.makedirs(mp4_path, exist_ok=True)\n",
    "\n",
    "for i, sample in tqdm(enumerate(filtered_dataset), total=len(filtered_dataset)):\n",
    "    mp4_video_path = f\"{mp4_path}/{i}.mp4\"\n",
    "    with open(f\"{mp4_video_path}\", \"wb\") as f:\n",
    "        f.write(sample['mp4'])\n",
    "    filtered_list.append({\"mp4_path\": mp4_video_path})"
   ]
  },
  {
   "cell_type": "code",
   "execution_count": null,
   "metadata": {},
   "outputs": [],
   "source": [
    "len(filtered_list)\n",
    "# save to huggingface dataset\n",
    "from datasets import Dataset\n",
    "filtered_dataset = Dataset.from_list(filtered_list)\n",
    "filtered_dataset.save_to_disk(f\"/home/ubuntu/temp/large_sports/large_dataset\")"
   ]
  },
  {
   "cell_type": "markdown",
   "metadata": {},
   "source": [
    "# Save Dataset as Chunks"
   ]
  },
  {
   "cell_type": "code",
   "execution_count": null,
   "metadata": {},
   "outputs": [],
   "source": [
    "\n",
    "\n",
    "def convert_to_seconds(timestamp_str):\n",
    "        h, m, s = map(float, timestamp_str.split(':'))\n",
    "        return int(h*3600 + m*60 + s)\n",
    "\n",
    "filtered_list = []\n",
    "save_dir = \"/home/ubuntu/temp\"\n",
    "os.makedirs(save_dir, exist_ok=True)\n",
    "mp4_path = os.path.join(save_dir, \"mp4s\")\n",
    "os.makedirs(mp4_path, exist_ok=True)\n",
    "\n",
    "num_chunks = 4\n",
    "chunk_seconds = 5\n",
    "for i, sample in tqdm(enumerate(filtered_dataset), total=len(filtered_dataset)):\n",
    "    mp4_video_path = f\"{mp4_path}/{i}.mp4\"\n",
    "\n",
    "    chunks = []\n",
    "    all_activities = []\n",
    "    for activity in sample['json']['content_metadata']['scenes']:\n",
    "        all_activities += activity['activities']\n",
    "    timestamps_start = []\n",
    "    timestamps_end = []\n",
    "    for act in all_activities:\n",
    "        # convert from string to seconds '00:02:01.000' -> 121\n",
    "        try:\n",
    "            timestamp_start = convert_to_seconds(act['timestamp']['start_timestamp'])\n",
    "        except:\n",
    "            timestamp_start = 0\n",
    "        try:\n",
    "            timestamp_end = convert_to_seconds(act['timestamp']['end_timestamp'])\n",
    "        except:\n",
    "            timestamp_end = timestamp_start + 5\n",
    "        timestamps_start.append(timestamp_start)\n",
    "        timestamps_end.append(timestamp_end)\n",
    "\n",
    "    # 0. Filter out if few activities\n",
    "    # print(len(timestamps_start), num_chunks, timestamps_start[num_chunks-1], chunk_seconds*num_chunks)\n",
    "    if(len(timestamps_start) < num_chunks):\n",
    "        continue\n",
    "    else:\n",
    "        if(timestamps_start[num_chunks-1] > chunk_seconds*num_chunks):\n",
    "            continue\n",
    "    # filter out if duration is less than num_chunks*chunk_seconds\n",
    "    if(timestamps_start[-1] - timestamps_start[0] < num_chunks*chunk_seconds):\n",
    "        continue\n",
    "    # 1. Create Chunks\n",
    "    curr_visible_activities = []\n",
    "    activity_idx = 0\n",
    "    for j in range(num_chunks):\n",
    "        chunk = {\n",
    "            'interval': (j*chunk_seconds, (j+1)*chunk_seconds),\n",
    "        }\n",
    "        for idx, act in enumerate(all_activities):\n",
    "            if(idx >= activity_idx):\n",
    "                if(timestamps_start[idx] < (j+1)*chunk_seconds):\n",
    "                    curr_visible_activities.append(all_activities[activity_idx])\n",
    "                    activity_idx += 1\n",
    "        #random sample from visible activities\n",
    "        if(len(curr_visible_activities) == 0):\n",
    "            chunk['activity'] = {\"start\": timestamps_start[0], \n",
    "                                 \"end\": timestamps_end[0], \n",
    "                                 \"description\": all_activities[0]['description']}\n",
    "        else:\n",
    "            random_idx = random.randint(0, len(curr_visible_activities)-1)\n",
    "            chunk['activity'] = {\"start\": timestamps_start[random_idx],\n",
    "                                 \"end\": timestamps_end[random_idx], \n",
    "                                 \"description\": curr_visible_activities[random_idx]['description']}\n",
    "        chunks.append(chunk)\n",
    "\n",
    "\n",
    "    # C. Video mp4 save\n",
    "    with open(f\"{mp4_video_path}\", \"wb\") as f:\n",
    "        f.write(sample['mp4'])\n",
    "    \n",
    "    filtered_list.append({\"chunks\": chunks, \"mp4_path\": mp4_video_path})"
   ]
  },
  {
   "cell_type": "code",
   "execution_count": null,
   "metadata": {},
   "outputs": [],
   "source": [
    "len(filtered_list)\n",
    "# save to huggingface dataset\n",
    "from datasets import Dataset\n",
    "filtered_dataset = Dataset.from_list(filtered_list)\n",
    "filtered_dataset.save_to_disk(f\"/home/ubuntu/temp/{desired_category}_dataset\")"
   ]
  },
  {
   "cell_type": "code",
   "execution_count": null,
   "metadata": {},
   "outputs": [],
   "source": [
    "filtered_dataset[0]"
   ]
  },
  {
   "cell_type": "code",
   "execution_count": null,
   "metadata": {},
   "outputs": [],
   "source": [
    "filtered_dataset[0]['json']['content_metadata']['scenes'][0]['activities']"
   ]
  },
  {
   "cell_type": "code",
   "execution_count": null,
   "metadata": {},
   "outputs": [],
   "source": [
    "chunks"
   ]
  },
  {
   "cell_type": "code",
   "execution_count": null,
   "metadata": {},
   "outputs": [],
   "source": [
    "timestamps_start"
   ]
  },
  {
   "cell_type": "code",
   "execution_count": null,
   "metadata": {},
   "outputs": [],
   "source": [
    "chunks"
   ]
  },
  {
   "cell_type": "code",
   "execution_count": null,
   "metadata": {},
   "outputs": [],
   "source": [
    "filtered_dataset[0]['json'].keys()"
   ]
  },
  {
   "cell_type": "code",
   "execution_count": null,
   "metadata": {},
   "outputs": [],
   "source": [
    "all_activities"
   ]
  },
  {
   "cell_type": "code",
   "execution_count": null,
   "metadata": {},
   "outputs": [],
   "source": [
    "for i, sample in enumerate(filtered_dataset):\n",
    "    with open(f\"{mp4_path}/{i}.mp4\", \"wb\") as f:\n",
    "        f.write(sample['mp4'])\n",
    "\n",
    "    chunks = {}\n",
    "    all_activities = []\n",
    "    for activity in sample['json']['content_metadata']['scenes']:\n",
    "        all_activities += activity['activities']\n",
    "\n",
    "    acts = all_activities\n",
    "    timestamps_start = []\n",
    "    timestamps_end = []\n",
    "    def convert_to_seconds(timestamp_str):\n",
    "        h, m, s = map(float, timestamp_str.split(':'))\n",
    "        return int(h*3600 + m*60 + s)\n",
    "    for act in acts:\n",
    "        # convert from string to seconds '00:02:01.000' -> 121\n",
    "        timestamp_start = convert_to_seconds(act['timestamp']['start_timestamp'])\n",
    "        timestamp_end = convert_to_seconds(act['timestamp']['end_timestamp'])\n",
    "        \n",
    "        timestamps_start.append(timestamp_start)\n",
    "        timestamps_end.append(timestamp_end)\n",
    "\n",
    "    import matplotlib.pyplot as plt\n",
    "    plt.figure()\n",
    "    plt.plot(timestamps_start, timestamps_start, 'ro')\n",
    "    plt.plot(timestamps_start, timestamps_end, 'bo')\n",
    "    plt.show()\n",
    "\n",
    "    if(i>10):\n",
    "        break"
   ]
  },
  {
   "cell_type": "code",
   "execution_count": null,
   "metadata": {},
   "outputs": [],
   "source": []
  }
 ],
 "metadata": {
  "kernelspec": {
   "display_name": "Python 3 (ipykernel)",
   "language": "python",
   "name": "python3"
  },
  "language_info": {
   "codemirror_mode": {
    "name": "ipython",
    "version": 3
   },
   "file_extension": ".py",
   "mimetype": "text/x-python",
   "name": "python",
   "nbconvert_exporter": "python",
   "pygments_lexer": "ipython3",
   "version": "3.10.12"
  }
 },
 "nbformat": 4,
 "nbformat_minor": 4
}
