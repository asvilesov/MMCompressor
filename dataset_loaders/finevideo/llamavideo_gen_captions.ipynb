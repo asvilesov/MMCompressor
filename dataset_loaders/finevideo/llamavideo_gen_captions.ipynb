{
 "cells": [
  {
   "cell_type": "code",
   "execution_count": null,
   "metadata": {},
   "outputs": [],
   "source": [
    "import torch\n",
    "from transformers import AutoModelForCausalLM, AutoProcessor\n",
    "\n",
    "device = \"cuda:0\"\n",
    "model_path = \"DAMO-NLP-SG/VideoLLaMA3-2B\"\n",
    "model = AutoModelForCausalLM.from_pretrained(\n",
    "    model_path,\n",
    "    trust_remote_code=True,\n",
    "    device_map={\"\": device},\n",
    "    torch_dtype=torch.bfloat16,\n",
    "    attn_implementation=\"flash_attention_2\",\n",
    ")\n",
    "processor = AutoProcessor.from_pretrained(model_path, trust_remote_code=True)\n",
    "\n"
   ]
  },
  {
   "cell_type": "code",
   "execution_count": null,
   "metadata": {},
   "outputs": [],
   "source": [
    "from datasets import load_from_disk\n",
    "dataset = load_from_disk(\"/home/ubuntu/temp/large_sports/large_dataset\")"
   ]
  },
  {
   "cell_type": "code",
   "execution_count": null,
   "metadata": {},
   "outputs": [],
   "source": [
    "from tqdm import tqdm\n",
    "for sample in tqdm(dataset, total=len(dataset)):\n",
    "    break\n",
    "print(sample.keys())"
   ]
  },
  {
   "cell_type": "code",
   "execution_count": null,
   "metadata": {},
   "outputs": [],
   "source": [
    "data_list = []\n",
    "for sample in tqdm(dataset, total=len(dataset)):\n",
    "    video_path = sample[\"mp4_path\"]\n",
    "    conversation = [\n",
    "        {\"role\": \"system\", \"content\": \"You are a helpful assistant.\"},\n",
    "        {\n",
    "            \"role\": \"user\",\n",
    "            \"content\": [\n",
    "                {\"type\": \"video\", \"video\": {\"video_path\": video_path, \"fps\": 1, \"max_frames\": 20, \"start_time\": 0, \"end_time\": 10}},\n",
    "                {\"type\": \"text\", \"text\": \"Describe the video.\"},\n",
    "            ]\n",
    "        },\n",
    "    ]\n",
    "\n",
    "    inputs = processor(\n",
    "        conversation=conversation,\n",
    "        add_system_prompt=True,\n",
    "        add_generation_prompt=True,\n",
    "        return_tensors=\"pt\"\n",
    "    )\n",
    "    inputs = {k: v.to(device) if isinstance(v, torch.Tensor) else v for k, v in inputs.items()}\n",
    "    if \"pixel_values\" in inputs:\n",
    "        inputs[\"pixel_values\"] = inputs[\"pixel_values\"].to(torch.bfloat16)\n",
    "    output_ids = model.generate(**inputs, max_new_tokens=128)\n",
    "    response = processor.batch_decode(output_ids, skip_special_tokens=True)[0].strip()\n",
    "\n",
    "    data_list.append({\"mp4_path\": video_path, \"description\": response})\n",
    "    print(response)"
   ]
  },
  {
   "cell_type": "code",
   "execution_count": null,
   "metadata": {},
   "outputs": [],
   "source": [
    "len(data_list)"
   ]
  },
  {
   "cell_type": "code",
   "execution_count": null,
   "metadata": {},
   "outputs": [],
   "source": [
    "#collate to original dataset\n",
    "collate_list = []\n",
    "\n",
    "for sample in data_list:\n",
    "    data_dict = {}\n",
    "    data_dict[\"mp4_path\"] = sample[\"mp4_path\"]\n",
    "    data_dict[\"chunks\"] = [{\"activity\": {\"start\": 0, \"end\": 15, \"description\": sample[\"description\"]}, \"interval\": (0,15)}]\n",
    "    collate_list.append(data_dict)"
   ]
  },
  {
   "cell_type": "code",
   "execution_count": null,
   "metadata": {},
   "outputs": [],
   "source": [
    "collate_list[2]"
   ]
  },
  {
   "cell_type": "code",
   "execution_count": null,
   "metadata": {},
   "outputs": [],
   "source": [
    "from datasets import Dataset\n",
    "filtered_dataset = Dataset.from_list(collate_list)\n",
    "filtered_dataset.save_to_disk(f\"/home/ubuntu/temp/large_sports/sports_description_dataset\")"
   ]
  },
  {
   "cell_type": "code",
   "execution_count": null,
   "metadata": {},
   "outputs": [],
   "source": [
    "filtered_dataset[-1]"
   ]
  },
  {
   "cell_type": "code",
   "execution_count": null,
   "metadata": {},
   "outputs": [],
   "source": []
  }
 ],
 "metadata": {
  "kernelspec": {
   "display_name": "Python 3 (ipykernel)",
   "language": "python",
   "name": "python3"
  },
  "language_info": {
   "codemirror_mode": {
    "name": "ipython",
    "version": 3
   },
   "file_extension": ".py",
   "mimetype": "text/x-python",
   "name": "python",
   "nbconvert_exporter": "python",
   "pygments_lexer": "ipython3",
   "version": "3.10.12"
  }
 },
 "nbformat": 4,
 "nbformat_minor": 4
}
