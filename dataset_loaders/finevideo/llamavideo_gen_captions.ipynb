{
 "cells": [
  {
   "cell_type": "code",
   "execution_count": 1,
   "metadata": {},
   "outputs": [
    {
     "name": "stderr",
     "output_type": "stream",
     "text": [
      "2025-02-19 13:04:18.073408: E external/local_xla/xla/stream_executor/cuda/cuda_fft.cc:477] Unable to register cuFFT factory: Attempting to register factory for plugin cuFFT when one has already been registered\n",
      "WARNING: All log messages before absl::InitializeLog() is called are written to STDERR\n",
      "E0000 00:00:1739970258.081883 1579852 cuda_dnn.cc:8310] Unable to register cuDNN factory: Attempting to register factory for plugin cuDNN when one has already been registered\n",
      "E0000 00:00:1739970258.085667 1579852 cuda_blas.cc:1418] Unable to register cuBLAS factory: Attempting to register factory for plugin cuBLAS when one has already been registered\n"
     ]
    }
   ],
   "source": [
    "import torch\n",
    "from transformers import AutoModelForCausalLM, AutoProcessor\n",
    "\n",
    "device = \"cuda:0\"\n",
    "model_path = \"DAMO-NLP-SG/VideoLLaMA3-2B\"\n",
    "model = AutoModelForCausalLM.from_pretrained(\n",
    "    model_path,\n",
    "    trust_remote_code=True,\n",
    "    device_map={\"\": device},\n",
    "    torch_dtype=torch.bfloat16,\n",
    "    attn_implementation=\"flash_attention_2\",\n",
    ")\n",
    "processor = AutoProcessor.from_pretrained(model_path, trust_remote_code=True)\n",
    "\n"
   ]
  },
  {
   "cell_type": "code",
   "execution_count": 2,
   "metadata": {},
   "outputs": [
    {
     "name": "stderr",
     "output_type": "stream",
     "text": [
      "/home/ubuntu/.cache/huggingface/modules/transformers_modules/DAMO-NLP-SG/VideoLLaMA3-2B/562961752c456a26c46194130f9479dbb01ee582/modeling_videollama3.py:384: FutureWarning: `num_logits_to_keep` is deprecated and will be removed in version 4.50 for `Videollama3Qwen2ForCausalLM.forward`. Use `logits_to_keep` instead.\n",
      "  return super().forward(\n"
     ]
    },
    {
     "name": "stdout",
     "output_type": "stream",
     "text": [
      "A police officer is shown practicing self defense in a room.\n"
     ]
    }
   ],
   "source": [
    "conversation = [\n",
    "    {\"role\": \"system\", \"content\": \"You are a helpful assistant.\"},\n",
    "    {\n",
    "        \"role\": \"user\",\n",
    "        \"content\": [\n",
    "            {\"type\": \"video\", \"video\": {\"video_path\": \"/home/ubuntu/temp/mp4s/0.mp4\", \"fps\": 1, \"max_frames\": 180, \"start_time\": 0, \"end_time\": 15}},\n",
    "            {\"type\": \"text\", \"text\": \"Describe the video.\"},\n",
    "        ]\n",
    "    },\n",
    "    {\"role\": \"assistant\", \"content\": \"It is a police academy training video.\"},\n",
    "    {\"role\": \"user\", \"content\": \"What is the video about?\"},\n",
    "]\n",
    "\n",
    "inputs = processor(\n",
    "    conversation=conversation,\n",
    "    add_system_prompt=True,\n",
    "    add_generation_prompt=True,\n",
    "    return_tensors=\"pt\"\n",
    ")\n",
    "inputs = {k: v.to(device) if isinstance(v, torch.Tensor) else v for k, v in inputs.items()}\n",
    "if \"pixel_values\" in inputs:\n",
    "    inputs[\"pixel_values\"] = inputs[\"pixel_values\"].to(torch.bfloat16)\n",
    "output_ids = model.generate(**inputs, max_new_tokens=1024)\n",
    "response = processor.batch_decode(output_ids, skip_special_tokens=True)[0].strip()\n",
    "print(response)"
   ]
  },
  {
   "cell_type": "code",
   "execution_count": 2,
   "metadata": {},
   "outputs": [
    {
     "name": "stderr",
     "output_type": "stream",
     "text": [
      "/home/ubuntu/.cache/huggingface/modules/transformers_modules/DAMO-NLP-SG/VideoLLaMA3-2B/562961752c456a26c46194130f9479dbb01ee582/modeling_videollama3.py:384: FutureWarning: `num_logits_to_keep` is deprecated and will be removed in version 4.50 for `Videollama3Qwen2ForCausalLM.forward`. Use `logits_to_keep` instead.\n",
      "  return super().forward(\n"
     ]
    },
    {
     "name": "stdout",
     "output_type": "stream",
     "text": [
      "torch.Size([1, 2, 4648, 128])\n"
     ]
    }
   ],
   "source": [
    "from transformers.cache_utils import DynamicCache\n",
    "conversation = [\n",
    "    {\"role\": \"system\", \"content\": \"You are a helpful assistant.\"},\n",
    "    {\n",
    "        \"role\": \"user\",\n",
    "        \"content\": [\n",
    "            {\"type\": \"video\", \"video\": {\"video_path\": \"/home/ubuntu/temp/mp4s/0.mp4\", \"fps\": 1, \"max_frames\": 180, \"start_time\": 0, \"end_time\": 15}},\n",
    "            {\"type\": \"text\", \"text\": \"Describe the video.\"},\n",
    "        ]\n",
    "    },\n",
    "    {\"role\": \"assistant\", \"content\": \"It is a police academy training video.\"},\n",
    "    {\"role\": \"user\", \"content\": \"What is the video about?\"},\n",
    "]\n",
    "\n",
    "inputs = processor(\n",
    "    conversation=conversation,\n",
    "    add_system_prompt=True,\n",
    "    add_generation_prompt=False,\n",
    "    return_tensors=\"pt\"\n",
    ")\n",
    "inputs = {k: v.to(device) if isinstance(v, torch.Tensor) else v for k, v in inputs.items()}\n",
    "if \"pixel_values\" in inputs:\n",
    "    inputs[\"pixel_values\"] = inputs[\"pixel_values\"].to(torch.bfloat16)\n",
    "kv_cache = DynamicCache()\n",
    "a = model.forward(**inputs, past_key_values=kv_cache, use_cache=True)\n",
    "print(kv_cache[0][0].shape)"
   ]
  },
  {
   "cell_type": "code",
   "execution_count": 4,
   "metadata": {},
   "outputs": [
    {
     "data": {
      "text/plain": [
       "tensor([[151665, 151665, 151665, 151665, 151665, 151665, 151665, 151665, 151665,\n",
       "         151665, 151665, 151665, 151665, 151665, 151665, 151665, 151665, 151665,\n",
       "         151665,    198,  74785,    279,   2766,     13, 151645,    198, 151644,\n",
       "          77091,    198,   2132,    374,    264,   4282,  43345,   4862,   2766,\n",
       "             13, 151645,    198, 151644,    872,    198,   3838,    374,    279,\n",
       "           2766,    911,     30, 151645,    198]], device='cuda:0')"
      ]
     },
     "execution_count": 4,
     "metadata": {},
     "output_type": "execute_result"
    }
   ],
   "source": [
    "inputs[\"input_ids\"][:,-50:]"
   ]
  },
  {
   "cell_type": "code",
   "execution_count": 3,
   "metadata": {},
   "outputs": [
    {
     "name": "stdout",
     "output_type": "stream",
     "text": [
      "torch.Size([1, 2, 4650, 128])\n",
      "tensor([[32]], device='cuda:0')\n",
      "['A']\n"
     ]
    }
   ],
   "source": [
    "tokenizer = processor.tokenizer \n",
    "tokens = tokenizer.tokenize(\"assistant\")\n",
    "input_ids = [tokenizer.convert_tokens_to_ids(tokens)]\n",
    "\n",
    "token_output_list = []\n",
    "\n",
    "input_ids = [[77091, 198]]\n",
    "output = model.forward(input_ids=torch.tensor(input_ids).cuda(), past_key_values=kv_cache, use_cache=True)\n",
    "print(kv_cache[0][0].shape)\n",
    "\n",
    "max_idx=torch.argmax(output.logits, dim=-1)\n",
    "max_idx = max_idx[:,1:]\n",
    "print(max_idx)\n",
    "print(tokenizer.convert_ids_to_tokens(max_idx))\n",
    "token_output_list.append(max_idx[0][0])"
   ]
  },
  {
   "cell_type": "code",
   "execution_count": 4,
   "metadata": {},
   "outputs": [
    {
     "name": "stdout",
     "output_type": "stream",
     "text": [
      "['Ġpolice']\n",
      "tensor([[4282]], device='cuda:0')\n",
      "['Ġofficer']\n",
      "tensor([[9452]], device='cuda:0')\n",
      "['Ġis']\n",
      "tensor([[374]], device='cuda:0')\n",
      "['Ġpracticing']\n",
      "tensor([[35566]], device='cuda:0')\n",
      "['Ġself']\n",
      "tensor([[656]], device='cuda:0')\n",
      "['Ġdefense']\n",
      "tensor([[9055]], device='cuda:0')\n",
      "['Ġwith']\n",
      "tensor([[448]], device='cuda:0')\n",
      "['Ġa']\n",
      "tensor([[264]], device='cuda:0')\n",
      "['Ġman']\n",
      "tensor([[883]], device='cuda:0')\n",
      "['ne']\n",
      "tensor([[811]], device='cuda:0')\n"
     ]
    }
   ],
   "source": [
    "for i in range(10):\n",
    "    output = model.forward(input_ids=max_idx, past_key_values=kv_cache, use_cache=True)\n",
    "    max_idx=torch.argmax(output.logits, dim=-1)\n",
    "    print(tokenizer.convert_ids_to_tokens(max_idx))\n",
    "    print(max_idx)\n",
    "    token_output_list.append(max_idx[0][0])"
   ]
  },
  {
   "cell_type": "code",
   "execution_count": 5,
   "metadata": {},
   "outputs": [
    {
     "data": {
      "text/plain": [
       "[tensor(32, device='cuda:0'),\n",
       " tensor(4282, device='cuda:0'),\n",
       " tensor(9452, device='cuda:0'),\n",
       " tensor(374, device='cuda:0'),\n",
       " tensor(35566, device='cuda:0'),\n",
       " tensor(656, device='cuda:0'),\n",
       " tensor(9055, device='cuda:0'),\n",
       " tensor(448, device='cuda:0'),\n",
       " tensor(264, device='cuda:0'),\n",
       " tensor(883, device='cuda:0'),\n",
       " tensor(811, device='cuda:0')]"
      ]
     },
     "execution_count": 5,
     "metadata": {},
     "output_type": "execute_result"
    }
   ],
   "source": [
    "token_output_list"
   ]
  },
  {
   "cell_type": "code",
   "execution_count": 6,
   "metadata": {},
   "outputs": [
    {
     "data": {
      "text/plain": [
       "'A police officer is practicing self defense with a manne'"
      ]
     },
     "execution_count": 6,
     "metadata": {},
     "output_type": "execute_result"
    }
   ],
   "source": [
    "tokenizer.decode(token_output_list)"
   ]
  },
  {
   "cell_type": "code",
   "execution_count": null,
   "metadata": {},
   "outputs": [
    {
     "name": "stdout",
     "output_type": "stream",
     "text": [
      "tensor([[4282]], device='cuda:0')\n"
     ]
    },
    {
     "data": {
      "text/plain": [
       "['Ġpolice']"
      ]
     },
     "execution_count": 14,
     "metadata": {},
     "output_type": "execute_result"
    }
   ],
   "source": []
  },
  {
   "cell_type": "code",
   "execution_count": 11,
   "metadata": {},
   "outputs": [
    {
     "name": "stderr",
     "output_type": "stream",
     "text": [
      "The attention mask is not set and cannot be inferred from input because pad token is same as eos token. As a consequence, you may observe unexpected behavior. Please pass your input's `attention_mask` to obtain reliable results.\n",
      "/home/ubuntu/.cache/huggingface/modules/transformers_modules/DAMO-NLP-SG/VideoLLaMA3-2B/562961752c456a26c46194130f9479dbb01ee582/modeling_videollama3.py:384: FutureWarning: `num_logits_to_keep` is deprecated and will be removed in version 4.50 for `Videollama3Qwen2ForCausalLM.forward`. Use `logits_to_keep` instead.\n",
      "  return super().forward(\n"
     ]
    },
    {
     "name": "stdout",
     "output_type": "stream",
     "text": [
      "The video is about the history of the internet. It starts with a brief overview of how the concept of \"the net\" was first introduced in 1965, followed by a discussion on how it evolved over time to become the global network that we know today. The video also touches upon the role of key figures and events in shaping the development of the internet, including Tim Berners-Lee's invention of HTTP and HTML, which are still fundamental components of web technology. Additionally, it explores the impact of the internet on society and culture since its inception.\n"
     ]
    }
   ],
   "source": [
    "conversation = [\n",
    "    {\"role\": \"user\", \"content\": \"What is the video about?\"},\n",
    "]\n",
    "\n",
    "inputs = processor(\n",
    "    conversation=conversation,\n",
    "    add_system_prompt=True,\n",
    "    add_generation_prompt=True,\n",
    "    return_tensors=\"pt\"\n",
    ")\n",
    "inputs = {k: v.to(device) if isinstance(v, torch.Tensor) else v for k, v in inputs.items()}\n",
    "output_ids = model.generate(input_ids=inputs['input_ids'], max_new_tokens=1024, past_key_values=kv_cache, use_cache=True)\n",
    "response = processor.batch_decode(output_ids, skip_special_tokens=True)[0].strip()\n",
    "print(response)"
   ]
  },
  {
   "cell_type": "code",
   "execution_count": 10,
   "metadata": {},
   "outputs": [
    {
     "data": {
      "text/plain": [
       "dict_keys(['input_ids', 'attention_mask'])"
      ]
     },
     "execution_count": 10,
     "metadata": {},
     "output_type": "execute_result"
    }
   ],
   "source": [
    "inputs.keys()"
   ]
  },
  {
   "cell_type": "code",
   "execution_count": 12,
   "metadata": {},
   "outputs": [
    {
     "data": {
      "text/plain": [
       "torch.Size([1, 2, 4640, 128])"
      ]
     },
     "execution_count": 12,
     "metadata": {},
     "output_type": "execute_result"
    }
   ],
   "source": [
    "kv_cache[0][0].shape"
   ]
  },
  {
   "cell_type": "code",
   "execution_count": 3,
   "metadata": {},
   "outputs": [],
   "source": [
    "from datasets import load_from_disk\n",
    "dataset = load_from_disk(\"/home/ubuntu/temp/Sports_dataset\")"
   ]
  },
  {
   "cell_type": "code",
   "execution_count": null,
   "metadata": {},
   "outputs": [
    {
     "name": "stderr",
     "output_type": "stream",
     "text": [
      "  0%|          | 0/579 [00:00<?, ?it/s]"
     ]
    },
    {
     "name": "stdout",
     "output_type": "stream",
     "text": [
      "chunks 579\n"
     ]
    },
    {
     "name": "stderr",
     "output_type": "stream",
     "text": [
      "\n"
     ]
    },
    {
     "ename": "AttributeError",
     "evalue": "'str' object has no attribute 'keys'",
     "output_type": "error",
     "traceback": [
      "\u001b[0;31m---------------------------------------------------------------------------\u001b[0m",
      "\u001b[0;31mAttributeError\u001b[0m                            Traceback (most recent call last)",
      "\u001b[0;32m/tmp/ipykernel_3941579/3324523589.py\u001b[0m in \u001b[0;36m<module>\u001b[0;34m\u001b[0m\n\u001b[1;32m      3\u001b[0m     \u001b[0;32mbreak\u001b[0m\u001b[0;34m\u001b[0m\u001b[0;34m\u001b[0m\u001b[0m\n\u001b[1;32m      4\u001b[0m \u001b[0mprint\u001b[0m\u001b[0;34m(\u001b[0m\u001b[0midx\u001b[0m\u001b[0;34m,\u001b[0m \u001b[0mlen\u001b[0m\u001b[0;34m(\u001b[0m\u001b[0mdataset\u001b[0m\u001b[0;34m)\u001b[0m\u001b[0;34m)\u001b[0m\u001b[0;34m\u001b[0m\u001b[0;34m\u001b[0m\u001b[0m\n\u001b[0;32m----> 5\u001b[0;31m \u001b[0mprint\u001b[0m\u001b[0;34m(\u001b[0m\u001b[0msample\u001b[0m\u001b[0;34m.\u001b[0m\u001b[0mkeys\u001b[0m\u001b[0;34m(\u001b[0m\u001b[0;34m)\u001b[0m\u001b[0;34m)\u001b[0m\u001b[0;34m\u001b[0m\u001b[0;34m\u001b[0m\u001b[0m\n\u001b[0m",
      "\u001b[0;31mAttributeError\u001b[0m: 'str' object has no attribute 'keys'"
     ]
    }
   ],
   "source": [
    "from tqdm import tqdm\n",
    "for sample in tqdm(dataset, total=len(dataset)):\n",
    "    break\n",
    "print(idx, len(dataset))\n",
    "print(sample.keys())"
   ]
  },
  {
   "cell_type": "code",
   "execution_count": 6,
   "metadata": {},
   "outputs": [
    {
     "name": "stderr",
     "output_type": "stream",
     "text": [
      "  0%|          | 0/579 [00:00<?, ?it/s]/home/ubuntu/.cache/huggingface/modules/transformers_modules/DAMO-NLP-SG/VideoLLaMA3-2B/562961752c456a26c46194130f9479dbb01ee582/modeling_videollama3.py:384: FutureWarning: `num_logits_to_keep` is deprecated and will be removed in version 4.50 for `Videollama3Qwen2ForCausalLM.forward`. Use `logits_to_keep` instead.\n",
      "  return super().forward(\n",
      "  0%|          | 1/579 [00:03<33:43,  3.50s/it]"
     ]
    },
    {
     "name": "stdout",
     "output_type": "stream",
     "text": [
      "The video shows various scenes of police officers performing their duties. In the first scene, a man is shown standing in front of a building and another officer stands behind him wearing a mask. The second scene depicts two people walking down a path with bushes on either side. The third scene captures three people sitting at a table working together. The fourth scene features a group of people standing outside. The fifth scene displays a group of uniformed individuals lined up to stand at attention. The sixth scene portrays an officer running after another person. The seventh scene shows a man kneeling over a dummy while a police officer watches from inside a tent.\n"
     ]
    },
    {
     "name": "stderr",
     "output_type": "stream",
     "text": [
      "/home/ubuntu/.cache/huggingface/modules/transformers_modules/DAMO-NLP-SG/VideoLLaMA3-2B/562961752c456a26c46194130f9479dbb01ee582/modeling_videollama3.py:384: FutureWarning: `num_logits_to_keep` is deprecated and will be removed in version 4.50 for `Videollama3Qwen2ForCausalLM.forward`. Use `logits_to_keep` instead.\n",
      "  return super().forward(\n",
      "  0%|          | 2/579 [00:05<23:08,  2.41s/it]"
     ]
    },
    {
     "name": "stdout",
     "output_type": "stream",
     "text": [
      "The video starts with a man driving in his car and then transitions to him talking on the phone. He is wearing glasses and has tattoos on his hands. The background music playing while he talks suggests that it might be an important conversation or discussion.\n"
     ]
    },
    {
     "name": "stderr",
     "output_type": "stream",
     "text": [
      "/home/ubuntu/.cache/huggingface/modules/transformers_modules/DAMO-NLP-SG/VideoLLaMA3-2B/562961752c456a26c46194130f9479dbb01ee582/modeling_videollama3.py:384: FutureWarning: `num_logits_to_keep` is deprecated and will be removed in version 4.50 for `Videollama3Qwen2ForCausalLM.forward`. Use `logits_to_keep` instead.\n",
      "  return super().forward(\n",
      "  1%|          | 3/579 [00:06<20:41,  2.15s/it]"
     ]
    },
    {
     "name": "stdout",
     "output_type": "stream",
     "text": [
      "The video shows a group of men playing cricket in an open field. They are divided into two teams, one wearing white and the other green shirts. The players hit the ball with their bats and run on the ground. In the background, there is a large crowd watching the game from the stands.\n"
     ]
    },
    {
     "name": "stderr",
     "output_type": "stream",
     "text": [
      "/home/ubuntu/.cache/huggingface/modules/transformers_modules/DAMO-NLP-SG/VideoLLaMA3-2B/562961752c456a26c46194130f9479dbb01ee582/modeling_videollama3.py:384: FutureWarning: `num_logits_to_keep` is deprecated and will be removed in version 4.50 for `Videollama3Qwen2ForCausalLM.forward`. Use `logits_to_keep` instead.\n",
      "  return super().forward(\n",
      "  1%|          | 4/579 [00:10<24:59,  2.61s/it]"
     ]
    },
    {
     "name": "stdout",
     "output_type": "stream",
     "text": [
      "In the video, there is a cartoon character that resembles a bull with horns. He has green eyes and is wearing a helmet on his head. The bull character speaks to a dog, saying \"You hear that dogway\". Then, he walks towards the camera while the words \"I'm back\" appear on screen. Afterward, we see some text appearing on the screen before the scene changes.\n",
      "The video seems to be showcasing the bull character's appearance and dialogue in a playful manner. The use of vibrant colors and animations creates an engaging visual experience for viewers.\n"
     ]
    },
    {
     "name": "stderr",
     "output_type": "stream",
     "text": [
      "/home/ubuntu/.cache/huggingface/modules/transformers_modules/DAMO-NLP-SG/VideoLLaMA3-2B/562961752c456a26c46194130f9479dbb01ee582/modeling_videollama3.py:384: FutureWarning: `num_logits_to_keep` is deprecated and will be removed in version 4.50 for `Videollama3Qwen2ForCausalLM.forward`. Use `logits_to_keep` instead.\n",
      "  return super().forward(\n",
      "  1%|          | 5/579 [00:12<23:19,  2.44s/it]"
     ]
    },
    {
     "name": "stdout",
     "output_type": "stream",
     "text": [
      "The video shows different scenes of women and girls in various situations. It starts with a woman sitting down, then transitions to a young girl writing at her desk. The video also features two women talking while one is driving and another is standing outside the car. There are shots of a classroom where people are working on their laptops and an interview segment.\n"
     ]
    },
    {
     "name": "stderr",
     "output_type": "stream",
     "text": [
      "/home/ubuntu/.cache/huggingface/modules/transformers_modules/DAMO-NLP-SG/VideoLLaMA3-2B/562961752c456a26c46194130f9479dbb01ee582/modeling_videollama3.py:384: FutureWarning: `num_logits_to_keep` is deprecated and will be removed in version 4.50 for `Videollama3Qwen2ForCausalLM.forward`. Use `logits_to_keep` instead.\n",
      "  return super().forward(\n",
      "  1%|          | 6/579 [00:14<20:32,  2.15s/it]"
     ]
    },
    {
     "name": "stdout",
     "output_type": "stream",
     "text": [
      "The video shows a woman holding a golf ball and pointing to it. Then, she is seen playing golf with a club in her hand. She speaks into a microphone while wearing a purple shirt and later sits down on a chair while still speaking into the microphone.\n"
     ]
    },
    {
     "name": "stderr",
     "output_type": "stream",
     "text": [
      "/home/ubuntu/.cache/huggingface/modules/transformers_modules/DAMO-NLP-SG/VideoLLaMA3-2B/562961752c456a26c46194130f9479dbb01ee582/modeling_videollama3.py:384: FutureWarning: `num_logits_to_keep` is deprecated and will be removed in version 4.50 for `Videollama3Qwen2ForCausalLM.forward`. Use `logits_to_keep` instead.\n",
      "  return super().forward(\n",
      "  1%|          | 7/579 [00:15<17:43,  1.86s/it]"
     ]
    },
    {
     "name": "stdout",
     "output_type": "stream",
     "text": [
      "In the video, a young man wearing a hat is talking to the camera in his bedroom. He is sitting down and making funny faces at the camera while speaking.\n"
     ]
    },
    {
     "name": "stderr",
     "output_type": "stream",
     "text": [
      "/home/ubuntu/.cache/huggingface/modules/transformers_modules/DAMO-NLP-SG/VideoLLaMA3-2B/562961752c456a26c46194130f9479dbb01ee582/modeling_videollama3.py:384: FutureWarning: `num_logits_to_keep` is deprecated and will be removed in version 4.50 for `Videollama3Qwen2ForCausalLM.forward`. Use `logits_to_keep` instead.\n",
      "  return super().forward(\n",
      "  1%|▏         | 8/579 [00:17<17:52,  1.88s/it]"
     ]
    },
    {
     "name": "stdout",
     "output_type": "stream",
     "text": [
      "The video shows a car racing on the track, and then transitions to various pictures of men in racing suits. The man is seen standing behind a podium with a microphone, talking about his career as a NASCAR driver. He also mentions that he was once a race car driver but no longer competes professionally.\n"
     ]
    },
    {
     "name": "stderr",
     "output_type": "stream",
     "text": [
      "/home/ubuntu/.cache/huggingface/modules/transformers_modules/DAMO-NLP-SG/VideoLLaMA3-2B/562961752c456a26c46194130f9479dbb01ee582/modeling_videollama3.py:384: FutureWarning: `num_logits_to_keep` is deprecated and will be removed in version 4.50 for `Videollama3Qwen2ForCausalLM.forward`. Use `logits_to_keep` instead.\n",
      "  return super().forward(\n",
      "  2%|▏         | 9/579 [00:18<17:13,  1.81s/it]"
     ]
    },
    {
     "name": "stdout",
     "output_type": "stream",
     "text": [
      "In the video, there are two wrestlers in a wrestling ring. One wrestler is wearing yellow trunks and he jumps over the other wrestler who has his back to him. The referee is also present and he seems to be watching the match closely.\n"
     ]
    },
    {
     "name": "stderr",
     "output_type": "stream",
     "text": [
      "/home/ubuntu/.cache/huggingface/modules/transformers_modules/DAMO-NLP-SG/VideoLLaMA3-2B/562961752c456a26c46194130f9479dbb01ee582/modeling_videollama3.py:384: FutureWarning: `num_logits_to_keep` is deprecated and will be removed in version 4.50 for `Videollama3Qwen2ForCausalLM.forward`. Use `logits_to_keep` instead.\n",
      "  return super().forward(\n",
      "  2%|▏         | 10/579 [00:21<18:57,  2.00s/it]"
     ]
    },
    {
     "name": "stdout",
     "output_type": "stream",
     "text": [
      "The video shows a woman in various outfits and locations. In the beginning, she is seen wearing an orange dress on the red carpet at a film awards event. She then walks down a busy street while talking to the camera. The next scene features her walking around with several people behind her as well as police officers nearby. Finally, there is a close-up shot of a cake that appears to be made out of sponge and frosting.\n"
     ]
    },
    {
     "name": "stderr",
     "output_type": "stream",
     "text": [
      "/home/ubuntu/.cache/huggingface/modules/transformers_modules/DAMO-NLP-SG/VideoLLaMA3-2B/562961752c456a26c46194130f9479dbb01ee582/modeling_videollama3.py:384: FutureWarning: `num_logits_to_keep` is deprecated and will be removed in version 4.50 for `Videollama3Qwen2ForCausalLM.forward`. Use `logits_to_keep` instead.\n",
      "  return super().forward(\n",
      "  2%|▏         | 11/579 [00:23<19:06,  2.02s/it]"
     ]
    },
    {
     "name": "stdout",
     "output_type": "stream",
     "text": [
      "The video shows a young girl walking around different locations. She talks to the camera and describes where she goes for her meals, including Dunkin Donuts and bagels. In one scene, she is seen standing outside of a building while talking on the phone. Later in the video, she walks into a gym with other people and then back out again.\n"
     ]
    },
    {
     "name": "stderr",
     "output_type": "stream",
     "text": [
      "/home/ubuntu/.cache/huggingface/modules/transformers_modules/DAMO-NLP-SG/VideoLLaMA3-2B/562961752c456a26c46194130f9479dbb01ee582/modeling_videollama3.py:384: FutureWarning: `num_logits_to_keep` is deprecated and will be removed in version 4.50 for `Videollama3Qwen2ForCausalLM.forward`. Use `logits_to_keep` instead.\n",
      "  return super().forward(\n",
      "  2%|▏         | 12/579 [00:24<17:09,  1.82s/it]"
     ]
    },
    {
     "name": "stdout",
     "output_type": "stream",
     "text": [
      "In the video, a woman is seen speaking into a microphone while two men are running on an indoor track. The man who runs in front of her has just completed a race and is talking to someone else.\n"
     ]
    },
    {
     "name": "stderr",
     "output_type": "stream",
     "text": [
      "/home/ubuntu/.cache/huggingface/modules/transformers_modules/DAMO-NLP-SG/VideoLLaMA3-2B/562961752c456a26c46194130f9479dbb01ee582/modeling_videollama3.py:384: FutureWarning: `num_logits_to_keep` is deprecated and will be removed in version 4.50 for `Videollama3Qwen2ForCausalLM.forward`. Use `logits_to_keep` instead.\n",
      "  return super().forward(\n",
      "  2%|▏         | 13/579 [00:26<17:10,  1.82s/it]"
     ]
    },
    {
     "name": "stdout",
     "output_type": "stream",
     "text": [
      "The video shows a wrestling match between two men. One of the wrestlers is wearing colorful shorts, while the other one is dressed in black and white. The crowd is watching as they wrestle inside an arena ring. The referee is present to officiate the match.\n"
     ]
    },
    {
     "name": "stderr",
     "output_type": "stream",
     "text": [
      "/home/ubuntu/.cache/huggingface/modules/transformers_modules/DAMO-NLP-SG/VideoLLaMA3-2B/562961752c456a26c46194130f9479dbb01ee582/modeling_videollama3.py:384: FutureWarning: `num_logits_to_keep` is deprecated and will be removed in version 4.50 for `Videollama3Qwen2ForCausalLM.forward`. Use `logits_to_keep` instead.\n",
      "  return super().forward(\n",
      "  2%|▏         | 14/579 [00:28<17:46,  1.89s/it]"
     ]
    },
    {
     "name": "stdout",
     "output_type": "stream",
     "text": [
      "The video starts with a black screen and then transitions to a white background. The white background is followed by a green foggy image, which leads into the title of Total War: Warhammer being displayed in gold on a dark background. A green arrow appears next to the text, indicating that this is an advertisement for the game.\n"
     ]
    },
    {
     "name": "stderr",
     "output_type": "stream",
     "text": [
      "/home/ubuntu/.cache/huggingface/modules/transformers_modules/DAMO-NLP-SG/VideoLLaMA3-2B/562961752c456a26c46194130f9479dbb01ee582/modeling_videollama3.py:384: FutureWarning: `num_logits_to_keep` is deprecated and will be removed in version 4.50 for `Videollama3Qwen2ForCausalLM.forward`. Use `logits_to_keep` instead.\n",
      "  return super().forward(\n",
      "  3%|▎         | 15/579 [00:30<16:29,  1.75s/it]"
     ]
    },
    {
     "name": "stdout",
     "output_type": "stream",
     "text": [
      "In the video, a man is seen driving a car at night. He is holding the steering wheel with both hands while looking straight ahead. The streetlights are on and there is music playing in the background.\n"
     ]
    },
    {
     "name": "stderr",
     "output_type": "stream",
     "text": [
      "/home/ubuntu/.cache/huggingface/modules/transformers_modules/DAMO-NLP-SG/VideoLLaMA3-2B/562961752c456a26c46194130f9479dbb01ee582/modeling_videollama3.py:384: FutureWarning: `num_logits_to_keep` is deprecated and will be removed in version 4.50 for `Videollama3Qwen2ForCausalLM.forward`. Use `logits_to_keep` instead.\n",
      "  return super().forward(\n",
      "  3%|▎         | 16/579 [00:32<17:51,  1.90s/it]"
     ]
    },
    {
     "name": "stdout",
     "output_type": "stream",
     "text": [
      "The video shows a woman walking around in different outfits and poses. She is being filmed by the camera crew, who are taking pictures of her while she walks across the studio floor. The lighting changes from purple to white as she moves around, creating an artistic effect. The woman also talks about how she feels when filming for the magazine.\n",
      "QA_GT_caption_based_noisy\n"
     ]
    },
    {
     "name": "stderr",
     "output_type": "stream",
     "text": [
      "/home/ubuntu/.cache/huggingface/modules/transformers_modules/DAMO-NLP-SG/VideoLLaMA3-2B/562961752c456a26c46194130f9479dbb01ee582/modeling_videollama3.py:384: FutureWarning: `num_logits_to_keep` is deprecated and will be removed in version 4.50 for `Videollama3Qwen2ForCausalLM.forward`. Use `logits_to_keep` instead.\n",
      "  return super().forward(\n",
      "  3%|▎         | 17/579 [00:34<17:40,  1.89s/it]"
     ]
    },
    {
     "name": "stdout",
     "output_type": "stream",
     "text": [
      "The video starts with an aerial view of a stadium, where we can see the crowd. Then it shows people in suits and ties walking through the stadium. There are also scenes of soccer players celebrating on the field. The video ends with a man wearing a suit pointing at something.\n"
     ]
    },
    {
     "name": "stderr",
     "output_type": "stream",
     "text": [
      "/home/ubuntu/.cache/huggingface/modules/transformers_modules/DAMO-NLP-SG/VideoLLaMA3-2B/562961752c456a26c46194130f9479dbb01ee582/modeling_videollama3.py:384: FutureWarning: `num_logits_to_keep` is deprecated and will be removed in version 4.50 for `Videollama3Qwen2ForCausalLM.forward`. Use `logits_to_keep` instead.\n",
      "  return super().forward(\n",
      "  3%|▎         | 18/579 [00:36<17:53,  1.91s/it]"
     ]
    },
    {
     "name": "stdout",
     "output_type": "stream",
     "text": [
      "The video shows two cartoon men fighting in a boxing ring. One of the fighters is wearing green shorts and has tattoos on his chest, while the other fighter is not described. The man with green shorts punches the other fighter, causing him to fall down. A third character enters the scene and beats him up.\n"
     ]
    },
    {
     "name": "stderr",
     "output_type": "stream",
     "text": [
      "/home/ubuntu/.cache/huggingface/modules/transformers_modules/DAMO-NLP-SG/VideoLLaMA3-2B/562961752c456a26c46194130f9479dbb01ee582/modeling_videollama3.py:384: FutureWarning: `num_logits_to_keep` is deprecated and will be removed in version 4.50 for `Videollama3Qwen2ForCausalLM.forward`. Use `logits_to_keep` instead.\n",
      "  return super().forward(\n",
      "  3%|▎         | 19/579 [00:37<17:02,  1.83s/it]"
     ]
    },
    {
     "name": "stdout",
     "output_type": "stream",
     "text": [
      "In the video, we see a man in a suit being interviewed by reporters. There is also a scene where he appears on television with smoke coming out of his car. Additionally, there are other scenes showing him at different events and gatherings.\n"
     ]
    },
    {
     "name": "stderr",
     "output_type": "stream",
     "text": [
      "/home/ubuntu/.cache/huggingface/modules/transformers_modules/DAMO-NLP-SG/VideoLLaMA3-2B/562961752c456a26c46194130f9479dbb01ee582/modeling_videollama3.py:384: FutureWarning: `num_logits_to_keep` is deprecated and will be removed in version 4.50 for `Videollama3Qwen2ForCausalLM.forward`. Use `logits_to_keep` instead.\n",
      "  return super().forward(\n",
      "  3%|▎         | 20/579 [00:39<17:09,  1.84s/it]"
     ]
    },
    {
     "name": "stdout",
     "output_type": "stream",
     "text": [
      "The video shows a person dressed as a superhero standing on top of a mountain. There is also an animated character in the scene who appears to be flying over the mountain and then crashes into it. The video seems to depict a fantasy or sci-fi theme with characters in costumes and dramatic settings.\n"
     ]
    },
    {
     "name": "stderr",
     "output_type": "stream",
     "text": [
      "/home/ubuntu/.cache/huggingface/modules/transformers_modules/DAMO-NLP-SG/VideoLLaMA3-2B/562961752c456a26c46194130f9479dbb01ee582/modeling_videollama3.py:384: FutureWarning: `num_logits_to_keep` is deprecated and will be removed in version 4.50 for `Videollama3Qwen2ForCausalLM.forward`. Use `logits_to_keep` instead.\n",
      "  return super().forward(\n",
      "  4%|▎         | 21/579 [00:41<16:25,  1.77s/it]"
     ]
    },
    {
     "name": "stdout",
     "output_type": "stream",
     "text": [
      "In the video, we see a soccer game in progress. The players are playing on a large field while a crowd of people watches from the stands. One player kicks the ball towards the goal and scores a point for his team.\n"
     ]
    },
    {
     "name": "stderr",
     "output_type": "stream",
     "text": [
      "/home/ubuntu/.cache/huggingface/modules/transformers_modules/DAMO-NLP-SG/VideoLLaMA3-2B/562961752c456a26c46194130f9479dbb01ee582/modeling_videollama3.py:384: FutureWarning: `num_logits_to_keep` is deprecated and will be removed in version 4.50 for `Videollama3Qwen2ForCausalLM.forward`. Use `logits_to_keep` instead.\n",
      "  return super().forward(\n",
      "  4%|▍         | 22/579 [00:43<16:50,  1.81s/it]"
     ]
    },
    {
     "name": "stdout",
     "output_type": "stream",
     "text": [
      "The video shows a man with dreadlocks introducing himself and his family. He is sitting in front of the ocean while speaking to the camera, and there are pictures of him with his mother and father displayed on the screen. The background music is played throughout the video.\n",
      "QA_GT_caption_based_noisy\n"
     ]
    },
    {
     "name": "stderr",
     "output_type": "stream",
     "text": [
      "/home/ubuntu/.cache/huggingface/modules/transformers_modules/DAMO-NLP-SG/VideoLLaMA3-2B/562961752c456a26c46194130f9479dbb01ee582/modeling_videollama3.py:384: FutureWarning: `num_logits_to_keep` is deprecated and will be removed in version 4.50 for `Videollama3Qwen2ForCausalLM.forward`. Use `logits_to_keep` instead.\n",
      "  return super().forward(\n",
      "  4%|▍         | 23/579 [00:45<17:24,  1.88s/it]"
     ]
    },
    {
     "name": "stdout",
     "output_type": "stream",
     "text": [
      "The video shows two men walking together. One of them is wearing a white shirt and the other is wearing a sleeveless vest. They are both smiling and looking at each other while walking down a path. The man in the white shirt has his arms crossed, and he seems to be enjoying himself as they walk around.\n"
     ]
    },
    {
     "name": "stderr",
     "output_type": "stream",
     "text": [
      "/home/ubuntu/.cache/huggingface/modules/transformers_modules/DAMO-NLP-SG/VideoLLaMA3-2B/562961752c456a26c46194130f9479dbb01ee582/modeling_videollama3.py:384: FutureWarning: `num_logits_to_keep` is deprecated and will be removed in version 4.50 for `Videollama3Qwen2ForCausalLM.forward`. Use `logits_to_keep` instead.\n",
      "  return super().forward(\n",
      "  4%|▍         | 24/579 [00:47<17:48,  1.93s/it]"
     ]
    },
    {
     "name": "stdout",
     "output_type": "stream",
     "text": [
      "The video shows a baseball game between the San Francisco Giants and the Texas Rangers. The pitcher from the San Francisco Giants throws a pitch to the batter, who hits it out of the park for a home run. In another scene, a player from the San Francisco Giants catches a ball hit by a batter from the Texas Rangers.\n"
     ]
    },
    {
     "name": "stderr",
     "output_type": "stream",
     "text": [
      "/home/ubuntu/.cache/huggingface/modules/transformers_modules/DAMO-NLP-SG/VideoLLaMA3-2B/562961752c456a26c46194130f9479dbb01ee582/modeling_videollama3.py:384: FutureWarning: `num_logits_to_keep` is deprecated and will be removed in version 4.50 for `Videollama3Qwen2ForCausalLM.forward`. Use `logits_to_keep` instead.\n",
      "  return super().forward(\n",
      "  4%|▍         | 25/579 [00:48<16:58,  1.84s/it]"
     ]
    },
    {
     "name": "stdout",
     "output_type": "stream",
     "text": [
      "The video shows a group of basketball players talking and yelling at each other. They are seen on the court during a game, with some shots being played back in slow motion. The players are also shown standing around, arguing with one another.\n"
     ]
    },
    {
     "name": "stderr",
     "output_type": "stream",
     "text": [
      "/home/ubuntu/.cache/huggingface/modules/transformers_modules/DAMO-NLP-SG/VideoLLaMA3-2B/562961752c456a26c46194130f9479dbb01ee582/modeling_videollama3.py:384: FutureWarning: `num_logits_to_keep` is deprecated and will be removed in version 4.50 for `Videollama3Qwen2ForCausalLM.forward`. Use `logits_to_keep` instead.\n",
      "  return super().forward(\n",
      "  4%|▍         | 26/579 [00:51<18:03,  1.96s/it]"
     ]
    },
    {
     "name": "stdout",
     "output_type": "stream",
     "text": [
      "The video shows a person opening up various boxes containing trading cards. The person opens a package of trading card packs, and the video cuts to other packages of cards being opened. There is also a scene where someone is holding a box of trading cards while another man speaks in front of it. Overall, the video showcases different people and objects related to trading cards.\n"
     ]
    },
    {
     "name": "stderr",
     "output_type": "stream",
     "text": [
      "/home/ubuntu/.cache/huggingface/modules/transformers_modules/DAMO-NLP-SG/VideoLLaMA3-2B/562961752c456a26c46194130f9479dbb01ee582/modeling_videollama3.py:384: FutureWarning: `num_logits_to_keep` is deprecated and will be removed in version 4.50 for `Videollama3Qwen2ForCausalLM.forward`. Use `logits_to_keep` instead.\n",
      "  return super().forward(\n",
      "  5%|▍         | 27/579 [00:52<15:54,  1.73s/it]"
     ]
    },
    {
     "name": "stdout",
     "output_type": "stream",
     "text": [
      "The video shows a robot playing a game in front of an audience. The robot is moving around the arena, and there are people watching it play.\n"
     ]
    },
    {
     "name": "stderr",
     "output_type": "stream",
     "text": [
      "/home/ubuntu/.cache/huggingface/modules/transformers_modules/DAMO-NLP-SG/VideoLLaMA3-2B/562961752c456a26c46194130f9479dbb01ee582/modeling_videollama3.py:384: FutureWarning: `num_logits_to_keep` is deprecated and will be removed in version 4.50 for `Videollama3Qwen2ForCausalLM.forward`. Use `logits_to_keep` instead.\n",
      "  return super().forward(\n",
      "  5%|▍         | 28/579 [00:54<16:01,  1.74s/it]"
     ]
    },
    {
     "name": "stdout",
     "output_type": "stream",
     "text": [
      "The video shows a montage of images related to the United States Army. It features a woman in uniform being sworn into office and wearing medals, as well as military vehicles with American flags on them. The scenes also include people giving her a medal and taking pictures with her.\n"
     ]
    },
    {
     "name": "stderr",
     "output_type": "stream",
     "text": [
      "/home/ubuntu/.cache/huggingface/modules/transformers_modules/DAMO-NLP-SG/VideoLLaMA3-2B/562961752c456a26c46194130f9479dbb01ee582/modeling_videollama3.py:384: FutureWarning: `num_logits_to_keep` is deprecated and will be removed in version 4.50 for `Videollama3Qwen2ForCausalLM.forward`. Use `logits_to_keep` instead.\n",
      "  return super().forward(\n",
      "  5%|▌         | 29/579 [00:55<14:10,  1.55s/it]"
     ]
    },
    {
     "name": "stdout",
     "output_type": "stream",
     "text": [
      "A football game is being played in a stadium. The players are lined up on the field and one team kicks the ball to start the play.\n"
     ]
    },
    {
     "name": "stderr",
     "output_type": "stream",
     "text": [
      "/home/ubuntu/.cache/huggingface/modules/transformers_modules/DAMO-NLP-SG/VideoLLaMA3-2B/562961752c456a26c46194130f9479dbb01ee582/modeling_videollama3.py:384: FutureWarning: `num_logits_to_keep` is deprecated and will be removed in version 4.50 for `Videollama3Qwen2ForCausalLM.forward`. Use `logits_to_keep` instead.\n",
      "  return super().forward(\n",
      "  5%|▌         | 30/579 [00:57<16:57,  1.85s/it]"
     ]
    },
    {
     "name": "stdout",
     "output_type": "stream",
     "text": [
      "The video shows a woman playing the piano in her house. She is wearing a black tank top and has long hair. There are music notes floating around as she plays. In another scene, there is a skier jumping off a ramp at an event while people watch from behind barriers. The video also shows a girl sitting on the floor with a helmet next to her. Overall, it seems like a mix of different activities happening simultaneously.\n"
     ]
    },
    {
     "name": "stderr",
     "output_type": "stream",
     "text": [
      "/home/ubuntu/.cache/huggingface/modules/transformers_modules/DAMO-NLP-SG/VideoLLaMA3-2B/562961752c456a26c46194130f9479dbb01ee582/modeling_videollama3.py:384: FutureWarning: `num_logits_to_keep` is deprecated and will be removed in version 4.50 for `Videollama3Qwen2ForCausalLM.forward`. Use `logits_to_keep` instead.\n",
      "  return super().forward(\n",
      "  5%|▌         | 31/579 [00:58<15:21,  1.68s/it]"
     ]
    },
    {
     "name": "stdout",
     "output_type": "stream",
     "text": [
      "A man is seen talking to the camera and then walks over to a soccer net. He sits down on a bench in front of it while still speaking to the camera.\n"
     ]
    },
    {
     "name": "stderr",
     "output_type": "stream",
     "text": [
      "/home/ubuntu/.cache/huggingface/modules/transformers_modules/DAMO-NLP-SG/VideoLLaMA3-2B/562961752c456a26c46194130f9479dbb01ee582/modeling_videollama3.py:384: FutureWarning: `num_logits_to_keep` is deprecated and will be removed in version 4.50 for `Videollama3Qwen2ForCausalLM.forward`. Use `logits_to_keep` instead.\n",
      "  return super().forward(\n",
      "  6%|▌         | 32/579 [01:00<15:34,  1.71s/it]"
     ]
    },
    {
     "name": "stdout",
     "output_type": "stream",
     "text": [
      "The video shows a woman in a red and blue athletic uniform standing outside, speaking to the camera. She is wearing an American flag necklace. There are also other people in the background who seem to be athletes as well. The setting appears to be outdoors on a sunny day.\n"
     ]
    },
    {
     "name": "stderr",
     "output_type": "stream",
     "text": [
      "/home/ubuntu/.cache/huggingface/modules/transformers_modules/DAMO-NLP-SG/VideoLLaMA3-2B/562961752c456a26c46194130f9479dbb01ee582/modeling_videollama3.py:384: FutureWarning: `num_logits_to_keep` is deprecated and will be removed in version 4.50 for `Videollama3Qwen2ForCausalLM.forward`. Use `logits_to_keep` instead.\n",
      "  return super().forward(\n",
      "  6%|▌         | 33/579 [01:02<16:23,  1.80s/it]"
     ]
    },
    {
     "name": "stdout",
     "output_type": "stream",
     "text": [
      "The video starts with a chess game on the screen. Then, there is a scene of two robots standing next to each other. After that, there are still images of a robot and a person playing a game against each other. The final scene shows a picture of a robot in front of some grass blowing in the wind.\n"
     ]
    },
    {
     "name": "stderr",
     "output_type": "stream",
     "text": [
      "/home/ubuntu/.cache/huggingface/modules/transformers_modules/DAMO-NLP-SG/VideoLLaMA3-2B/562961752c456a26c46194130f9479dbb01ee582/modeling_videollama3.py:384: FutureWarning: `num_logits_to_keep` is deprecated and will be removed in version 4.50 for `Videollama3Qwen2ForCausalLM.forward`. Use `logits_to_keep` instead.\n",
      "  return super().forward(\n",
      "  6%|▌         | 34/579 [01:04<16:26,  1.81s/it]"
     ]
    },
    {
     "name": "stdout",
     "output_type": "stream",
     "text": [
      "The video shows a group of cars racing on a track. The race is taking place at Osceola Speedway, and the drivers are competing in a 350 Supermodified feature. The racers are going around a corner with a crowd watching them from the sidelines.\n"
     ]
    },
    {
     "name": "stderr",
     "output_type": "stream",
     "text": [
      "/home/ubuntu/.cache/huggingface/modules/transformers_modules/DAMO-NLP-SG/VideoLLaMA3-2B/562961752c456a26c46194130f9479dbb01ee582/modeling_videollama3.py:384: FutureWarning: `num_logits_to_keep` is deprecated and will be removed in version 4.50 for `Videollama3Qwen2ForCausalLM.forward`. Use `logits_to_keep` instead.\n",
      "  return super().forward(\n",
      "  6%|▌         | 35/579 [01:07<18:16,  2.02s/it]"
     ]
    },
    {
     "name": "stdout",
     "output_type": "stream",
     "text": [
      "The video shows a group of people having fun in the snow. A man is carrying a board and walking through the snow while others watch him. There are also two men riding on top of each other's shoulders as they walk across the snowy terrain. One person is seen holding a large wooden board, while another guy is wearing a blue helmet. The video also captures some snowboarders performing tricks over ramps.\n"
     ]
    },
    {
     "name": "stderr",
     "output_type": "stream",
     "text": [
      "/home/ubuntu/.cache/huggingface/modules/transformers_modules/DAMO-NLP-SG/VideoLLaMA3-2B/562961752c456a26c46194130f9479dbb01ee582/modeling_videollama3.py:384: FutureWarning: `num_logits_to_keep` is deprecated and will be removed in version 4.50 for `Videollama3Qwen2ForCausalLM.forward`. Use `logits_to_keep` instead.\n",
      "  return super().forward(\n",
      "  6%|▌         | 36/579 [01:08<17:29,  1.93s/it]"
     ]
    },
    {
     "name": "stdout",
     "output_type": "stream",
     "text": [
      "In the video, a zombie is seen sitting by a body of water while another green creature walks away. Then, a person runs with a stick and hits a brown figure on the ground. The video ends with a scene from a game where zombies are attacking a character.\n"
     ]
    },
    {
     "name": "stderr",
     "output_type": "stream",
     "text": [
      "/home/ubuntu/.cache/huggingface/modules/transformers_modules/DAMO-NLP-SG/VideoLLaMA3-2B/562961752c456a26c46194130f9479dbb01ee582/modeling_videollama3.py:384: FutureWarning: `num_logits_to_keep` is deprecated and will be removed in version 4.50 for `Videollama3Qwen2ForCausalLM.forward`. Use `logits_to_keep` instead.\n",
      "  return super().forward(\n",
      "  6%|▋         | 37/579 [01:10<17:08,  1.90s/it]"
     ]
    },
    {
     "name": "stdout",
     "output_type": "stream",
     "text": [
      "The video shows a group of girls playing volleyball. They are seen standing in front of the net, hugging each other before jumping up and hitting the ball over to the opposing team's side. The game is being played on an indoor court with spectators watching from the stands.\n"
     ]
    },
    {
     "name": "stderr",
     "output_type": "stream",
     "text": [
      "/home/ubuntu/.cache/huggingface/modules/transformers_modules/DAMO-NLP-SG/VideoLLaMA3-2B/562961752c456a26c46194130f9479dbb01ee582/modeling_videollama3.py:384: FutureWarning: `num_logits_to_keep` is deprecated and will be removed in version 4.50 for `Videollama3Qwen2ForCausalLM.forward`. Use `logits_to_keep` instead.\n",
      "  return super().forward(\n",
      "  7%|▋         | 38/579 [01:12<16:37,  1.84s/it]"
     ]
    },
    {
     "name": "stdout",
     "output_type": "stream",
     "text": [
      "The video shows a large group of people celebrating together. They are holding up trophies and wearing black shirts with the word \"Champions\" on them. There is also a man carrying a baby, while another man in a hat is talking to someone off-camera.\n"
     ]
    },
    {
     "name": "stderr",
     "output_type": "stream",
     "text": [
      "/home/ubuntu/.cache/huggingface/modules/transformers_modules/DAMO-NLP-SG/VideoLLaMA3-2B/562961752c456a26c46194130f9479dbb01ee582/modeling_videollama3.py:384: FutureWarning: `num_logits_to_keep` is deprecated and will be removed in version 4.50 for `Videollama3Qwen2ForCausalLM.forward`. Use `logits_to_keep` instead.\n",
      "  return super().forward(\n",
      "  7%|▋         | 39/579 [01:14<16:31,  1.84s/it]"
     ]
    },
    {
     "name": "stdout",
     "output_type": "stream",
     "text": [
      "The video shows a group of runners racing on an outdoor track. The scene starts with the start line and then transitions to different angles, including close-ups and slow-motion shots. As the race progresses, some athletes are seen celebrating their victory while others continue running towards the finish line.\n"
     ]
    },
    {
     "name": "stderr",
     "output_type": "stream",
     "text": [
      "/home/ubuntu/.cache/huggingface/modules/transformers_modules/DAMO-NLP-SG/VideoLLaMA3-2B/562961752c456a26c46194130f9479dbb01ee582/modeling_videollama3.py:384: FutureWarning: `num_logits_to_keep` is deprecated and will be removed in version 4.50 for `Videollama3Qwen2ForCausalLM.forward`. Use `logits_to_keep` instead.\n",
      "  return super().forward(\n",
      "  7%|▋         | 40/579 [01:15<15:34,  1.73s/it]"
     ]
    },
    {
     "name": "stdout",
     "output_type": "stream",
     "text": [
      "The video shows a soccer game being played on a screen. The players are playing in an empty stadium with a large crowd watching from the stands. The teams play against each other while music plays in the background.\n"
     ]
    },
    {
     "name": "stderr",
     "output_type": "stream",
     "text": [
      "/home/ubuntu/.cache/huggingface/modules/transformers_modules/DAMO-NLP-SG/VideoLLaMA3-2B/562961752c456a26c46194130f9479dbb01ee582/modeling_videollama3.py:384: FutureWarning: `num_logits_to_keep` is deprecated and will be removed in version 4.50 for `Videollama3Qwen2ForCausalLM.forward`. Use `logits_to_keep` instead.\n",
      "  return super().forward(\n",
      "  7%|▋         | 41/579 [01:17<16:09,  1.80s/it]"
     ]
    },
    {
     "name": "stdout",
     "output_type": "stream",
     "text": [
      "A man is seen running and throwing a ball at another player. The video then cuts to two men playing basketball in front of an audience. One of the players gets hit in the head with the ball, causing him to fall down. The other players on the court also laugh about it as they continue playing.\n"
     ]
    },
    {
     "name": "stderr",
     "output_type": "stream",
     "text": [
      "/home/ubuntu/.cache/huggingface/modules/transformers_modules/DAMO-NLP-SG/VideoLLaMA3-2B/562961752c456a26c46194130f9479dbb01ee582/modeling_videollama3.py:384: FutureWarning: `num_logits_to_keep` is deprecated and will be removed in version 4.50 for `Videollama3Qwen2ForCausalLM.forward`. Use `logits_to_keep` instead.\n",
      "  return super().forward(\n",
      "  7%|▋         | 42/579 [01:19<16:12,  1.81s/it]"
     ]
    },
    {
     "name": "stdout",
     "output_type": "stream",
     "text": [
      "The video shows a race where several dogs are competing. There is also a dog running in the street and jumping over a fence, as well as people walking on a track with signs. Additionally, there is a person standing by a blue structure, possibly at an animal show or event.\n"
     ]
    },
    {
     "name": "stderr",
     "output_type": "stream",
     "text": [
      "/home/ubuntu/.cache/huggingface/modules/transformers_modules/DAMO-NLP-SG/VideoLLaMA3-2B/562961752c456a26c46194130f9479dbb01ee582/modeling_videollama3.py:384: FutureWarning: `num_logits_to_keep` is deprecated and will be removed in version 4.50 for `Videollama3Qwen2ForCausalLM.forward`. Use `logits_to_keep` instead.\n",
      "  return super().forward(\n",
      "  7%|▋         | 43/579 [01:20<14:45,  1.65s/it]"
     ]
    },
    {
     "name": "stdout",
     "output_type": "stream",
     "text": [
      "The video starts with a blue and white logo animation, followed by an American Airlines sign. Then, the scene changes to show various buildings at night in Dallas, Texas.\n"
     ]
    },
    {
     "name": "stderr",
     "output_type": "stream",
     "text": [
      "/home/ubuntu/.cache/huggingface/modules/transformers_modules/DAMO-NLP-SG/VideoLLaMA3-2B/562961752c456a26c46194130f9479dbb01ee582/modeling_videollama3.py:384: FutureWarning: `num_logits_to_keep` is deprecated and will be removed in version 4.50 for `Videollama3Qwen2ForCausalLM.forward`. Use `logits_to_keep` instead.\n",
      "  return super().forward(\n",
      "  8%|▊         | 44/579 [01:22<13:53,  1.56s/it]"
     ]
    },
    {
     "name": "stdout",
     "output_type": "stream",
     "text": [
      "In the video, two professional wrestlers are engaged in a wrestling match inside an arena. One wrestler is standing while the other one is on his knees. The audience is watching the match intently from the stands.\n"
     ]
    },
    {
     "name": "stderr",
     "output_type": "stream",
     "text": [
      "/home/ubuntu/.cache/huggingface/modules/transformers_modules/DAMO-NLP-SG/VideoLLaMA3-2B/562961752c456a26c46194130f9479dbb01ee582/modeling_videollama3.py:384: FutureWarning: `num_logits_to_keep` is deprecated and will be removed in version 4.50 for `Videollama3Qwen2ForCausalLM.forward`. Use `logits_to_keep` instead.\n",
      "  return super().forward(\n",
      "  8%|▊         | 45/579 [01:23<12:57,  1.46s/it]"
     ]
    },
    {
     "name": "stdout",
     "output_type": "stream",
     "text": [
      "The video shows a soccer game where players are playing on a field. A coach is giving instructions to his team while they practice the techniques he teaches them.\n"
     ]
    },
    {
     "name": "stderr",
     "output_type": "stream",
     "text": [
      "/home/ubuntu/.cache/huggingface/modules/transformers_modules/DAMO-NLP-SG/VideoLLaMA3-2B/562961752c456a26c46194130f9479dbb01ee582/modeling_videollama3.py:384: FutureWarning: `num_logits_to_keep` is deprecated and will be removed in version 4.50 for `Videollama3Qwen2ForCausalLM.forward`. Use `logits_to_keep` instead.\n",
      "  return super().forward(\n",
      "  8%|▊         | 46/579 [01:25<15:35,  1.75s/it]"
     ]
    },
    {
     "name": "stdout",
     "output_type": "stream",
     "text": [
      "The video shows a large stadium with many cars and people around it. A man is seen hugging another person while celebrating, followed by footage of a football player raising his fist in the air. There are also shots of SpongeBob reading an NFL book, as well as text appearing on the screen. The scene then changes to show a parade going down the street, featuring a bus full of people carrying banners.\n"
     ]
    },
    {
     "name": "stderr",
     "output_type": "stream",
     "text": [
      "/home/ubuntu/.cache/huggingface/modules/transformers_modules/DAMO-NLP-SG/VideoLLaMA3-2B/562961752c456a26c46194130f9479dbb01ee582/modeling_videollama3.py:384: FutureWarning: `num_logits_to_keep` is deprecated and will be removed in version 4.50 for `Videollama3Qwen2ForCausalLM.forward`. Use `logits_to_keep` instead.\n",
      "  return super().forward(\n",
      "  8%|▊         | 47/579 [01:27<15:23,  1.74s/it]"
     ]
    },
    {
     "name": "stdout",
     "output_type": "stream",
     "text": [
      "The video shows a man getting out of his car and walking towards another vehicle. He is wearing shorts, shoes, and a cap while carrying a bag on his shoulder. There are also two other men in the background who seem to be talking to him.\n"
     ]
    },
    {
     "name": "stderr",
     "output_type": "stream",
     "text": [
      "/home/ubuntu/.cache/huggingface/modules/transformers_modules/DAMO-NLP-SG/VideoLLaMA3-2B/562961752c456a26c46194130f9479dbb01ee582/modeling_videollama3.py:384: FutureWarning: `num_logits_to_keep` is deprecated and will be removed in version 4.50 for `Videollama3Qwen2ForCausalLM.forward`. Use `logits_to_keep` instead.\n",
      "  return super().forward(\n",
      "  8%|▊         | 48/579 [01:29<15:51,  1.79s/it]"
     ]
    },
    {
     "name": "stdout",
     "output_type": "stream",
     "text": [
      "The video shows a basketball game with a player wearing a white uniform making a slam dunk. A man is seen holding up a card that says '100'. Another scene shows two men in tuxedos standing next to each other and one of them is being pushed by the other.\n"
     ]
    },
    {
     "name": "stderr",
     "output_type": "stream",
     "text": [
      "/home/ubuntu/.cache/huggingface/modules/transformers_modules/DAMO-NLP-SG/VideoLLaMA3-2B/562961752c456a26c46194130f9479dbb01ee582/modeling_videollama3.py:384: FutureWarning: `num_logits_to_keep` is deprecated and will be removed in version 4.50 for `Videollama3Qwen2ForCausalLM.forward`. Use `logits_to_keep` instead.\n",
      "  return super().forward(\n",
      "  8%|▊         | 49/579 [01:30<15:07,  1.71s/it]"
     ]
    },
    {
     "name": "stdout",
     "output_type": "stream",
     "text": [
      "The video shows a baseball game where the batter is preparing to hit the ball. The pitcher throws the ball and the batter swings his bat, but misses it. The catcher catches the ball and throws it back to the pitcher.\n"
     ]
    },
    {
     "name": "stderr",
     "output_type": "stream",
     "text": [
      "/home/ubuntu/.cache/huggingface/modules/transformers_modules/DAMO-NLP-SG/VideoLLaMA3-2B/562961752c456a26c46194130f9479dbb01ee582/modeling_videollama3.py:384: FutureWarning: `num_logits_to_keep` is deprecated and will be removed in version 4.50 for `Videollama3Qwen2ForCausalLM.forward`. Use `logits_to_keep` instead.\n",
      "  return super().forward(\n",
      "  9%|▊         | 50/579 [01:32<14:46,  1.68s/it]"
     ]
    },
    {
     "name": "stdout",
     "output_type": "stream",
     "text": [
      "The video shows a man talking to the camera in different locations. He is wearing headphones and standing next to a TV, holding his hands up. The video also features two men setting up equipment outside, while another man speaks about it.\n"
     ]
    },
    {
     "name": "stderr",
     "output_type": "stream",
     "text": [
      "/home/ubuntu/.cache/huggingface/modules/transformers_modules/DAMO-NLP-SG/VideoLLaMA3-2B/562961752c456a26c46194130f9479dbb01ee582/modeling_videollama3.py:384: FutureWarning: `num_logits_to_keep` is deprecated and will be removed in version 4.50 for `Videollama3Qwen2ForCausalLM.forward`. Use `logits_to_keep` instead.\n",
      "  return super().forward(\n",
      "  9%|▉         | 51/579 [01:34<14:46,  1.68s/it]"
     ]
    },
    {
     "name": "stdout",
     "output_type": "stream",
     "text": [
      "The video shows a group of people celebrating England's victory in the World Cup. They are waving flags and cheering while standing outside a house decorated with bunting. A woman is seen singing a song, and there are trophies visible on display as well.\n"
     ]
    },
    {
     "name": "stderr",
     "output_type": "stream",
     "text": [
      "/home/ubuntu/.cache/huggingface/modules/transformers_modules/DAMO-NLP-SG/VideoLLaMA3-2B/562961752c456a26c46194130f9479dbb01ee582/modeling_videollama3.py:384: FutureWarning: `num_logits_to_keep` is deprecated and will be removed in version 4.50 for `Videollama3Qwen2ForCausalLM.forward`. Use `logits_to_keep` instead.\n",
      "  return super().forward(\n",
      "  9%|▉         | 52/579 [01:35<14:37,  1.66s/it]"
     ]
    },
    {
     "name": "stdout",
     "output_type": "stream",
     "text": [
      "In the video, a cop is seen shooting at someone. Then he runs towards them and points his gun while they are on the ground. The police officer restrains an individual in handcuffs after being shot by another person with a firearm.\n"
     ]
    },
    {
     "name": "stderr",
     "output_type": "stream",
     "text": [
      "/home/ubuntu/.cache/huggingface/modules/transformers_modules/DAMO-NLP-SG/VideoLLaMA3-2B/562961752c456a26c46194130f9479dbb01ee582/modeling_videollama3.py:384: FutureWarning: `num_logits_to_keep` is deprecated and will be removed in version 4.50 for `Videollama3Qwen2ForCausalLM.forward`. Use `logits_to_keep` instead.\n",
      "  return super().forward(\n",
      "  9%|▉         | 53/579 [01:38<16:40,  1.90s/it]"
     ]
    },
    {
     "name": "stdout",
     "output_type": "stream",
     "text": [
      "The video shows a cricket game in progress. It begins with the bowler throwing the ball towards the batsman, who hits it back to the fielder who is standing nearby. The fielder catches the ball and throws it back to the wicketkeeper, who then returns it to the bowler. Meanwhile, another player on the ground gets up and walks away from the field of play.\n",
      "QA_GT_caption_based_noisy\n"
     ]
    },
    {
     "name": "stderr",
     "output_type": "stream",
     "text": [
      "/home/ubuntu/.cache/huggingface/modules/transformers_modules/DAMO-NLP-SG/VideoLLaMA3-2B/562961752c456a26c46194130f9479dbb01ee582/modeling_videollama3.py:384: FutureWarning: `num_logits_to_keep` is deprecated and will be removed in version 4.50 for `Videollama3Qwen2ForCausalLM.forward`. Use `logits_to_keep` instead.\n",
      "  return super().forward(\n",
      "  9%|▉         | 54/579 [01:39<15:10,  1.73s/it]"
     ]
    },
    {
     "name": "stdout",
     "output_type": "stream",
     "text": [
      "In the video, an older man is sitting on a bed and talking to someone. He then moves outside into a field where he continues to talk while gesturing with his hands.\n"
     ]
    },
    {
     "name": "stderr",
     "output_type": "stream",
     "text": [
      "/home/ubuntu/.cache/huggingface/modules/transformers_modules/DAMO-NLP-SG/VideoLLaMA3-2B/562961752c456a26c46194130f9479dbb01ee582/modeling_videollama3.py:384: FutureWarning: `num_logits_to_keep` is deprecated and will be removed in version 4.50 for `Videollama3Qwen2ForCausalLM.forward`. Use `logits_to_keep` instead.\n",
      "  return super().forward(\n",
      "  9%|▉         | 55/579 [01:41<16:03,  1.84s/it]"
     ]
    },
    {
     "name": "stdout",
     "output_type": "stream",
     "text": [
      "The video shows a man wearing a football jersey standing in front of a blue background. He is pointing downwards with both hands, and there are words on the screen saying \"subscribe\" and \"like.\" The scene then changes to a game where two teams of players stand facing each other on a field with a ball placed between them.\n"
     ]
    },
    {
     "name": "stderr",
     "output_type": "stream",
     "text": [
      "/home/ubuntu/.cache/huggingface/modules/transformers_modules/DAMO-NLP-SG/VideoLLaMA3-2B/562961752c456a26c46194130f9479dbb01ee582/modeling_videollama3.py:384: FutureWarning: `num_logits_to_keep` is deprecated and will be removed in version 4.50 for `Videollama3Qwen2ForCausalLM.forward`. Use `logits_to_keep` instead.\n",
      "  return super().forward(\n",
      " 10%|▉         | 56/579 [01:43<15:29,  1.78s/it]"
     ]
    },
    {
     "name": "stdout",
     "output_type": "stream",
     "text": [
      "The video begins with a man holding a paper document in front of him. Then, he shows the same document on his laptop screen while sitting at a table. The man appears to be presenting or discussing something related to the content of the document.\n"
     ]
    },
    {
     "name": "stderr",
     "output_type": "stream",
     "text": [
      "/home/ubuntu/.cache/huggingface/modules/transformers_modules/DAMO-NLP-SG/VideoLLaMA3-2B/562961752c456a26c46194130f9479dbb01ee582/modeling_videollama3.py:384: FutureWarning: `num_logits_to_keep` is deprecated and will be removed in version 4.50 for `Videollama3Qwen2ForCausalLM.forward`. Use `logits_to_keep` instead.\n",
      "  return super().forward(\n",
      " 10%|▉         | 57/579 [01:44<15:11,  1.75s/it]"
     ]
    },
    {
     "name": "stdout",
     "output_type": "stream",
     "text": [
      "The video shows a man standing in front of a rack full of racing suits. He is holding two toy race cars and talking about them while laughing. The background music plays throughout the video, and there are several shots of the man smiling at the camera.\n"
     ]
    },
    {
     "name": "stderr",
     "output_type": "stream",
     "text": [
      "/home/ubuntu/.cache/huggingface/modules/transformers_modules/DAMO-NLP-SG/VideoLLaMA3-2B/562961752c456a26c46194130f9479dbb01ee582/modeling_videollama3.py:384: FutureWarning: `num_logits_to_keep` is deprecated and will be removed in version 4.50 for `Videollama3Qwen2ForCausalLM.forward`. Use `logits_to_keep` instead.\n",
      "  return super().forward(\n",
      " 10%|█         | 58/579 [01:46<15:04,  1.74s/it]"
     ]
    },
    {
     "name": "stdout",
     "output_type": "stream",
     "text": [
      "The video shows a man talking to the camera in a gym, then transitioning into a training session with a woman. The man is demonstrating kickboxing moves while the woman practices alongside him. They are inside an MMA cage and seem focused on their workout routine.\n"
     ]
    },
    {
     "name": "stderr",
     "output_type": "stream",
     "text": [
      "/home/ubuntu/.cache/huggingface/modules/transformers_modules/DAMO-NLP-SG/VideoLLaMA3-2B/562961752c456a26c46194130f9479dbb01ee582/modeling_videollama3.py:384: FutureWarning: `num_logits_to_keep` is deprecated and will be removed in version 4.50 for `Videollama3Qwen2ForCausalLM.forward`. Use `logits_to_keep` instead.\n",
      "  return super().forward(\n",
      " 10%|█         | 59/579 [01:48<14:33,  1.68s/it]"
     ]
    },
    {
     "name": "stdout",
     "output_type": "stream",
     "text": [
      "In the video, two men are seen in a gym practicing boxing. They are wearing blue shirts and white gloves while hitting on punching pads. One of them is also wearing a hat. The other man is watching him practice.\n"
     ]
    },
    {
     "name": "stderr",
     "output_type": "stream",
     "text": [
      "/home/ubuntu/.cache/huggingface/modules/transformers_modules/DAMO-NLP-SG/VideoLLaMA3-2B/562961752c456a26c46194130f9479dbb01ee582/modeling_videollama3.py:384: FutureWarning: `num_logits_to_keep` is deprecated and will be removed in version 4.50 for `Videollama3Qwen2ForCausalLM.forward`. Use `logits_to_keep` instead.\n",
      "  return super().forward(\n",
      " 10%|█         | 60/579 [01:49<14:14,  1.65s/it]"
     ]
    },
    {
     "name": "stdout",
     "output_type": "stream",
     "text": [
      "The video shows a person playing a game where they are in space. They encounter a bug and the screen goes dark. The person then continues to play the game, which is called Star Wars: Knights of the Old Republic II.\n"
     ]
    },
    {
     "name": "stderr",
     "output_type": "stream",
     "text": [
      "/home/ubuntu/.cache/huggingface/modules/transformers_modules/DAMO-NLP-SG/VideoLLaMA3-2B/562961752c456a26c46194130f9479dbb01ee582/modeling_videollama3.py:384: FutureWarning: `num_logits_to_keep` is deprecated and will be removed in version 4.50 for `Videollama3Qwen2ForCausalLM.forward`. Use `logits_to_keep` instead.\n",
      "  return super().forward(\n",
      " 11%|█         | 61/579 [01:51<15:16,  1.77s/it]"
     ]
    },
    {
     "name": "stdout",
     "output_type": "stream",
     "text": [
      "The video shows a soccer game with players from both teams competing for the ball. One of the players in white is seen kicking the ball towards another player who tries to block it but misses, and the ball hits him in the head. The referee then intervenes by pulling out his whistle and talking to the two players involved.\n"
     ]
    },
    {
     "name": "stderr",
     "output_type": "stream",
     "text": [
      "/home/ubuntu/.cache/huggingface/modules/transformers_modules/DAMO-NLP-SG/VideoLLaMA3-2B/562961752c456a26c46194130f9479dbb01ee582/modeling_videollama3.py:384: FutureWarning: `num_logits_to_keep` is deprecated and will be removed in version 4.50 for `Videollama3Qwen2ForCausalLM.forward`. Use `logits_to_keep` instead.\n",
      "  return super().forward(\n",
      " 11%|█         | 62/579 [01:53<14:33,  1.69s/it]"
     ]
    },
    {
     "name": "stdout",
     "output_type": "stream",
     "text": [
      "The video shows a group of horses pulling carriages. The horses are galloping along the street, and some people are standing by watching them. It is nighttime, and there are lights shining on the scene.\n"
     ]
    },
    {
     "name": "stderr",
     "output_type": "stream",
     "text": [
      "/home/ubuntu/.cache/huggingface/modules/transformers_modules/DAMO-NLP-SG/VideoLLaMA3-2B/562961752c456a26c46194130f9479dbb01ee582/modeling_videollama3.py:384: FutureWarning: `num_logits_to_keep` is deprecated and will be removed in version 4.50 for `Videollama3Qwen2ForCausalLM.forward`. Use `logits_to_keep` instead.\n",
      "  return super().forward(\n",
      " 11%|█         | 63/579 [01:55<15:13,  1.77s/it]"
     ]
    },
    {
     "name": "stdout",
     "output_type": "stream",
     "text": [
      "The video is about a fitness coach named Jack McLean, who provides tips for getting into elite sports. It starts with an intro and then shows various clips of people working out in different settings. There are also shots of the fitness coach talking to the camera. The video ends with the credits rolling on screen.\n"
     ]
    },
    {
     "name": "stderr",
     "output_type": "stream",
     "text": [
      "/home/ubuntu/.cache/huggingface/modules/transformers_modules/DAMO-NLP-SG/VideoLLaMA3-2B/562961752c456a26c46194130f9479dbb01ee582/modeling_videollama3.py:384: FutureWarning: `num_logits_to_keep` is deprecated and will be removed in version 4.50 for `Videollama3Qwen2ForCausalLM.forward`. Use `logits_to_keep` instead.\n",
      "  return super().forward(\n",
      " 11%|█         | 64/579 [01:56<14:46,  1.72s/it]"
     ]
    },
    {
     "name": "stdout",
     "output_type": "stream",
     "text": [
      "The video shows a woman who is wearing a Penn Lacrosse shirt. She is seen smiling and talking in front of the camera, before transitioning to playing lacrosse on a field. The game lasts for about 10 minutes.\n"
     ]
    },
    {
     "name": "stderr",
     "output_type": "stream",
     "text": [
      "/home/ubuntu/.cache/huggingface/modules/transformers_modules/DAMO-NLP-SG/VideoLLaMA3-2B/562961752c456a26c46194130f9479dbb01ee582/modeling_videollama3.py:384: FutureWarning: `num_logits_to_keep` is deprecated and will be removed in version 4.50 for `Videollama3Qwen2ForCausalLM.forward`. Use `logits_to_keep` instead.\n",
      "  return super().forward(\n",
      " 11%|█         | 65/579 [01:58<14:50,  1.73s/it]"
     ]
    },
    {
     "name": "stdout",
     "output_type": "stream",
     "text": [
      "In the video, two teams are playing rugby on a large green field. One team kicks the ball while another team tries to block it. The players collide with each other and try to get the ball away from the opposing team. It seems like an intense game!\n"
     ]
    },
    {
     "name": "stderr",
     "output_type": "stream",
     "text": [
      "/home/ubuntu/.cache/huggingface/modules/transformers_modules/DAMO-NLP-SG/VideoLLaMA3-2B/562961752c456a26c46194130f9479dbb01ee582/modeling_videollama3.py:384: FutureWarning: `num_logits_to_keep` is deprecated and will be removed in version 4.50 for `Videollama3Qwen2ForCausalLM.forward`. Use `logits_to_keep` instead.\n",
      "  return super().forward(\n",
      " 11%|█▏        | 66/579 [02:01<17:08,  2.00s/it]"
     ]
    },
    {
     "name": "stdout",
     "output_type": "stream",
     "text": [
      "The video shows a soccer match between Namibia and Cote d'Ivoire. The score is 0-0, and the game has been going on for about 38 minutes. A player from the team in blue kicks the ball towards the goal, but it goes wide of the net. Then, another player scores a goal by kicking the ball into the net. Finally, a player from the opposing team also scores a goal.\n"
     ]
    },
    {
     "name": "stderr",
     "output_type": "stream",
     "text": [
      "/home/ubuntu/.cache/huggingface/modules/transformers_modules/DAMO-NLP-SG/VideoLLaMA3-2B/562961752c456a26c46194130f9479dbb01ee582/modeling_videollama3.py:384: FutureWarning: `num_logits_to_keep` is deprecated and will be removed in version 4.50 for `Videollama3Qwen2ForCausalLM.forward`. Use `logits_to_keep` instead.\n",
      "  return super().forward(\n",
      " 12%|█▏        | 67/579 [02:03<16:18,  1.91s/it]"
     ]
    },
    {
     "name": "stdout",
     "output_type": "stream",
     "text": [
      "In the video, a baseball player is seen throwing a pitch to a batter. The batter swings and misses at one point. The catcher catches the ball and throws it back to the pitcher. Meanwhile, an umpire runs across the field after the pitch.\n"
     ]
    },
    {
     "name": "stderr",
     "output_type": "stream",
     "text": [
      "/home/ubuntu/.cache/huggingface/modules/transformers_modules/DAMO-NLP-SG/VideoLLaMA3-2B/562961752c456a26c46194130f9479dbb01ee582/modeling_videollama3.py:384: FutureWarning: `num_logits_to_keep` is deprecated and will be removed in version 4.50 for `Videollama3Qwen2ForCausalLM.forward`. Use `logits_to_keep` instead.\n",
      "  return super().forward(\n",
      " 12%|█▏        | 68/579 [02:04<14:33,  1.71s/it]"
     ]
    },
    {
     "name": "stdout",
     "output_type": "stream",
     "text": [
      "In the video, two men are seen practicing martial arts. They shake hands before engaging in a sparring match. There is also a man who steps forward to observe them.\n"
     ]
    },
    {
     "name": "stderr",
     "output_type": "stream",
     "text": [
      "/home/ubuntu/.cache/huggingface/modules/transformers_modules/DAMO-NLP-SG/VideoLLaMA3-2B/562961752c456a26c46194130f9479dbb01ee582/modeling_videollama3.py:384: FutureWarning: `num_logits_to_keep` is deprecated and will be removed in version 4.50 for `Videollama3Qwen2ForCausalLM.forward`. Use `logits_to_keep` instead.\n",
      "  return super().forward(\n",
      " 12%|█▏        | 69/579 [02:06<15:26,  1.82s/it]"
     ]
    },
    {
     "name": "stdout",
     "output_type": "stream",
     "text": [
      "The video starts with the logo of NHS Scotland. Then, we see an animation where a man and woman are standing in front of each other holding a tablet. The scene then changes to show the same two people sitting at a desk behind a computer. Finally, there is another scene showing a group of people sitting at a reception desk.\n"
     ]
    },
    {
     "name": "stderr",
     "output_type": "stream",
     "text": [
      "/home/ubuntu/.cache/huggingface/modules/transformers_modules/DAMO-NLP-SG/VideoLLaMA3-2B/562961752c456a26c46194130f9479dbb01ee582/modeling_videollama3.py:384: FutureWarning: `num_logits_to_keep` is deprecated and will be removed in version 4.50 for `Videollama3Qwen2ForCausalLM.forward`. Use `logits_to_keep` instead.\n",
      "  return super().forward(\n",
      " 12%|█▏        | 70/579 [02:08<15:26,  1.82s/it]"
     ]
    },
    {
     "name": "stdout",
     "output_type": "stream",
     "text": [
      "The video shows a soccer game with several players on the field. The camera pans around and captures different angles of the game. A player kicks the ball towards the goal, which is guarded by another player wearing a green shirt. The crowd cheers as the ball goes into the net.\n"
     ]
    },
    {
     "name": "stderr",
     "output_type": "stream",
     "text": [
      "/home/ubuntu/.cache/huggingface/modules/transformers_modules/DAMO-NLP-SG/VideoLLaMA3-2B/562961752c456a26c46194130f9479dbb01ee582/modeling_videollama3.py:384: FutureWarning: `num_logits_to_keep` is deprecated and will be removed in version 4.50 for `Videollama3Qwen2ForCausalLM.forward`. Use `logits_to_keep` instead.\n",
      "  return super().forward(\n",
      " 12%|█▏        | 71/579 [02:09<14:19,  1.69s/it]"
     ]
    },
    {
     "name": "stdout",
     "output_type": "stream",
     "text": [
      "In the video, a man is seen picking up another person from a bed in an operating room. He then throws them onto another table before walking away with the body on his shoulder.\n"
     ]
    },
    {
     "name": "stderr",
     "output_type": "stream",
     "text": [
      "/home/ubuntu/.cache/huggingface/modules/transformers_modules/DAMO-NLP-SG/VideoLLaMA3-2B/562961752c456a26c46194130f9479dbb01ee582/modeling_videollama3.py:384: FutureWarning: `num_logits_to_keep` is deprecated and will be removed in version 4.50 for `Videollama3Qwen2ForCausalLM.forward`. Use `logits_to_keep` instead.\n",
      "  return super().forward(\n",
      " 12%|█▏        | 72/579 [02:10<13:20,  1.58s/it]"
     ]
    },
    {
     "name": "stdout",
     "output_type": "stream",
     "text": [
      "The video shows a soccer match in progress. The players are running around the field and trying to score goals. One player scores a goal, and his teammates hug him after scoring.\n"
     ]
    },
    {
     "name": "stderr",
     "output_type": "stream",
     "text": [
      "/home/ubuntu/.cache/huggingface/modules/transformers_modules/DAMO-NLP-SG/VideoLLaMA3-2B/562961752c456a26c46194130f9479dbb01ee582/modeling_videollama3.py:384: FutureWarning: `num_logits_to_keep` is deprecated and will be removed in version 4.50 for `Videollama3Qwen2ForCausalLM.forward`. Use `logits_to_keep` instead.\n",
      "  return super().forward(\n",
      " 13%|█▎        | 73/579 [02:13<14:54,  1.77s/it]"
     ]
    },
    {
     "name": "stdout",
     "output_type": "stream",
     "text": [
      "The video shows a cricket player in green getting ready to bowl the ball. He then bowls it towards another man who is batting and hitting it back. The scene changes to show two other men playing on the field, with one of them bowling the ball while the others are waiting to hit it. The batsman hits the ball into the air as the bowler celebrates his successful delivery.\n"
     ]
    },
    {
     "name": "stderr",
     "output_type": "stream",
     "text": [
      "/home/ubuntu/.cache/huggingface/modules/transformers_modules/DAMO-NLP-SG/VideoLLaMA3-2B/562961752c456a26c46194130f9479dbb01ee582/modeling_videollama3.py:384: FutureWarning: `num_logits_to_keep` is deprecated and will be removed in version 4.50 for `Videollama3Qwen2ForCausalLM.forward`. Use `logits_to_keep` instead.\n",
      "  return super().forward(\n",
      " 13%|█▎        | 74/579 [02:14<13:58,  1.66s/it]"
     ]
    },
    {
     "name": "stdout",
     "output_type": "stream",
     "text": [
      "In the video, a man is shown swinging his golf club to hit a ball. He takes several swings and hits the ball into the distance. The golfer then walks back after hitting the ball.\n"
     ]
    },
    {
     "name": "stderr",
     "output_type": "stream",
     "text": [
      "/home/ubuntu/.cache/huggingface/modules/transformers_modules/DAMO-NLP-SG/VideoLLaMA3-2B/562961752c456a26c46194130f9479dbb01ee582/modeling_videollama3.py:384: FutureWarning: `num_logits_to_keep` is deprecated and will be removed in version 4.50 for `Videollama3Qwen2ForCausalLM.forward`. Use `logits_to_keep` instead.\n",
      "  return super().forward(\n",
      " 13%|█▎        | 75/579 [02:15<13:25,  1.60s/it]"
     ]
    },
    {
     "name": "stdout",
     "output_type": "stream",
     "text": [
      "The video shows a man and a woman talking to each other. The man is wearing white sunglasses, while the woman has black hair. They seem to be having an animated conversation with one another.\n"
     ]
    },
    {
     "name": "stderr",
     "output_type": "stream",
     "text": [
      "/home/ubuntu/.cache/huggingface/modules/transformers_modules/DAMO-NLP-SG/VideoLLaMA3-2B/562961752c456a26c46194130f9479dbb01ee582/modeling_videollama3.py:384: FutureWarning: `num_logits_to_keep` is deprecated and will be removed in version 4.50 for `Videollama3Qwen2ForCausalLM.forward`. Use `logits_to_keep` instead.\n",
      "  return super().forward(\n",
      " 13%|█▎        | 76/579 [02:17<13:18,  1.59s/it]"
     ]
    },
    {
     "name": "stdout",
     "output_type": "stream",
     "text": [
      "The video shows a boxing match between two fighters. One of them is wearing black shorts, while the other one is wearing red gloves and brown shorts. The crowd is cheering for the fighter in black shorts as he punches his opponent.\n"
     ]
    },
    {
     "name": "stderr",
     "output_type": "stream",
     "text": [
      "/home/ubuntu/.cache/huggingface/modules/transformers_modules/DAMO-NLP-SG/VideoLLaMA3-2B/562961752c456a26c46194130f9479dbb01ee582/modeling_videollama3.py:384: FutureWarning: `num_logits_to_keep` is deprecated and will be removed in version 4.50 for `Videollama3Qwen2ForCausalLM.forward`. Use `logits_to_keep` instead.\n",
      "  return super().forward(\n",
      " 13%|█▎        | 77/579 [02:19<13:54,  1.66s/it]"
     ]
    },
    {
     "name": "stdout",
     "output_type": "stream",
     "text": [
      "The video features a group of people in suits and ties, with one man holding up his hand. There is also a football player on the field during a game, as well as other players wearing different uniforms. The scenes are shown in fast motion at the end of each clip.\n"
     ]
    },
    {
     "name": "stderr",
     "output_type": "stream",
     "text": [
      "/home/ubuntu/.cache/huggingface/modules/transformers_modules/DAMO-NLP-SG/VideoLLaMA3-2B/562961752c456a26c46194130f9479dbb01ee582/modeling_videollama3.py:384: FutureWarning: `num_logits_to_keep` is deprecated and will be removed in version 4.50 for `Videollama3Qwen2ForCausalLM.forward`. Use `logits_to_keep` instead.\n",
      "  return super().forward(\n",
      " 13%|█▎        | 78/579 [02:21<13:57,  1.67s/it]"
     ]
    },
    {
     "name": "stdout",
     "output_type": "stream",
     "text": [
      "In the video, a man is seen standing in an outdoor swimming pool. He wears goggles and seems to be talking while smiling. Another person extends their hand towards him. The man then shakes hands with the other person who is also in the water.\n"
     ]
    },
    {
     "name": "stderr",
     "output_type": "stream",
     "text": [
      "/home/ubuntu/.cache/huggingface/modules/transformers_modules/DAMO-NLP-SG/VideoLLaMA3-2B/562961752c456a26c46194130f9479dbb01ee582/modeling_videollama3.py:384: FutureWarning: `num_logits_to_keep` is deprecated and will be removed in version 4.50 for `Videollama3Qwen2ForCausalLM.forward`. Use `logits_to_keep` instead.\n",
      "  return super().forward(\n",
      " 14%|█▎        | 79/579 [02:22<14:19,  1.72s/it]"
     ]
    },
    {
     "name": "stdout",
     "output_type": "stream",
     "text": [
      "The video begins with a green screen and then transitions to two children playing soccer on a field. They are chasing after the ball while one of them kicks it back. The scene changes again, showing an adult running through cones that have been set up in a line across the grass.\n"
     ]
    },
    {
     "name": "stderr",
     "output_type": "stream",
     "text": [
      "/home/ubuntu/.cache/huggingface/modules/transformers_modules/DAMO-NLP-SG/VideoLLaMA3-2B/562961752c456a26c46194130f9479dbb01ee582/modeling_videollama3.py:384: FutureWarning: `num_logits_to_keep` is deprecated and will be removed in version 4.50 for `Videollama3Qwen2ForCausalLM.forward`. Use `logits_to_keep` instead.\n",
      "  return super().forward(\n",
      " 14%|█▍        | 80/579 [02:24<14:45,  1.77s/it]"
     ]
    },
    {
     "name": "stdout",
     "output_type": "stream",
     "text": [
      "The video begins with an opening title screen, followed by a boy standing on the stairs. He is wearing a blue shirt and talks about his experience as a teacher in rural areas. The camera then shows several pamphlets that have been printed out for the purpose of promoting teaching opportunities in these locations.\n"
     ]
    },
    {
     "name": "stderr",
     "output_type": "stream",
     "text": [
      "/home/ubuntu/.cache/huggingface/modules/transformers_modules/DAMO-NLP-SG/VideoLLaMA3-2B/562961752c456a26c46194130f9479dbb01ee582/modeling_videollama3.py:384: FutureWarning: `num_logits_to_keep` is deprecated and will be removed in version 4.50 for `Videollama3Qwen2ForCausalLM.forward`. Use `logits_to_keep` instead.\n",
      "  return super().forward(\n",
      " 14%|█▍        | 81/579 [02:26<14:46,  1.78s/it]"
     ]
    },
    {
     "name": "stdout",
     "output_type": "stream",
     "text": [
      "The video shows a basketball game being played in an arena. There are two teams playing, one wearing white and the other wearing blue. The crowd is cheering loudly as the players run around on the court. One of the players scores a basket while the crowd continues to cheer.\n"
     ]
    },
    {
     "name": "stderr",
     "output_type": "stream",
     "text": [
      "/home/ubuntu/.cache/huggingface/modules/transformers_modules/DAMO-NLP-SG/VideoLLaMA3-2B/562961752c456a26c46194130f9479dbb01ee582/modeling_videollama3.py:384: FutureWarning: `num_logits_to_keep` is deprecated and will be removed in version 4.50 for `Videollama3Qwen2ForCausalLM.forward`. Use `logits_to_keep` instead.\n",
      "  return super().forward(\n",
      " 14%|█▍        | 82/579 [02:28<15:09,  1.83s/it]"
     ]
    },
    {
     "name": "stdout",
     "output_type": "stream",
     "text": [
      "The video starts with a title screen. Then, we see a boy sitting on the ground tying his shoes. After that, he is shown running down the track holding a football and talking to someone. The scene changes as we see him standing in front of the camera again while still wearing his sneakers.\n"
     ]
    },
    {
     "name": "stderr",
     "output_type": "stream",
     "text": [
      "/home/ubuntu/.cache/huggingface/modules/transformers_modules/DAMO-NLP-SG/VideoLLaMA3-2B/562961752c456a26c46194130f9479dbb01ee582/modeling_videollama3.py:384: FutureWarning: `num_logits_to_keep` is deprecated and will be removed in version 4.50 for `Videollama3Qwen2ForCausalLM.forward`. Use `logits_to_keep` instead.\n",
      "  return super().forward(\n",
      " 14%|█▍        | 83/579 [02:29<14:00,  1.69s/it]"
     ]
    },
    {
     "name": "stdout",
     "output_type": "stream",
     "text": [
      "In the video, a boxer is seen falling to his knees after being hit in the face. He then gets up and talks to another man while holding onto the ropes of the boxing ring.\n"
     ]
    },
    {
     "name": "stderr",
     "output_type": "stream",
     "text": [
      "/home/ubuntu/.cache/huggingface/modules/transformers_modules/DAMO-NLP-SG/VideoLLaMA3-2B/562961752c456a26c46194130f9479dbb01ee582/modeling_videollama3.py:384: FutureWarning: `num_logits_to_keep` is deprecated and will be removed in version 4.50 for `Videollama3Qwen2ForCausalLM.forward`. Use `logits_to_keep` instead.\n",
      "  return super().forward(\n",
      " 15%|█▍        | 84/579 [02:31<12:47,  1.55s/it]"
     ]
    },
    {
     "name": "stdout",
     "output_type": "stream",
     "text": [
      "The video shows a man in robes and hood looking around while being filmed. There are also two men dressed as Jedi standing next to each other, with one of them holding a lightsaber.\n"
     ]
    },
    {
     "name": "stderr",
     "output_type": "stream",
     "text": [
      "/home/ubuntu/.cache/huggingface/modules/transformers_modules/DAMO-NLP-SG/VideoLLaMA3-2B/562961752c456a26c46194130f9479dbb01ee582/modeling_videollama3.py:384: FutureWarning: `num_logits_to_keep` is deprecated and will be removed in version 4.50 for `Videollama3Qwen2ForCausalLM.forward`. Use `logits_to_keep` instead.\n",
      "  return super().forward(\n",
      " 15%|█▍        | 85/579 [02:32<12:49,  1.56s/it]"
     ]
    },
    {
     "name": "stdout",
     "output_type": "stream",
     "text": [
      "The video starts with a man dribbling the ball and then throwing it into the basket. The crowd cheers loudly, and people start jumping up in excitement as well. It seems like he scored a goal or made an impressive shot.\n"
     ]
    },
    {
     "name": "stderr",
     "output_type": "stream",
     "text": [
      "/home/ubuntu/.cache/huggingface/modules/transformers_modules/DAMO-NLP-SG/VideoLLaMA3-2B/562961752c456a26c46194130f9479dbb01ee582/modeling_videollama3.py:384: FutureWarning: `num_logits_to_keep` is deprecated and will be removed in version 4.50 for `Videollama3Qwen2ForCausalLM.forward`. Use `logits_to_keep` instead.\n",
      "  return super().forward(\n",
      " 15%|█▍        | 86/579 [02:34<13:30,  1.64s/it]"
     ]
    },
    {
     "name": "stdout",
     "output_type": "stream",
     "text": [
      "The video shows different scenes of people sitting at desks or on benches, working and reading documents. Some are using laptops while others have calculators nearby. There is a woman in a white shirt who appears to be stressed out as she looks through some papers with her hands on her face.\n"
     ]
    },
    {
     "name": "stderr",
     "output_type": "stream",
     "text": [
      "/home/ubuntu/.cache/huggingface/modules/transformers_modules/DAMO-NLP-SG/VideoLLaMA3-2B/562961752c456a26c46194130f9479dbb01ee582/modeling_videollama3.py:384: FutureWarning: `num_logits_to_keep` is deprecated and will be removed in version 4.50 for `Videollama3Qwen2ForCausalLM.forward`. Use `logits_to_keep` instead.\n",
      "  return super().forward(\n",
      " 15%|█▌        | 87/579 [02:35<12:11,  1.49s/it]"
     ]
    },
    {
     "name": "stdout",
     "output_type": "stream",
     "text": [
      "The video shows a group of football players huddled together. Then, the scene shifts to a stadium where people are running on the field.\n"
     ]
    },
    {
     "name": "stderr",
     "output_type": "stream",
     "text": [
      "/home/ubuntu/.cache/huggingface/modules/transformers_modules/DAMO-NLP-SG/VideoLLaMA3-2B/562961752c456a26c46194130f9479dbb01ee582/modeling_videollama3.py:384: FutureWarning: `num_logits_to_keep` is deprecated and will be removed in version 4.50 for `Videollama3Qwen2ForCausalLM.forward`. Use `logits_to_keep` instead.\n",
      "  return super().forward(\n",
      " 15%|█▌        | 88/579 [02:37<12:35,  1.54s/it]"
     ]
    },
    {
     "name": "stdout",
     "output_type": "stream",
     "text": [
      "The video shows a man standing with two young girls in front of a fence. The man is wearing brown pants and holding a lacrosse stick while the girls are also holding sticks. They seem to be practicing their skills or playing together on the field.\n"
     ]
    },
    {
     "name": "stderr",
     "output_type": "stream",
     "text": [
      "/home/ubuntu/.cache/huggingface/modules/transformers_modules/DAMO-NLP-SG/VideoLLaMA3-2B/562961752c456a26c46194130f9479dbb01ee582/modeling_videollama3.py:384: FutureWarning: `num_logits_to_keep` is deprecated and will be removed in version 4.50 for `Videollama3Qwen2ForCausalLM.forward`. Use `logits_to_keep` instead.\n",
      "  return super().forward(\n",
      " 15%|█▌        | 89/579 [02:38<12:40,  1.55s/it]"
     ]
    },
    {
     "name": "stdout",
     "output_type": "stream",
     "text": [
      "The video starts with a man in a green shirt thinking about clothes. Then, he walks into a clothing store and looks at the clothes on display. After that, he enters a room where there is a stylist chair and talks to them.\n"
     ]
    },
    {
     "name": "stderr",
     "output_type": "stream",
     "text": [
      "/home/ubuntu/.cache/huggingface/modules/transformers_modules/DAMO-NLP-SG/VideoLLaMA3-2B/562961752c456a26c46194130f9479dbb01ee582/modeling_videollama3.py:384: FutureWarning: `num_logits_to_keep` is deprecated and will be removed in version 4.50 for `Videollama3Qwen2ForCausalLM.forward`. Use `logits_to_keep` instead.\n",
      "  return super().forward(\n",
      " 16%|█▌        | 90/579 [02:40<12:58,  1.59s/it]"
     ]
    },
    {
     "name": "stdout",
     "output_type": "stream",
     "text": [
      "The video shows a basketball game in progress with players playing on the court. There is also a group of cheerleaders dancing and cheering for their team, while fans are watching from the stands. The crowd is loud and excited as they support their favorite teams.\n"
     ]
    },
    {
     "name": "stderr",
     "output_type": "stream",
     "text": [
      "/home/ubuntu/.cache/huggingface/modules/transformers_modules/DAMO-NLP-SG/VideoLLaMA3-2B/562961752c456a26c46194130f9479dbb01ee582/modeling_videollama3.py:384: FutureWarning: `num_logits_to_keep` is deprecated and will be removed in version 4.50 for `Videollama3Qwen2ForCausalLM.forward`. Use `logits_to_keep` instead.\n",
      "  return super().forward(\n",
      " 16%|█▌        | 91/579 [02:41<12:25,  1.53s/it]"
     ]
    },
    {
     "name": "stdout",
     "output_type": "stream",
     "text": [
      "The video shows a basketball game with many players and cheerleaders. The team celebrates their victory by throwing drinks on each other's backs, and the crowd cheers in support of the winning team.\n"
     ]
    },
    {
     "name": "stderr",
     "output_type": "stream",
     "text": [
      "/home/ubuntu/.cache/huggingface/modules/transformers_modules/DAMO-NLP-SG/VideoLLaMA3-2B/562961752c456a26c46194130f9479dbb01ee582/modeling_videollama3.py:384: FutureWarning: `num_logits_to_keep` is deprecated and will be removed in version 4.50 for `Videollama3Qwen2ForCausalLM.forward`. Use `logits_to_keep` instead.\n",
      "  return super().forward(\n",
      " 16%|█▌        | 92/579 [02:43<12:42,  1.57s/it]"
     ]
    },
    {
     "name": "stdout",
     "output_type": "stream",
     "text": [
      "In the video, a baseball player is seen swinging his bat. The batter's swing is shown in slow motion and he hits the ball into the outfield. After hitting the ball, the catcher walks towards home plate where the umpire stands at.\n"
     ]
    },
    {
     "name": "stderr",
     "output_type": "stream",
     "text": [
      "/home/ubuntu/.cache/huggingface/modules/transformers_modules/DAMO-NLP-SG/VideoLLaMA3-2B/562961752c456a26c46194130f9479dbb01ee582/modeling_videollama3.py:384: FutureWarning: `num_logits_to_keep` is deprecated and will be removed in version 4.50 for `Videollama3Qwen2ForCausalLM.forward`. Use `logits_to_keep` instead.\n",
      "  return super().forward(\n",
      " 16%|█▌        | 93/579 [02:45<13:14,  1.63s/it]"
     ]
    },
    {
     "name": "stdout",
     "output_type": "stream",
     "text": [
      "The video starts with a title screen and then shows two players on the field. A baseball player is seen fighting with an umpire, causing him to fall down. The scene repeats several times in slow motion, showing the same fight between the baseball player and the umpire.\n"
     ]
    },
    {
     "name": "stderr",
     "output_type": "stream",
     "text": [
      "/home/ubuntu/.cache/huggingface/modules/transformers_modules/DAMO-NLP-SG/VideoLLaMA3-2B/562961752c456a26c46194130f9479dbb01ee582/modeling_videollama3.py:384: FutureWarning: `num_logits_to_keep` is deprecated and will be removed in version 4.50 for `Videollama3Qwen2ForCausalLM.forward`. Use `logits_to_keep` instead.\n",
      "  return super().forward(\n",
      " 16%|█▌        | 94/579 [02:48<16:26,  2.03s/it]"
     ]
    },
    {
     "name": "stdout",
     "output_type": "stream",
     "text": [
      "In the video, there is a pink star that appears in different scenes. In one scene, it is standing on top of an airplane and flying away. In another scene, it is at a table with other stars while looking sad. There are also other characters like a blue triangle, a green triangle, and an orange triangle who appear in various scenes throughout the video. The video seems to be about a group of animated characters, including the pink star, engaging in different activities or scenarios.\n",
      "QA_GT_caption_based_noisy\n"
     ]
    },
    {
     "name": "stderr",
     "output_type": "stream",
     "text": [
      "/home/ubuntu/.cache/huggingface/modules/transformers_modules/DAMO-NLP-SG/VideoLLaMA3-2B/562961752c456a26c46194130f9479dbb01ee582/modeling_videollama3.py:384: FutureWarning: `num_logits_to_keep` is deprecated and will be removed in version 4.50 for `Videollama3Qwen2ForCausalLM.forward`. Use `logits_to_keep` instead.\n",
      "  return super().forward(\n",
      " 16%|█▋        | 95/579 [02:50<15:59,  1.98s/it]"
     ]
    },
    {
     "name": "stdout",
     "output_type": "stream",
     "text": [
      "In the video, two boxers are fighting in a boxing ring. The referee is present to oversee the match and ensure that both fighters follow the rules of boxing. One of the boxers gets knocked out by his opponent, and the crowd cheers loudly as he falls to the ground.\n"
     ]
    },
    {
     "name": "stderr",
     "output_type": "stream",
     "text": [
      "/home/ubuntu/.cache/huggingface/modules/transformers_modules/DAMO-NLP-SG/VideoLLaMA3-2B/562961752c456a26c46194130f9479dbb01ee582/modeling_videollama3.py:384: FutureWarning: `num_logits_to_keep` is deprecated and will be removed in version 4.50 for `Videollama3Qwen2ForCausalLM.forward`. Use `logits_to_keep` instead.\n",
      "  return super().forward(\n",
      " 17%|█▋        | 96/579 [02:52<17:11,  2.13s/it]"
     ]
    },
    {
     "name": "stdout",
     "output_type": "stream",
     "text": [
      "The video shows a game being played on the screen. There are different objects in the background, including people playing and a large white circle with blue letters. In one scene, there is a group of people sitting around a table playing a video game. Another scene shows a person playing a video game while talking to someone else about it. The game has many players involved, and they seem to be having fun.\n"
     ]
    },
    {
     "name": "stderr",
     "output_type": "stream",
     "text": [
      "/home/ubuntu/.cache/huggingface/modules/transformers_modules/DAMO-NLP-SG/VideoLLaMA3-2B/562961752c456a26c46194130f9479dbb01ee582/modeling_videollama3.py:384: FutureWarning: `num_logits_to_keep` is deprecated and will be removed in version 4.50 for `Videollama3Qwen2ForCausalLM.forward`. Use `logits_to_keep` instead.\n",
      "  return super().forward(\n",
      " 17%|█▋        | 97/579 [02:54<15:41,  1.95s/it]"
     ]
    },
    {
     "name": "stdout",
     "output_type": "stream",
     "text": [
      "The video shows a person with red eyes and a raven on their head, followed by an animated character. The scene then changes to another animated character in the rain holding up his hand, and finally, it returns to the first animated character.\n"
     ]
    },
    {
     "name": "stderr",
     "output_type": "stream",
     "text": [
      "/home/ubuntu/.cache/huggingface/modules/transformers_modules/DAMO-NLP-SG/VideoLLaMA3-2B/562961752c456a26c46194130f9479dbb01ee582/modeling_videollama3.py:384: FutureWarning: `num_logits_to_keep` is deprecated and will be removed in version 4.50 for `Videollama3Qwen2ForCausalLM.forward`. Use `logits_to_keep` instead.\n",
      "  return super().forward(\n",
      " 17%|█▋        | 98/579 [02:55<14:18,  1.79s/it]"
     ]
    },
    {
     "name": "stdout",
     "output_type": "stream",
     "text": [
      "The video shows a man speaking in front of the camera while wearing a suit and tie. He is standing in an area with signs behind him that say \"Silicon Republic\" and \"Media Centre.\"\n"
     ]
    },
    {
     "name": "stderr",
     "output_type": "stream",
     "text": [
      "/home/ubuntu/.cache/huggingface/modules/transformers_modules/DAMO-NLP-SG/VideoLLaMA3-2B/562961752c456a26c46194130f9479dbb01ee582/modeling_videollama3.py:384: FutureWarning: `num_logits_to_keep` is deprecated and will be removed in version 4.50 for `Videollama3Qwen2ForCausalLM.forward`. Use `logits_to_keep` instead.\n",
      "  return super().forward(\n",
      " 17%|█▋        | 99/579 [02:56<12:20,  1.54s/it]"
     ]
    },
    {
     "name": "stdout",
     "output_type": "stream",
     "text": [
      "The video shows a man swimming in an indoor pool, then doing pull-ups and jumping over stacks of toys.\n"
     ]
    },
    {
     "name": "stderr",
     "output_type": "stream",
     "text": [
      "/home/ubuntu/.cache/huggingface/modules/transformers_modules/DAMO-NLP-SG/VideoLLaMA3-2B/562961752c456a26c46194130f9479dbb01ee582/modeling_videollama3.py:384: FutureWarning: `num_logits_to_keep` is deprecated and will be removed in version 4.50 for `Videollama3Qwen2ForCausalLM.forward`. Use `logits_to_keep` instead.\n",
      "  return super().forward(\n",
      " 17%|█▋        | 100/579 [02:58<12:39,  1.59s/it]"
     ]
    },
    {
     "name": "stdout",
     "output_type": "stream",
     "text": [
      "The video shows a boxer being punched in the stomach by his opponent, which causes him to fall down. The referee stops the fight and checks on the fallen boxer's condition. In the background, there is a table with championship belts displayed on it.\n"
     ]
    },
    {
     "name": "stderr",
     "output_type": "stream",
     "text": [
      "/home/ubuntu/.cache/huggingface/modules/transformers_modules/DAMO-NLP-SG/VideoLLaMA3-2B/562961752c456a26c46194130f9479dbb01ee582/modeling_videollama3.py:384: FutureWarning: `num_logits_to_keep` is deprecated and will be removed in version 4.50 for `Videollama3Qwen2ForCausalLM.forward`. Use `logits_to_keep` instead.\n",
      "  return super().forward(\n",
      " 17%|█▋        | 101/579 [03:00<13:01,  1.63s/it]"
     ]
    },
    {
     "name": "stdout",
     "output_type": "stream",
     "text": [
      "The video shows a professional wrestling match where two wrestlers are engaged in combat. The referee is present to ensure the rules of the match are followed and to intervene if necessary. One wrestler attempts a move on his opponent, who then retaliates with an elbow strike that knocks him down.\n"
     ]
    },
    {
     "name": "stderr",
     "output_type": "stream",
     "text": [
      "/home/ubuntu/.cache/huggingface/modules/transformers_modules/DAMO-NLP-SG/VideoLLaMA3-2B/562961752c456a26c46194130f9479dbb01ee582/modeling_videollama3.py:384: FutureWarning: `num_logits_to_keep` is deprecated and will be removed in version 4.50 for `Videollama3Qwen2ForCausalLM.forward`. Use `logits_to_keep` instead.\n",
      "  return super().forward(\n",
      " 18%|█▊        | 102/579 [03:01<12:14,  1.54s/it]"
     ]
    },
    {
     "name": "stdout",
     "output_type": "stream",
     "text": [
      "The video shows a soccer game where the orange team scores two goals in quick succession. The crowd cheers loudly as the players celebrate, and smoke is seen coming from the stands.\n"
     ]
    },
    {
     "name": "stderr",
     "output_type": "stream",
     "text": [
      "/home/ubuntu/.cache/huggingface/modules/transformers_modules/DAMO-NLP-SG/VideoLLaMA3-2B/562961752c456a26c46194130f9479dbb01ee582/modeling_videollama3.py:384: FutureWarning: `num_logits_to_keep` is deprecated and will be removed in version 4.50 for `Videollama3Qwen2ForCausalLM.forward`. Use `logits_to_keep` instead.\n",
      "  return super().forward(\n",
      " 18%|█▊        | 103/579 [03:03<12:28,  1.57s/it]"
     ]
    },
    {
     "name": "stdout",
     "output_type": "stream",
     "text": [
      "The video shows a boxing match between two fighters. One fighter is wearing black shorts and the other one is wearing red shorts. The referee can be seen intervening in the fight, and there are also people watching the match from outside the ring.\n"
     ]
    },
    {
     "name": "stderr",
     "output_type": "stream",
     "text": [
      "/home/ubuntu/.cache/huggingface/modules/transformers_modules/DAMO-NLP-SG/VideoLLaMA3-2B/562961752c456a26c46194130f9479dbb01ee582/modeling_videollama3.py:384: FutureWarning: `num_logits_to_keep` is deprecated and will be removed in version 4.50 for `Videollama3Qwen2ForCausalLM.forward`. Use `logits_to_keep` instead.\n",
      "  return super().forward(\n",
      " 18%|█▊        | 104/579 [03:04<12:01,  1.52s/it]"
     ]
    },
    {
     "name": "stdout",
     "output_type": "stream",
     "text": [
      "The video shows a man sitting in the driver's seat of a car, then getting out and driving it. It also features other people standing around and looking at the cars on the race track.\n"
     ]
    },
    {
     "name": "stderr",
     "output_type": "stream",
     "text": [
      "/home/ubuntu/.cache/huggingface/modules/transformers_modules/DAMO-NLP-SG/VideoLLaMA3-2B/562961752c456a26c46194130f9479dbb01ee582/modeling_videollama3.py:384: FutureWarning: `num_logits_to_keep` is deprecated and will be removed in version 4.50 for `Videollama3Qwen2ForCausalLM.forward`. Use `logits_to_keep` instead.\n",
      "  return super().forward(\n",
      " 18%|█▊        | 105/579 [03:06<13:11,  1.67s/it]"
     ]
    },
    {
     "name": "stdout",
     "output_type": "stream",
     "text": [
      "The video starts with a close-up shot of a scarf, then moves to the inside of a refrigerator. Next, we see someone opening the door of a freezer and taking out an item before showing a television in another room. Finally, there is a scene of a man sitting in a car while looking at the camera.\n"
     ]
    },
    {
     "name": "stderr",
     "output_type": "stream",
     "text": [
      "/home/ubuntu/.cache/huggingface/modules/transformers_modules/DAMO-NLP-SG/VideoLLaMA3-2B/562961752c456a26c46194130f9479dbb01ee582/modeling_videollama3.py:384: FutureWarning: `num_logits_to_keep` is deprecated and will be removed in version 4.50 for `Videollama3Qwen2ForCausalLM.forward`. Use `logits_to_keep` instead.\n",
      "  return super().forward(\n",
      " 18%|█▊        | 106/579 [03:07<12:05,  1.53s/it]"
     ]
    },
    {
     "name": "stdout",
     "output_type": "stream",
     "text": [
      "The video shows a soccer player preparing to take a penalty kick in front of the goal. The crowd cheers as the ball goes into the net and the score is displayed on the screen.\n"
     ]
    },
    {
     "name": "stderr",
     "output_type": "stream",
     "text": [
      "/home/ubuntu/.cache/huggingface/modules/transformers_modules/DAMO-NLP-SG/VideoLLaMA3-2B/562961752c456a26c46194130f9479dbb01ee582/modeling_videollama3.py:384: FutureWarning: `num_logits_to_keep` is deprecated and will be removed in version 4.50 for `Videollama3Qwen2ForCausalLM.forward`. Use `logits_to_keep` instead.\n",
      "  return super().forward(\n",
      " 18%|█▊        | 107/579 [03:11<16:52,  2.15s/it]"
     ]
    },
    {
     "name": "stdout",
     "output_type": "stream",
     "text": [
      "The video shows a series of events happening in the stadium. It starts with people walking through a tunnel and entering the stadium. Then, there is a family walking together inside the stadium. Next, we see a group of kids running around on the field. Following that, a woman sits at an outdoor table while another woman stands nearby. After that, a young boy throws a ball onto a board game. The next scene shows two girls standing behind a bar with drinks, followed by several other women sitting at the same table. Finally, a large group of children runs across the field, and a man plays drums outside the stadium.\n"
     ]
    },
    {
     "name": "stderr",
     "output_type": "stream",
     "text": [
      "/home/ubuntu/.cache/huggingface/modules/transformers_modules/DAMO-NLP-SG/VideoLLaMA3-2B/562961752c456a26c46194130f9479dbb01ee582/modeling_videollama3.py:384: FutureWarning: `num_logits_to_keep` is deprecated and will be removed in version 4.50 for `Videollama3Qwen2ForCausalLM.forward`. Use `logits_to_keep` instead.\n",
      "  return super().forward(\n",
      " 19%|█▊        | 108/579 [03:12<14:54,  1.90s/it]"
     ]
    },
    {
     "name": "stdout",
     "output_type": "stream",
     "text": [
      "The video shows a man in uniform who is being pushed by another person. The man then walks towards the camera while people laugh and cheer him on. Afterward, he runs up stairs with other people around him.\n"
     ]
    },
    {
     "name": "stderr",
     "output_type": "stream",
     "text": [
      "/home/ubuntu/.cache/huggingface/modules/transformers_modules/DAMO-NLP-SG/VideoLLaMA3-2B/562961752c456a26c46194130f9479dbb01ee582/modeling_videollama3.py:384: FutureWarning: `num_logits_to_keep` is deprecated and will be removed in version 4.50 for `Videollama3Qwen2ForCausalLM.forward`. Use `logits_to_keep` instead.\n",
      "  return super().forward(\n",
      " 19%|█▉        | 109/579 [03:13<13:34,  1.73s/it]"
     ]
    },
    {
     "name": "stdout",
     "output_type": "stream",
     "text": [
      "The video features a man who is bald and wearing glasses. He is seen speaking to the camera, holding up resumes, and giving advice on how to get hired as an employee.\n"
     ]
    },
    {
     "name": "stderr",
     "output_type": "stream",
     "text": [
      "/home/ubuntu/.cache/huggingface/modules/transformers_modules/DAMO-NLP-SG/VideoLLaMA3-2B/562961752c456a26c46194130f9479dbb01ee582/modeling_videollama3.py:384: FutureWarning: `num_logits_to_keep` is deprecated and will be removed in version 4.50 for `Videollama3Qwen2ForCausalLM.forward`. Use `logits_to_keep` instead.\n",
      "  return super().forward(\n",
      " 19%|█▉        | 110/579 [03:15<13:47,  1.76s/it]"
     ]
    },
    {
     "name": "stdout",
     "output_type": "stream",
     "text": [
      "The video starts with a group of people running around on a soccer field. Then, it cuts to the players huddling together and talking before they start playing a game. The team in orange jerseys is seen kicking the ball back and forth while another team tries to stop them.\n"
     ]
    },
    {
     "name": "stderr",
     "output_type": "stream",
     "text": [
      "/home/ubuntu/.cache/huggingface/modules/transformers_modules/DAMO-NLP-SG/VideoLLaMA3-2B/562961752c456a26c46194130f9479dbb01ee582/modeling_videollama3.py:384: FutureWarning: `num_logits_to_keep` is deprecated and will be removed in version 4.50 for `Videollama3Qwen2ForCausalLM.forward`. Use `logits_to_keep` instead.\n",
      "  return super().forward(\n",
      " 19%|█▉        | 111/579 [03:17<12:38,  1.62s/it]"
     ]
    },
    {
     "name": "stdout",
     "output_type": "stream",
     "text": [
      "The video shows a group of people walking on the field, followed by teams of men playing soccer. The players are seen running around and kicking the ball during the game.\n"
     ]
    },
    {
     "name": "stderr",
     "output_type": "stream",
     "text": [
      "/home/ubuntu/.cache/huggingface/modules/transformers_modules/DAMO-NLP-SG/VideoLLaMA3-2B/562961752c456a26c46194130f9479dbb01ee582/modeling_videollama3.py:384: FutureWarning: `num_logits_to_keep` is deprecated and will be removed in version 4.50 for `Videollama3Qwen2ForCausalLM.forward`. Use `logits_to_keep` instead.\n",
      "  return super().forward(\n",
      " 19%|█▉        | 112/579 [03:18<12:48,  1.64s/it]"
     ]
    },
    {
     "name": "stdout",
     "output_type": "stream",
     "text": [
      "The video shows a wrestling match between two wrestlers in the ring. One wrestler jumps on top of his opponent, and they both fall to the ground. The crowd cheers as one wrestler gets up and walks away while the other man lies on the ground.\n"
     ]
    },
    {
     "name": "stderr",
     "output_type": "stream",
     "text": [
      "/home/ubuntu/.cache/huggingface/modules/transformers_modules/DAMO-NLP-SG/VideoLLaMA3-2B/562961752c456a26c46194130f9479dbb01ee582/modeling_videollama3.py:384: FutureWarning: `num_logits_to_keep` is deprecated and will be removed in version 4.50 for `Videollama3Qwen2ForCausalLM.forward`. Use `logits_to_keep` instead.\n",
      "  return super().forward(\n",
      " 20%|█▉        | 113/579 [03:20<12:16,  1.58s/it]"
     ]
    },
    {
     "name": "stdout",
     "output_type": "stream",
     "text": [
      "The video shows a baseball game where the pitcher throws a pitch to the batter. The batter swings and hits the ball, but it gets caught by an opposing player who falls on top of him.\n"
     ]
    },
    {
     "name": "stderr",
     "output_type": "stream",
     "text": [
      "/home/ubuntu/.cache/huggingface/modules/transformers_modules/DAMO-NLP-SG/VideoLLaMA3-2B/562961752c456a26c46194130f9479dbb01ee582/modeling_videollama3.py:384: FutureWarning: `num_logits_to_keep` is deprecated and will be removed in version 4.50 for `Videollama3Qwen2ForCausalLM.forward`. Use `logits_to_keep` instead.\n",
      "  return super().forward(\n",
      " 20%|█▉        | 114/579 [03:21<11:30,  1.48s/it]"
     ]
    },
    {
     "name": "stdout",
     "output_type": "stream",
     "text": [
      "The video shows a football camp where people are watching the game. The man in the red shirt is giving an interview, and there are many spectators cheering him on.\n"
     ]
    },
    {
     "name": "stderr",
     "output_type": "stream",
     "text": [
      "/home/ubuntu/.cache/huggingface/modules/transformers_modules/DAMO-NLP-SG/VideoLLaMA3-2B/562961752c456a26c46194130f9479dbb01ee582/modeling_videollama3.py:384: FutureWarning: `num_logits_to_keep` is deprecated and will be removed in version 4.50 for `Videollama3Qwen2ForCausalLM.forward`. Use `logits_to_keep` instead.\n",
      "  return super().forward(\n",
      " 20%|█▉        | 115/579 [03:22<10:58,  1.42s/it]"
     ]
    },
    {
     "name": "stdout",
     "output_type": "stream",
     "text": [
      "The video features a man wearing glasses who is speaking to the camera. The screen behind him changes from black to white, and he continues talking while the background remains black.\n"
     ]
    },
    {
     "name": "stderr",
     "output_type": "stream",
     "text": [
      "/home/ubuntu/.cache/huggingface/modules/transformers_modules/DAMO-NLP-SG/VideoLLaMA3-2B/562961752c456a26c46194130f9479dbb01ee582/modeling_videollama3.py:384: FutureWarning: `num_logits_to_keep` is deprecated and will be removed in version 4.50 for `Videollama3Qwen2ForCausalLM.forward`. Use `logits_to_keep` instead.\n",
      "  return super().forward(\n",
      " 20%|██        | 116/579 [03:24<12:10,  1.58s/it]"
     ]
    },
    {
     "name": "stdout",
     "output_type": "stream",
     "text": [
      "The video shows two men in black shirts sitting on the floor with a woman. Then, they stand up and talk to a woman who is holding papers. Later, one of them stands alone while the other three are standing behind him. The woman puts down her paper and starts painting something on the floor.\n"
     ]
    },
    {
     "name": "stderr",
     "output_type": "stream",
     "text": [
      "/home/ubuntu/.cache/huggingface/modules/transformers_modules/DAMO-NLP-SG/VideoLLaMA3-2B/562961752c456a26c46194130f9479dbb01ee582/modeling_videollama3.py:384: FutureWarning: `num_logits_to_keep` is deprecated and will be removed in version 4.50 for `Videollama3Qwen2ForCausalLM.forward`. Use `logits_to_keep` instead.\n",
      "  return super().forward(\n",
      " 20%|██        | 117/579 [03:25<11:28,  1.49s/it]"
     ]
    },
    {
     "name": "stdout",
     "output_type": "stream",
     "text": [
      "The video shows a soccer game where a player kicks the ball into the goal, resulting in a score. The crowd cheers as they watch the match unfold on the field.\n"
     ]
    },
    {
     "name": "stderr",
     "output_type": "stream",
     "text": [
      "/home/ubuntu/.cache/huggingface/modules/transformers_modules/DAMO-NLP-SG/VideoLLaMA3-2B/562961752c456a26c46194130f9479dbb01ee582/modeling_videollama3.py:384: FutureWarning: `num_logits_to_keep` is deprecated and will be removed in version 4.50 for `Videollama3Qwen2ForCausalLM.forward`. Use `logits_to_keep` instead.\n",
      "  return super().forward(\n",
      " 20%|██        | 118/579 [03:27<11:55,  1.55s/it]"
     ]
    },
    {
     "name": "stdout",
     "output_type": "stream",
     "text": [
      "The video features a man who is initially shown standing in front of a room. He then proceeds to speak into the camera while wearing different outfits, including a white shirt and vest. At one point, he stands next to a laptop computer and continues talking.\n"
     ]
    },
    {
     "name": "stderr",
     "output_type": "stream",
     "text": [
      "/home/ubuntu/.cache/huggingface/modules/transformers_modules/DAMO-NLP-SG/VideoLLaMA3-2B/562961752c456a26c46194130f9479dbb01ee582/modeling_videollama3.py:384: FutureWarning: `num_logits_to_keep` is deprecated and will be removed in version 4.50 for `Videollama3Qwen2ForCausalLM.forward`. Use `logits_to_keep` instead.\n",
      "  return super().forward(\n",
      " 21%|██        | 119/579 [03:29<13:01,  1.70s/it]"
     ]
    },
    {
     "name": "stdout",
     "output_type": "stream",
     "text": [
      "The video shows a group of soccer players huddled together on the field, presumably before or after a match. The scene is set in a stadium filled with spectators and bright lights illuminating the field. One player stands out as he holds up his yellow ball above his head while two men are seen talking to each other nearby.\n"
     ]
    },
    {
     "name": "stderr",
     "output_type": "stream",
     "text": [
      "/home/ubuntu/.cache/huggingface/modules/transformers_modules/DAMO-NLP-SG/VideoLLaMA3-2B/562961752c456a26c46194130f9479dbb01ee582/modeling_videollama3.py:384: FutureWarning: `num_logits_to_keep` is deprecated and will be removed in version 4.50 for `Videollama3Qwen2ForCausalLM.forward`. Use `logits_to_keep` instead.\n",
      "  return super().forward(\n",
      " 21%|██        | 120/579 [03:31<13:04,  1.71s/it]"
     ]
    },
    {
     "name": "stdout",
     "output_type": "stream",
     "text": [
      "The video features a woman dancing ballet in a gym. She starts by standing on the bar and then dances around the room, showcasing her skills. The camera captures various shots of her movements, including close-ups of her feet as she moves gracefully across the floor.\n"
     ]
    },
    {
     "name": "stderr",
     "output_type": "stream",
     "text": [
      "/home/ubuntu/.cache/huggingface/modules/transformers_modules/DAMO-NLP-SG/VideoLLaMA3-2B/562961752c456a26c46194130f9479dbb01ee582/modeling_videollama3.py:384: FutureWarning: `num_logits_to_keep` is deprecated and will be removed in version 4.50 for `Videollama3Qwen2ForCausalLM.forward`. Use `logits_to_keep` instead.\n",
      "  return super().forward(\n",
      " 21%|██        | 121/579 [03:32<11:50,  1.55s/it]"
     ]
    },
    {
     "name": "stdout",
     "output_type": "stream",
     "text": [
      "The video shows a soccer game where a man in red scores the winning goal. The crowd cheers and celebrates, while another player looks on with disappointment.\n"
     ]
    },
    {
     "name": "stderr",
     "output_type": "stream",
     "text": [
      "/home/ubuntu/.cache/huggingface/modules/transformers_modules/DAMO-NLP-SG/VideoLLaMA3-2B/562961752c456a26c46194130f9479dbb01ee582/modeling_videollama3.py:384: FutureWarning: `num_logits_to_keep` is deprecated and will be removed in version 4.50 for `Videollama3Qwen2ForCausalLM.forward`. Use `logits_to_keep` instead.\n",
      "  return super().forward(\n",
      " 21%|██        | 122/579 [03:34<11:46,  1.55s/it]"
     ]
    },
    {
     "name": "stdout",
     "output_type": "stream",
     "text": [
      "The video shows a group of people in a gym playing basketball. A man is being interviewed by another person while he plays the game and shoots a basket. The players are wearing jerseys, and there are other men talking to each other as well.\n"
     ]
    },
    {
     "name": "stderr",
     "output_type": "stream",
     "text": [
      "/home/ubuntu/.cache/huggingface/modules/transformers_modules/DAMO-NLP-SG/VideoLLaMA3-2B/562961752c456a26c46194130f9479dbb01ee582/modeling_videollama3.py:384: FutureWarning: `num_logits_to_keep` is deprecated and will be removed in version 4.50 for `Videollama3Qwen2ForCausalLM.forward`. Use `logits_to_keep` instead.\n",
      "  return super().forward(\n",
      " 21%|██        | 123/579 [03:35<12:29,  1.64s/it]"
     ]
    },
    {
     "name": "stdout",
     "output_type": "stream",
     "text": [
      "The video shows a busy city street with many people walking and crossing the road. There are also police officers directing traffic, working on laptops inside cars, and talking to each other. It seems like they are monitoring the situation or coordinating their efforts in managing the flow of pedestrians and vehicles.\n"
     ]
    },
    {
     "name": "stderr",
     "output_type": "stream",
     "text": [
      "/home/ubuntu/.cache/huggingface/modules/transformers_modules/DAMO-NLP-SG/VideoLLaMA3-2B/562961752c456a26c46194130f9479dbb01ee582/modeling_videollama3.py:384: FutureWarning: `num_logits_to_keep` is deprecated and will be removed in version 4.50 for `Videollama3Qwen2ForCausalLM.forward`. Use `logits_to_keep` instead.\n",
      "  return super().forward(\n",
      " 21%|██▏       | 124/579 [03:37<12:55,  1.71s/it]"
     ]
    },
    {
     "name": "stdout",
     "output_type": "stream",
     "text": [
      "In the video, a woman is seen pointing to her finger. She then points to herself and talks about her job at Anyline. The woman walks into an office while still talking about her work. Throughout the video, she continues to talk and point to different objects in the room.\n"
     ]
    },
    {
     "name": "stderr",
     "output_type": "stream",
     "text": [
      "/home/ubuntu/.cache/huggingface/modules/transformers_modules/DAMO-NLP-SG/VideoLLaMA3-2B/562961752c456a26c46194130f9479dbb01ee582/modeling_videollama3.py:384: FutureWarning: `num_logits_to_keep` is deprecated and will be removed in version 4.50 for `Videollama3Qwen2ForCausalLM.forward`. Use `logits_to_keep` instead.\n",
      "  return super().forward(\n",
      " 22%|██▏       | 125/579 [03:38<11:03,  1.46s/it]"
     ]
    },
    {
     "name": "stdout",
     "output_type": "stream",
     "text": [
      "The video shows a woman in athletic wear doing a long jump and then jumping into the air.\n"
     ]
    },
    {
     "name": "stderr",
     "output_type": "stream",
     "text": [
      "/home/ubuntu/.cache/huggingface/modules/transformers_modules/DAMO-NLP-SG/VideoLLaMA3-2B/562961752c456a26c46194130f9479dbb01ee582/modeling_videollama3.py:384: FutureWarning: `num_logits_to_keep` is deprecated and will be removed in version 4.50 for `Videollama3Qwen2ForCausalLM.forward`. Use `logits_to_keep` instead.\n",
      "  return super().forward(\n",
      " 22%|██▏       | 126/579 [03:40<10:50,  1.44s/it]"
     ]
    },
    {
     "name": "stdout",
     "output_type": "stream",
     "text": [
      "In the video, a man is seen kicking a soccer ball into a goal on a green field. After successfully scoring a goal, he walks back to retrieve another ball and repeats the action.\n"
     ]
    },
    {
     "name": "stderr",
     "output_type": "stream",
     "text": [
      "/home/ubuntu/.cache/huggingface/modules/transformers_modules/DAMO-NLP-SG/VideoLLaMA3-2B/562961752c456a26c46194130f9479dbb01ee582/modeling_videollama3.py:384: FutureWarning: `num_logits_to_keep` is deprecated and will be removed in version 4.50 for `Videollama3Qwen2ForCausalLM.forward`. Use `logits_to_keep` instead.\n",
      "  return super().forward(\n",
      " 22%|██▏       | 127/579 [03:42<12:00,  1.59s/it]"
     ]
    },
    {
     "name": "stdout",
     "output_type": "stream",
     "text": [
      "The video shows a group of people in business attire. One woman is seen working on a computer, while another woman is shown in an interview setting. There are also shots of other women at work and a man standing outside with flags behind him. The video ends with the same man speaking to the camera again.\n"
     ]
    },
    {
     "name": "stderr",
     "output_type": "stream",
     "text": [
      "/home/ubuntu/.cache/huggingface/modules/transformers_modules/DAMO-NLP-SG/VideoLLaMA3-2B/562961752c456a26c46194130f9479dbb01ee582/modeling_videollama3.py:384: FutureWarning: `num_logits_to_keep` is deprecated and will be removed in version 4.50 for `Videollama3Qwen2ForCausalLM.forward`. Use `logits_to_keep` instead.\n",
      "  return super().forward(\n",
      " 22%|██▏       | 128/579 [03:43<11:18,  1.50s/it]"
     ]
    },
    {
     "name": "stdout",
     "output_type": "stream",
     "text": [
      "The video shows a man in a black shirt standing against a gray background. He is smiling and talking to the camera, while various objects are displayed around him on the screen.\n"
     ]
    },
    {
     "name": "stderr",
     "output_type": "stream",
     "text": [
      "/home/ubuntu/.cache/huggingface/modules/transformers_modules/DAMO-NLP-SG/VideoLLaMA3-2B/562961752c456a26c46194130f9479dbb01ee582/modeling_videollama3.py:384: FutureWarning: `num_logits_to_keep` is deprecated and will be removed in version 4.50 for `Videollama3Qwen2ForCausalLM.forward`. Use `logits_to_keep` instead.\n",
      "  return super().forward(\n",
      " 22%|██▏       | 129/579 [03:44<10:51,  1.45s/it]"
     ]
    },
    {
     "name": "stdout",
     "output_type": "stream",
     "text": [
      "The video shows a man entering a room through the front door of his house. He then enters a gym and walks around, while another person is sitting at a table inside.\n"
     ]
    },
    {
     "name": "stderr",
     "output_type": "stream",
     "text": [
      "/home/ubuntu/.cache/huggingface/modules/transformers_modules/DAMO-NLP-SG/VideoLLaMA3-2B/562961752c456a26c46194130f9479dbb01ee582/modeling_videollama3.py:384: FutureWarning: `num_logits_to_keep` is deprecated and will be removed in version 4.50 for `Videollama3Qwen2ForCausalLM.forward`. Use `logits_to_keep` instead.\n",
      "  return super().forward(\n",
      " 22%|██▏       | 130/579 [03:45<09:32,  1.27s/it]"
     ]
    },
    {
     "name": "stdout",
     "output_type": "stream",
     "text": [
      "The video shows a man shooting rifles and another person wrestling in front of an audience.\n"
     ]
    },
    {
     "name": "stderr",
     "output_type": "stream",
     "text": [
      "/home/ubuntu/.cache/huggingface/modules/transformers_modules/DAMO-NLP-SG/VideoLLaMA3-2B/562961752c456a26c46194130f9479dbb01ee582/modeling_videollama3.py:384: FutureWarning: `num_logits_to_keep` is deprecated and will be removed in version 4.50 for `Videollama3Qwen2ForCausalLM.forward`. Use `logits_to_keep` instead.\n",
      "  return super().forward(\n",
      " 23%|██▎       | 131/579 [03:47<10:40,  1.43s/it]"
     ]
    },
    {
     "name": "stdout",
     "output_type": "stream",
     "text": [
      "The video shows a man wearing an old fashioned purple outfit singing into a microphone. He then plays a piano and the camera pans to another man who is also playing the piano while looking off into the distance. The video ends with the first man continuing to sing into the microphone.\n"
     ]
    },
    {
     "name": "stderr",
     "output_type": "stream",
     "text": [
      "/home/ubuntu/.cache/huggingface/modules/transformers_modules/DAMO-NLP-SG/VideoLLaMA3-2B/562961752c456a26c46194130f9479dbb01ee582/modeling_videollama3.py:384: FutureWarning: `num_logits_to_keep` is deprecated and will be removed in version 4.50 for `Videollama3Qwen2ForCausalLM.forward`. Use `logits_to_keep` instead.\n",
      "  return super().forward(\n",
      " 23%|██▎       | 132/579 [03:49<13:11,  1.77s/it]"
     ]
    },
    {
     "name": "stdout",
     "output_type": "stream",
     "text": [
      "The video shows a first person shooter game where the player is running down a street. There are other players on both sides of him, and they all seem to be in a hurry as well. The sound effects can be heard clearly, with gunfire and explosions filling up the background noise. At one point, there is a group of people standing around each other, but it doesn't affect their movement or behavior while playing the game.\n"
     ]
    },
    {
     "name": "stderr",
     "output_type": "stream",
     "text": [
      "/home/ubuntu/.cache/huggingface/modules/transformers_modules/DAMO-NLP-SG/VideoLLaMA3-2B/562961752c456a26c46194130f9479dbb01ee582/modeling_videollama3.py:384: FutureWarning: `num_logits_to_keep` is deprecated and will be removed in version 4.50 for `Videollama3Qwen2ForCausalLM.forward`. Use `logits_to_keep` instead.\n",
      "  return super().forward(\n",
      " 23%|██▎       | 133/579 [03:51<12:47,  1.72s/it]"
     ]
    },
    {
     "name": "stdout",
     "output_type": "stream",
     "text": [
      "The video shows several people lifting heavy weights in a gym. There are shots of different individuals performing various weightlifting exercises, such as deadlifts and bench presses. The camera captures the athletes' movements and expressions while they lift the weights.\n"
     ]
    },
    {
     "name": "stderr",
     "output_type": "stream",
     "text": [
      "/home/ubuntu/.cache/huggingface/modules/transformers_modules/DAMO-NLP-SG/VideoLLaMA3-2B/562961752c456a26c46194130f9479dbb01ee582/modeling_videollama3.py:384: FutureWarning: `num_logits_to_keep` is deprecated and will be removed in version 4.50 for `Videollama3Qwen2ForCausalLM.forward`. Use `logits_to_keep` instead.\n",
      "  return super().forward(\n",
      " 23%|██▎       | 134/579 [03:52<11:23,  1.54s/it]"
     ]
    },
    {
     "name": "stdout",
     "output_type": "stream",
     "text": [
      "The video shows a man working out in the gym. He lifts weights, runs on a treadmill and does exercises with resistance bands.\n"
     ]
    },
    {
     "name": "stderr",
     "output_type": "stream",
     "text": [
      "/home/ubuntu/.cache/huggingface/modules/transformers_modules/DAMO-NLP-SG/VideoLLaMA3-2B/562961752c456a26c46194130f9479dbb01ee582/modeling_videollama3.py:384: FutureWarning: `num_logits_to_keep` is deprecated and will be removed in version 4.50 for `Videollama3Qwen2ForCausalLM.forward`. Use `logits_to_keep` instead.\n",
      "  return super().forward(\n",
      " 23%|██▎       | 135/579 [03:53<10:57,  1.48s/it]"
     ]
    },
    {
     "name": "stdout",
     "output_type": "stream",
     "text": [
      "The video starts with an intro screen that shows a man wearing a blue sweatshirt. Then, it transitions to a scene where the same man is seen sitting in front of other people.\n"
     ]
    },
    {
     "name": "stderr",
     "output_type": "stream",
     "text": [
      "/home/ubuntu/.cache/huggingface/modules/transformers_modules/DAMO-NLP-SG/VideoLLaMA3-2B/562961752c456a26c46194130f9479dbb01ee582/modeling_videollama3.py:384: FutureWarning: `num_logits_to_keep` is deprecated and will be removed in version 4.50 for `Videollama3Qwen2ForCausalLM.forward`. Use `logits_to_keep` instead.\n",
      "  return super().forward(\n",
      " 23%|██▎       | 136/579 [03:55<11:14,  1.52s/it]"
     ]
    },
    {
     "name": "stdout",
     "output_type": "stream",
     "text": [
      "The video shows a man and woman practicing martial arts in a gym. They are wearing white uniforms with black belts, and they demonstrate different techniques such as blocking and punching. The video focuses on the proper form and technique of the moves being performed.\n"
     ]
    },
    {
     "name": "stderr",
     "output_type": "stream",
     "text": [
      "/home/ubuntu/.cache/huggingface/modules/transformers_modules/DAMO-NLP-SG/VideoLLaMA3-2B/562961752c456a26c46194130f9479dbb01ee582/modeling_videollama3.py:384: FutureWarning: `num_logits_to_keep` is deprecated and will be removed in version 4.50 for `Videollama3Qwen2ForCausalLM.forward`. Use `logits_to_keep` instead.\n",
      "  return super().forward(\n",
      " 24%|██▎       | 137/579 [03:56<10:46,  1.46s/it]"
     ]
    },
    {
     "name": "stdout",
     "output_type": "stream",
     "text": [
      "In the video, a group of men are playing soccer in front of a large crowd. They kick the ball around and score goals while people cheer them on from the stands.\n"
     ]
    },
    {
     "name": "stderr",
     "output_type": "stream",
     "text": [
      "/home/ubuntu/.cache/huggingface/modules/transformers_modules/DAMO-NLP-SG/VideoLLaMA3-2B/562961752c456a26c46194130f9479dbb01ee582/modeling_videollama3.py:384: FutureWarning: `num_logits_to_keep` is deprecated and will be removed in version 4.50 for `Videollama3Qwen2ForCausalLM.forward`. Use `logits_to_keep` instead.\n",
      "  return super().forward(\n",
      " 24%|██▍       | 138/579 [03:58<11:50,  1.61s/it]"
     ]
    },
    {
     "name": "stdout",
     "output_type": "stream",
     "text": [
      "In the video, two cricket teams are playing a game. One team is wearing blue uniforms while the other team is wearing red and blue uniforms. The batsman hits the ball towards the fielders who run to catch it. The players seem to be having fun as they play in front of an audience.\n"
     ]
    },
    {
     "name": "stderr",
     "output_type": "stream",
     "text": [
      "/home/ubuntu/.cache/huggingface/modules/transformers_modules/DAMO-NLP-SG/VideoLLaMA3-2B/562961752c456a26c46194130f9479dbb01ee582/modeling_videollama3.py:384: FutureWarning: `num_logits_to_keep` is deprecated and will be removed in version 4.50 for `Videollama3Qwen2ForCausalLM.forward`. Use `logits_to_keep` instead.\n",
      "  return super().forward(\n",
      " 24%|██▍       | 139/579 [04:00<12:11,  1.66s/it]"
     ]
    },
    {
     "name": "stdout",
     "output_type": "stream",
     "text": [
      "The video shows two robotic cars, one pink and one orange, racing against each other on a stage. The cars are seen moving around the stage as they compete with each other. There is also music playing in the background while the robots move back and forth across the stage.\n"
     ]
    },
    {
     "name": "stderr",
     "output_type": "stream",
     "text": [
      "/home/ubuntu/.cache/huggingface/modules/transformers_modules/DAMO-NLP-SG/VideoLLaMA3-2B/562961752c456a26c46194130f9479dbb01ee582/modeling_videollama3.py:384: FutureWarning: `num_logits_to_keep` is deprecated and will be removed in version 4.50 for `Videollama3Qwen2ForCausalLM.forward`. Use `logits_to_keep` instead.\n",
      "  return super().forward(\n",
      " 24%|██▍       | 140/579 [04:02<11:52,  1.62s/it]"
     ]
    },
    {
     "name": "stdout",
     "output_type": "stream",
     "text": [
      "The video shows a woman lifting weights and performing different exercises in various locations. She is seen doing squats, deadlifts, bench presses, and other weightlifting activities. The scenes take place both indoors and outdoors.\n"
     ]
    },
    {
     "name": "stderr",
     "output_type": "stream",
     "text": [
      "/home/ubuntu/.cache/huggingface/modules/transformers_modules/DAMO-NLP-SG/VideoLLaMA3-2B/562961752c456a26c46194130f9479dbb01ee582/modeling_videollama3.py:384: FutureWarning: `num_logits_to_keep` is deprecated and will be removed in version 4.50 for `Videollama3Qwen2ForCausalLM.forward`. Use `logits_to_keep` instead.\n",
      "  return super().forward(\n",
      " 24%|██▍       | 141/579 [04:03<11:46,  1.61s/it]"
     ]
    },
    {
     "name": "stdout",
     "output_type": "stream",
     "text": [
      "The video shows people swimming in a pool. It begins with a view of the water, then transitions to show swimmers jumping into the pool and diving down. There is also footage of people standing on the side watching them swim.\n"
     ]
    },
    {
     "name": "stderr",
     "output_type": "stream",
     "text": [
      "/home/ubuntu/.cache/huggingface/modules/transformers_modules/DAMO-NLP-SG/VideoLLaMA3-2B/562961752c456a26c46194130f9479dbb01ee582/modeling_videollama3.py:384: FutureWarning: `num_logits_to_keep` is deprecated and will be removed in version 4.50 for `Videollama3Qwen2ForCausalLM.forward`. Use `logits_to_keep` instead.\n",
      "  return super().forward(\n",
      " 25%|██▍       | 142/579 [04:05<12:00,  1.65s/it]"
     ]
    },
    {
     "name": "stdout",
     "output_type": "stream",
     "text": [
      "The video shows a football game between Arizona State and BYU. The quarterback hands the ball off to a running back who is tackled after 10 seconds. There are also scenes of people playing basketball, tennis, soccer, baseball, and hockey on different courts.\n"
     ]
    },
    {
     "name": "stderr",
     "output_type": "stream",
     "text": [
      "/home/ubuntu/.cache/huggingface/modules/transformers_modules/DAMO-NLP-SG/VideoLLaMA3-2B/562961752c456a26c46194130f9479dbb01ee582/modeling_videollama3.py:384: FutureWarning: `num_logits_to_keep` is deprecated and will be removed in version 4.50 for `Videollama3Qwen2ForCausalLM.forward`. Use `logits_to_keep` instead.\n",
      "  return super().forward(\n",
      " 25%|██▍       | 143/579 [04:07<12:24,  1.71s/it]"
     ]
    },
    {
     "name": "stdout",
     "output_type": "stream",
     "text": [
      "In the video, two men wearing blue shirts are seen standing on a gymnasium floor. They are watching something intently and seem to be waiting for an event or activity to start. The atmosphere is calm as they observe their surroundings with interest.\n",
      "QA_GT_caption_based_noisy\n"
     ]
    },
    {
     "name": "stderr",
     "output_type": "stream",
     "text": [
      "/home/ubuntu/.cache/huggingface/modules/transformers_modules/DAMO-NLP-SG/VideoLLaMA3-2B/562961752c456a26c46194130f9479dbb01ee582/modeling_videollama3.py:384: FutureWarning: `num_logits_to_keep` is deprecated and will be removed in version 4.50 for `Videollama3Qwen2ForCausalLM.forward`. Use `logits_to_keep` instead.\n",
      "  return super().forward(\n",
      " 25%|██▍       | 144/579 [04:08<11:30,  1.59s/it]"
     ]
    },
    {
     "name": "stdout",
     "output_type": "stream",
     "text": [
      "The video shows a group of people running on a track at night. The camera follows the runners as they run around and then slows down to show them crossing the finish line.\n"
     ]
    },
    {
     "name": "stderr",
     "output_type": "stream",
     "text": [
      "/home/ubuntu/.cache/huggingface/modules/transformers_modules/DAMO-NLP-SG/VideoLLaMA3-2B/562961752c456a26c46194130f9479dbb01ee582/modeling_videollama3.py:384: FutureWarning: `num_logits_to_keep` is deprecated and will be removed in version 4.50 for `Videollama3Qwen2ForCausalLM.forward`. Use `logits_to_keep` instead.\n",
      "  return super().forward(\n",
      " 25%|██▌       | 145/579 [04:10<11:39,  1.61s/it]"
     ]
    },
    {
     "name": "stdout",
     "output_type": "stream",
     "text": [
      "The video starts with a black screen and then shows soldiers in combat gear carrying an injured comrade. They run through a doorway into what appears to be a medical facility. Inside, they lay the wounded man down on a bed while another soldier prepares his IV.\n"
     ]
    },
    {
     "name": "stderr",
     "output_type": "stream",
     "text": [
      "/home/ubuntu/.cache/huggingface/modules/transformers_modules/DAMO-NLP-SG/VideoLLaMA3-2B/562961752c456a26c46194130f9479dbb01ee582/modeling_videollama3.py:384: FutureWarning: `num_logits_to_keep` is deprecated and will be removed in version 4.50 for `Videollama3Qwen2ForCausalLM.forward`. Use `logits_to_keep` instead.\n",
      "  return super().forward(\n",
      " 25%|██▌       | 146/579 [04:11<11:42,  1.62s/it]"
     ]
    },
    {
     "name": "stdout",
     "output_type": "stream",
     "text": [
      "The video shows a man wearing different basketball uniforms. He is seen walking down the stairs, holding his jersey in one scene and talking to someone else in another scene. There are also scenes of him playing basketball with other players on a court.\n"
     ]
    },
    {
     "name": "stderr",
     "output_type": "stream",
     "text": [
      "/home/ubuntu/.cache/huggingface/modules/transformers_modules/DAMO-NLP-SG/VideoLLaMA3-2B/562961752c456a26c46194130f9479dbb01ee582/modeling_videollama3.py:384: FutureWarning: `num_logits_to_keep` is deprecated and will be removed in version 4.50 for `Videollama3Qwen2ForCausalLM.forward`. Use `logits_to_keep` instead.\n",
      "  return super().forward(\n",
      " 25%|██▌       | 147/579 [04:13<11:59,  1.67s/it]"
     ]
    },
    {
     "name": "stdout",
     "output_type": "stream",
     "text": [
      "The video features a young girl sitting on a bench at an intersection. She is seen playing with her hair, looking down, and then turning to face the camera while still holding her hair in her hand. The scene captures her moment of introspection before she starts singing.\n"
     ]
    },
    {
     "name": "stderr",
     "output_type": "stream",
     "text": [
      "/home/ubuntu/.cache/huggingface/modules/transformers_modules/DAMO-NLP-SG/VideoLLaMA3-2B/562961752c456a26c46194130f9479dbb01ee582/modeling_videollama3.py:384: FutureWarning: `num_logits_to_keep` is deprecated and will be removed in version 4.50 for `Videollama3Qwen2ForCausalLM.forward`. Use `logits_to_keep` instead.\n",
      "  return super().forward(\n",
      " 26%|██▌       | 148/579 [04:15<11:10,  1.55s/it]"
     ]
    },
    {
     "name": "stdout",
     "output_type": "stream",
     "text": [
      "The video shows two men, one in a baseball cap and another in a suit jacket, speaking into microphones. They seem to be engaged in an interview or recording session.\n"
     ]
    },
    {
     "name": "stderr",
     "output_type": "stream",
     "text": [
      "/home/ubuntu/.cache/huggingface/modules/transformers_modules/DAMO-NLP-SG/VideoLLaMA3-2B/562961752c456a26c46194130f9479dbb01ee582/modeling_videollama3.py:384: FutureWarning: `num_logits_to_keep` is deprecated and will be removed in version 4.50 for `Videollama3Qwen2ForCausalLM.forward`. Use `logits_to_keep` instead.\n",
      "  return super().forward(\n",
      " 26%|██▌       | 149/579 [04:16<11:31,  1.61s/it]"
     ]
    },
    {
     "name": "stdout",
     "output_type": "stream",
     "text": [
      "In the video, we see an animated scene where a character is crying and looking up at a moon. The next shot shows another character who appears to be in pain or distress. We also see a person kneeling down on the floor with blood around their hand.\n"
     ]
    },
    {
     "name": "stderr",
     "output_type": "stream",
     "text": [
      "/home/ubuntu/.cache/huggingface/modules/transformers_modules/DAMO-NLP-SG/VideoLLaMA3-2B/562961752c456a26c46194130f9479dbb01ee582/modeling_videollama3.py:384: FutureWarning: `num_logits_to_keep` is deprecated and will be removed in version 4.50 for `Videollama3Qwen2ForCausalLM.forward`. Use `logits_to_keep` instead.\n",
      "  return super().forward(\n",
      " 26%|██▌       | 150/579 [04:19<14:38,  2.05s/it]"
     ]
    },
    {
     "name": "stdout",
     "output_type": "stream",
     "text": [
      "The video shows two men sitting at a table, one of them speaking into a microphone. They are both wearing suits and holding papers in their hands. The man is also seen smoking a cigarette while the other man continues to speak. In addition to that, there is another scene where they are filming something with baseball bats on a set. There is also a clip from a TV show where Jimmy O'Brien speaks into a microphone. Lastly, there is a scene showing the two men working together to film a commercial for Budweiser beer.\n"
     ]
    },
    {
     "name": "stderr",
     "output_type": "stream",
     "text": [
      "/home/ubuntu/.cache/huggingface/modules/transformers_modules/DAMO-NLP-SG/VideoLLaMA3-2B/562961752c456a26c46194130f9479dbb01ee582/modeling_videollama3.py:384: FutureWarning: `num_logits_to_keep` is deprecated and will be removed in version 4.50 for `Videollama3Qwen2ForCausalLM.forward`. Use `logits_to_keep` instead.\n",
      "  return super().forward(\n",
      " 26%|██▌       | 151/579 [04:22<15:53,  2.23s/it]"
     ]
    },
    {
     "name": "stdout",
     "output_type": "stream",
     "text": [
      "The video shows a group of people working on the street. They are using various tools and equipment, including a vacuum truck to clean up debris from the road. The workers are wearing safety vests and helmets as they move around the area, inspecting and cleaning the streets. At one point, a man is seen sitting inside the truck while others work outside. Overall, it seems like a coordinated effort to keep the streets clean and safe for everyone.\n"
     ]
    },
    {
     "name": "stderr",
     "output_type": "stream",
     "text": [
      "/home/ubuntu/.cache/huggingface/modules/transformers_modules/DAMO-NLP-SG/VideoLLaMA3-2B/562961752c456a26c46194130f9479dbb01ee582/modeling_videollama3.py:384: FutureWarning: `num_logits_to_keep` is deprecated and will be removed in version 4.50 for `Videollama3Qwen2ForCausalLM.forward`. Use `logits_to_keep` instead.\n",
      "  return super().forward(\n",
      " 26%|██▋       | 152/579 [04:24<15:50,  2.23s/it]"
     ]
    },
    {
     "name": "stdout",
     "output_type": "stream",
     "text": [
      "The video shows a game with multiple different screens. It starts off with the credits of the movie, then transitions to an in-game scene where players are fighting monsters. The screen changes from one monster to another as they fight them. Afterward, the screen displays a menu for choosing rewards. Finally, it shows the credits again at the end of the video.\n"
     ]
    },
    {
     "name": "stderr",
     "output_type": "stream",
     "text": [
      "/home/ubuntu/.cache/huggingface/modules/transformers_modules/DAMO-NLP-SG/VideoLLaMA3-2B/562961752c456a26c46194130f9479dbb01ee582/modeling_videollama3.py:384: FutureWarning: `num_logits_to_keep` is deprecated and will be removed in version 4.50 for `Videollama3Qwen2ForCausalLM.forward`. Use `logits_to_keep` instead.\n",
      "  return super().forward(\n",
      " 26%|██▋       | 153/579 [04:26<15:13,  2.14s/it]"
     ]
    },
    {
     "name": "stdout",
     "output_type": "stream",
     "text": [
      "The video shows a large group of people cheering and shouting on the sidelines at a sporting event. There are many different shots, including one where a man is seen standing in front of a crowd of fans who are also cheering. The crowd is very excited as they yell slogans in support of their favorite team.\n"
     ]
    },
    {
     "name": "stderr",
     "output_type": "stream",
     "text": [
      "/home/ubuntu/.cache/huggingface/modules/transformers_modules/DAMO-NLP-SG/VideoLLaMA3-2B/562961752c456a26c46194130f9479dbb01ee582/modeling_videollama3.py:384: FutureWarning: `num_logits_to_keep` is deprecated and will be removed in version 4.50 for `Videollama3Qwen2ForCausalLM.forward`. Use `logits_to_keep` instead.\n",
      "  return super().forward(\n",
      " 27%|██▋       | 154/579 [04:28<14:39,  2.07s/it]"
     ]
    },
    {
     "name": "stdout",
     "output_type": "stream",
     "text": [
      "The video shows a group of people wearing yellow t-shirts who are performing various exercises. They start by running and then transition into doing squats while shouting slogans or chants in unison. The background music adds to the intensity of their workout, creating an energetic atmosphere.\n",
      "QA_GT_caption_based_noisy\n"
     ]
    },
    {
     "name": "stderr",
     "output_type": "stream",
     "text": [
      "/home/ubuntu/.cache/huggingface/modules/transformers_modules/DAMO-NLP-SG/VideoLLaMA3-2B/562961752c456a26c46194130f9479dbb01ee582/modeling_videollama3.py:384: FutureWarning: `num_logits_to_keep` is deprecated and will be removed in version 4.50 for `Videollama3Qwen2ForCausalLM.forward`. Use `logits_to_keep` instead.\n",
      "  return super().forward(\n",
      " 27%|██▋       | 155/579 [04:32<19:34,  2.77s/it]"
     ]
    },
    {
     "name": "stdout",
     "output_type": "stream",
     "text": [
      "The video shows a group of people playing soccer on an outdoor field. They are divided into two teams, one wearing white and the other in blue. The game starts with both teams lined up at their respective ends of the field. Then, they start running towards each other to kick the ball. One team scores a goal while the opposing team is trying to block it. After scoring, the players celebrate by hugging each other.\n",
      "Throughout the video, we can see that the players are actively engaged in the game, using different techniques such as kicking and dribbling the ball. We also observe how the players move around the field, passing the ball back and forth between them.\n",
      "Overall, this video captures a typical soccer match where the players use teamwork, coordination, and strategy to score goals against their opponents.\n"
     ]
    },
    {
     "name": "stderr",
     "output_type": "stream",
     "text": [
      "/home/ubuntu/.cache/huggingface/modules/transformers_modules/DAMO-NLP-SG/VideoLLaMA3-2B/562961752c456a26c46194130f9479dbb01ee582/modeling_videollama3.py:384: FutureWarning: `num_logits_to_keep` is deprecated and will be removed in version 4.50 for `Videollama3Qwen2ForCausalLM.forward`. Use `logits_to_keep` instead.\n",
      "  return super().forward(\n",
      " 27%|██▋       | 156/579 [04:34<17:00,  2.41s/it]"
     ]
    },
    {
     "name": "stdout",
     "output_type": "stream",
     "text": [
      "The video shows a character with blonde hair and yellow clothes standing on the edge of a wooden platform. She is crying while another person stands behind her, looking at her. The scene then changes to show different characters in various settings.\n"
     ]
    },
    {
     "name": "stderr",
     "output_type": "stream",
     "text": [
      "/home/ubuntu/.cache/huggingface/modules/transformers_modules/DAMO-NLP-SG/VideoLLaMA3-2B/562961752c456a26c46194130f9479dbb01ee582/modeling_videollama3.py:384: FutureWarning: `num_logits_to_keep` is deprecated and will be removed in version 4.50 for `Videollama3Qwen2ForCausalLM.forward`. Use `logits_to_keep` instead.\n",
      "  return super().forward(\n",
      " 27%|██▋       | 157/579 [04:36<15:24,  2.19s/it]"
     ]
    },
    {
     "name": "stdout",
     "output_type": "stream",
     "text": [
      "In the video, a boy is seen doing squats on a red box. He then jumps over hurdles and finally stands up while holding his hands together. The scene transitions to him playing soccer outside in a field with other kids wearing yellow uniforms.\n"
     ]
    },
    {
     "name": "stderr",
     "output_type": "stream",
     "text": [
      "/home/ubuntu/.cache/huggingface/modules/transformers_modules/DAMO-NLP-SG/VideoLLaMA3-2B/562961752c456a26c46194130f9479dbb01ee582/modeling_videollama3.py:384: FutureWarning: `num_logits_to_keep` is deprecated and will be removed in version 4.50 for `Videollama3Qwen2ForCausalLM.forward`. Use `logits_to_keep` instead.\n",
      "  return super().forward(\n",
      " 27%|██▋       | 158/579 [04:39<16:52,  2.41s/it]"
     ]
    },
    {
     "name": "stdout",
     "output_type": "stream",
     "text": [
      "The video shows a UFC fight between two fighters, Robert Whittaker and Paulo Costa. The video begins with the opening title screen of the game UFC 3. Then it transitions to a scene in the ring where both fighters are standing on opposite sides of the cage while an announcer is talking about them. After that, the video cuts back to the opening title screen for the game, showing the names of the two fighters along with their statistics such as age, height, weight, reach, etc.\n"
     ]
    },
    {
     "name": "stderr",
     "output_type": "stream",
     "text": [
      "/home/ubuntu/.cache/huggingface/modules/transformers_modules/DAMO-NLP-SG/VideoLLaMA3-2B/562961752c456a26c46194130f9479dbb01ee582/modeling_videollama3.py:384: FutureWarning: `num_logits_to_keep` is deprecated and will be removed in version 4.50 for `Videollama3Qwen2ForCausalLM.forward`. Use `logits_to_keep` instead.\n",
      "  return super().forward(\n",
      " 27%|██▋       | 159/579 [04:40<14:37,  2.09s/it]"
     ]
    },
    {
     "name": "stdout",
     "output_type": "stream",
     "text": [
      "The video shows a man sitting on a couch and talking about weightlifting. He then goes to a gym where he watches as several men lift weights together while being cheered by the crowd.\n"
     ]
    },
    {
     "name": "stderr",
     "output_type": "stream",
     "text": [
      "/home/ubuntu/.cache/huggingface/modules/transformers_modules/DAMO-NLP-SG/VideoLLaMA3-2B/562961752c456a26c46194130f9479dbb01ee582/modeling_videollama3.py:384: FutureWarning: `num_logits_to_keep` is deprecated and will be removed in version 4.50 for `Videollama3Qwen2ForCausalLM.forward`. Use `logits_to_keep` instead.\n",
      "  return super().forward(\n",
      " 28%|██▊       | 160/579 [04:42<14:02,  2.01s/it]"
     ]
    },
    {
     "name": "stdout",
     "output_type": "stream",
     "text": [
      "The video shows a man in a blue shirt with the words \"Dodge Target\" on it, standing inside a building and speaking. He is holding several arrows and walking towards an archery target set up outside of the building. The camera captures his movements as he approaches the targets.\n"
     ]
    },
    {
     "name": "stderr",
     "output_type": "stream",
     "text": [
      "/home/ubuntu/.cache/huggingface/modules/transformers_modules/DAMO-NLP-SG/VideoLLaMA3-2B/562961752c456a26c46194130f9479dbb01ee582/modeling_videollama3.py:384: FutureWarning: `num_logits_to_keep` is deprecated and will be removed in version 4.50 for `Videollama3Qwen2ForCausalLM.forward`. Use `logits_to_keep` instead.\n",
      "  return super().forward(\n",
      " 28%|██▊       | 161/579 [04:43<12:45,  1.83s/it]"
     ]
    },
    {
     "name": "stdout",
     "output_type": "stream",
     "text": [
      "The video shows a group of soldiers fighting in an urban area. They are using weapons and grenades to take down enemies, while others try to escape. The scene is chaotic with gunfire and explosions.\n"
     ]
    },
    {
     "name": "stderr",
     "output_type": "stream",
     "text": [
      "/home/ubuntu/.cache/huggingface/modules/transformers_modules/DAMO-NLP-SG/VideoLLaMA3-2B/562961752c456a26c46194130f9479dbb01ee582/modeling_videollama3.py:384: FutureWarning: `num_logits_to_keep` is deprecated and will be removed in version 4.50 for `Videollama3Qwen2ForCausalLM.forward`. Use `logits_to_keep` instead.\n",
      "  return super().forward(\n",
      " 28%|██▊       | 162/579 [04:45<13:01,  1.87s/it]"
     ]
    },
    {
     "name": "stdout",
     "output_type": "stream",
     "text": [
      "The video starts with a view of an empty room. Then, a young boy appears on the screen and asks if someone enters the backrooms somehow. The scene then cuts to a black and white shot of a building, followed by a darkened room. Finally, we see a man in a suit speaking.\n"
     ]
    },
    {
     "name": "stderr",
     "output_type": "stream",
     "text": [
      "/home/ubuntu/.cache/huggingface/modules/transformers_modules/DAMO-NLP-SG/VideoLLaMA3-2B/562961752c456a26c46194130f9479dbb01ee582/modeling_videollama3.py:384: FutureWarning: `num_logits_to_keep` is deprecated and will be removed in version 4.50 for `Videollama3Qwen2ForCausalLM.forward`. Use `logits_to_keep` instead.\n",
      "  return super().forward(\n",
      " 28%|██▊       | 163/579 [04:46<11:43,  1.69s/it]"
     ]
    },
    {
     "name": "stdout",
     "output_type": "stream",
     "text": [
      "The video shows a soccer player in different uniforms, including blue and white, red and white, and red. The camera focuses on his face as he moves around the field.\n"
     ]
    },
    {
     "name": "stderr",
     "output_type": "stream",
     "text": [
      "/home/ubuntu/.cache/huggingface/modules/transformers_modules/DAMO-NLP-SG/VideoLLaMA3-2B/562961752c456a26c46194130f9479dbb01ee582/modeling_videollama3.py:384: FutureWarning: `num_logits_to_keep` is deprecated and will be removed in version 4.50 for `Videollama3Qwen2ForCausalLM.forward`. Use `logits_to_keep` instead.\n",
      "  return super().forward(\n",
      " 28%|██▊       | 164/579 [04:48<11:31,  1.67s/it]"
     ]
    },
    {
     "name": "stdout",
     "output_type": "stream",
     "text": [
      "The video features a young man doing various exercises in a gym. He is seen running, lifting weights and exercising with different equipment such as medicine balls and free weights. The workout includes push-ups, squats, and other strength training exercises.\n"
     ]
    },
    {
     "name": "stderr",
     "output_type": "stream",
     "text": [
      "/home/ubuntu/.cache/huggingface/modules/transformers_modules/DAMO-NLP-SG/VideoLLaMA3-2B/562961752c456a26c46194130f9479dbb01ee582/modeling_videollama3.py:384: FutureWarning: `num_logits_to_keep` is deprecated and will be removed in version 4.50 for `Videollama3Qwen2ForCausalLM.forward`. Use `logits_to_keep` instead.\n",
      "  return super().forward(\n",
      " 28%|██▊       | 165/579 [04:50<12:13,  1.77s/it]"
     ]
    },
    {
     "name": "stdout",
     "output_type": "stream",
     "text": [
      "The video shows two fighters standing in a ring with their hands down. They are wearing gloves and appear to be ready for the fight. The referee is present, making sure they do not touch each other's face before starting. As soon as the bell rings, both men start fighting by throwing punches at each other.\n"
     ]
    },
    {
     "name": "stderr",
     "output_type": "stream",
     "text": [
      "/home/ubuntu/.cache/huggingface/modules/transformers_modules/DAMO-NLP-SG/VideoLLaMA3-2B/562961752c456a26c46194130f9479dbb01ee582/modeling_videollama3.py:384: FutureWarning: `num_logits_to_keep` is deprecated and will be removed in version 4.50 for `Videollama3Qwen2ForCausalLM.forward`. Use `logits_to_keep` instead.\n",
      "  return super().forward(\n",
      " 29%|██▊       | 166/579 [04:52<13:11,  1.92s/it]"
     ]
    },
    {
     "name": "stdout",
     "output_type": "stream",
     "text": [
      "The video shows two men sitting at a table. One of the men is wearing a black suit and glasses, while the other man has a beard and is dressed in white. They are having a conversation with each other. The camera then cuts to a split screen showing one of the men talking on television. There is also a picture of a swimming competition happening behind him.\n"
     ]
    },
    {
     "name": "stderr",
     "output_type": "stream",
     "text": [
      "/home/ubuntu/.cache/huggingface/modules/transformers_modules/DAMO-NLP-SG/VideoLLaMA3-2B/562961752c456a26c46194130f9479dbb01ee582/modeling_videollama3.py:384: FutureWarning: `num_logits_to_keep` is deprecated and will be removed in version 4.50 for `Videollama3Qwen2ForCausalLM.forward`. Use `logits_to_keep` instead.\n",
      "  return super().forward(\n",
      " 29%|██▉       | 167/579 [04:54<12:24,  1.81s/it]"
     ]
    },
    {
     "name": "stdout",
     "output_type": "stream",
     "text": [
      "The video shows a man in various sports uniforms celebrating and hugging other players. The captions mention his retirement from soccer at the age of 36, as well as his career highlights and achievements throughout his playing years.\n"
     ]
    },
    {
     "name": "stderr",
     "output_type": "stream",
     "text": [
      "/home/ubuntu/.cache/huggingface/modules/transformers_modules/DAMO-NLP-SG/VideoLLaMA3-2B/562961752c456a26c46194130f9479dbb01ee582/modeling_videollama3.py:384: FutureWarning: `num_logits_to_keep` is deprecated and will be removed in version 4.50 for `Videollama3Qwen2ForCausalLM.forward`. Use `logits_to_keep` instead.\n",
      "  return super().forward(\n",
      " 29%|██▉       | 168/579 [04:55<11:44,  1.71s/it]"
     ]
    },
    {
     "name": "stdout",
     "output_type": "stream",
     "text": [
      "The video shows a cricket match in progress. One player is seen running while another bats and hits the ball into the field. The camera captures the action from different angles, including close-ups of players on the field.\n"
     ]
    },
    {
     "name": "stderr",
     "output_type": "stream",
     "text": [
      "/home/ubuntu/.cache/huggingface/modules/transformers_modules/DAMO-NLP-SG/VideoLLaMA3-2B/562961752c456a26c46194130f9479dbb01ee582/modeling_videollama3.py:384: FutureWarning: `num_logits_to_keep` is deprecated and will be removed in version 4.50 for `Videollama3Qwen2ForCausalLM.forward`. Use `logits_to_keep` instead.\n",
      "  return super().forward(\n",
      " 29%|██▉       | 169/579 [04:57<10:38,  1.56s/it]"
     ]
    },
    {
     "name": "stdout",
     "output_type": "stream",
     "text": [
      "The video shows a man wearing basketball jerseys, playing basketball with other players. It also features Sabrina Ionescu shooting three-point shots during a game.\n"
     ]
    },
    {
     "name": "stderr",
     "output_type": "stream",
     "text": [
      "/home/ubuntu/.cache/huggingface/modules/transformers_modules/DAMO-NLP-SG/VideoLLaMA3-2B/562961752c456a26c46194130f9479dbb01ee582/modeling_videollama3.py:384: FutureWarning: `num_logits_to_keep` is deprecated and will be removed in version 4.50 for `Videollama3Qwen2ForCausalLM.forward`. Use `logits_to_keep` instead.\n",
      "  return super().forward(\n",
      " 29%|██▉       | 170/579 [04:59<11:32,  1.69s/it]"
     ]
    },
    {
     "name": "stdout",
     "output_type": "stream",
     "text": [
      "The video starts with a scoreboard showing the information for an upcoming horse race. Then, we see people getting ready to enter the track on their horses while others are already there. As the gate opens, all of the horses start running around the track and racing each other. The sound of hooves hitting the ground can be heard as they gallop along.\n"
     ]
    },
    {
     "name": "stderr",
     "output_type": "stream",
     "text": [
      "/home/ubuntu/.cache/huggingface/modules/transformers_modules/DAMO-NLP-SG/VideoLLaMA3-2B/562961752c456a26c46194130f9479dbb01ee582/modeling_videollama3.py:384: FutureWarning: `num_logits_to_keep` is deprecated and will be removed in version 4.50 for `Videollama3Qwen2ForCausalLM.forward`. Use `logits_to_keep` instead.\n",
      "  return super().forward(\n",
      " 30%|██▉       | 171/579 [05:00<11:30,  1.69s/it]"
     ]
    },
    {
     "name": "stdout",
     "output_type": "stream",
     "text": [
      "In the video, a man wearing black is demonstrating martial arts moves in his home. He starts by doing some kicks and then goes on to do more advanced movements like spinning kicks. There are also other people in the room who watch him perform these moves.\n"
     ]
    },
    {
     "name": "stderr",
     "output_type": "stream",
     "text": [
      "/home/ubuntu/.cache/huggingface/modules/transformers_modules/DAMO-NLP-SG/VideoLLaMA3-2B/562961752c456a26c46194130f9479dbb01ee582/modeling_videollama3.py:384: FutureWarning: `num_logits_to_keep` is deprecated and will be removed in version 4.50 for `Videollama3Qwen2ForCausalLM.forward`. Use `logits_to_keep` instead.\n",
      "  return super().forward(\n",
      " 30%|██▉       | 172/579 [05:03<14:12,  2.10s/it]"
     ]
    },
    {
     "name": "stdout",
     "output_type": "stream",
     "text": [
      "The video shows a soccer game in progress. The players are wearing white and blue uniforms, with the goalkeeper dressed in orange. They are playing on an outdoor field during the day. There is a large crowd of people watching the game from the stands. At one point, a player kicks the ball into the goal and scores a goal. The other team tries to defend against this shot but they fail. The goalie also makes a save by blocking the shot. The crowd cheers as the players celebrate their victory.\n",
      "QA_GT_caption_based_noisy\n"
     ]
    },
    {
     "name": "stderr",
     "output_type": "stream",
     "text": [
      "/home/ubuntu/.cache/huggingface/modules/transformers_modules/DAMO-NLP-SG/VideoLLaMA3-2B/562961752c456a26c46194130f9479dbb01ee582/modeling_videollama3.py:384: FutureWarning: `num_logits_to_keep` is deprecated and will be removed in version 4.50 for `Videollama3Qwen2ForCausalLM.forward`. Use `logits_to_keep` instead.\n",
      "  return super().forward(\n",
      " 30%|██▉       | 173/579 [05:05<13:46,  2.04s/it]"
     ]
    },
    {
     "name": "stdout",
     "output_type": "stream",
     "text": [
      "The video shows a man in uniform driving a truck and a military vehicle. The camera captures the man from behind as he drives through an area with other trucks parked around him. There is also footage of another man standing next to a large military truck while it's being transported on a flatbed trailer.\n"
     ]
    },
    {
     "name": "stderr",
     "output_type": "stream",
     "text": [
      "/home/ubuntu/.cache/huggingface/modules/transformers_modules/DAMO-NLP-SG/VideoLLaMA3-2B/562961752c456a26c46194130f9479dbb01ee582/modeling_videollama3.py:384: FutureWarning: `num_logits_to_keep` is deprecated and will be removed in version 4.50 for `Videollama3Qwen2ForCausalLM.forward`. Use `logits_to_keep` instead.\n",
      "  return super().forward(\n",
      " 30%|███       | 174/579 [05:07<12:51,  1.91s/it]"
     ]
    },
    {
     "name": "stdout",
     "output_type": "stream",
     "text": [
      "The video starts with a red and yellow shield on the screen. Then, there is a man wearing a red hat who talks about Manchester United while holding his hands together. There are also several other people in different positions throughout the video.\n"
     ]
    },
    {
     "name": "stderr",
     "output_type": "stream",
     "text": [
      "/home/ubuntu/.cache/huggingface/modules/transformers_modules/DAMO-NLP-SG/VideoLLaMA3-2B/562961752c456a26c46194130f9479dbb01ee582/modeling_videollama3.py:384: FutureWarning: `num_logits_to_keep` is deprecated and will be removed in version 4.50 for `Videollama3Qwen2ForCausalLM.forward`. Use `logits_to_keep` instead.\n",
      "  return super().forward(\n",
      " 30%|███       | 175/579 [05:10<16:22,  2.43s/it]"
     ]
    },
    {
     "name": "stdout",
     "output_type": "stream",
     "text": [
      "In the video, there are several scenes where different people interact with objects and each other. The main focus is on a man in a red hat who is seen touching an electronic board while wearing a black coat and a face mask. There is also a scene of three men dancing together inside a building. Another man can be seen putting wires into his pocket as he walks through a room. In another scene, two men are standing next to each other before one of them holds up some pictures for the camera to see. Additionally, there is a scene where three men are shown smiling at the camera. Overall, the video captures various interactions between individuals in different settings.\n"
     ]
    },
    {
     "name": "stderr",
     "output_type": "stream",
     "text": [
      "/home/ubuntu/.cache/huggingface/modules/transformers_modules/DAMO-NLP-SG/VideoLLaMA3-2B/562961752c456a26c46194130f9479dbb01ee582/modeling_videollama3.py:384: FutureWarning: `num_logits_to_keep` is deprecated and will be removed in version 4.50 for `Videollama3Qwen2ForCausalLM.forward`. Use `logits_to_keep` instead.\n",
      "  return super().forward(\n",
      " 30%|███       | 176/579 [05:12<15:33,  2.32s/it]"
     ]
    },
    {
     "name": "stdout",
     "output_type": "stream",
     "text": [
      "In the video, we see Spider-Woman flying through the air with her arms outstretched. The comic book panel shows Spider-Woman being attacked by a group of men while others watch in horror. She is then shown fighting a man who has his hands on another man's throat and knocking him to the ground.\n"
     ]
    },
    {
     "name": "stderr",
     "output_type": "stream",
     "text": [
      "/home/ubuntu/.cache/huggingface/modules/transformers_modules/DAMO-NLP-SG/VideoLLaMA3-2B/562961752c456a26c46194130f9479dbb01ee582/modeling_videollama3.py:384: FutureWarning: `num_logits_to_keep` is deprecated and will be removed in version 4.50 for `Videollama3Qwen2ForCausalLM.forward`. Use `logits_to_keep` instead.\n",
      "  return super().forward(\n",
      " 31%|███       | 177/579 [05:15<15:46,  2.35s/it]"
     ]
    },
    {
     "name": "stdout",
     "output_type": "stream",
     "text": [
      "The video shows a series of events that take place at the WWE arena. It starts with an intro screen and then cuts to various scenes inside the arena, including fireworks, pyrotechnics, and explosions. The video also includes footage of wrestlers fighting in the ring, as well as shots of people running around on stage. Overall, it provides a glimpse into the excitement and energy of a WWE event.\n"
     ]
    },
    {
     "name": "stderr",
     "output_type": "stream",
     "text": [
      "/home/ubuntu/.cache/huggingface/modules/transformers_modules/DAMO-NLP-SG/VideoLLaMA3-2B/562961752c456a26c46194130f9479dbb01ee582/modeling_videollama3.py:384: FutureWarning: `num_logits_to_keep` is deprecated and will be removed in version 4.50 for `Videollama3Qwen2ForCausalLM.forward`. Use `logits_to_keep` instead.\n",
      "  return super().forward(\n",
      " 31%|███       | 178/579 [05:17<15:02,  2.25s/it]"
     ]
    },
    {
     "name": "stdout",
     "output_type": "stream",
     "text": [
      "The video shows a cartoon character screaming and the words \"cancel\" appearing on the screen. It then switches to another scene where two characters are shown in a room with the word \"cancel\" written across it, followed by several different scenes of people yelling at each other while the word \"cancel\" is displayed on the screen.\n"
     ]
    },
    {
     "name": "stderr",
     "output_type": "stream",
     "text": [
      "/home/ubuntu/.cache/huggingface/modules/transformers_modules/DAMO-NLP-SG/VideoLLaMA3-2B/562961752c456a26c46194130f9479dbb01ee582/modeling_videollama3.py:384: FutureWarning: `num_logits_to_keep` is deprecated and will be removed in version 4.50 for `Videollama3Qwen2ForCausalLM.forward`. Use `logits_to_keep` instead.\n",
      "  return super().forward(\n",
      " 31%|███       | 179/579 [05:19<13:48,  2.07s/it]"
     ]
    },
    {
     "name": "stdout",
     "output_type": "stream",
     "text": [
      "The video shows a fight between two men. One of the men is wearing yellow shorts and is attacking another man who has white pants on. The man in yellow shorts hits his opponent several times, and then they both stand up to continue fighting.\n"
     ]
    },
    {
     "name": "stderr",
     "output_type": "stream",
     "text": [
      "/home/ubuntu/.cache/huggingface/modules/transformers_modules/DAMO-NLP-SG/VideoLLaMA3-2B/562961752c456a26c46194130f9479dbb01ee582/modeling_videollama3.py:384: FutureWarning: `num_logits_to_keep` is deprecated and will be removed in version 4.50 for `Videollama3Qwen2ForCausalLM.forward`. Use `logits_to_keep` instead.\n",
      "  return super().forward(\n",
      " 31%|███       | 180/579 [05:20<12:52,  1.94s/it]"
     ]
    },
    {
     "name": "stdout",
     "output_type": "stream",
     "text": [
      "The video shows a military man who is wearing a camouflage uniform and carrying his bag as he walks through the doors of a building. The background music in the video is loud, and there are various signs with different colors displayed throughout the scene.\n"
     ]
    },
    {
     "name": "stderr",
     "output_type": "stream",
     "text": [
      "/home/ubuntu/.cache/huggingface/modules/transformers_modules/DAMO-NLP-SG/VideoLLaMA3-2B/562961752c456a26c46194130f9479dbb01ee582/modeling_videollama3.py:384: FutureWarning: `num_logits_to_keep` is deprecated and will be removed in version 4.50 for `Videollama3Qwen2ForCausalLM.forward`. Use `logits_to_keep` instead.\n",
      "  return super().forward(\n",
      " 31%|███▏      | 181/579 [05:22<12:43,  1.92s/it]"
     ]
    },
    {
     "name": "stdout",
     "output_type": "stream",
     "text": [
      "The video shows a group of kids wearing helmets and holding scooters. They are seen riding the scooters around an indoor skate park, doing tricks on ramps and hills, and jumping over obstacles. Some of them also ride their scooters outdoors in various locations like a beach and a road.\n"
     ]
    },
    {
     "name": "stderr",
     "output_type": "stream",
     "text": [
      "/home/ubuntu/.cache/huggingface/modules/transformers_modules/DAMO-NLP-SG/VideoLLaMA3-2B/562961752c456a26c46194130f9479dbb01ee582/modeling_videollama3.py:384: FutureWarning: `num_logits_to_keep` is deprecated and will be removed in version 4.50 for `Videollama3Qwen2ForCausalLM.forward`. Use `logits_to_keep` instead.\n",
      "  return super().forward(\n",
      " 31%|███▏      | 182/579 [05:23<10:59,  1.66s/it]"
     ]
    },
    {
     "name": "stdout",
     "output_type": "stream",
     "text": [
      "In the video, a group of people are playing cricket. They throw a ball and then run to celebrate when someone hits it.\n"
     ]
    },
    {
     "name": "stderr",
     "output_type": "stream",
     "text": [
      "/home/ubuntu/.cache/huggingface/modules/transformers_modules/DAMO-NLP-SG/VideoLLaMA3-2B/562961752c456a26c46194130f9479dbb01ee582/modeling_videollama3.py:384: FutureWarning: `num_logits_to_keep` is deprecated and will be removed in version 4.50 for `Videollama3Qwen2ForCausalLM.forward`. Use `logits_to_keep` instead.\n",
      "  return super().forward(\n",
      " 32%|███▏      | 183/579 [05:25<10:36,  1.61s/it]"
     ]
    },
    {
     "name": "stdout",
     "output_type": "stream",
     "text": [
      "The video shows a motorcycle pit stop with several people in orange jackets working on the bike. The scene is set at Phillip Island in 2000, and it includes an Australian flag waving in the background.\n"
     ]
    },
    {
     "name": "stderr",
     "output_type": "stream",
     "text": [
      "/home/ubuntu/.cache/huggingface/modules/transformers_modules/DAMO-NLP-SG/VideoLLaMA3-2B/562961752c456a26c46194130f9479dbb01ee582/modeling_videollama3.py:384: FutureWarning: `num_logits_to_keep` is deprecated and will be removed in version 4.50 for `Videollama3Qwen2ForCausalLM.forward`. Use `logits_to_keep` instead.\n",
      "  return super().forward(\n",
      " 32%|███▏      | 184/579 [05:26<09:33,  1.45s/it]"
     ]
    },
    {
     "name": "stdout",
     "output_type": "stream",
     "text": [
      "The video shows a young man working out in a gym. He is doing squats with weights and then proceeds to do bench presses.\n"
     ]
    },
    {
     "name": "stderr",
     "output_type": "stream",
     "text": [
      "/home/ubuntu/.cache/huggingface/modules/transformers_modules/DAMO-NLP-SG/VideoLLaMA3-2B/562961752c456a26c46194130f9479dbb01ee582/modeling_videollama3.py:384: FutureWarning: `num_logits_to_keep` is deprecated and will be removed in version 4.50 for `Videollama3Qwen2ForCausalLM.forward`. Use `logits_to_keep` instead.\n",
      "  return super().forward(\n",
      " 32%|███▏      | 185/579 [05:27<09:00,  1.37s/it]"
     ]
    },
    {
     "name": "stdout",
     "output_type": "stream",
     "text": [
      "The video shows a man with a beard who is practicing football. He is seen running drills, doing stretches and working out with weights in an indoor facility.\n"
     ]
    },
    {
     "name": "stderr",
     "output_type": "stream",
     "text": [
      "/home/ubuntu/.cache/huggingface/modules/transformers_modules/DAMO-NLP-SG/VideoLLaMA3-2B/562961752c456a26c46194130f9479dbb01ee582/modeling_videollama3.py:384: FutureWarning: `num_logits_to_keep` is deprecated and will be removed in version 4.50 for `Videollama3Qwen2ForCausalLM.forward`. Use `logits_to_keep` instead.\n",
      "  return super().forward(\n",
      " 32%|███▏      | 186/579 [05:29<10:05,  1.54s/it]"
     ]
    },
    {
     "name": "stdout",
     "output_type": "stream",
     "text": [
      "The video shows a man teaching his son how to swim in a pool. There is also a boy swimming with the help of an inflatable device and another boy being helped by a man while he swims on a float. The video demonstrates proper swimming techniques for children, as well as some fun moments at the pool.\n"
     ]
    },
    {
     "name": "stderr",
     "output_type": "stream",
     "text": [
      "/home/ubuntu/.cache/huggingface/modules/transformers_modules/DAMO-NLP-SG/VideoLLaMA3-2B/562961752c456a26c46194130f9479dbb01ee582/modeling_videollama3.py:384: FutureWarning: `num_logits_to_keep` is deprecated and will be removed in version 4.50 for `Videollama3Qwen2ForCausalLM.forward`. Use `logits_to_keep` instead.\n",
      "  return super().forward(\n",
      " 32%|███▏      | 187/579 [05:30<09:33,  1.46s/it]"
     ]
    },
    {
     "name": "stdout",
     "output_type": "stream",
     "text": [
      "In the video, a man is seen interviewing a young boy who is wearing a soccer jersey. The interviewer holds up his hand to signal for silence while speaking into a microphone.\n"
     ]
    },
    {
     "name": "stderr",
     "output_type": "stream",
     "text": [
      "/home/ubuntu/.cache/huggingface/modules/transformers_modules/DAMO-NLP-SG/VideoLLaMA3-2B/562961752c456a26c46194130f9479dbb01ee582/modeling_videollama3.py:384: FutureWarning: `num_logits_to_keep` is deprecated and will be removed in version 4.50 for `Videollama3Qwen2ForCausalLM.forward`. Use `logits_to_keep` instead.\n",
      "  return super().forward(\n",
      " 32%|███▏      | 188/579 [05:32<09:48,  1.51s/it]"
     ]
    },
    {
     "name": "stdout",
     "output_type": "stream",
     "text": [
      "In the video, there is a man sitting in an audience and talking about his experience. He mentions that he was told how much money each player made in the NFL. The man then shows off some of his merchandise related to football players.\n"
     ]
    },
    {
     "name": "stderr",
     "output_type": "stream",
     "text": [
      "/home/ubuntu/.cache/huggingface/modules/transformers_modules/DAMO-NLP-SG/VideoLLaMA3-2B/562961752c456a26c46194130f9479dbb01ee582/modeling_videollama3.py:384: FutureWarning: `num_logits_to_keep` is deprecated and will be removed in version 4.50 for `Videollama3Qwen2ForCausalLM.forward`. Use `logits_to_keep` instead.\n",
      "  return super().forward(\n",
      " 33%|███▎      | 189/579 [05:33<09:17,  1.43s/it]"
     ]
    },
    {
     "name": "stdout",
     "output_type": "stream",
     "text": [
      "The video shows a man in an orange and grey jacket talking on the football field. Then, he demonstrates how to split dodge using a lacrosse stick while explaining it.\n"
     ]
    },
    {
     "name": "stderr",
     "output_type": "stream",
     "text": [
      "/home/ubuntu/.cache/huggingface/modules/transformers_modules/DAMO-NLP-SG/VideoLLaMA3-2B/562961752c456a26c46194130f9479dbb01ee582/modeling_videollama3.py:384: FutureWarning: `num_logits_to_keep` is deprecated and will be removed in version 4.50 for `Videollama3Qwen2ForCausalLM.forward`. Use `logits_to_keep` instead.\n",
      "  return super().forward(\n",
      " 33%|███▎      | 190/579 [05:35<09:27,  1.46s/it]"
     ]
    },
    {
     "name": "stdout",
     "output_type": "stream",
     "text": [
      "In the video, a woman is seen walking through various locations. She first walks down a hallway with other people and then passes by an art gallery. After that, she goes outside to ride her bike on a bridge.\n"
     ]
    },
    {
     "name": "stderr",
     "output_type": "stream",
     "text": [
      "/home/ubuntu/.cache/huggingface/modules/transformers_modules/DAMO-NLP-SG/VideoLLaMA3-2B/562961752c456a26c46194130f9479dbb01ee582/modeling_videollama3.py:384: FutureWarning: `num_logits_to_keep` is deprecated and will be removed in version 4.50 for `Videollama3Qwen2ForCausalLM.forward`. Use `logits_to_keep` instead.\n",
      "  return super().forward(\n",
      " 33%|███▎      | 191/579 [05:36<09:20,  1.45s/it]"
     ]
    },
    {
     "name": "stdout",
     "output_type": "stream",
     "text": [
      "The video shows a basketball game where two players are playing. One player is holding the other's face while they talk to each other. The opposing team is watching and commenting on what is happening.\n"
     ]
    },
    {
     "name": "stderr",
     "output_type": "stream",
     "text": [
      "/home/ubuntu/.cache/huggingface/modules/transformers_modules/DAMO-NLP-SG/VideoLLaMA3-2B/562961752c456a26c46194130f9479dbb01ee582/modeling_videollama3.py:384: FutureWarning: `num_logits_to_keep` is deprecated and will be removed in version 4.50 for `Videollama3Qwen2ForCausalLM.forward`. Use `logits_to_keep` instead.\n",
      "  return super().forward(\n",
      " 33%|███▎      | 192/579 [05:38<10:20,  1.60s/it]"
     ]
    },
    {
     "name": "stdout",
     "output_type": "stream",
     "text": [
      "The video shows a man in a blue shirt and shorts walking on the grass. He is holding his hands out to the sides while talking to another person who is standing next to him. The camera then cuts to two men wearing yellow shirts, one of whom is balding. They are having a conversation with each other.\n"
     ]
    },
    {
     "name": "stderr",
     "output_type": "stream",
     "text": [
      "/home/ubuntu/.cache/huggingface/modules/transformers_modules/DAMO-NLP-SG/VideoLLaMA3-2B/562961752c456a26c46194130f9479dbb01ee582/modeling_videollama3.py:384: FutureWarning: `num_logits_to_keep` is deprecated and will be removed in version 4.50 for `Videollama3Qwen2ForCausalLM.forward`. Use `logits_to_keep` instead.\n",
      "  return super().forward(\n",
      " 33%|███▎      | 193/579 [05:40<12:04,  1.88s/it]"
     ]
    },
    {
     "name": "stdout",
     "output_type": "stream",
     "text": [
      "The video shows a group of cars racing on a track. At the start, there are 20 cars lined up and ready to go. As soon as they begin moving forward, some of them collide with each other in slow motion. The collisions cause sparks to fly from the vehicles. There is also smoke coming out of one of the cars that gets hit. Overall, it seems like an exciting race with intense crashes.\n"
     ]
    },
    {
     "name": "stderr",
     "output_type": "stream",
     "text": [
      "/home/ubuntu/.cache/huggingface/modules/transformers_modules/DAMO-NLP-SG/VideoLLaMA3-2B/562961752c456a26c46194130f9479dbb01ee582/modeling_videollama3.py:384: FutureWarning: `num_logits_to_keep` is deprecated and will be removed in version 4.50 for `Videollama3Qwen2ForCausalLM.forward`. Use `logits_to_keep` instead.\n",
      "  return super().forward(\n",
      " 34%|███▎      | 194/579 [05:43<13:03,  2.03s/it]"
     ]
    },
    {
     "name": "stdout",
     "output_type": "stream",
     "text": [
      "The video shows a group of young men playing soccer on an outdoor field. They are wearing red and green uniforms, with some players in striped shirts. The game is being officiated by three referees who are also dressed in black. As the match progresses, more players join in, including children from different age groups. Eventually, two teams compete against each other as they pass the ball to score goals.\n"
     ]
    },
    {
     "name": "stderr",
     "output_type": "stream",
     "text": [
      "/home/ubuntu/.cache/huggingface/modules/transformers_modules/DAMO-NLP-SG/VideoLLaMA3-2B/562961752c456a26c46194130f9479dbb01ee582/modeling_videollama3.py:384: FutureWarning: `num_logits_to_keep` is deprecated and will be removed in version 4.50 for `Videollama3Qwen2ForCausalLM.forward`. Use `logits_to_keep` instead.\n",
      "  return super().forward(\n",
      " 34%|███▎      | 195/579 [05:46<14:45,  2.31s/it]"
     ]
    },
    {
     "name": "stdout",
     "output_type": "stream",
     "text": [
      "The video is about a girl who loves to play football. It starts with an opening title screen and then shows several pictures of the girl playing football, including her wearing different uniforms such as a green soccer uniform and a black shirt. The video also features various images related to football, like a person holding a trophy, a woman in a striped shirt, and a picture of a house on the side of a road. In addition, there are stills from the game, showing players kicking the ball or doing tricks.\n"
     ]
    },
    {
     "name": "stderr",
     "output_type": "stream",
     "text": [
      "/home/ubuntu/.cache/huggingface/modules/transformers_modules/DAMO-NLP-SG/VideoLLaMA3-2B/562961752c456a26c46194130f9479dbb01ee582/modeling_videollama3.py:384: FutureWarning: `num_logits_to_keep` is deprecated and will be removed in version 4.50 for `Videollama3Qwen2ForCausalLM.forward`. Use `logits_to_keep` instead.\n",
      "  return super().forward(\n",
      " 34%|███▍      | 196/579 [05:48<14:11,  2.22s/it]"
     ]
    },
    {
     "name": "stdout",
     "output_type": "stream",
     "text": [
      "In the video, there are two men sitting in front of a microphone. One man is wearing headphones and speaking into the microphone while gesturing with his hands. The other man, who has sunglasses on top of his head, is also talking into the same microphone. They seem to be having an interview or recording a podcast.\n"
     ]
    },
    {
     "name": "stderr",
     "output_type": "stream",
     "text": [
      "/home/ubuntu/.cache/huggingface/modules/transformers_modules/DAMO-NLP-SG/VideoLLaMA3-2B/562961752c456a26c46194130f9479dbb01ee582/modeling_videollama3.py:384: FutureWarning: `num_logits_to_keep` is deprecated and will be removed in version 4.50 for `Videollama3Qwen2ForCausalLM.forward`. Use `logits_to_keep` instead.\n",
      "  return super().forward(\n",
      " 34%|███▍      | 197/579 [05:49<12:18,  1.93s/it]"
     ]
    },
    {
     "name": "stdout",
     "output_type": "stream",
     "text": [
      "In the video, a baseball game is being played. A batter hits the ball and runs to first base. The pitcher throws another pitch while the catcher catches it.\n"
     ]
    },
    {
     "name": "stderr",
     "output_type": "stream",
     "text": [
      "/home/ubuntu/.cache/huggingface/modules/transformers_modules/DAMO-NLP-SG/VideoLLaMA3-2B/562961752c456a26c46194130f9479dbb01ee582/modeling_videollama3.py:384: FutureWarning: `num_logits_to_keep` is deprecated and will be removed in version 4.50 for `Videollama3Qwen2ForCausalLM.forward`. Use `logits_to_keep` instead.\n",
      "  return super().forward(\n",
      " 34%|███▍      | 198/579 [05:52<14:56,  2.35s/it]"
     ]
    },
    {
     "name": "stdout",
     "output_type": "stream",
     "text": [
      "The video shows a NASCAR race with several cars on the track. It starts with a shot of the pit road and then transitions to an aerial view of the track, where we see cars racing around corners and passing each other. The camera focuses on two trucks that collide head-on in the middle of the track. Sparks fly as they hit each other, and smoke is emitted from both vehicles. The collision causes one truck to flip over while the other remains upright but damaged. The video ends with the aftermath of the crash, showing the two trucks stopped on the track surrounded by sparks and smoke.\n"
     ]
    },
    {
     "name": "stderr",
     "output_type": "stream",
     "text": [
      "/home/ubuntu/.cache/huggingface/modules/transformers_modules/DAMO-NLP-SG/VideoLLaMA3-2B/562961752c456a26c46194130f9479dbb01ee582/modeling_videollama3.py:384: FutureWarning: `num_logits_to_keep` is deprecated and will be removed in version 4.50 for `Videollama3Qwen2ForCausalLM.forward`. Use `logits_to_keep` instead.\n",
      "  return super().forward(\n",
      " 34%|███▍      | 199/579 [05:54<12:34,  1.99s/it]"
     ]
    },
    {
     "name": "stdout",
     "output_type": "stream",
     "text": [
      "A man is standing against a wall talking on his phone. He takes out a donut from his pocket and eats it while continuing the conversation.\n"
     ]
    },
    {
     "name": "stderr",
     "output_type": "stream",
     "text": [
      "/home/ubuntu/.cache/huggingface/modules/transformers_modules/DAMO-NLP-SG/VideoLLaMA3-2B/562961752c456a26c46194130f9479dbb01ee582/modeling_videollama3.py:384: FutureWarning: `num_logits_to_keep` is deprecated and will be removed in version 4.50 for `Videollama3Qwen2ForCausalLM.forward`. Use `logits_to_keep` instead.\n",
      "  return super().forward(\n",
      " 35%|███▍      | 200/579 [05:55<11:04,  1.75s/it]"
     ]
    },
    {
     "name": "stdout",
     "output_type": "stream",
     "text": [
      "A man in armor is standing outside a stadium, watching another man enter the arena. The crowd cheers as they watch the two men fight with swords and shields.\n"
     ]
    },
    {
     "name": "stderr",
     "output_type": "stream",
     "text": [
      "/home/ubuntu/.cache/huggingface/modules/transformers_modules/DAMO-NLP-SG/VideoLLaMA3-2B/562961752c456a26c46194130f9479dbb01ee582/modeling_videollama3.py:384: FutureWarning: `num_logits_to_keep` is deprecated and will be removed in version 4.50 for `Videollama3Qwen2ForCausalLM.forward`. Use `logits_to_keep` instead.\n",
      "  return super().forward(\n",
      " 35%|███▍      | 201/579 [05:56<10:41,  1.70s/it]"
     ]
    },
    {
     "name": "stdout",
     "output_type": "stream",
     "text": [
      "The video shows a cheerleading team in uniform performing on the football field. They are holding up white and red signs with letters on them, cheering for their school's football game. The crowd is also cheering along with the team.\n"
     ]
    },
    {
     "name": "stderr",
     "output_type": "stream",
     "text": [
      "/home/ubuntu/.cache/huggingface/modules/transformers_modules/DAMO-NLP-SG/VideoLLaMA3-2B/562961752c456a26c46194130f9479dbb01ee582/modeling_videollama3.py:384: FutureWarning: `num_logits_to_keep` is deprecated and will be removed in version 4.50 for `Videollama3Qwen2ForCausalLM.forward`. Use `logits_to_keep` instead.\n",
      "  return super().forward(\n",
      " 35%|███▍      | 202/579 [05:57<09:09,  1.46s/it]"
     ]
    },
    {
     "name": "stdout",
     "output_type": "stream",
     "text": [
      "The video shows a doctor examining a man and then talking about the responsibilities of being a doctor.\n"
     ]
    },
    {
     "name": "stderr",
     "output_type": "stream",
     "text": [
      "/home/ubuntu/.cache/huggingface/modules/transformers_modules/DAMO-NLP-SG/VideoLLaMA3-2B/562961752c456a26c46194130f9479dbb01ee582/modeling_videollama3.py:384: FutureWarning: `num_logits_to_keep` is deprecated and will be removed in version 4.50 for `Videollama3Qwen2ForCausalLM.forward`. Use `logits_to_keep` instead.\n",
      "  return super().forward(\n",
      " 35%|███▌      | 203/579 [05:59<09:21,  1.49s/it]"
     ]
    },
    {
     "name": "stdout",
     "output_type": "stream",
     "text": [
      "The video shows a soccer match between Australia and Indonesia. The teams are playing on the field, and there is a referee present who is giving signals to the players. The crowd is cheering for their team while sitting in the stadium stands.\n"
     ]
    },
    {
     "name": "stderr",
     "output_type": "stream",
     "text": [
      "/home/ubuntu/.cache/huggingface/modules/transformers_modules/DAMO-NLP-SG/VideoLLaMA3-2B/562961752c456a26c46194130f9479dbb01ee582/modeling_videollama3.py:384: FutureWarning: `num_logits_to_keep` is deprecated and will be removed in version 4.50 for `Videollama3Qwen2ForCausalLM.forward`. Use `logits_to_keep` instead.\n",
      "  return super().forward(\n",
      " 35%|███▌      | 204/579 [06:00<08:41,  1.39s/it]"
     ]
    },
    {
     "name": "stdout",
     "output_type": "stream",
     "text": [
      "A woman is dancing in front of a gazebo while flexing her muscles. She then dances with a man and poses for the camera.\n"
     ]
    },
    {
     "name": "stderr",
     "output_type": "stream",
     "text": [
      "/home/ubuntu/.cache/huggingface/modules/transformers_modules/DAMO-NLP-SG/VideoLLaMA3-2B/562961752c456a26c46194130f9479dbb01ee582/modeling_videollama3.py:384: FutureWarning: `num_logits_to_keep` is deprecated and will be removed in version 4.50 for `Videollama3Qwen2ForCausalLM.forward`. Use `logits_to_keep` instead.\n",
      "  return super().forward(\n",
      " 35%|███▌      | 205/579 [06:02<09:14,  1.48s/it]"
     ]
    },
    {
     "name": "stdout",
     "output_type": "stream",
     "text": [
      "The video shows a man in a white t-shirt talking to the camera, and then it cuts to an exterior shot of the Sydney Opera House. The man is seen sitting on the ground with his head down while another person sits behind him using a laptop.\n"
     ]
    },
    {
     "name": "stderr",
     "output_type": "stream",
     "text": [
      "/home/ubuntu/.cache/huggingface/modules/transformers_modules/DAMO-NLP-SG/VideoLLaMA3-2B/562961752c456a26c46194130f9479dbb01ee582/modeling_videollama3.py:384: FutureWarning: `num_logits_to_keep` is deprecated and will be removed in version 4.50 for `Videollama3Qwen2ForCausalLM.forward`. Use `logits_to_keep` instead.\n",
      "  return super().forward(\n",
      " 36%|███▌      | 206/579 [06:04<10:39,  1.71s/it]"
     ]
    },
    {
     "name": "stdout",
     "output_type": "stream",
     "text": [
      "The video is about two people, one wearing a hood and the other with a blue arrow on his forehead. They are in different scenes and at different times of day. In one scene, they are shown flying through the air while holding hands. There is also a scene where they are standing next to each other. The video has an intro and outro screen as well.\n"
     ]
    },
    {
     "name": "stderr",
     "output_type": "stream",
     "text": [
      "/home/ubuntu/.cache/huggingface/modules/transformers_modules/DAMO-NLP-SG/VideoLLaMA3-2B/562961752c456a26c46194130f9479dbb01ee582/modeling_videollama3.py:384: FutureWarning: `num_logits_to_keep` is deprecated and will be removed in version 4.50 for `Videollama3Qwen2ForCausalLM.forward`. Use `logits_to_keep` instead.\n",
      "  return super().forward(\n",
      " 36%|███▌      | 207/579 [06:06<10:48,  1.74s/it]"
     ]
    },
    {
     "name": "stdout",
     "output_type": "stream",
     "text": [
      "The video is about a pink star character who is an animator. The video starts with the introduction of the character and then shows her working on animation. She draws a yellow star, which is also smiling. There are other objects in the video such as a television set, camera, and toys.\n"
     ]
    },
    {
     "name": "stderr",
     "output_type": "stream",
     "text": [
      "/home/ubuntu/.cache/huggingface/modules/transformers_modules/DAMO-NLP-SG/VideoLLaMA3-2B/562961752c456a26c46194130f9479dbb01ee582/modeling_videollama3.py:384: FutureWarning: `num_logits_to_keep` is deprecated and will be removed in version 4.50 for `Videollama3Qwen2ForCausalLM.forward`. Use `logits_to_keep` instead.\n",
      "  return super().forward(\n",
      " 36%|███▌      | 208/579 [06:07<10:24,  1.68s/it]"
     ]
    },
    {
     "name": "stdout",
     "output_type": "stream",
     "text": [
      "The video shows a man with long hair singing into a microphone, followed by a scene of the same man in a dark room. Then it cuts to a shot of a mansion and then back to the man sitting on a throne.\n"
     ]
    },
    {
     "name": "stderr",
     "output_type": "stream",
     "text": [
      "/home/ubuntu/.cache/huggingface/modules/transformers_modules/DAMO-NLP-SG/VideoLLaMA3-2B/562961752c456a26c46194130f9479dbb01ee582/modeling_videollama3.py:384: FutureWarning: `num_logits_to_keep` is deprecated and will be removed in version 4.50 for `Videollama3Qwen2ForCausalLM.forward`. Use `logits_to_keep` instead.\n",
      "  return super().forward(\n",
      " 36%|███▌      | 209/579 [06:10<12:22,  2.01s/it]"
     ]
    },
    {
     "name": "stdout",
     "output_type": "stream",
     "text": [
      "The video shows a group of men sitting on the bench and talking. They are wearing purple jerseys, and there is one man in black clothes who seems to be their coach. The scene then transitions to a soccer field where they are playing against each other. There are two teams - one team is wearing red shirts while the other team is wearing blue shirts. In this particular game, the blue team scores a goal after 58 minutes and 6 seconds into the match.\n"
     ]
    },
    {
     "name": "stderr",
     "output_type": "stream",
     "text": [
      "/home/ubuntu/.cache/huggingface/modules/transformers_modules/DAMO-NLP-SG/VideoLLaMA3-2B/562961752c456a26c46194130f9479dbb01ee582/modeling_videollama3.py:384: FutureWarning: `num_logits_to_keep` is deprecated and will be removed in version 4.50 for `Videollama3Qwen2ForCausalLM.forward`. Use `logits_to_keep` instead.\n",
      "  return super().forward(\n",
      " 36%|███▋      | 210/579 [06:11<11:11,  1.82s/it]"
     ]
    },
    {
     "name": "stdout",
     "output_type": "stream",
     "text": [
      "The video shows a soccer game where the players are lined up at the penalty kick. One player takes the shot, and it goes into the goal. The crowd cheers as he celebrates his success.\n"
     ]
    },
    {
     "name": "stderr",
     "output_type": "stream",
     "text": [
      "/home/ubuntu/.cache/huggingface/modules/transformers_modules/DAMO-NLP-SG/VideoLLaMA3-2B/562961752c456a26c46194130f9479dbb01ee582/modeling_videollama3.py:384: FutureWarning: `num_logits_to_keep` is deprecated and will be removed in version 4.50 for `Videollama3Qwen2ForCausalLM.forward`. Use `logits_to_keep` instead.\n",
      "  return super().forward(\n",
      " 36%|███▋      | 211/579 [06:13<10:55,  1.78s/it]"
     ]
    },
    {
     "name": "stdout",
     "output_type": "stream",
     "text": [
      "The video shows a man in a white shirt standing with his back to the camera. Two people dressed as samurai begin fighting each other, and one of them is being instructed by another person holding sticks. There are also onlookers watching the fight.\n"
     ]
    },
    {
     "name": "stderr",
     "output_type": "stream",
     "text": [
      "/home/ubuntu/.cache/huggingface/modules/transformers_modules/DAMO-NLP-SG/VideoLLaMA3-2B/562961752c456a26c46194130f9479dbb01ee582/modeling_videollama3.py:384: FutureWarning: `num_logits_to_keep` is deprecated and will be removed in version 4.50 for `Videollama3Qwen2ForCausalLM.forward`. Use `logits_to_keep` instead.\n",
      "  return super().forward(\n",
      " 37%|███▋      | 212/579 [06:15<10:23,  1.70s/it]"
     ]
    },
    {
     "name": "stdout",
     "output_type": "stream",
     "text": [
      "The video shows a game of ultimate frisbee between two teams, one wearing red and the other wearing blue. The players are running around on an open field while holding a white frisbee in their hands.\n"
     ]
    },
    {
     "name": "stderr",
     "output_type": "stream",
     "text": [
      "/home/ubuntu/.cache/huggingface/modules/transformers_modules/DAMO-NLP-SG/VideoLLaMA3-2B/562961752c456a26c46194130f9479dbb01ee582/modeling_videollama3.py:384: FutureWarning: `num_logits_to_keep` is deprecated and will be removed in version 4.50 for `Videollama3Qwen2ForCausalLM.forward`. Use `logits_to_keep` instead.\n",
      "  return super().forward(\n",
      " 37%|███▋      | 213/579 [06:16<09:26,  1.55s/it]"
     ]
    },
    {
     "name": "stdout",
     "output_type": "stream",
     "text": [
      "The video shows a woman in an airplane uniform with a pilot, and then transitions to various scenes including people carrying money, flying planes, and other activities.\n"
     ]
    },
    {
     "name": "stderr",
     "output_type": "stream",
     "text": [
      "/home/ubuntu/.cache/huggingface/modules/transformers_modules/DAMO-NLP-SG/VideoLLaMA3-2B/562961752c456a26c46194130f9479dbb01ee582/modeling_videollama3.py:384: FutureWarning: `num_logits_to_keep` is deprecated and will be removed in version 4.50 for `Videollama3Qwen2ForCausalLM.forward`. Use `logits_to_keep` instead.\n",
      "  return super().forward(\n",
      " 37%|███▋      | 214/579 [06:17<08:51,  1.46s/it]"
     ]
    },
    {
     "name": "stdout",
     "output_type": "stream",
     "text": [
      "The video shows a man demonstrating various basketball moves on a court. He is holding a ball and talking about his skills as he performs the moves in front of cones.\n"
     ]
    },
    {
     "name": "stderr",
     "output_type": "stream",
     "text": [
      "/home/ubuntu/.cache/huggingface/modules/transformers_modules/DAMO-NLP-SG/VideoLLaMA3-2B/562961752c456a26c46194130f9479dbb01ee582/modeling_videollama3.py:384: FutureWarning: `num_logits_to_keep` is deprecated and will be removed in version 4.50 for `Videollama3Qwen2ForCausalLM.forward`. Use `logits_to_keep` instead.\n",
      "  return super().forward(\n",
      " 37%|███▋      | 215/579 [06:18<08:17,  1.37s/it]"
     ]
    },
    {
     "name": "stdout",
     "output_type": "stream",
     "text": [
      "The video shows a man getting ready to leave for the day. He is seen putting on his shoes and getting into his car before driving off.\n"
     ]
    },
    {
     "name": "stderr",
     "output_type": "stream",
     "text": [
      "/home/ubuntu/.cache/huggingface/modules/transformers_modules/DAMO-NLP-SG/VideoLLaMA3-2B/562961752c456a26c46194130f9479dbb01ee582/modeling_videollama3.py:384: FutureWarning: `num_logits_to_keep` is deprecated and will be removed in version 4.50 for `Videollama3Qwen2ForCausalLM.forward`. Use `logits_to_keep` instead.\n",
      "  return super().forward(\n",
      " 37%|███▋      | 216/579 [06:20<09:03,  1.50s/it]"
     ]
    },
    {
     "name": "stdout",
     "output_type": "stream",
     "text": [
      "The video shows a woman talking about the track and field stadium. She is standing on the side of the running track, smiling at the camera while wearing a black sleeveless top. The stadium has empty bleachers, palm trees in the background, and a clear blue sky above.\n"
     ]
    },
    {
     "name": "stderr",
     "output_type": "stream",
     "text": [
      "/home/ubuntu/.cache/huggingface/modules/transformers_modules/DAMO-NLP-SG/VideoLLaMA3-2B/562961752c456a26c46194130f9479dbb01ee582/modeling_videollama3.py:384: FutureWarning: `num_logits_to_keep` is deprecated and will be removed in version 4.50 for `Videollama3Qwen2ForCausalLM.forward`. Use `logits_to_keep` instead.\n",
      "  return super().forward(\n",
      " 37%|███▋      | 217/579 [06:21<08:59,  1.49s/it]"
     ]
    },
    {
     "name": "stdout",
     "output_type": "stream",
     "text": [
      "In the video, we see a man dressed as Han Solo from Star Wars standing next to his R2D2 droid. He is speaking into a microphone while another person enters the room and speaks in response.\n"
     ]
    },
    {
     "name": "stderr",
     "output_type": "stream",
     "text": [
      "/home/ubuntu/.cache/huggingface/modules/transformers_modules/DAMO-NLP-SG/VideoLLaMA3-2B/562961752c456a26c46194130f9479dbb01ee582/modeling_videollama3.py:384: FutureWarning: `num_logits_to_keep` is deprecated and will be removed in version 4.50 for `Videollama3Qwen2ForCausalLM.forward`. Use `logits_to_keep` instead.\n",
      "  return super().forward(\n",
      " 38%|███▊      | 218/579 [06:23<08:19,  1.38s/it]"
     ]
    },
    {
     "name": "stdout",
     "output_type": "stream",
     "text": [
      "A woman in a costume is walking down the street. She stops and interacts with fans, giving them high fives as she passes by.\n"
     ]
    },
    {
     "name": "stderr",
     "output_type": "stream",
     "text": [
      "/home/ubuntu/.cache/huggingface/modules/transformers_modules/DAMO-NLP-SG/VideoLLaMA3-2B/562961752c456a26c46194130f9479dbb01ee582/modeling_videollama3.py:384: FutureWarning: `num_logits_to_keep` is deprecated and will be removed in version 4.50 for `Videollama3Qwen2ForCausalLM.forward`. Use `logits_to_keep` instead.\n",
      "  return super().forward(\n",
      " 38%|███▊      | 219/579 [06:24<08:39,  1.44s/it]"
     ]
    },
    {
     "name": "stdout",
     "output_type": "stream",
     "text": [
      "The video begins with a title screen, followed by a group of people singing on stage. The audience is shown clapping and cheering while the performers play musical instruments such as trumpets, trombones, saxophones, and drums.\n"
     ]
    },
    {
     "name": "stderr",
     "output_type": "stream",
     "text": [
      "/home/ubuntu/.cache/huggingface/modules/transformers_modules/DAMO-NLP-SG/VideoLLaMA3-2B/562961752c456a26c46194130f9479dbb01ee582/modeling_videollama3.py:384: FutureWarning: `num_logits_to_keep` is deprecated and will be removed in version 4.50 for `Videollama3Qwen2ForCausalLM.forward`. Use `logits_to_keep` instead.\n",
      "  return super().forward(\n",
      " 38%|███▊      | 220/579 [06:26<09:09,  1.53s/it]"
     ]
    },
    {
     "name": "stdout",
     "output_type": "stream",
     "text": [
      "The video shows a basketball game being played in a gymnasium. The players are wearing black and white uniforms, while the spectators are cheering from the bleachers. One of the players jumps up to make a shot as the crowd claps and cheers for him.\n"
     ]
    },
    {
     "name": "stderr",
     "output_type": "stream",
     "text": [
      "/home/ubuntu/.cache/huggingface/modules/transformers_modules/DAMO-NLP-SG/VideoLLaMA3-2B/562961752c456a26c46194130f9479dbb01ee582/modeling_videollama3.py:384: FutureWarning: `num_logits_to_keep` is deprecated and will be removed in version 4.50 for `Videollama3Qwen2ForCausalLM.forward`. Use `logits_to_keep` instead.\n",
      "  return super().forward(\n",
      " 38%|███▊      | 221/579 [06:28<09:47,  1.64s/it]"
     ]
    },
    {
     "name": "stdout",
     "output_type": "stream",
     "text": [
      "The video shows a person in a dark suit holding a gun, another man in armor and mask, a character from the game Destiny 2, a man in a black outfit with glowing eyes, and a character playing a video game. The scene transitions to show different characters in various costumes and settings.\n"
     ]
    },
    {
     "name": "stderr",
     "output_type": "stream",
     "text": [
      "/home/ubuntu/.cache/huggingface/modules/transformers_modules/DAMO-NLP-SG/VideoLLaMA3-2B/562961752c456a26c46194130f9479dbb01ee582/modeling_videollama3.py:384: FutureWarning: `num_logits_to_keep` is deprecated and will be removed in version 4.50 for `Videollama3Qwen2ForCausalLM.forward`. Use `logits_to_keep` instead.\n",
      "  return super().forward(\n",
      " 38%|███▊      | 222/579 [06:29<08:25,  1.42s/it]"
     ]
    },
    {
     "name": "stdout",
     "output_type": "stream",
     "text": [
      "In the video, a woman is seen talking on the phone while another person rides by.\n"
     ]
    },
    {
     "name": "stderr",
     "output_type": "stream",
     "text": [
      "/home/ubuntu/.cache/huggingface/modules/transformers_modules/DAMO-NLP-SG/VideoLLaMA3-2B/562961752c456a26c46194130f9479dbb01ee582/modeling_videollama3.py:384: FutureWarning: `num_logits_to_keep` is deprecated and will be removed in version 4.50 for `Videollama3Qwen2ForCausalLM.forward`. Use `logits_to_keep` instead.\n",
      "  return super().forward(\n",
      " 39%|███▊      | 223/579 [06:30<08:55,  1.50s/it]"
     ]
    },
    {
     "name": "stdout",
     "output_type": "stream",
     "text": [
      "The video shows a football game with two teams playing. One team scores a touchdown, and the other team scores a field goal. The players are running on the grassy field, passing the ball to each other while trying to score points for their respective teams.\n"
     ]
    },
    {
     "name": "stderr",
     "output_type": "stream",
     "text": [
      "/home/ubuntu/.cache/huggingface/modules/transformers_modules/DAMO-NLP-SG/VideoLLaMA3-2B/562961752c456a26c46194130f9479dbb01ee582/modeling_videollama3.py:384: FutureWarning: `num_logits_to_keep` is deprecated and will be removed in version 4.50 for `Videollama3Qwen2ForCausalLM.forward`. Use `logits_to_keep` instead.\n",
      "  return super().forward(\n",
      " 39%|███▊      | 224/579 [06:32<08:45,  1.48s/it]"
     ]
    },
    {
     "name": "stdout",
     "output_type": "stream",
     "text": [
      "The video starts with a man standing on the deck of a boat, and then it transitions to another scene where he is sitting in a room. The camera pans around him as he talks about his job.\n"
     ]
    },
    {
     "name": "stderr",
     "output_type": "stream",
     "text": [
      "/home/ubuntu/.cache/huggingface/modules/transformers_modules/DAMO-NLP-SG/VideoLLaMA3-2B/562961752c456a26c46194130f9479dbb01ee582/modeling_videollama3.py:384: FutureWarning: `num_logits_to_keep` is deprecated and will be removed in version 4.50 for `Videollama3Qwen2ForCausalLM.forward`. Use `logits_to_keep` instead.\n",
      "  return super().forward(\n",
      " 39%|███▉      | 225/579 [06:34<09:35,  1.63s/it]"
     ]
    },
    {
     "name": "stdout",
     "output_type": "stream",
     "text": [
      "The video shows a man lifting weights in a gym. He is wearing wristbands and has a bandana on his head. Another person can be seen talking to the camera while he lifts the weight. The man's muscles are also visible as he performs squats with heavy weights, including 300 pounds.\n"
     ]
    },
    {
     "name": "stderr",
     "output_type": "stream",
     "text": [
      "/home/ubuntu/.cache/huggingface/modules/transformers_modules/DAMO-NLP-SG/VideoLLaMA3-2B/562961752c456a26c46194130f9479dbb01ee582/modeling_videollama3.py:384: FutureWarning: `num_logits_to_keep` is deprecated and will be removed in version 4.50 for `Videollama3Qwen2ForCausalLM.forward`. Use `logits_to_keep` instead.\n",
      "  return super().forward(\n",
      " 39%|███▉      | 226/579 [06:35<09:33,  1.62s/it]"
     ]
    },
    {
     "name": "stdout",
     "output_type": "stream",
     "text": [
      "The video shows a man and woman sitting in front of the camera, with the woman speaking while the man listens. The woman has long black hair and is wearing headphones. The man is wearing a blue shirt. They are both looking at the camera.\n"
     ]
    },
    {
     "name": "stderr",
     "output_type": "stream",
     "text": [
      "/home/ubuntu/.cache/huggingface/modules/transformers_modules/DAMO-NLP-SG/VideoLLaMA3-2B/562961752c456a26c46194130f9479dbb01ee582/modeling_videollama3.py:384: FutureWarning: `num_logits_to_keep` is deprecated and will be removed in version 4.50 for `Videollama3Qwen2ForCausalLM.forward`. Use `logits_to_keep` instead.\n",
      "  return super().forward(\n",
      " 39%|███▉      | 227/579 [06:37<09:37,  1.64s/it]"
     ]
    },
    {
     "name": "stdout",
     "output_type": "stream",
     "text": [
      "The video shows a man wearing boxing gloves and black shoes practicing his punches on a punching bag. He is also seen stretching before training in the gym. The text 'We Move' appears during the workout, indicating that he is moving around while training.\n"
     ]
    },
    {
     "name": "stderr",
     "output_type": "stream",
     "text": [
      "/home/ubuntu/.cache/huggingface/modules/transformers_modules/DAMO-NLP-SG/VideoLLaMA3-2B/562961752c456a26c46194130f9479dbb01ee582/modeling_videollama3.py:384: FutureWarning: `num_logits_to_keep` is deprecated and will be removed in version 4.50 for `Videollama3Qwen2ForCausalLM.forward`. Use `logits_to_keep` instead.\n",
      "  return super().forward(\n",
      " 39%|███▉      | 228/579 [06:39<09:50,  1.68s/it]"
     ]
    },
    {
     "name": "stdout",
     "output_type": "stream",
     "text": [
      "The video features a group of women who are preparing for and participating in a bodybuilding competition. The contestants are shown posing on stage, while the audience watches them compete. There is also a woman being interviewed about her experience with bodybuilding.\n",
      "QA_GT_caption_based_noisy\n"
     ]
    },
    {
     "name": "stderr",
     "output_type": "stream",
     "text": [
      "/home/ubuntu/.cache/huggingface/modules/transformers_modules/DAMO-NLP-SG/VideoLLaMA3-2B/562961752c456a26c46194130f9479dbb01ee582/modeling_videollama3.py:384: FutureWarning: `num_logits_to_keep` is deprecated and will be removed in version 4.50 for `Videollama3Qwen2ForCausalLM.forward`. Use `logits_to_keep` instead.\n",
      "  return super().forward(\n",
      " 40%|███▉      | 229/579 [06:40<08:53,  1.52s/it]"
     ]
    },
    {
     "name": "stdout",
     "output_type": "stream",
     "text": [
      "The video shows a woman walking outside and then entering an indoor room. She is holding a child in her arms as she walks into the house.\n"
     ]
    },
    {
     "name": "stderr",
     "output_type": "stream",
     "text": [
      "/home/ubuntu/.cache/huggingface/modules/transformers_modules/DAMO-NLP-SG/VideoLLaMA3-2B/562961752c456a26c46194130f9479dbb01ee582/modeling_videollama3.py:384: FutureWarning: `num_logits_to_keep` is deprecated and will be removed in version 4.50 for `Videollama3Qwen2ForCausalLM.forward`. Use `logits_to_keep` instead.\n",
      "  return super().forward(\n",
      " 40%|███▉      | 230/579 [06:42<09:06,  1.57s/it]"
     ]
    },
    {
     "name": "stdout",
     "output_type": "stream",
     "text": [
      "The video shows a dirt bike race where four men are participating. The first man is starting to ride his motorcycle, and the second man has already started riding on the track. In the background, there are other racers who have finished their races.\n"
     ]
    },
    {
     "name": "stderr",
     "output_type": "stream",
     "text": [
      "/home/ubuntu/.cache/huggingface/modules/transformers_modules/DAMO-NLP-SG/VideoLLaMA3-2B/562961752c456a26c46194130f9479dbb01ee582/modeling_videollama3.py:384: FutureWarning: `num_logits_to_keep` is deprecated and will be removed in version 4.50 for `Videollama3Qwen2ForCausalLM.forward`. Use `logits_to_keep` instead.\n",
      "  return super().forward(\n",
      " 40%|███▉      | 231/579 [06:44<10:07,  1.74s/it]"
     ]
    },
    {
     "name": "stdout",
     "output_type": "stream",
     "text": [
      "The video features a man in a suit talking about the future of work. He is seen sitting down and speaking to the camera while typing on a keyboard. The scene transitions to show him still talking, but now he is wearing a blue tie instead of his previous outfit. There are also shots of different people working on computers with text overlays appearing throughout the video.\n"
     ]
    },
    {
     "name": "stderr",
     "output_type": "stream",
     "text": [
      "/home/ubuntu/.cache/huggingface/modules/transformers_modules/DAMO-NLP-SG/VideoLLaMA3-2B/562961752c456a26c46194130f9479dbb01ee582/modeling_videollama3.py:384: FutureWarning: `num_logits_to_keep` is deprecated and will be removed in version 4.50 for `Videollama3Qwen2ForCausalLM.forward`. Use `logits_to_keep` instead.\n",
      "  return super().forward(\n",
      " 40%|████      | 232/579 [06:45<09:53,  1.71s/it]"
     ]
    },
    {
     "name": "stdout",
     "output_type": "stream",
     "text": [
      "The video shows a group of people playing cricket in an outdoor stadium. They are wearing different colored shirts and hats, with one person holding a flag. The crowd is cheering as the players run around on the field while music plays in the background.\n"
     ]
    },
    {
     "name": "stderr",
     "output_type": "stream",
     "text": [
      "/home/ubuntu/.cache/huggingface/modules/transformers_modules/DAMO-NLP-SG/VideoLLaMA3-2B/562961752c456a26c46194130f9479dbb01ee582/modeling_videollama3.py:384: FutureWarning: `num_logits_to_keep` is deprecated and will be removed in version 4.50 for `Videollama3Qwen2ForCausalLM.forward`. Use `logits_to_keep` instead.\n",
      "  return super().forward(\n",
      " 40%|████      | 233/579 [06:47<09:45,  1.69s/it]"
     ]
    },
    {
     "name": "stdout",
     "output_type": "stream",
     "text": [
      "The video shows a football game where the players are wearing blue and white uniforms. The quarterback is throwing a ball to a receiver, who catches it for a touchdown. There is also a man in a tan jacket talking on TV while holding a microphone.\n"
     ]
    },
    {
     "name": "stderr",
     "output_type": "stream",
     "text": [
      "/home/ubuntu/.cache/huggingface/modules/transformers_modules/DAMO-NLP-SG/VideoLLaMA3-2B/562961752c456a26c46194130f9479dbb01ee582/modeling_videollama3.py:384: FutureWarning: `num_logits_to_keep` is deprecated and will be removed in version 4.50 for `Videollama3Qwen2ForCausalLM.forward`. Use `logits_to_keep` instead.\n",
      "  return super().forward(\n",
      " 40%|████      | 234/579 [06:49<09:37,  1.67s/it]"
     ]
    },
    {
     "name": "stdout",
     "output_type": "stream",
     "text": [
      "The video shows a boxing match between two men. One of the fighters is disqualified and receives a green ball in his mouth while the other fighter celebrates by raising both arms. The victorious boxer then walks away from the ring, holding up a belt as he leaves.\n"
     ]
    },
    {
     "name": "stderr",
     "output_type": "stream",
     "text": [
      "/home/ubuntu/.cache/huggingface/modules/transformers_modules/DAMO-NLP-SG/VideoLLaMA3-2B/562961752c456a26c46194130f9479dbb01ee582/modeling_videollama3.py:384: FutureWarning: `num_logits_to_keep` is deprecated and will be removed in version 4.50 for `Videollama3Qwen2ForCausalLM.forward`. Use `logits_to_keep` instead.\n",
      "  return super().forward(\n",
      " 41%|████      | 235/579 [06:50<08:24,  1.47s/it]"
     ]
    },
    {
     "name": "stdout",
     "output_type": "stream",
     "text": [
      "The video shows a police officer getting into his car and driving away. He is wearing a uniform while doing so.\n"
     ]
    },
    {
     "name": "stderr",
     "output_type": "stream",
     "text": [
      "/home/ubuntu/.cache/huggingface/modules/transformers_modules/DAMO-NLP-SG/VideoLLaMA3-2B/562961752c456a26c46194130f9479dbb01ee582/modeling_videollama3.py:384: FutureWarning: `num_logits_to_keep` is deprecated and will be removed in version 4.50 for `Videollama3Qwen2ForCausalLM.forward`. Use `logits_to_keep` instead.\n",
      "  return super().forward(\n",
      " 41%|████      | 236/579 [06:51<08:15,  1.44s/it]"
     ]
    },
    {
     "name": "stdout",
     "output_type": "stream",
     "text": [
      "In the video, a man is seen running around in a large room. He enters a boxing ring and starts jumping up and down on it. Another person walks by while he's doing this.\n"
     ]
    },
    {
     "name": "stderr",
     "output_type": "stream",
     "text": [
      "/home/ubuntu/.cache/huggingface/modules/transformers_modules/DAMO-NLP-SG/VideoLLaMA3-2B/562961752c456a26c46194130f9479dbb01ee582/modeling_videollama3.py:384: FutureWarning: `num_logits_to_keep` is deprecated and will be removed in version 4.50 for `Videollama3Qwen2ForCausalLM.forward`. Use `logits_to_keep` instead.\n",
      "  return super().forward(\n",
      " 41%|████      | 237/579 [06:52<07:46,  1.36s/it]"
     ]
    },
    {
     "name": "stdout",
     "output_type": "stream",
     "text": [
      "In the video, a man is seen entering a car and then walking down an aisle. He is wearing a suit and bow tie while doing so.\n"
     ]
    },
    {
     "name": "stderr",
     "output_type": "stream",
     "text": [
      "/home/ubuntu/.cache/huggingface/modules/transformers_modules/DAMO-NLP-SG/VideoLLaMA3-2B/562961752c456a26c46194130f9479dbb01ee582/modeling_videollama3.py:384: FutureWarning: `num_logits_to_keep` is deprecated and will be removed in version 4.50 for `Videollama3Qwen2ForCausalLM.forward`. Use `logits_to_keep` instead.\n",
      "  return super().forward(\n",
      " 41%|████      | 238/579 [06:54<07:37,  1.34s/it]"
     ]
    },
    {
     "name": "stdout",
     "output_type": "stream",
     "text": [
      "The video starts with a shot of the stadium, followed by pictures and clips of players on the field. There is also a man wearing a Raiders shirt speaking into a microphone.\n"
     ]
    },
    {
     "name": "stderr",
     "output_type": "stream",
     "text": [
      "/home/ubuntu/.cache/huggingface/modules/transformers_modules/DAMO-NLP-SG/VideoLLaMA3-2B/562961752c456a26c46194130f9479dbb01ee582/modeling_videollama3.py:384: FutureWarning: `num_logits_to_keep` is deprecated and will be removed in version 4.50 for `Videollama3Qwen2ForCausalLM.forward`. Use `logits_to_keep` instead.\n",
      "  return super().forward(\n",
      " 41%|████▏     | 239/579 [06:55<07:51,  1.39s/it]"
     ]
    },
    {
     "name": "stdout",
     "output_type": "stream",
     "text": [
      "The video shows a boxer standing in front of the crowd, raising his hand up. The camera zooms in on his face and then cuts to him shaking hands with another man who is balding. There are many cameras capturing this moment.\n"
     ]
    },
    {
     "name": "stderr",
     "output_type": "stream",
     "text": [
      "/home/ubuntu/.cache/huggingface/modules/transformers_modules/DAMO-NLP-SG/VideoLLaMA3-2B/562961752c456a26c46194130f9479dbb01ee582/modeling_videollama3.py:384: FutureWarning: `num_logits_to_keep` is deprecated and will be removed in version 4.50 for `Videollama3Qwen2ForCausalLM.forward`. Use `logits_to_keep` instead.\n",
      "  return super().forward(\n",
      " 41%|████▏     | 240/579 [06:56<07:33,  1.34s/it]"
     ]
    },
    {
     "name": "stdout",
     "output_type": "stream",
     "text": [
      "In the video, a person is seen walking their dog on a leash. The dog appears to be very dominant and aggressive towards another animal in the park.\n"
     ]
    },
    {
     "name": "stderr",
     "output_type": "stream",
     "text": [
      "/home/ubuntu/.cache/huggingface/modules/transformers_modules/DAMO-NLP-SG/VideoLLaMA3-2B/562961752c456a26c46194130f9479dbb01ee582/modeling_videollama3.py:384: FutureWarning: `num_logits_to_keep` is deprecated and will be removed in version 4.50 for `Videollama3Qwen2ForCausalLM.forward`. Use `logits_to_keep` instead.\n",
      "  return super().forward(\n",
      " 42%|████▏     | 241/579 [06:58<08:19,  1.48s/it]"
     ]
    },
    {
     "name": "stdout",
     "output_type": "stream",
     "text": [
      "In the video, there are two women wearing uniforms. One of them is standing next to a semi truck while the other woman is squatting down and using a tool to measure something on the tire. They seem to be working together to perform maintenance or inspection tasks on the truck.\n"
     ]
    },
    {
     "name": "stderr",
     "output_type": "stream",
     "text": [
      "/home/ubuntu/.cache/huggingface/modules/transformers_modules/DAMO-NLP-SG/VideoLLaMA3-2B/562961752c456a26c46194130f9479dbb01ee582/modeling_videollama3.py:384: FutureWarning: `num_logits_to_keep` is deprecated and will be removed in version 4.50 for `Videollama3Qwen2ForCausalLM.forward`. Use `logits_to_keep` instead.\n",
      "  return super().forward(\n",
      " 42%|████▏     | 242/579 [07:00<08:57,  1.59s/it]"
     ]
    },
    {
     "name": "stdout",
     "output_type": "stream",
     "text": [
      "The video starts with a black screen and the words \"POPCORN MATCH\" in yellow neon letters. Then, white smoke is seen pouring out of popcorn kernels into water before disappearing. The next scene shows an aerial view of trees with a road cutting through them, where cars are driving by.\n"
     ]
    },
    {
     "name": "stderr",
     "output_type": "stream",
     "text": [
      "/home/ubuntu/.cache/huggingface/modules/transformers_modules/DAMO-NLP-SG/VideoLLaMA3-2B/562961752c456a26c46194130f9479dbb01ee582/modeling_videollama3.py:384: FutureWarning: `num_logits_to_keep` is deprecated and will be removed in version 4.50 for `Videollama3Qwen2ForCausalLM.forward`. Use `logits_to_keep` instead.\n",
      "  return super().forward(\n",
      " 42%|████▏     | 243/579 [07:02<09:46,  1.74s/it]"
     ]
    },
    {
     "name": "stdout",
     "output_type": "stream",
     "text": [
      "The video starts with an aerial view of a stadium at dusk. Then, it shows several shots of people playing basketball and running around the court. A man in a suit is also shown on camera while someone else is talking to him. The video ends with a shot of a person running towards the camera.\n",
      "QA_GT_caption_based_noisy\n"
     ]
    },
    {
     "name": "stderr",
     "output_type": "stream",
     "text": [
      "/home/ubuntu/.cache/huggingface/modules/transformers_modules/DAMO-NLP-SG/VideoLLaMA3-2B/562961752c456a26c46194130f9479dbb01ee582/modeling_videollama3.py:384: FutureWarning: `num_logits_to_keep` is deprecated and will be removed in version 4.50 for `Videollama3Qwen2ForCausalLM.forward`. Use `logits_to_keep` instead.\n",
      "  return super().forward(\n",
      " 42%|████▏     | 244/579 [07:04<10:13,  1.83s/it]"
     ]
    },
    {
     "name": "stdout",
     "output_type": "stream",
     "text": [
      "The video shows a woman giving instructions on how to serve a volleyball. She is holding a ball in her left hand and talking while gesturing with her right hand. The caption mentions that she will be teaching viewers the correct way to hold the ball for serving, but it does not provide any further information about what happens next.\n"
     ]
    },
    {
     "name": "stderr",
     "output_type": "stream",
     "text": [
      "/home/ubuntu/.cache/huggingface/modules/transformers_modules/DAMO-NLP-SG/VideoLLaMA3-2B/562961752c456a26c46194130f9479dbb01ee582/modeling_videollama3.py:384: FutureWarning: `num_logits_to_keep` is deprecated and will be removed in version 4.50 for `Videollama3Qwen2ForCausalLM.forward`. Use `logits_to_keep` instead.\n",
      "  return super().forward(\n",
      " 42%|████▏     | 245/579 [07:06<10:22,  1.86s/it]"
     ]
    },
    {
     "name": "stdout",
     "output_type": "stream",
     "text": [
      "The video features a young girl who is wearing a pink tutu and smiling at the camera. The scene then cuts to several girls in ballet outfits practicing their moves while music plays in the background. One of the girls, Keira from Nova Scotia, performs graceful ballet moves on stage with other dancers behind her.\n"
     ]
    },
    {
     "name": "stderr",
     "output_type": "stream",
     "text": [
      "/home/ubuntu/.cache/huggingface/modules/transformers_modules/DAMO-NLP-SG/VideoLLaMA3-2B/562961752c456a26c46194130f9479dbb01ee582/modeling_videollama3.py:384: FutureWarning: `num_logits_to_keep` is deprecated and will be removed in version 4.50 for `Videollama3Qwen2ForCausalLM.forward`. Use `logits_to_keep` instead.\n",
      "  return super().forward(\n",
      " 42%|████▏     | 246/579 [07:08<10:07,  1.82s/it]"
     ]
    },
    {
     "name": "stdout",
     "output_type": "stream",
     "text": [
      "The video features a group of soccer players celebrating and running around the field. One player in particular is seen running with his arms outstretched, while others are cheering and clapping their hands together. The camera pans to show other players on the field as well.\n"
     ]
    },
    {
     "name": "stderr",
     "output_type": "stream",
     "text": [
      "/home/ubuntu/.cache/huggingface/modules/transformers_modules/DAMO-NLP-SG/VideoLLaMA3-2B/562961752c456a26c46194130f9479dbb01ee582/modeling_videollama3.py:384: FutureWarning: `num_logits_to_keep` is deprecated and will be removed in version 4.50 for `Videollama3Qwen2ForCausalLM.forward`. Use `logits_to_keep` instead.\n",
      "  return super().forward(\n",
      " 43%|████▎     | 247/579 [07:10<10:04,  1.82s/it]"
     ]
    },
    {
     "name": "stdout",
     "output_type": "stream",
     "text": [
      "The video shows a woman driving in the back of an SUV and then speaking to children. She explains that she is a park ranger and teaches about safety and protection at the park. The scene transitions to show people swimming in the water while wearing life jackets, followed by a man walking through a forest.\n"
     ]
    },
    {
     "name": "stderr",
     "output_type": "stream",
     "text": [
      "/home/ubuntu/.cache/huggingface/modules/transformers_modules/DAMO-NLP-SG/VideoLLaMA3-2B/562961752c456a26c46194130f9479dbb01ee582/modeling_videollama3.py:384: FutureWarning: `num_logits_to_keep` is deprecated and will be removed in version 4.50 for `Videollama3Qwen2ForCausalLM.forward`. Use `logits_to_keep` instead.\n",
      "  return super().forward(\n",
      " 43%|████▎     | 248/579 [07:11<09:24,  1.71s/it]"
     ]
    },
    {
     "name": "stdout",
     "output_type": "stream",
     "text": [
      "The video shows a woman climbing up a rock wall while another person films her. There is also footage of a doctor examining the legs and feet of a patient in a room with several pictures on the walls.\n"
     ]
    },
    {
     "name": "stderr",
     "output_type": "stream",
     "text": [
      "/home/ubuntu/.cache/huggingface/modules/transformers_modules/DAMO-NLP-SG/VideoLLaMA3-2B/562961752c456a26c46194130f9479dbb01ee582/modeling_videollama3.py:384: FutureWarning: `num_logits_to_keep` is deprecated and will be removed in version 4.50 for `Videollama3Qwen2ForCausalLM.forward`. Use `logits_to_keep` instead.\n",
      "  return super().forward(\n",
      " 43%|████▎     | 249/579 [07:13<09:49,  1.79s/it]"
     ]
    },
    {
     "name": "stdout",
     "output_type": "stream",
     "text": [
      "The video starts with a woman driving in a car. She is wearing glasses and her name, Amy Johnson, is displayed on the screen. The scene then cuts to a shot of a hand gripping the steering wheel while the woman continues to drive. Finally, there are two shots of a Franciscan Health logo.\n"
     ]
    },
    {
     "name": "stderr",
     "output_type": "stream",
     "text": [
      "/home/ubuntu/.cache/huggingface/modules/transformers_modules/DAMO-NLP-SG/VideoLLaMA3-2B/562961752c456a26c46194130f9479dbb01ee582/modeling_videollama3.py:384: FutureWarning: `num_logits_to_keep` is deprecated and will be removed in version 4.50 for `Videollama3Qwen2ForCausalLM.forward`. Use `logits_to_keep` instead.\n",
      "  return super().forward(\n",
      " 43%|████▎     | 250/579 [07:15<09:43,  1.77s/it]"
     ]
    },
    {
     "name": "stdout",
     "output_type": "stream",
     "text": [
      "The video shows a man playing the game Counter-Strike on his computer. He is seen holding a knife and shooting at an enemy while giving instructions in Russian. The camera pans around the room as he plays, and there are other people watching him play from their computers.\n"
     ]
    },
    {
     "name": "stderr",
     "output_type": "stream",
     "text": [
      "/home/ubuntu/.cache/huggingface/modules/transformers_modules/DAMO-NLP-SG/VideoLLaMA3-2B/562961752c456a26c46194130f9479dbb01ee582/modeling_videollama3.py:384: FutureWarning: `num_logits_to_keep` is deprecated and will be removed in version 4.50 for `Videollama3Qwen2ForCausalLM.forward`. Use `logits_to_keep` instead.\n",
      "  return super().forward(\n",
      " 43%|████▎     | 251/579 [07:16<08:56,  1.64s/it]"
     ]
    },
    {
     "name": "stdout",
     "output_type": "stream",
     "text": [
      "The video shows a soccer game in progress. The players are running around the field and kicking the ball into the goal. One team scores a goal, and the crowd cheers.\n"
     ]
    },
    {
     "name": "stderr",
     "output_type": "stream",
     "text": [
      "/home/ubuntu/.cache/huggingface/modules/transformers_modules/DAMO-NLP-SG/VideoLLaMA3-2B/562961752c456a26c46194130f9479dbb01ee582/modeling_videollama3.py:384: FutureWarning: `num_logits_to_keep` is deprecated and will be removed in version 4.50 for `Videollama3Qwen2ForCausalLM.forward`. Use `logits_to_keep` instead.\n",
      "  return super().forward(\n",
      " 44%|████▎     | 252/579 [07:18<09:07,  1.67s/it]"
     ]
    },
    {
     "name": "stdout",
     "output_type": "stream",
     "text": [
      "The video shows two ballet dancers performing on a stage. They are wearing white costumes and there is blue lighting in the background. The dancers perform various moves such as spins, jumps, and turns. There is also music playing during their performance.\n",
      "QA_GT_caption_based_noisy\n"
     ]
    },
    {
     "name": "stderr",
     "output_type": "stream",
     "text": [
      "/home/ubuntu/.cache/huggingface/modules/transformers_modules/DAMO-NLP-SG/VideoLLaMA3-2B/562961752c456a26c46194130f9479dbb01ee582/modeling_videollama3.py:384: FutureWarning: `num_logits_to_keep` is deprecated and will be removed in version 4.50 for `Videollama3Qwen2ForCausalLM.forward`. Use `logits_to_keep` instead.\n",
      "  return super().forward(\n",
      " 44%|████▎     | 253/579 [07:20<10:38,  1.96s/it]"
     ]
    },
    {
     "name": "stdout",
     "output_type": "stream",
     "text": [
      "In the video, there are different scenes of various people holding and playing musical instruments. There is a young man wearing glasses who plays the violin while standing next to another person. Another scene shows two men sitting in front of each other with one holding a guitar. In another scene, a man is seen holding a stringed instrument like a cello or double bass. Finally, there is a scene where a man holds up his violin and plays it.\n"
     ]
    },
    {
     "name": "stderr",
     "output_type": "stream",
     "text": [
      "/home/ubuntu/.cache/huggingface/modules/transformers_modules/DAMO-NLP-SG/VideoLLaMA3-2B/562961752c456a26c46194130f9479dbb01ee582/modeling_videollama3.py:384: FutureWarning: `num_logits_to_keep` is deprecated and will be removed in version 4.50 for `Videollama3Qwen2ForCausalLM.forward`. Use `logits_to_keep` instead.\n",
      "  return super().forward(\n",
      " 44%|████▍     | 254/579 [07:22<10:14,  1.89s/it]"
     ]
    },
    {
     "name": "stdout",
     "output_type": "stream",
     "text": [
      "The video shows a group of people riding bikes and skateboards around an area. One person is recording themselves on the skateboard while others are also skating nearby. The man wearing goggles is seen in one scene, but it's unclear what he's doing or where he is.\n"
     ]
    },
    {
     "name": "stderr",
     "output_type": "stream",
     "text": [
      "/home/ubuntu/.cache/huggingface/modules/transformers_modules/DAMO-NLP-SG/VideoLLaMA3-2B/562961752c456a26c46194130f9479dbb01ee582/modeling_videollama3.py:384: FutureWarning: `num_logits_to_keep` is deprecated and will be removed in version 4.50 for `Videollama3Qwen2ForCausalLM.forward`. Use `logits_to_keep` instead.\n",
      "  return super().forward(\n",
      " 44%|████▍     | 255/579 [07:23<09:11,  1.70s/it]"
     ]
    },
    {
     "name": "stdout",
     "output_type": "stream",
     "text": [
      "The video shows football players celebrating on the field. They are seen hugging, running with their teammates, and kneeling down while one of them is talking to a referee.\n"
     ]
    },
    {
     "name": "stderr",
     "output_type": "stream",
     "text": [
      "/home/ubuntu/.cache/huggingface/modules/transformers_modules/DAMO-NLP-SG/VideoLLaMA3-2B/562961752c456a26c46194130f9479dbb01ee582/modeling_videollama3.py:384: FutureWarning: `num_logits_to_keep` is deprecated and will be removed in version 4.50 for `Videollama3Qwen2ForCausalLM.forward`. Use `logits_to_keep` instead.\n",
      "  return super().forward(\n",
      " 44%|████▍     | 256/579 [07:25<08:42,  1.62s/it]"
     ]
    },
    {
     "name": "stdout",
     "output_type": "stream",
     "text": [
      "The video shows a man in a suit talking to the camera. Then, it cuts to a woman who is also speaking. After that, there are several shots of people wearing suits and ties as they talk to the camera.\n"
     ]
    },
    {
     "name": "stderr",
     "output_type": "stream",
     "text": [
      "/home/ubuntu/.cache/huggingface/modules/transformers_modules/DAMO-NLP-SG/VideoLLaMA3-2B/562961752c456a26c46194130f9479dbb01ee582/modeling_videollama3.py:384: FutureWarning: `num_logits_to_keep` is deprecated and will be removed in version 4.50 for `Videollama3Qwen2ForCausalLM.forward`. Use `logits_to_keep` instead.\n",
      "  return super().forward(\n",
      " 44%|████▍     | 257/579 [07:26<08:40,  1.62s/it]"
     ]
    },
    {
     "name": "stdout",
     "output_type": "stream",
     "text": [
      "The video shows a football game between two teams, with people cheering and playing. The players are wearing different uniforms and some of them fall down during the game. There is also a person in a mascot costume and others dancing to music.\n"
     ]
    },
    {
     "name": "stderr",
     "output_type": "stream",
     "text": [
      "/home/ubuntu/.cache/huggingface/modules/transformers_modules/DAMO-NLP-SG/VideoLLaMA3-2B/562961752c456a26c46194130f9479dbb01ee582/modeling_videollama3.py:384: FutureWarning: `num_logits_to_keep` is deprecated and will be removed in version 4.50 for `Videollama3Qwen2ForCausalLM.forward`. Use `logits_to_keep` instead.\n",
      "  return super().forward(\n",
      " 45%|████▍     | 258/579 [07:27<07:30,  1.40s/it]"
     ]
    },
    {
     "name": "stdout",
     "output_type": "stream",
     "text": [
      "The video shows a person in a Minecraft game picking flowers and then putting them on their head.\n"
     ]
    },
    {
     "name": "stderr",
     "output_type": "stream",
     "text": [
      "/home/ubuntu/.cache/huggingface/modules/transformers_modules/DAMO-NLP-SG/VideoLLaMA3-2B/562961752c456a26c46194130f9479dbb01ee582/modeling_videollama3.py:384: FutureWarning: `num_logits_to_keep` is deprecated and will be removed in version 4.50 for `Videollama3Qwen2ForCausalLM.forward`. Use `logits_to_keep` instead.\n",
      "  return super().forward(\n",
      " 45%|████▍     | 259/579 [07:29<07:29,  1.40s/it]"
     ]
    },
    {
     "name": "stdout",
     "output_type": "stream",
     "text": [
      "A group of swimmers are competing in a swimming competition. They dive into the pool and begin to swim freestyle. The camera captures their movements as they race towards the finish line.\n"
     ]
    },
    {
     "name": "stderr",
     "output_type": "stream",
     "text": [
      "/home/ubuntu/.cache/huggingface/modules/transformers_modules/DAMO-NLP-SG/VideoLLaMA3-2B/562961752c456a26c46194130f9479dbb01ee582/modeling_videollama3.py:384: FutureWarning: `num_logits_to_keep` is deprecated and will be removed in version 4.50 for `Videollama3Qwen2ForCausalLM.forward`. Use `logits_to_keep` instead.\n",
      "  return super().forward(\n",
      " 45%|████▍     | 260/579 [07:31<07:58,  1.50s/it]"
     ]
    },
    {
     "name": "stdout",
     "output_type": "stream",
     "text": [
      "The video shows a baseball game being played on a field. A batter hits the ball and runs to first base, while the pitcher throws the ball back towards home plate. The camera captures the action from different angles as players move around the field in their uniforms.\n"
     ]
    },
    {
     "name": "stderr",
     "output_type": "stream",
     "text": [
      "/home/ubuntu/.cache/huggingface/modules/transformers_modules/DAMO-NLP-SG/VideoLLaMA3-2B/562961752c456a26c46194130f9479dbb01ee582/modeling_videollama3.py:384: FutureWarning: `num_logits_to_keep` is deprecated and will be removed in version 4.50 for `Videollama3Qwen2ForCausalLM.forward`. Use `logits_to_keep` instead.\n",
      "  return super().forward(\n",
      " 45%|████▌     | 261/579 [07:32<07:33,  1.43s/it]"
     ]
    },
    {
     "name": "stdout",
     "output_type": "stream",
     "text": [
      "The video shows a soccer game with two teams playing against each other. One team scores a goal and the players celebrate by running off the field while the crowd cheers.\n"
     ]
    },
    {
     "name": "stderr",
     "output_type": "stream",
     "text": [
      "/home/ubuntu/.cache/huggingface/modules/transformers_modules/DAMO-NLP-SG/VideoLLaMA3-2B/562961752c456a26c46194130f9479dbb01ee582/modeling_videollama3.py:384: FutureWarning: `num_logits_to_keep` is deprecated and will be removed in version 4.50 for `Videollama3Qwen2ForCausalLM.forward`. Use `logits_to_keep` instead.\n",
      "  return super().forward(\n",
      " 45%|████▌     | 262/579 [07:34<08:18,  1.57s/it]"
     ]
    },
    {
     "name": "stdout",
     "output_type": "stream",
     "text": [
      "The video depicts a baseball game where the pitcher throws the ball to the batter, who hits it back. The catcher catches the ball and then throws it back to the pitcher. Meanwhile, there is also a scene of a man walking across a field while another person stands in front of him holding a bat.\n"
     ]
    },
    {
     "name": "stderr",
     "output_type": "stream",
     "text": [
      "/home/ubuntu/.cache/huggingface/modules/transformers_modules/DAMO-NLP-SG/VideoLLaMA3-2B/562961752c456a26c46194130f9479dbb01ee582/modeling_videollama3.py:384: FutureWarning: `num_logits_to_keep` is deprecated and will be removed in version 4.50 for `Videollama3Qwen2ForCausalLM.forward`. Use `logits_to_keep` instead.\n",
      "  return super().forward(\n",
      " 45%|████▌     | 263/579 [07:35<07:51,  1.49s/it]"
     ]
    },
    {
     "name": "stdout",
     "output_type": "stream",
     "text": [
      "The video shows a man preparing to skateboard. He puts on his shoes and straps them onto the board. Then, he rides away from the camera while talking about skateboarding.\n"
     ]
    },
    {
     "name": "stderr",
     "output_type": "stream",
     "text": [
      "/home/ubuntu/.cache/huggingface/modules/transformers_modules/DAMO-NLP-SG/VideoLLaMA3-2B/562961752c456a26c46194130f9479dbb01ee582/modeling_videollama3.py:384: FutureWarning: `num_logits_to_keep` is deprecated and will be removed in version 4.50 for `Videollama3Qwen2ForCausalLM.forward`. Use `logits_to_keep` instead.\n",
      "  return super().forward(\n",
      " 46%|████▌     | 264/579 [07:36<07:48,  1.49s/it]"
     ]
    },
    {
     "name": "stdout",
     "output_type": "stream",
     "text": [
      "The video shows a group of children in karate uniforms practicing their moves inside a room. They are being led by an instructor who is guiding them through the movements, and they seem to be following along well.\n"
     ]
    },
    {
     "name": "stderr",
     "output_type": "stream",
     "text": [
      "/home/ubuntu/.cache/huggingface/modules/transformers_modules/DAMO-NLP-SG/VideoLLaMA3-2B/562961752c456a26c46194130f9479dbb01ee582/modeling_videollama3.py:384: FutureWarning: `num_logits_to_keep` is deprecated and will be removed in version 4.50 for `Videollama3Qwen2ForCausalLM.forward`. Use `logits_to_keep` instead.\n",
      "  return super().forward(\n",
      " 46%|████▌     | 265/579 [07:40<10:32,  2.01s/it]"
     ]
    },
    {
     "name": "stdout",
     "output_type": "stream",
     "text": [
      "The video is a cartoon animation featuring a pink star character. The star starts by dancing in the air and then moves to stand on its feet, looking happy. A doctor enters with a stethoscope around his neck and puts it into the star's mouth as if giving it a check-up. He smiles at the camera while standing next to two animals - a dog and a cat. They all sit together happily.\n",
      "After that, they move to an animal hospital where the star walks towards a building with an ambulance parked outside. Finally, the star goes back home after visiting the hospital.\n"
     ]
    },
    {
     "name": "stderr",
     "output_type": "stream",
     "text": [
      "/home/ubuntu/.cache/huggingface/modules/transformers_modules/DAMO-NLP-SG/VideoLLaMA3-2B/562961752c456a26c46194130f9479dbb01ee582/modeling_videollama3.py:384: FutureWarning: `num_logits_to_keep` is deprecated and will be removed in version 4.50 for `Videollama3Qwen2ForCausalLM.forward`. Use `logits_to_keep` instead.\n",
      "  return super().forward(\n",
      " 46%|████▌     | 266/579 [07:41<10:07,  1.94s/it]"
     ]
    },
    {
     "name": "stdout",
     "output_type": "stream",
     "text": [
      "The video shows two men in white uniforms engaged in a martial arts match. One of the men falls down after being thrown by his opponent, and he remains on the ground for some time before eventually getting up. The audience can be seen watching the match from behind the mat.\n"
     ]
    },
    {
     "name": "stderr",
     "output_type": "stream",
     "text": [
      "/home/ubuntu/.cache/huggingface/modules/transformers_modules/DAMO-NLP-SG/VideoLLaMA3-2B/562961752c456a26c46194130f9479dbb01ee582/modeling_videollama3.py:384: FutureWarning: `num_logits_to_keep` is deprecated and will be removed in version 4.50 for `Videollama3Qwen2ForCausalLM.forward`. Use `logits_to_keep` instead.\n",
      "  return super().forward(\n",
      " 46%|████▌     | 267/579 [07:43<09:00,  1.73s/it]"
     ]
    },
    {
     "name": "stdout",
     "output_type": "stream",
     "text": [
      "The video starts with a shot of a statue in front of a building. Then, it shows a man talking to the camera while standing in front of a wall.\n"
     ]
    },
    {
     "name": "stderr",
     "output_type": "stream",
     "text": [
      "/home/ubuntu/.cache/huggingface/modules/transformers_modules/DAMO-NLP-SG/VideoLLaMA3-2B/562961752c456a26c46194130f9479dbb01ee582/modeling_videollama3.py:384: FutureWarning: `num_logits_to_keep` is deprecated and will be removed in version 4.50 for `Videollama3Qwen2ForCausalLM.forward`. Use `logits_to_keep` instead.\n",
      "  return super().forward(\n",
      " 46%|████▋     | 268/579 [07:45<09:19,  1.80s/it]"
     ]
    },
    {
     "name": "stdout",
     "output_type": "stream",
     "text": [
      "The video shows a basketball game with many players on the court. It starts by showing two teams playing against each other, one team wearing blue and white uniforms while the other is in black and white. The video then transitions to an advertisement for Nike shoes featuring a man dribbling a ball around his body.\n"
     ]
    },
    {
     "name": "stderr",
     "output_type": "stream",
     "text": [
      "/home/ubuntu/.cache/huggingface/modules/transformers_modules/DAMO-NLP-SG/VideoLLaMA3-2B/562961752c456a26c46194130f9479dbb01ee582/modeling_videollama3.py:384: FutureWarning: `num_logits_to_keep` is deprecated and will be removed in version 4.50 for `Videollama3Qwen2ForCausalLM.forward`. Use `logits_to_keep` instead.\n",
      "  return super().forward(\n",
      " 46%|████▋     | 269/579 [07:46<09:10,  1.78s/it]"
     ]
    },
    {
     "name": "stdout",
     "output_type": "stream",
     "text": [
      "The video shows a person standing on the beach and looking at the water. The camera pans out to reveal a view of boats in the harbor. It seems like there are some people nearby, but they are not very visible. The sky is blue with white clouds.\n"
     ]
    },
    {
     "name": "stderr",
     "output_type": "stream",
     "text": [
      "/home/ubuntu/.cache/huggingface/modules/transformers_modules/DAMO-NLP-SG/VideoLLaMA3-2B/562961752c456a26c46194130f9479dbb01ee582/modeling_videollama3.py:384: FutureWarning: `num_logits_to_keep` is deprecated and will be removed in version 4.50 for `Videollama3Qwen2ForCausalLM.forward`. Use `logits_to_keep` instead.\n",
      "  return super().forward(\n",
      " 47%|████▋     | 270/579 [07:47<07:59,  1.55s/it]"
     ]
    },
    {
     "name": "stdout",
     "output_type": "stream",
     "text": [
      "A man is holding a dog and opening a package. The dog licks the man's face while he opens it.\n"
     ]
    },
    {
     "name": "stderr",
     "output_type": "stream",
     "text": [
      "/home/ubuntu/.cache/huggingface/modules/transformers_modules/DAMO-NLP-SG/VideoLLaMA3-2B/562961752c456a26c46194130f9479dbb01ee582/modeling_videollama3.py:384: FutureWarning: `num_logits_to_keep` is deprecated and will be removed in version 4.50 for `Videollama3Qwen2ForCausalLM.forward`. Use `logits_to_keep` instead.\n",
      "  return super().forward(\n",
      " 47%|████▋     | 271/579 [07:49<07:32,  1.47s/it]"
     ]
    },
    {
     "name": "stdout",
     "output_type": "stream",
     "text": [
      "In the video, a man is seen leaving his house and walking down to a parking lot. He then enters an office where he sits in front of a computer monitor.\n"
     ]
    },
    {
     "name": "stderr",
     "output_type": "stream",
     "text": [
      "/home/ubuntu/.cache/huggingface/modules/transformers_modules/DAMO-NLP-SG/VideoLLaMA3-2B/562961752c456a26c46194130f9479dbb01ee582/modeling_videollama3.py:384: FutureWarning: `num_logits_to_keep` is deprecated and will be removed in version 4.50 for `Videollama3Qwen2ForCausalLM.forward`. Use `logits_to_keep` instead.\n",
      "  return super().forward(\n",
      " 47%|████▋     | 272/579 [07:50<07:52,  1.54s/it]"
     ]
    },
    {
     "name": "stdout",
     "output_type": "stream",
     "text": [
      "In the video, a woman is sitting at a table with her hands folded. A man walks up to her and asks if she would like some coffee. The woman smiles and says yes. They then order two cups of coffee together while talking about their day.\n"
     ]
    },
    {
     "name": "stderr",
     "output_type": "stream",
     "text": [
      "/home/ubuntu/.cache/huggingface/modules/transformers_modules/DAMO-NLP-SG/VideoLLaMA3-2B/562961752c456a26c46194130f9479dbb01ee582/modeling_videollama3.py:384: FutureWarning: `num_logits_to_keep` is deprecated and will be removed in version 4.50 for `Videollama3Qwen2ForCausalLM.forward`. Use `logits_to_keep` instead.\n",
      "  return super().forward(\n",
      " 47%|████▋     | 273/579 [07:53<08:58,  1.76s/it]"
     ]
    },
    {
     "name": "stdout",
     "output_type": "stream",
     "text": [
      "The video shows a game of football being played in an arcade. It includes various scenes with different players and objects, such as a man playing the game on his phone, another player wearing headphones, a person sitting down while playing, and two men talking about the game. There are also some still images from the game showing players running towards each other or standing near one another.\n"
     ]
    },
    {
     "name": "stderr",
     "output_type": "stream",
     "text": [
      "/home/ubuntu/.cache/huggingface/modules/transformers_modules/DAMO-NLP-SG/VideoLLaMA3-2B/562961752c456a26c46194130f9479dbb01ee582/modeling_videollama3.py:384: FutureWarning: `num_logits_to_keep` is deprecated and will be removed in version 4.50 for `Videollama3Qwen2ForCausalLM.forward`. Use `logits_to_keep` instead.\n",
      "  return super().forward(\n",
      " 47%|████▋     | 274/579 [07:55<10:29,  2.06s/it]"
     ]
    },
    {
     "name": "stdout",
     "output_type": "stream",
     "text": [
      "The video shows a sheriff and his dog on duty. The sheriff is seen walking with the dog in various locations, such as a parking lot and an open field. At one point, the dog sits inside of a vehicle while still being held by the officer. There are also scenes where the dog stands outside a car window, looking out or barking. Throughout the video, there are shots of the dog's badge and other details about the sheriff and the equipment they use.\n"
     ]
    },
    {
     "name": "stderr",
     "output_type": "stream",
     "text": [
      "/home/ubuntu/.cache/huggingface/modules/transformers_modules/DAMO-NLP-SG/VideoLLaMA3-2B/562961752c456a26c46194130f9479dbb01ee582/modeling_videollama3.py:384: FutureWarning: `num_logits_to_keep` is deprecated and will be removed in version 4.50 for `Videollama3Qwen2ForCausalLM.forward`. Use `logits_to_keep` instead.\n",
      "  return super().forward(\n",
      " 47%|████▋     | 275/579 [07:56<08:34,  1.69s/it]"
     ]
    },
    {
     "name": "stdout",
     "output_type": "stream",
     "text": [
      "In the video, a man is jogging in the city and then he goes to the gym.\n"
     ]
    },
    {
     "name": "stderr",
     "output_type": "stream",
     "text": [
      "/home/ubuntu/.cache/huggingface/modules/transformers_modules/DAMO-NLP-SG/VideoLLaMA3-2B/562961752c456a26c46194130f9479dbb01ee582/modeling_videollama3.py:384: FutureWarning: `num_logits_to_keep` is deprecated and will be removed in version 4.50 for `Videollama3Qwen2ForCausalLM.forward`. Use `logits_to_keep` instead.\n",
      "  return super().forward(\n",
      " 48%|████▊     | 276/579 [07:58<08:33,  1.70s/it]"
     ]
    },
    {
     "name": "stdout",
     "output_type": "stream",
     "text": [
      "In the video, two men are seen fighting in a ring. One of them is wearing yellow shorts and black gloves while the other man has tattoos on his arm. The tattooed man throws a punch at his opponent who ends up falling to the ground.\n"
     ]
    },
    {
     "name": "stderr",
     "output_type": "stream",
     "text": [
      "/home/ubuntu/.cache/huggingface/modules/transformers_modules/DAMO-NLP-SG/VideoLLaMA3-2B/562961752c456a26c46194130f9479dbb01ee582/modeling_videollama3.py:384: FutureWarning: `num_logits_to_keep` is deprecated and will be removed in version 4.50 for `Videollama3Qwen2ForCausalLM.forward`. Use `logits_to_keep` instead.\n",
      "  return super().forward(\n",
      " 48%|████▊     | 277/579 [08:01<09:47,  1.95s/it]"
     ]
    },
    {
     "name": "stdout",
     "output_type": "stream",
     "text": [
      "In the video, a man is seen wearing scuba gear and swimming in the ocean. He then jumps off a dock into the water while holding onto his equipment. There are also other divers shown diving underwater with cameras to capture footage of their surroundings. The man is seen taking pictures underwater as well. Overall, it appears that he is on an adventure exploring the ocean depths using scuba gear and capturing footage for documentation purposes.\n"
     ]
    },
    {
     "name": "stderr",
     "output_type": "stream",
     "text": [
      "/home/ubuntu/.cache/huggingface/modules/transformers_modules/DAMO-NLP-SG/VideoLLaMA3-2B/562961752c456a26c46194130f9479dbb01ee582/modeling_videollama3.py:384: FutureWarning: `num_logits_to_keep` is deprecated and will be removed in version 4.50 for `Videollama3Qwen2ForCausalLM.forward`. Use `logits_to_keep` instead.\n",
      "  return super().forward(\n",
      " 48%|████▊     | 278/579 [08:03<10:15,  2.04s/it]"
     ]
    },
    {
     "name": "stdout",
     "output_type": "stream",
     "text": [
      "The video shows a plane taking off from an airport runway. It then transitions to the cockpit, where two pilots are visible as they control the aircraft's flight path and speed. The scene changes again to show another plane on the ground, presumably preparing for takeoff or landing. The final shot captures the tail of a cargo airplane against a backdrop of other planes parked at the gate.\n"
     ]
    },
    {
     "name": "stderr",
     "output_type": "stream",
     "text": [
      "/home/ubuntu/.cache/huggingface/modules/transformers_modules/DAMO-NLP-SG/VideoLLaMA3-2B/562961752c456a26c46194130f9479dbb01ee582/modeling_videollama3.py:384: FutureWarning: `num_logits_to_keep` is deprecated and will be removed in version 4.50 for `Videollama3Qwen2ForCausalLM.forward`. Use `logits_to_keep` instead.\n",
      "  return super().forward(\n",
      " 48%|████▊     | 279/579 [08:05<10:55,  2.18s/it]"
     ]
    },
    {
     "name": "stdout",
     "output_type": "stream",
     "text": [
      "The video shows a football game and the players' jerseys. It also features a player in a green jersey with the number 12, as well as a man wearing a blue jersey with the same number. Additionally, there is a scene of an American football player holding his hand up while another person stands behind him. The video seems to be showcasing different moments from the game, including a scoreboard showing the team's standings.\n"
     ]
    },
    {
     "name": "stderr",
     "output_type": "stream",
     "text": [
      "/home/ubuntu/.cache/huggingface/modules/transformers_modules/DAMO-NLP-SG/VideoLLaMA3-2B/562961752c456a26c46194130f9479dbb01ee582/modeling_videollama3.py:384: FutureWarning: `num_logits_to_keep` is deprecated and will be removed in version 4.50 for `Videollama3Qwen2ForCausalLM.forward`. Use `logits_to_keep` instead.\n",
      "  return super().forward(\n",
      " 48%|████▊     | 280/579 [08:07<09:42,  1.95s/it]"
     ]
    },
    {
     "name": "stdout",
     "output_type": "stream",
     "text": [
      "The video shows a football game being played between two teams. The players are seen running and tackling each other on the field. One player is tackled by another, causing him to fall down.\n"
     ]
    },
    {
     "name": "stderr",
     "output_type": "stream",
     "text": [
      "/home/ubuntu/.cache/huggingface/modules/transformers_modules/DAMO-NLP-SG/VideoLLaMA3-2B/562961752c456a26c46194130f9479dbb01ee582/modeling_videollama3.py:384: FutureWarning: `num_logits_to_keep` is deprecated and will be removed in version 4.50 for `Videollama3Qwen2ForCausalLM.forward`. Use `logits_to_keep` instead.\n",
      "  return super().forward(\n",
      " 49%|████▊     | 281/579 [08:09<09:33,  1.92s/it]"
     ]
    },
    {
     "name": "stdout",
     "output_type": "stream",
     "text": [
      "The video shows a group of people, including children and adults, walking through an exit door. They are wearing helmets or protective gear as they run towards the shooting range in the dark. The video also includes text that says \"Armed exit the building\" and other words on the screen.\n"
     ]
    },
    {
     "name": "stderr",
     "output_type": "stream",
     "text": [
      "/home/ubuntu/.cache/huggingface/modules/transformers_modules/DAMO-NLP-SG/VideoLLaMA3-2B/562961752c456a26c46194130f9479dbb01ee582/modeling_videollama3.py:384: FutureWarning: `num_logits_to_keep` is deprecated and will be removed in version 4.50 for `Videollama3Qwen2ForCausalLM.forward`. Use `logits_to_keep` instead.\n",
      "  return super().forward(\n",
      " 49%|████▊     | 282/579 [08:11<09:42,  1.96s/it]"
     ]
    },
    {
     "name": "stdout",
     "output_type": "stream",
     "text": [
      "The video shows a woman in red boxing gloves walking towards the ring, where she faces another boxer. The referee is present to oversee the match and ensure that both fighters follow the rules of the sport. The camera captures their movements as they circle each other and prepare for the start of the fight.\n",
      "QA_GT_caption_based_noisy\n"
     ]
    },
    {
     "name": "stderr",
     "output_type": "stream",
     "text": [
      "/home/ubuntu/.cache/huggingface/modules/transformers_modules/DAMO-NLP-SG/VideoLLaMA3-2B/562961752c456a26c46194130f9479dbb01ee582/modeling_videollama3.py:384: FutureWarning: `num_logits_to_keep` is deprecated and will be removed in version 4.50 for `Videollama3Qwen2ForCausalLM.forward`. Use `logits_to_keep` instead.\n",
      "  return super().forward(\n",
      " 49%|████▉     | 283/579 [08:12<08:28,  1.72s/it]"
     ]
    },
    {
     "name": "stdout",
     "output_type": "stream",
     "text": [
      "The video shows two boys standing on the side of a cliff and looking at something in the distance. Then, they walk off into the horizon.\n"
     ]
    },
    {
     "name": "stderr",
     "output_type": "stream",
     "text": [
      "/home/ubuntu/.cache/huggingface/modules/transformers_modules/DAMO-NLP-SG/VideoLLaMA3-2B/562961752c456a26c46194130f9479dbb01ee582/modeling_videollama3.py:384: FutureWarning: `num_logits_to_keep` is deprecated and will be removed in version 4.50 for `Videollama3Qwen2ForCausalLM.forward`. Use `logits_to_keep` instead.\n",
      "  return super().forward(\n",
      " 49%|████▉     | 284/579 [08:13<08:23,  1.71s/it]"
     ]
    },
    {
     "name": "stdout",
     "output_type": "stream",
     "text": [
      "In the video, we see a football game being played on an outdoor field. The players are wearing red and white uniforms while playing against each other in black uniforms. There is a large crowd of spectators watching the game from their seats around the field.\n"
     ]
    },
    {
     "name": "stderr",
     "output_type": "stream",
     "text": [
      "/home/ubuntu/.cache/huggingface/modules/transformers_modules/DAMO-NLP-SG/VideoLLaMA3-2B/562961752c456a26c46194130f9479dbb01ee582/modeling_videollama3.py:384: FutureWarning: `num_logits_to_keep` is deprecated and will be removed in version 4.50 for `Videollama3Qwen2ForCausalLM.forward`. Use `logits_to_keep` instead.\n",
      "  return super().forward(\n",
      " 49%|████▉     | 285/579 [08:15<08:33,  1.75s/it]"
     ]
    },
    {
     "name": "stdout",
     "output_type": "stream",
     "text": [
      "The video shows a soccer game in progress. The players are wearing blue and white uniforms, while the crowd is cheering for their team. One player kicks the ball towards another player who is running with it. The other team tries to block the shot by hitting the ball back but fails.\n"
     ]
    },
    {
     "name": "stderr",
     "output_type": "stream",
     "text": [
      "/home/ubuntu/.cache/huggingface/modules/transformers_modules/DAMO-NLP-SG/VideoLLaMA3-2B/562961752c456a26c46194130f9479dbb01ee582/modeling_videollama3.py:384: FutureWarning: `num_logits_to_keep` is deprecated and will be removed in version 4.50 for `Videollama3Qwen2ForCausalLM.forward`. Use `logits_to_keep` instead.\n",
      "  return super().forward(\n",
      " 49%|████▉     | 286/579 [08:17<08:51,  1.81s/it]"
     ]
    },
    {
     "name": "stdout",
     "output_type": "stream",
     "text": [
      "The video is a screenshot of a game. In the beginning, there are hearts and emojis in the screen. Then, a girl wearing headphones appears on the left side of the screen with a surprised look on her face. After that, another woman with long hair comes into view from the top right corner. The first woman then puts down her headset.\n"
     ]
    },
    {
     "name": "stderr",
     "output_type": "stream",
     "text": [
      "/home/ubuntu/.cache/huggingface/modules/transformers_modules/DAMO-NLP-SG/VideoLLaMA3-2B/562961752c456a26c46194130f9479dbb01ee582/modeling_videollama3.py:384: FutureWarning: `num_logits_to_keep` is deprecated and will be removed in version 4.50 for `Videollama3Qwen2ForCausalLM.forward`. Use `logits_to_keep` instead.\n",
      "  return super().forward(\n",
      " 50%|████▉     | 287/579 [08:19<08:57,  1.84s/it]"
     ]
    },
    {
     "name": "stdout",
     "output_type": "stream",
     "text": [
      "The video starts with a tranquil scene of green water and wooden posts, which then transitions to an animated hospital room where people are sitting on chairs. The camera zooms in on one person's face before showing the text 'Sage's Rain.' Finally, someone asks another if they are not feeling well.\n"
     ]
    },
    {
     "name": "stderr",
     "output_type": "stream",
     "text": [
      "/home/ubuntu/.cache/huggingface/modules/transformers_modules/DAMO-NLP-SG/VideoLLaMA3-2B/562961752c456a26c46194130f9479dbb01ee582/modeling_videollama3.py:384: FutureWarning: `num_logits_to_keep` is deprecated and will be removed in version 4.50 for `Videollama3Qwen2ForCausalLM.forward`. Use `logits_to_keep` instead.\n",
      "  return super().forward(\n",
      " 50%|████▉     | 288/579 [08:21<09:04,  1.87s/it]"
     ]
    },
    {
     "name": "stdout",
     "output_type": "stream",
     "text": [
      "The video shows a group of people at a racetrack and casino. They are wearing hats, standing around tables with chips on the table. A man is dealing cards to several players while another man sits at a table with his hands folded. The camera pans around showing people sitting in chairs playing poker.\n"
     ]
    },
    {
     "name": "stderr",
     "output_type": "stream",
     "text": [
      "/home/ubuntu/.cache/huggingface/modules/transformers_modules/DAMO-NLP-SG/VideoLLaMA3-2B/562961752c456a26c46194130f9479dbb01ee582/modeling_videollama3.py:384: FutureWarning: `num_logits_to_keep` is deprecated and will be removed in version 4.50 for `Videollama3Qwen2ForCausalLM.forward`. Use `logits_to_keep` instead.\n",
      "  return super().forward(\n",
      " 50%|████▉     | 289/579 [08:23<08:29,  1.76s/it]"
     ]
    },
    {
     "name": "stdout",
     "output_type": "stream",
     "text": [
      "The video shows a group of women running on an indoor track, followed by scenes of them in the gym. It then transitions to interviews with the athletes and their coaches discussing injuries that occurred during training sessions or competitions.\n"
     ]
    },
    {
     "name": "stderr",
     "output_type": "stream",
     "text": [
      "/home/ubuntu/.cache/huggingface/modules/transformers_modules/DAMO-NLP-SG/VideoLLaMA3-2B/562961752c456a26c46194130f9479dbb01ee582/modeling_videollama3.py:384: FutureWarning: `num_logits_to_keep` is deprecated and will be removed in version 4.50 for `Videollama3Qwen2ForCausalLM.forward`. Use `logits_to_keep` instead.\n",
      "  return super().forward(\n",
      " 50%|█████     | 290/579 [08:23<07:02,  1.46s/it]"
     ]
    },
    {
     "name": "stdout",
     "output_type": "stream",
     "text": [
      "A person is playing a video game and shooting at other players.\n"
     ]
    },
    {
     "name": "stderr",
     "output_type": "stream",
     "text": [
      "/home/ubuntu/.cache/huggingface/modules/transformers_modules/DAMO-NLP-SG/VideoLLaMA3-2B/562961752c456a26c46194130f9479dbb01ee582/modeling_videollama3.py:384: FutureWarning: `num_logits_to_keep` is deprecated and will be removed in version 4.50 for `Videollama3Qwen2ForCausalLM.forward`. Use `logits_to_keep` instead.\n",
      "  return super().forward(\n",
      " 50%|█████     | 291/579 [08:25<07:07,  1.49s/it]"
     ]
    },
    {
     "name": "stdout",
     "output_type": "stream",
     "text": [
      "In the video, a man wearing a black shirt is seen talking to the camera. He appears to be in an interview or some sort of conversation with someone off-camera. The background features logos and text related to soccer aid.\n"
     ]
    },
    {
     "name": "stderr",
     "output_type": "stream",
     "text": [
      "/home/ubuntu/.cache/huggingface/modules/transformers_modules/DAMO-NLP-SG/VideoLLaMA3-2B/562961752c456a26c46194130f9479dbb01ee582/modeling_videollama3.py:384: FutureWarning: `num_logits_to_keep` is deprecated and will be removed in version 4.50 for `Videollama3Qwen2ForCausalLM.forward`. Use `logits_to_keep` instead.\n",
      "  return super().forward(\n",
      " 50%|█████     | 292/579 [08:26<06:06,  1.28s/it]"
     ]
    },
    {
     "name": "stdout",
     "output_type": "stream",
     "text": [
      "The video shows a man catching a football and then talking about it.\n"
     ]
    },
    {
     "name": "stderr",
     "output_type": "stream",
     "text": [
      "/home/ubuntu/.cache/huggingface/modules/transformers_modules/DAMO-NLP-SG/VideoLLaMA3-2B/562961752c456a26c46194130f9479dbb01ee582/modeling_videollama3.py:384: FutureWarning: `num_logits_to_keep` is deprecated and will be removed in version 4.50 for `Videollama3Qwen2ForCausalLM.forward`. Use `logits_to_keep` instead.\n",
      "  return super().forward(\n",
      " 51%|█████     | 293/579 [08:27<06:25,  1.35s/it]"
     ]
    },
    {
     "name": "stdout",
     "output_type": "stream",
     "text": [
      "The video shows a football player who is wearing a red jersey. He walks through the tunnel and into the stadium, where he goes to his locker room. There are cheerleaders on the field performing before the game starts.\n"
     ]
    },
    {
     "name": "stderr",
     "output_type": "stream",
     "text": [
      "/home/ubuntu/.cache/huggingface/modules/transformers_modules/DAMO-NLP-SG/VideoLLaMA3-2B/562961752c456a26c46194130f9479dbb01ee582/modeling_videollama3.py:384: FutureWarning: `num_logits_to_keep` is deprecated and will be removed in version 4.50 for `Videollama3Qwen2ForCausalLM.forward`. Use `logits_to_keep` instead.\n",
      "  return super().forward(\n",
      " 51%|█████     | 294/579 [08:28<06:15,  1.32s/it]"
     ]
    },
    {
     "name": "stdout",
     "output_type": "stream",
     "text": [
      "In the video, two robots are shown competing against each other in a competition. The robot that wins is called \"Scarab\" and it has a green color.\n"
     ]
    },
    {
     "name": "stderr",
     "output_type": "stream",
     "text": [
      "/home/ubuntu/.cache/huggingface/modules/transformers_modules/DAMO-NLP-SG/VideoLLaMA3-2B/562961752c456a26c46194130f9479dbb01ee582/modeling_videollama3.py:384: FutureWarning: `num_logits_to_keep` is deprecated and will be removed in version 4.50 for `Videollama3Qwen2ForCausalLM.forward`. Use `logits_to_keep` instead.\n",
      "  return super().forward(\n",
      " 51%|█████     | 295/579 [08:30<06:02,  1.28s/it]"
     ]
    },
    {
     "name": "stdout",
     "output_type": "stream",
     "text": [
      "The video shows a man wearing headphones and speaking into a microphone while sitting in front of a camera. Another person is also seen talking into a microphone.\n"
     ]
    },
    {
     "name": "stderr",
     "output_type": "stream",
     "text": [
      "/home/ubuntu/.cache/huggingface/modules/transformers_modules/DAMO-NLP-SG/VideoLLaMA3-2B/562961752c456a26c46194130f9479dbb01ee582/modeling_videollama3.py:384: FutureWarning: `num_logits_to_keep` is deprecated and will be removed in version 4.50 for `Videollama3Qwen2ForCausalLM.forward`. Use `logits_to_keep` instead.\n",
      "  return super().forward(\n",
      " 51%|█████     | 296/579 [08:31<06:26,  1.36s/it]"
     ]
    },
    {
     "name": "stdout",
     "output_type": "stream",
     "text": [
      "The video is a tutorial on salary negotiation, featuring a man in glasses who demonstrates the process step by step. He starts with some introductory text and then moves on to show how to negotiate salaries effectively.\n",
      "QA_GT_caption_based_noisy\n"
     ]
    },
    {
     "name": "stderr",
     "output_type": "stream",
     "text": [
      "/home/ubuntu/.cache/huggingface/modules/transformers_modules/DAMO-NLP-SG/VideoLLaMA3-2B/562961752c456a26c46194130f9479dbb01ee582/modeling_videollama3.py:384: FutureWarning: `num_logits_to_keep` is deprecated and will be removed in version 4.50 for `Videollama3Qwen2ForCausalLM.forward`. Use `logits_to_keep` instead.\n",
      "  return super().forward(\n",
      " 51%|█████▏    | 297/579 [08:32<06:01,  1.28s/it]"
     ]
    },
    {
     "name": "stdout",
     "output_type": "stream",
     "text": [
      "The video shows a wrestling match between two wrestlers. One wrestler falls down and gets injured, while the other wrestler celebrates his victory.\n"
     ]
    },
    {
     "name": "stderr",
     "output_type": "stream",
     "text": [
      "/home/ubuntu/.cache/huggingface/modules/transformers_modules/DAMO-NLP-SG/VideoLLaMA3-2B/562961752c456a26c46194130f9479dbb01ee582/modeling_videollama3.py:384: FutureWarning: `num_logits_to_keep` is deprecated and will be removed in version 4.50 for `Videollama3Qwen2ForCausalLM.forward`. Use `logits_to_keep` instead.\n",
      "  return super().forward(\n",
      " 51%|█████▏    | 298/579 [08:34<06:25,  1.37s/it]"
     ]
    },
    {
     "name": "stdout",
     "output_type": "stream",
     "text": [
      "In the video, two wrestlers are in a wrestling ring. One wrestler kicks the other out of the ring and then runs around with his arms raised in victory. The crowd cheers for him as he jumps up and down excitedly.\n"
     ]
    },
    {
     "name": "stderr",
     "output_type": "stream",
     "text": [
      "/home/ubuntu/.cache/huggingface/modules/transformers_modules/DAMO-NLP-SG/VideoLLaMA3-2B/562961752c456a26c46194130f9479dbb01ee582/modeling_videollama3.py:384: FutureWarning: `num_logits_to_keep` is deprecated and will be removed in version 4.50 for `Videollama3Qwen2ForCausalLM.forward`. Use `logits_to_keep` instead.\n",
      "  return super().forward(\n",
      " 52%|█████▏    | 299/579 [08:35<05:52,  1.26s/it]"
     ]
    },
    {
     "name": "stdout",
     "output_type": "stream",
     "text": [
      "A group of people are playing soccer on a field. One player kicks the ball into the goal while others watch and cheer.\n"
     ]
    },
    {
     "name": "stderr",
     "output_type": "stream",
     "text": [
      "/home/ubuntu/.cache/huggingface/modules/transformers_modules/DAMO-NLP-SG/VideoLLaMA3-2B/562961752c456a26c46194130f9479dbb01ee582/modeling_videollama3.py:384: FutureWarning: `num_logits_to_keep` is deprecated and will be removed in version 4.50 for `Videollama3Qwen2ForCausalLM.forward`. Use `logits_to_keep` instead.\n",
      "  return super().forward(\n",
      " 52%|█████▏    | 300/579 [08:37<07:13,  1.56s/it]"
     ]
    },
    {
     "name": "stdout",
     "output_type": "stream",
     "text": [
      "The video features a muscular man wearing a red hat and tank top. He is seen in different settings such as on an outdoor stage, walking down the street with chains around his neck, standing on a mountain top holding a chain, and sitting on a throne. The man also talks about his fitness regimen while surrounded by gym equipment and making hand gestures to emphasize his points.\n"
     ]
    },
    {
     "name": "stderr",
     "output_type": "stream",
     "text": [
      "/home/ubuntu/.cache/huggingface/modules/transformers_modules/DAMO-NLP-SG/VideoLLaMA3-2B/562961752c456a26c46194130f9479dbb01ee582/modeling_videollama3.py:384: FutureWarning: `num_logits_to_keep` is deprecated and will be removed in version 4.50 for `Videollama3Qwen2ForCausalLM.forward`. Use `logits_to_keep` instead.\n",
      "  return super().forward(\n",
      " 52%|█████▏    | 301/579 [08:38<06:42,  1.45s/it]"
     ]
    },
    {
     "name": "stdout",
     "output_type": "stream",
     "text": [
      "In the video, a man is seen speaking to the camera while wearing a blue shirt. He then shows his name on his resume and continues talking about it.\n"
     ]
    },
    {
     "name": "stderr",
     "output_type": "stream",
     "text": [
      "/home/ubuntu/.cache/huggingface/modules/transformers_modules/DAMO-NLP-SG/VideoLLaMA3-2B/562961752c456a26c46194130f9479dbb01ee582/modeling_videollama3.py:384: FutureWarning: `num_logits_to_keep` is deprecated and will be removed in version 4.50 for `Videollama3Qwen2ForCausalLM.forward`. Use `logits_to_keep` instead.\n",
      "  return super().forward(\n",
      " 52%|█████▏    | 302/579 [08:41<08:29,  1.84s/it]"
     ]
    },
    {
     "name": "stdout",
     "output_type": "stream",
     "text": [
      "The video shows several clips of soccer players kicking the ball into goals. It starts with a player in yellow scoring, followed by another goal from a different team wearing blue and red striped jerseys. Then there is a scene where a player scores against an orange goalie. Next, a player in a white jersey kicks the ball towards the goal while being blocked by another player in a yellow jersey. Finally, a man on the sidelines raises his arm in excitement after one of the goals.\n"
     ]
    },
    {
     "name": "stderr",
     "output_type": "stream",
     "text": [
      "/home/ubuntu/.cache/huggingface/modules/transformers_modules/DAMO-NLP-SG/VideoLLaMA3-2B/562961752c456a26c46194130f9479dbb01ee582/modeling_videollama3.py:384: FutureWarning: `num_logits_to_keep` is deprecated and will be removed in version 4.50 for `Videollama3Qwen2ForCausalLM.forward`. Use `logits_to_keep` instead.\n",
      "  return super().forward(\n",
      " 52%|█████▏    | 303/579 [08:42<07:48,  1.70s/it]"
     ]
    },
    {
     "name": "stdout",
     "output_type": "stream",
     "text": [
      "The video shows a football game between the Jacksonville Jaguars and another team. The players are running on the field, with one player wearing a white jersey being tackled by two other players in black jerseys.\n"
     ]
    },
    {
     "name": "stderr",
     "output_type": "stream",
     "text": [
      "/home/ubuntu/.cache/huggingface/modules/transformers_modules/DAMO-NLP-SG/VideoLLaMA3-2B/562961752c456a26c46194130f9479dbb01ee582/modeling_videollama3.py:384: FutureWarning: `num_logits_to_keep` is deprecated and will be removed in version 4.50 for `Videollama3Qwen2ForCausalLM.forward`. Use `logits_to_keep` instead.\n",
      "  return super().forward(\n",
      " 53%|█████▎    | 304/579 [08:44<06:56,  1.51s/it]"
     ]
    },
    {
     "name": "stdout",
     "output_type": "stream",
     "text": [
      "The video shows a football player in black running on the field and scoring a touchdown. He then celebrates by hugging his teammates.\n"
     ]
    },
    {
     "name": "stderr",
     "output_type": "stream",
     "text": [
      "/home/ubuntu/.cache/huggingface/modules/transformers_modules/DAMO-NLP-SG/VideoLLaMA3-2B/562961752c456a26c46194130f9479dbb01ee582/modeling_videollama3.py:384: FutureWarning: `num_logits_to_keep` is deprecated and will be removed in version 4.50 for `Videollama3Qwen2ForCausalLM.forward`. Use `logits_to_keep` instead.\n",
      "  return super().forward(\n",
      " 53%|█████▎    | 305/579 [08:46<08:29,  1.86s/it]"
     ]
    },
    {
     "name": "stdout",
     "output_type": "stream",
     "text": [
      "The video shows a woman in various settings. She is first seen sitting on a chair and talking to the camera, then standing outside and smiling while wearing her medical uniform. Later, she is shown at a beach with waves crashing behind her. The video also includes shots of other people, including a man in a blue shirt and a girl in black sunglasses. Overall, the video captures different aspects of the woman's life and surroundings.\n",
      "QA_GT_caption_based_noisy\n"
     ]
    },
    {
     "name": "stderr",
     "output_type": "stream",
     "text": [
      "/home/ubuntu/.cache/huggingface/modules/transformers_modules/DAMO-NLP-SG/VideoLLaMA3-2B/562961752c456a26c46194130f9479dbb01ee582/modeling_videollama3.py:384: FutureWarning: `num_logits_to_keep` is deprecated and will be removed in version 4.50 for `Videollama3Qwen2ForCausalLM.forward`. Use `logits_to_keep` instead.\n",
      "  return super().forward(\n",
      " 53%|█████▎    | 306/579 [08:48<08:19,  1.83s/it]"
     ]
    },
    {
     "name": "stdout",
     "output_type": "stream",
     "text": [
      "In the video, a man is sitting at his desk and talking to an older gentleman. They are discussing about taking time for themselves when working as interns in a company. The man then asks the older gentleman how long he has been there before they both look at each other with smiles on their faces.\n"
     ]
    },
    {
     "name": "stderr",
     "output_type": "stream",
     "text": [
      "/home/ubuntu/.cache/huggingface/modules/transformers_modules/DAMO-NLP-SG/VideoLLaMA3-2B/562961752c456a26c46194130f9479dbb01ee582/modeling_videollama3.py:384: FutureWarning: `num_logits_to_keep` is deprecated and will be removed in version 4.50 for `Videollama3Qwen2ForCausalLM.forward`. Use `logits_to_keep` instead.\n",
      "  return super().forward(\n",
      " 53%|█████▎    | 307/579 [08:50<08:06,  1.79s/it]"
     ]
    },
    {
     "name": "stdout",
     "output_type": "stream",
     "text": [
      "The video shows two men sitting in chairs and talking. One of them is wearing a patterned shirt while the other man has no shirt on his shoulders. They are discussing their experiences with boxing, and there are also pictures hanging on the wall behind them.\n"
     ]
    },
    {
     "name": "stderr",
     "output_type": "stream",
     "text": [
      "/home/ubuntu/.cache/huggingface/modules/transformers_modules/DAMO-NLP-SG/VideoLLaMA3-2B/562961752c456a26c46194130f9479dbb01ee582/modeling_videollama3.py:384: FutureWarning: `num_logits_to_keep` is deprecated and will be removed in version 4.50 for `Videollama3Qwen2ForCausalLM.forward`. Use `logits_to_keep` instead.\n",
      "  return super().forward(\n",
      " 53%|█████▎    | 308/579 [08:52<08:16,  1.83s/it]"
     ]
    },
    {
     "name": "stdout",
     "output_type": "stream",
     "text": [
      "The video shows a baseball player warming up on the field and then getting injured. He is seen stretching in his room, wearing blue shorts. Another person is also shown putting on a pair of socks while sitting down. The footage ends with an athlete being examined by two other athletes who are checking him out.\n"
     ]
    },
    {
     "name": "stderr",
     "output_type": "stream",
     "text": [
      "/home/ubuntu/.cache/huggingface/modules/transformers_modules/DAMO-NLP-SG/VideoLLaMA3-2B/562961752c456a26c46194130f9479dbb01ee582/modeling_videollama3.py:384: FutureWarning: `num_logits_to_keep` is deprecated and will be removed in version 4.50 for `Videollama3Qwen2ForCausalLM.forward`. Use `logits_to_keep` instead.\n",
      "  return super().forward(\n",
      " 53%|█████▎    | 309/579 [08:54<08:35,  1.91s/it]"
     ]
    },
    {
     "name": "stdout",
     "output_type": "stream",
     "text": [
      "The video shows a hockey game in progress with two teams playing. One team is wearing red uniforms while the other team is wearing white uniforms. The players are skating around and hitting the puck back and forth across the ice rink, trying to score goals. In the audience, there are many people watching the game intently from their seats.\n"
     ]
    },
    {
     "name": "stderr",
     "output_type": "stream",
     "text": [
      "/home/ubuntu/.cache/huggingface/modules/transformers_modules/DAMO-NLP-SG/VideoLLaMA3-2B/562961752c456a26c46194130f9479dbb01ee582/modeling_videollama3.py:384: FutureWarning: `num_logits_to_keep` is deprecated and will be removed in version 4.50 for `Videollama3Qwen2ForCausalLM.forward`. Use `logits_to_keep` instead.\n",
      "  return super().forward(\n",
      " 54%|█████▎    | 310/579 [08:55<07:51,  1.75s/it]"
     ]
    },
    {
     "name": "stdout",
     "output_type": "stream",
     "text": [
      "The video features a cartoon character who is crying and surrounded by other people. In the background, there are many people watching him cry. The scene then transitions to show different characters in various settings.\n"
     ]
    },
    {
     "name": "stderr",
     "output_type": "stream",
     "text": [
      "/home/ubuntu/.cache/huggingface/modules/transformers_modules/DAMO-NLP-SG/VideoLLaMA3-2B/562961752c456a26c46194130f9479dbb01ee582/modeling_videollama3.py:384: FutureWarning: `num_logits_to_keep` is deprecated and will be removed in version 4.50 for `Videollama3Qwen2ForCausalLM.forward`. Use `logits_to_keep` instead.\n",
      "  return super().forward(\n",
      " 54%|█████▎    | 311/579 [08:56<07:23,  1.66s/it]"
     ]
    },
    {
     "name": "stdout",
     "output_type": "stream",
     "text": [
      "The video shows a man practicing shooting at targets while lying on the ground. He is wearing protective gear and holding a gun in his hand. The scene takes place outdoors, with grass visible underfoot.\n"
     ]
    },
    {
     "name": "stderr",
     "output_type": "stream",
     "text": [
      "/home/ubuntu/.cache/huggingface/modules/transformers_modules/DAMO-NLP-SG/VideoLLaMA3-2B/562961752c456a26c46194130f9479dbb01ee582/modeling_videollama3.py:384: FutureWarning: `num_logits_to_keep` is deprecated and will be removed in version 4.50 for `Videollama3Qwen2ForCausalLM.forward`. Use `logits_to_keep` instead.\n",
      "  return super().forward(\n",
      " 54%|█████▍    | 312/579 [08:58<07:46,  1.75s/it]"
     ]
    },
    {
     "name": "stdout",
     "output_type": "stream",
     "text": [
      "The video shows a group of military men standing next to an airplane. They are wearing their uniforms and some of them have bags with them. One of the men is seen speaking into a microphone while others listen. The scene then shifts inside the plane where they discuss something, possibly about flying or preparing for takeoff.\n"
     ]
    },
    {
     "name": "stderr",
     "output_type": "stream",
     "text": [
      "/home/ubuntu/.cache/huggingface/modules/transformers_modules/DAMO-NLP-SG/VideoLLaMA3-2B/562961752c456a26c46194130f9479dbb01ee582/modeling_videollama3.py:384: FutureWarning: `num_logits_to_keep` is deprecated and will be removed in version 4.50 for `Videollama3Qwen2ForCausalLM.forward`. Use `logits_to_keep` instead.\n",
      "  return super().forward(\n",
      " 54%|█████▍    | 313/579 [09:00<07:47,  1.76s/it]"
     ]
    },
    {
     "name": "stdout",
     "output_type": "stream",
     "text": [
      "In the video, a shirtless man wearing a red hat is seen eating something in a kitchen. He then picks up some food from a plate and begins to eat it while standing next to someone else who is talking. The man seems happy as he chews on his food and smiles at the camera.\n"
     ]
    },
    {
     "name": "stderr",
     "output_type": "stream",
     "text": [
      "/home/ubuntu/.cache/huggingface/modules/transformers_modules/DAMO-NLP-SG/VideoLLaMA3-2B/562961752c456a26c46194130f9479dbb01ee582/modeling_videollama3.py:384: FutureWarning: `num_logits_to_keep` is deprecated and will be removed in version 4.50 for `Videollama3Qwen2ForCausalLM.forward`. Use `logits_to_keep` instead.\n",
      "  return super().forward(\n",
      " 54%|█████▍    | 314/579 [09:01<07:01,  1.59s/it]"
     ]
    },
    {
     "name": "stdout",
     "output_type": "stream",
     "text": [
      "The video shows a soccer player kicking the ball and celebrating after scoring. There is also a man who appears to be crying in front of a microphone.\n"
     ]
    },
    {
     "name": "stderr",
     "output_type": "stream",
     "text": [
      "/home/ubuntu/.cache/huggingface/modules/transformers_modules/DAMO-NLP-SG/VideoLLaMA3-2B/562961752c456a26c46194130f9479dbb01ee582/modeling_videollama3.py:384: FutureWarning: `num_logits_to_keep` is deprecated and will be removed in version 4.50 for `Videollama3Qwen2ForCausalLM.forward`. Use `logits_to_keep` instead.\n",
      "  return super().forward(\n",
      " 54%|█████▍    | 315/579 [09:03<07:08,  1.62s/it]"
     ]
    },
    {
     "name": "stdout",
     "output_type": "stream",
     "text": [
      "The video is about a woman sitting in front of a white wall with books and plants behind her. She is speaking to the camera while writing on a piece of paper. The scene changes multiple times, but she continues to write and talk throughout the entire video.\n"
     ]
    },
    {
     "name": "stderr",
     "output_type": "stream",
     "text": [
      "/home/ubuntu/.cache/huggingface/modules/transformers_modules/DAMO-NLP-SG/VideoLLaMA3-2B/562961752c456a26c46194130f9479dbb01ee582/modeling_videollama3.py:384: FutureWarning: `num_logits_to_keep` is deprecated and will be removed in version 4.50 for `Videollama3Qwen2ForCausalLM.forward`. Use `logits_to_keep` instead.\n",
      "  return super().forward(\n",
      " 55%|█████▍    | 316/579 [09:05<07:14,  1.65s/it]"
     ]
    },
    {
     "name": "stdout",
     "output_type": "stream",
     "text": [
      "The video shows a man wearing a hat and sunglasses standing in front of the camera. He is talking about shooting while another person shoots at targets. There are also scenes where people shoot guns at each other from different angles, with one person using a machine gun.\n"
     ]
    },
    {
     "name": "stderr",
     "output_type": "stream",
     "text": [
      "/home/ubuntu/.cache/huggingface/modules/transformers_modules/DAMO-NLP-SG/VideoLLaMA3-2B/562961752c456a26c46194130f9479dbb01ee582/modeling_videollama3.py:384: FutureWarning: `num_logits_to_keep` is deprecated and will be removed in version 4.50 for `Videollama3Qwen2ForCausalLM.forward`. Use `logits_to_keep` instead.\n",
      "  return super().forward(\n",
      " 55%|█████▍    | 317/579 [09:06<07:06,  1.63s/it]"
     ]
    },
    {
     "name": "stdout",
     "output_type": "stream",
     "text": [
      "In the video, a man is seen putting on his uniform and helmet. He then proceeds to practice rescue techniques by pretending to be injured or dead while another person simulates performing CPR. The scene takes place in a fire station.\n"
     ]
    },
    {
     "name": "stderr",
     "output_type": "stream",
     "text": [
      "/home/ubuntu/.cache/huggingface/modules/transformers_modules/DAMO-NLP-SG/VideoLLaMA3-2B/562961752c456a26c46194130f9479dbb01ee582/modeling_videollama3.py:384: FutureWarning: `num_logits_to_keep` is deprecated and will be removed in version 4.50 for `Videollama3Qwen2ForCausalLM.forward`. Use `logits_to_keep` instead.\n",
      "  return super().forward(\n",
      " 55%|█████▍    | 318/579 [09:08<07:18,  1.68s/it]"
     ]
    },
    {
     "name": "stdout",
     "output_type": "stream",
     "text": [
      "The video begins with a black screen, which then transitions to the title \"Combat Challenge\" appearing on a yellow background. After that, it shows a man in boxing gloves and shoes standing in front of a wall full of boxing gear while talking about his experience as a pro boxer.\n"
     ]
    },
    {
     "name": "stderr",
     "output_type": "stream",
     "text": [
      "/home/ubuntu/.cache/huggingface/modules/transformers_modules/DAMO-NLP-SG/VideoLLaMA3-2B/562961752c456a26c46194130f9479dbb01ee582/modeling_videollama3.py:384: FutureWarning: `num_logits_to_keep` is deprecated and will be removed in version 4.50 for `Videollama3Qwen2ForCausalLM.forward`. Use `logits_to_keep` instead.\n",
      "  return super().forward(\n",
      " 55%|█████▌    | 319/579 [09:10<07:24,  1.71s/it]"
     ]
    },
    {
     "name": "stdout",
     "output_type": "stream",
     "text": [
      "The video shows a man with long hair and a beard who is wearing a leather jacket. He is standing in an indoor stadium, looking at the camera. The lighting in the room changes as he talks into a microphone. There are also some other people in the background.\n"
     ]
    },
    {
     "name": "stderr",
     "output_type": "stream",
     "text": [
      "/home/ubuntu/.cache/huggingface/modules/transformers_modules/DAMO-NLP-SG/VideoLLaMA3-2B/562961752c456a26c46194130f9479dbb01ee582/modeling_videollama3.py:384: FutureWarning: `num_logits_to_keep` is deprecated and will be removed in version 4.50 for `Videollama3Qwen2ForCausalLM.forward`. Use `logits_to_keep` instead.\n",
      "  return super().forward(\n",
      " 55%|█████▌    | 320/579 [09:12<07:49,  1.81s/it]"
     ]
    },
    {
     "name": "stdout",
     "output_type": "stream",
     "text": [
      "The video shows firefighters in uniform walking and talking. They are shown putting out fires, spraying water on a fire, and standing by a fire truck. One firefighter is seen carrying another firefighter to safety during an emergency. The video also includes footage of a man who speaks about his experience as a firefighter.\n",
      "QA_GT_caption_based_noisy\n"
     ]
    },
    {
     "name": "stderr",
     "output_type": "stream",
     "text": [
      "/home/ubuntu/.cache/huggingface/modules/transformers_modules/DAMO-NLP-SG/VideoLLaMA3-2B/562961752c456a26c46194130f9479dbb01ee582/modeling_videollama3.py:384: FutureWarning: `num_logits_to_keep` is deprecated and will be removed in version 4.50 for `Videollama3Qwen2ForCausalLM.forward`. Use `logits_to_keep` instead.\n",
      "  return super().forward(\n",
      " 55%|█████▌    | 321/579 [09:14<07:32,  1.76s/it]"
     ]
    },
    {
     "name": "stdout",
     "output_type": "stream",
     "text": [
      "The video starts with a woman wearing glasses and a red sweatshirt standing in front of colorful abstract paintings. She is talking about her art, but there are no other people or objects shown in the video besides the woman and the paintings behind her.\n"
     ]
    },
    {
     "name": "stderr",
     "output_type": "stream",
     "text": [
      "/home/ubuntu/.cache/huggingface/modules/transformers_modules/DAMO-NLP-SG/VideoLLaMA3-2B/562961752c456a26c46194130f9479dbb01ee582/modeling_videollama3.py:384: FutureWarning: `num_logits_to_keep` is deprecated and will be removed in version 4.50 for `Videollama3Qwen2ForCausalLM.forward`. Use `logits_to_keep` instead.\n",
      "  return super().forward(\n",
      " 56%|█████▌    | 322/579 [09:15<07:08,  1.67s/it]"
     ]
    },
    {
     "name": "stdout",
     "output_type": "stream",
     "text": [
      "The video shows a group of people playing soccer on a field. They are running and kicking the ball around, trying to score goals. The players seem to be enjoying themselves as they play in front of an audience who cheers them on.\n"
     ]
    },
    {
     "name": "stderr",
     "output_type": "stream",
     "text": [
      "/home/ubuntu/.cache/huggingface/modules/transformers_modules/DAMO-NLP-SG/VideoLLaMA3-2B/562961752c456a26c46194130f9479dbb01ee582/modeling_videollama3.py:384: FutureWarning: `num_logits_to_keep` is deprecated and will be removed in version 4.50 for `Videollama3Qwen2ForCausalLM.forward`. Use `logits_to_keep` instead.\n",
      "  return super().forward(\n",
      " 56%|█████▌    | 323/579 [09:17<07:26,  1.74s/it]"
     ]
    },
    {
     "name": "stdout",
     "output_type": "stream",
     "text": [
      "The video shows a group of people exercising in a gym. It starts with two men and a woman walking around the parking lot before they enter the gym. Inside, there are three women who are talking to each other while one is lifting weights. There is also a man holding up a weight plate.\n"
     ]
    },
    {
     "name": "stderr",
     "output_type": "stream",
     "text": [
      "/home/ubuntu/.cache/huggingface/modules/transformers_modules/DAMO-NLP-SG/VideoLLaMA3-2B/562961752c456a26c46194130f9479dbb01ee582/modeling_videollama3.py:384: FutureWarning: `num_logits_to_keep` is deprecated and will be removed in version 4.50 for `Videollama3Qwen2ForCausalLM.forward`. Use `logits_to_keep` instead.\n",
      "  return super().forward(\n",
      " 56%|█████▌    | 324/579 [09:19<07:28,  1.76s/it]"
     ]
    },
    {
     "name": "stdout",
     "output_type": "stream",
     "text": [
      "The video shows a baseball game in progress with players running, catching and throwing the ball. The crowd cheers as the batter hits the ball towards the outfield. One of the players runs to catch it while another player throws it back to home plate. It's an exciting game!\n"
     ]
    },
    {
     "name": "stderr",
     "output_type": "stream",
     "text": [
      "/home/ubuntu/.cache/huggingface/modules/transformers_modules/DAMO-NLP-SG/VideoLLaMA3-2B/562961752c456a26c46194130f9479dbb01ee582/modeling_videollama3.py:384: FutureWarning: `num_logits_to_keep` is deprecated and will be removed in version 4.50 for `Videollama3Qwen2ForCausalLM.forward`. Use `logits_to_keep` instead.\n",
      "  return super().forward(\n",
      " 56%|█████▌    | 325/579 [09:21<07:52,  1.86s/it]"
     ]
    },
    {
     "name": "stdout",
     "output_type": "stream",
     "text": [
      "The video starts with a black screen that transitions to several people wearing masks. The next scene shows an animation of a sword being held up by someone, followed by a logo appearing on the screen and then going out of view. The following scenes show different objects in various settings before ending with a game screen showing multiple players competing against each other.\n"
     ]
    },
    {
     "name": "stderr",
     "output_type": "stream",
     "text": [
      "/home/ubuntu/.cache/huggingface/modules/transformers_modules/DAMO-NLP-SG/VideoLLaMA3-2B/562961752c456a26c46194130f9479dbb01ee582/modeling_videollama3.py:384: FutureWarning: `num_logits_to_keep` is deprecated and will be removed in version 4.50 for `Videollama3Qwen2ForCausalLM.forward`. Use `logits_to_keep` instead.\n",
      "  return super().forward(\n",
      " 56%|█████▋    | 326/579 [09:25<10:20,  2.45s/it]"
     ]
    },
    {
     "name": "stdout",
     "output_type": "stream",
     "text": [
      "The video shows a basketball court with two teams playing. The game starts at 0:01, and the score is tied at 282-45. As the game progresses, one team scores, increasing their lead to 369-282. The crowd cheers in excitement as they watch the game unfold.\n",
      "At 2:00, the text \"robot activation\" appears on the screen. This suggests that robots are now being used in the game. However, it's unclear whether these robots have replaced human players or if they are part of an additional level within the game.\n",
      "Overall, the video showcases an intense basketball game between two teams, highlighting moments of excitement and tension throughout.\n"
     ]
    },
    {
     "name": "stderr",
     "output_type": "stream",
     "text": [
      "/home/ubuntu/.cache/huggingface/modules/transformers_modules/DAMO-NLP-SG/VideoLLaMA3-2B/562961752c456a26c46194130f9479dbb01ee582/modeling_videollama3.py:384: FutureWarning: `num_logits_to_keep` is deprecated and will be removed in version 4.50 for `Videollama3Qwen2ForCausalLM.forward`. Use `logits_to_keep` instead.\n",
      "  return super().forward(\n",
      " 56%|█████▋    | 327/579 [09:27<09:33,  2.28s/it]"
     ]
    },
    {
     "name": "stdout",
     "output_type": "stream",
     "text": [
      "The video shows a wrestling match between two men in the ring. One man is wearing red trunks, while the other is wearing yellow trunks. They are both shirtless and performing various moves on each other. The audience is cheering for them as they continue to fight inside the ring.\n"
     ]
    },
    {
     "name": "stderr",
     "output_type": "stream",
     "text": [
      "/home/ubuntu/.cache/huggingface/modules/transformers_modules/DAMO-NLP-SG/VideoLLaMA3-2B/562961752c456a26c46194130f9479dbb01ee582/modeling_videollama3.py:384: FutureWarning: `num_logits_to_keep` is deprecated and will be removed in version 4.50 for `Videollama3Qwen2ForCausalLM.forward`. Use `logits_to_keep` instead.\n",
      "  return super().forward(\n",
      " 57%|█████▋    | 328/579 [09:28<08:16,  1.98s/it]"
     ]
    },
    {
     "name": "stdout",
     "output_type": "stream",
     "text": [
      "In the video, a football player is seen running with the ball and successfully reaching the end zone for a touchdown. The referee signals the touchdown as he runs into it.\n"
     ]
    },
    {
     "name": "stderr",
     "output_type": "stream",
     "text": [
      "/home/ubuntu/.cache/huggingface/modules/transformers_modules/DAMO-NLP-SG/VideoLLaMA3-2B/562961752c456a26c46194130f9479dbb01ee582/modeling_videollama3.py:384: FutureWarning: `num_logits_to_keep` is deprecated and will be removed in version 4.50 for `Videollama3Qwen2ForCausalLM.forward`. Use `logits_to_keep` instead.\n",
      "  return super().forward(\n",
      " 57%|█████▋    | 329/579 [09:29<07:44,  1.86s/it]"
     ]
    },
    {
     "name": "stdout",
     "output_type": "stream",
     "text": [
      "The video shows a man wearing a virtual reality headset and holding a remote control. He is in a room with shelves of drones on them. The scene then changes to an outdoor setting where he is flying the drone using his controller.\n"
     ]
    },
    {
     "name": "stderr",
     "output_type": "stream",
     "text": [
      "/home/ubuntu/.cache/huggingface/modules/transformers_modules/DAMO-NLP-SG/VideoLLaMA3-2B/562961752c456a26c46194130f9479dbb01ee582/modeling_videollama3.py:384: FutureWarning: `num_logits_to_keep` is deprecated and will be removed in version 4.50 for `Videollama3Qwen2ForCausalLM.forward`. Use `logits_to_keep` instead.\n",
      "  return super().forward(\n",
      " 57%|█████▋    | 330/579 [09:31<06:58,  1.68s/it]"
     ]
    },
    {
     "name": "stdout",
     "output_type": "stream",
     "text": [
      "The video shows a soccer match in progress. One of the teams scores a goal, and the players celebrate by hugging each other. The crowd cheers loudly for their team.\n"
     ]
    },
    {
     "name": "stderr",
     "output_type": "stream",
     "text": [
      "/home/ubuntu/.cache/huggingface/modules/transformers_modules/DAMO-NLP-SG/VideoLLaMA3-2B/562961752c456a26c46194130f9479dbb01ee582/modeling_videollama3.py:384: FutureWarning: `num_logits_to_keep` is deprecated and will be removed in version 4.50 for `Videollama3Qwen2ForCausalLM.forward`. Use `logits_to_keep` instead.\n",
      "  return super().forward(\n",
      " 57%|█████▋    | 331/579 [09:32<06:48,  1.65s/it]"
     ]
    },
    {
     "name": "stdout",
     "output_type": "stream",
     "text": [
      "In the video, two robots are racing each other on a track in front of an audience. The crowd is cheering and there are people standing behind the glass wall watching the competition. One robot crashes into another while they are racing.\n"
     ]
    },
    {
     "name": "stderr",
     "output_type": "stream",
     "text": [
      "/home/ubuntu/.cache/huggingface/modules/transformers_modules/DAMO-NLP-SG/VideoLLaMA3-2B/562961752c456a26c46194130f9479dbb01ee582/modeling_videollama3.py:384: FutureWarning: `num_logits_to_keep` is deprecated and will be removed in version 4.50 for `Videollama3Qwen2ForCausalLM.forward`. Use `logits_to_keep` instead.\n",
      "  return super().forward(\n",
      " 57%|█████▋    | 332/579 [09:34<06:41,  1.63s/it]"
     ]
    },
    {
     "name": "stdout",
     "output_type": "stream",
     "text": [
      "The video shows a person playing an online slot machine game. They are sitting in front of the computer screen and pressing buttons to spin the reels. The player is wearing headphones while playing, and there are various fruit images on the screen.\n"
     ]
    },
    {
     "name": "stderr",
     "output_type": "stream",
     "text": [
      "/home/ubuntu/.cache/huggingface/modules/transformers_modules/DAMO-NLP-SG/VideoLLaMA3-2B/562961752c456a26c46194130f9479dbb01ee582/modeling_videollama3.py:384: FutureWarning: `num_logits_to_keep` is deprecated and will be removed in version 4.50 for `Videollama3Qwen2ForCausalLM.forward`. Use `logits_to_keep` instead.\n",
      "  return super().forward(\n",
      " 58%|█████▊    | 333/579 [09:35<06:07,  1.49s/it]"
     ]
    },
    {
     "name": "stdout",
     "output_type": "stream",
     "text": [
      "The video shows a woman playing basketball and scoring goals. It also includes scenes of people celebrating on the court, as well as a man shooting hoops.\n"
     ]
    },
    {
     "name": "stderr",
     "output_type": "stream",
     "text": [
      "/home/ubuntu/.cache/huggingface/modules/transformers_modules/DAMO-NLP-SG/VideoLLaMA3-2B/562961752c456a26c46194130f9479dbb01ee582/modeling_videollama3.py:384: FutureWarning: `num_logits_to_keep` is deprecated and will be removed in version 4.50 for `Videollama3Qwen2ForCausalLM.forward`. Use `logits_to_keep` instead.\n",
      "  return super().forward(\n",
      " 58%|█████▊    | 334/579 [09:37<06:14,  1.53s/it]"
     ]
    },
    {
     "name": "stdout",
     "output_type": "stream",
     "text": [
      "The video starts with a movie poster and then transitions to show a man opening a box. He takes out an ornament and paints it while talking to his wife. The camera captures their conversation as they look at the painted ornament together, smiling.\n"
     ]
    },
    {
     "name": "stderr",
     "output_type": "stream",
     "text": [
      "/home/ubuntu/.cache/huggingface/modules/transformers_modules/DAMO-NLP-SG/VideoLLaMA3-2B/562961752c456a26c46194130f9479dbb01ee582/modeling_videollama3.py:384: FutureWarning: `num_logits_to_keep` is deprecated and will be removed in version 4.50 for `Videollama3Qwen2ForCausalLM.forward`. Use `logits_to_keep` instead.\n",
      "  return super().forward(\n",
      " 58%|█████▊    | 335/579 [09:39<07:24,  1.82s/it]"
     ]
    },
    {
     "name": "stdout",
     "output_type": "stream",
     "text": [
      "The video shows a soccer game being played in a stadium. The players are wearing black and yellow uniforms, while the other team is dressed in red. There are several goals on the field. In one scene, we see two men standing next to each other with their arms around each other's shoulders. Another scene shows four people running towards each other. Additionally, there is a group of people celebrating after scoring a goal.\n"
     ]
    },
    {
     "name": "stderr",
     "output_type": "stream",
     "text": [
      "/home/ubuntu/.cache/huggingface/modules/transformers_modules/DAMO-NLP-SG/VideoLLaMA3-2B/562961752c456a26c46194130f9479dbb01ee582/modeling_videollama3.py:384: FutureWarning: `num_logits_to_keep` is deprecated and will be removed in version 4.50 for `Videollama3Qwen2ForCausalLM.forward`. Use `logits_to_keep` instead.\n",
      "  return super().forward(\n",
      " 58%|█████▊    | 336/579 [09:40<06:36,  1.63s/it]"
     ]
    },
    {
     "name": "stdout",
     "output_type": "stream",
     "text": [
      "In the video, a soccer player wearing blue is running towards another player who is lying on the ground. The ball is seen in motion as well.\n"
     ]
    },
    {
     "name": "stderr",
     "output_type": "stream",
     "text": [
      "/home/ubuntu/.cache/huggingface/modules/transformers_modules/DAMO-NLP-SG/VideoLLaMA3-2B/562961752c456a26c46194130f9479dbb01ee582/modeling_videollama3.py:384: FutureWarning: `num_logits_to_keep` is deprecated and will be removed in version 4.50 for `Videollama3Qwen2ForCausalLM.forward`. Use `logits_to_keep` instead.\n",
      "  return super().forward(\n",
      " 58%|█████▊    | 337/579 [09:41<05:56,  1.47s/it]"
     ]
    },
    {
     "name": "stdout",
     "output_type": "stream",
     "text": [
      "A man is playing basketball and getting hit in the head with a ball. He falls to the ground while his teammates laugh at him.\n"
     ]
    },
    {
     "name": "stderr",
     "output_type": "stream",
     "text": [
      "/home/ubuntu/.cache/huggingface/modules/transformers_modules/DAMO-NLP-SG/VideoLLaMA3-2B/562961752c456a26c46194130f9479dbb01ee582/modeling_videollama3.py:384: FutureWarning: `num_logits_to_keep` is deprecated and will be removed in version 4.50 for `Videollama3Qwen2ForCausalLM.forward`. Use `logits_to_keep` instead.\n",
      "  return super().forward(\n",
      " 58%|█████▊    | 338/579 [09:43<06:02,  1.50s/it]"
     ]
    },
    {
     "name": "stdout",
     "output_type": "stream",
     "text": [
      "The video shows a cricket game with players wearing different colored uniforms. One player is shown batting while another bats and bowls the ball to him. There are also shots of people playing baseball, including one batter hitting a ball during a game.\n"
     ]
    },
    {
     "name": "stderr",
     "output_type": "stream",
     "text": [
      "/home/ubuntu/.cache/huggingface/modules/transformers_modules/DAMO-NLP-SG/VideoLLaMA3-2B/562961752c456a26c46194130f9479dbb01ee582/modeling_videollama3.py:384: FutureWarning: `num_logits_to_keep` is deprecated and will be removed in version 4.50 for `Videollama3Qwen2ForCausalLM.forward`. Use `logits_to_keep` instead.\n",
      "  return super().forward(\n",
      " 59%|█████▊    | 339/579 [09:44<05:41,  1.42s/it]"
     ]
    },
    {
     "name": "stdout",
     "output_type": "stream",
     "text": [
      "The video shows a man playing racing games on his computer while sitting in front of the monitor. He is wearing headphones and seems to be enjoying himself as he plays.\n"
     ]
    },
    {
     "name": "stderr",
     "output_type": "stream",
     "text": [
      "/home/ubuntu/.cache/huggingface/modules/transformers_modules/DAMO-NLP-SG/VideoLLaMA3-2B/562961752c456a26c46194130f9479dbb01ee582/modeling_videollama3.py:384: FutureWarning: `num_logits_to_keep` is deprecated and will be removed in version 4.50 for `Videollama3Qwen2ForCausalLM.forward`. Use `logits_to_keep` instead.\n",
      "  return super().forward(\n",
      " 59%|█████▊    | 340/579 [09:46<05:43,  1.44s/it]"
     ]
    },
    {
     "name": "stdout",
     "output_type": "stream",
     "text": [
      "The video is about a basketball game between two teams. One team is wearing white uniforms, while the other team is wearing black uniforms. The players are playing on an indoor court in front of a crowd of spectators.\n"
     ]
    },
    {
     "name": "stderr",
     "output_type": "stream",
     "text": [
      "/home/ubuntu/.cache/huggingface/modules/transformers_modules/DAMO-NLP-SG/VideoLLaMA3-2B/562961752c456a26c46194130f9479dbb01ee582/modeling_videollama3.py:384: FutureWarning: `num_logits_to_keep` is deprecated and will be removed in version 4.50 for `Videollama3Qwen2ForCausalLM.forward`. Use `logits_to_keep` instead.\n",
      "  return super().forward(\n",
      " 59%|█████▉    | 341/579 [09:48<06:10,  1.56s/it]"
     ]
    },
    {
     "name": "stdout",
     "output_type": "stream",
     "text": [
      "The video shows a soccer game being played in front of a crowd. The players are wearing blue and white uniforms, while the spectators are cheering them on. One player kicks the ball into the goal, scoring a point for his team. The other teams watch as they celebrate their victory.\n"
     ]
    },
    {
     "name": "stderr",
     "output_type": "stream",
     "text": [
      "/home/ubuntu/.cache/huggingface/modules/transformers_modules/DAMO-NLP-SG/VideoLLaMA3-2B/562961752c456a26c46194130f9479dbb01ee582/modeling_videollama3.py:384: FutureWarning: `num_logits_to_keep` is deprecated and will be removed in version 4.50 for `Videollama3Qwen2ForCausalLM.forward`. Use `logits_to_keep` instead.\n",
      "  return super().forward(\n",
      " 59%|█████▉    | 342/579 [09:49<05:50,  1.48s/it]"
     ]
    },
    {
     "name": "stdout",
     "output_type": "stream",
     "text": [
      "The video shows a cartoon girl with pink hair and blue eyes speaking to another cartoon girl. They are both holding onto ropes in an outdoor area while music plays in the background.\n"
     ]
    },
    {
     "name": "stderr",
     "output_type": "stream",
     "text": [
      "/home/ubuntu/.cache/huggingface/modules/transformers_modules/DAMO-NLP-SG/VideoLLaMA3-2B/562961752c456a26c46194130f9479dbb01ee582/modeling_videollama3.py:384: FutureWarning: `num_logits_to_keep` is deprecated and will be removed in version 4.50 for `Videollama3Qwen2ForCausalLM.forward`. Use `logits_to_keep` instead.\n",
      "  return super().forward(\n",
      " 59%|█████▉    | 343/579 [09:50<05:48,  1.48s/it]"
     ]
    },
    {
     "name": "stdout",
     "output_type": "stream",
     "text": [
      "The video shows a man in basketball gear walking onto the court. He is then seen shooting baskets and playing against other players. The game continues with him scoring multiple goals, showcasing his impressive skills on the court.\n"
     ]
    },
    {
     "name": "stderr",
     "output_type": "stream",
     "text": [
      "/home/ubuntu/.cache/huggingface/modules/transformers_modules/DAMO-NLP-SG/VideoLLaMA3-2B/562961752c456a26c46194130f9479dbb01ee582/modeling_videollama3.py:384: FutureWarning: `num_logits_to_keep` is deprecated and will be removed in version 4.50 for `Videollama3Qwen2ForCausalLM.forward`. Use `logits_to_keep` instead.\n",
      "  return super().forward(\n",
      " 59%|█████▉    | 344/579 [09:52<06:12,  1.59s/it]"
     ]
    },
    {
     "name": "stdout",
     "output_type": "stream",
     "text": [
      "The video shows a professional wrestling match between two wrestlers. One wrestler, wearing red trunks, jumps off the top rope and lands on his opponent who is lying face down in the ring. The audience cheers as the wrestler celebrates by jumping over their shoulders and walking away from the ring.\n"
     ]
    },
    {
     "name": "stderr",
     "output_type": "stream",
     "text": [
      "/home/ubuntu/.cache/huggingface/modules/transformers_modules/DAMO-NLP-SG/VideoLLaMA3-2B/562961752c456a26c46194130f9479dbb01ee582/modeling_videollama3.py:384: FutureWarning: `num_logits_to_keep` is deprecated and will be removed in version 4.50 for `Videollama3Qwen2ForCausalLM.forward`. Use `logits_to_keep` instead.\n",
      "  return super().forward(\n",
      " 60%|█████▉    | 345/579 [09:54<06:55,  1.78s/it]"
     ]
    },
    {
     "name": "stdout",
     "output_type": "stream",
     "text": [
      "In the video, there is a girl with blue hair and white ears who appears to be singing or talking. There are also some screenshots from GTA V (Grand Theft Auto V) that show cars driving on a street at night. The video seems to be a mix of anime-style music videos and gameplay footage from a popular video game.\n",
      "QA_GT_caption_based_noisy\n"
     ]
    },
    {
     "name": "stderr",
     "output_type": "stream",
     "text": [
      "/home/ubuntu/.cache/huggingface/modules/transformers_modules/DAMO-NLP-SG/VideoLLaMA3-2B/562961752c456a26c46194130f9479dbb01ee582/modeling_videollama3.py:384: FutureWarning: `num_logits_to_keep` is deprecated and will be removed in version 4.50 for `Videollama3Qwen2ForCausalLM.forward`. Use `logits_to_keep` instead.\n",
      "  return super().forward(\n",
      " 60%|█████▉    | 346/579 [09:56<06:55,  1.79s/it]"
     ]
    },
    {
     "name": "stdout",
     "output_type": "stream",
     "text": [
      "The video shows a group of soccer players playing in front of a large crowd. They are kicking the ball around and taking shots at the goal, while some people watch from the stands. There is also a moment where one player jumps up to kick the ball into the net.\n"
     ]
    },
    {
     "name": "stderr",
     "output_type": "stream",
     "text": [
      "/home/ubuntu/.cache/huggingface/modules/transformers_modules/DAMO-NLP-SG/VideoLLaMA3-2B/562961752c456a26c46194130f9479dbb01ee582/modeling_videollama3.py:384: FutureWarning: `num_logits_to_keep` is deprecated and will be removed in version 4.50 for `Videollama3Qwen2ForCausalLM.forward`. Use `logits_to_keep` instead.\n",
      "  return super().forward(\n",
      " 60%|█████▉    | 347/579 [09:58<06:58,  1.80s/it]"
     ]
    },
    {
     "name": "stdout",
     "output_type": "stream",
     "text": [
      "The video shows a city at night with skyscrapers and traffic. It then transitions to various scenes of people wearing virtual reality headsets, sitting in chairs, and using computers or smartphones. The video highlights the potential for careers related to technology and digital innovation as suitable options for Gemini individuals.\n"
     ]
    },
    {
     "name": "stderr",
     "output_type": "stream",
     "text": [
      "/home/ubuntu/.cache/huggingface/modules/transformers_modules/DAMO-NLP-SG/VideoLLaMA3-2B/562961752c456a26c46194130f9479dbb01ee582/modeling_videollama3.py:384: FutureWarning: `num_logits_to_keep` is deprecated and will be removed in version 4.50 for `Videollama3Qwen2ForCausalLM.forward`. Use `logits_to_keep` instead.\n",
      "  return super().forward(\n",
      " 60%|██████    | 348/579 [10:00<06:41,  1.74s/it]"
     ]
    },
    {
     "name": "stdout",
     "output_type": "stream",
     "text": [
      "The video shows a boy and girl playing soccer on an outdoor field. The boy is wearing a blue and red shirt while the girl is wearing pink. They are kicking around the ball in front of a goal, trying to score goals.\n"
     ]
    },
    {
     "name": "stderr",
     "output_type": "stream",
     "text": [
      "/home/ubuntu/.cache/huggingface/modules/transformers_modules/DAMO-NLP-SG/VideoLLaMA3-2B/562961752c456a26c46194130f9479dbb01ee582/modeling_videollama3.py:384: FutureWarning: `num_logits_to_keep` is deprecated and will be removed in version 4.50 for `Videollama3Qwen2ForCausalLM.forward`. Use `logits_to_keep` instead.\n",
      "  return super().forward(\n",
      " 60%|██████    | 349/579 [10:01<05:53,  1.54s/it]"
     ]
    },
    {
     "name": "stdout",
     "output_type": "stream",
     "text": [
      "The video shows a man in a warehouse who is smiling and holding a pen. He then talks to the camera while standing still.\n"
     ]
    },
    {
     "name": "stderr",
     "output_type": "stream",
     "text": [
      "/home/ubuntu/.cache/huggingface/modules/transformers_modules/DAMO-NLP-SG/VideoLLaMA3-2B/562961752c456a26c46194130f9479dbb01ee582/modeling_videollama3.py:384: FutureWarning: `num_logits_to_keep` is deprecated and will be removed in version 4.50 for `Videollama3Qwen2ForCausalLM.forward`. Use `logits_to_keep` instead.\n",
      "  return super().forward(\n",
      " 60%|██████    | 350/579 [10:02<05:28,  1.44s/it]"
     ]
    },
    {
     "name": "stdout",
     "output_type": "stream",
     "text": [
      "The video shows a man in a suit holding a microphone, while two women are standing beside him. They seem to be performing on stage for an audience.\n"
     ]
    },
    {
     "name": "stderr",
     "output_type": "stream",
     "text": [
      "/home/ubuntu/.cache/huggingface/modules/transformers_modules/DAMO-NLP-SG/VideoLLaMA3-2B/562961752c456a26c46194130f9479dbb01ee582/modeling_videollama3.py:384: FutureWarning: `num_logits_to_keep` is deprecated and will be removed in version 4.50 for `Videollama3Qwen2ForCausalLM.forward`. Use `logits_to_keep` instead.\n",
      "  return super().forward(\n",
      " 61%|██████    | 351/579 [10:04<06:08,  1.61s/it]"
     ]
    },
    {
     "name": "stdout",
     "output_type": "stream",
     "text": [
      "The video starts with a shot of the exterior of Fantastic Furniture. A woman is seen walking towards the entrance, and then she enters the building and closes the door behind her. Inside, the woman talks to the camera while holding papers in her hands. She seems to be explaining something about the furniture store or giving instructions.\n"
     ]
    },
    {
     "name": "stderr",
     "output_type": "stream",
     "text": [
      "/home/ubuntu/.cache/huggingface/modules/transformers_modules/DAMO-NLP-SG/VideoLLaMA3-2B/562961752c456a26c46194130f9479dbb01ee582/modeling_videollama3.py:384: FutureWarning: `num_logits_to_keep` is deprecated and will be removed in version 4.50 for `Videollama3Qwen2ForCausalLM.forward`. Use `logits_to_keep` instead.\n",
      "  return super().forward(\n",
      " 61%|██████    | 352/579 [10:05<05:53,  1.56s/it]"
     ]
    },
    {
     "name": "stdout",
     "output_type": "stream",
     "text": [
      "In the video, a young man is seen performing various skateboard tricks in different locations. He starts by doing flips and then does handstands on his skateboard. The video also shows him skateboarding at night.\n"
     ]
    },
    {
     "name": "stderr",
     "output_type": "stream",
     "text": [
      "/home/ubuntu/.cache/huggingface/modules/transformers_modules/DAMO-NLP-SG/VideoLLaMA3-2B/562961752c456a26c46194130f9479dbb01ee582/modeling_videollama3.py:384: FutureWarning: `num_logits_to_keep` is deprecated and will be removed in version 4.50 for `Videollama3Qwen2ForCausalLM.forward`. Use `logits_to_keep` instead.\n",
      "  return super().forward(\n",
      " 61%|██████    | 353/579 [10:07<06:09,  1.64s/it]"
     ]
    },
    {
     "name": "stdout",
     "output_type": "stream",
     "text": [
      "The video starts with a still image of Michael Jordan and Kwame Brown. Then, it transitions to a scene where Michael Jordan is speaking into a microphone in front of a blue background while wearing a white suit jacket. The focus remains on him as he continues to speak throughout the video.\n"
     ]
    },
    {
     "name": "stderr",
     "output_type": "stream",
     "text": [
      "/home/ubuntu/.cache/huggingface/modules/transformers_modules/DAMO-NLP-SG/VideoLLaMA3-2B/562961752c456a26c46194130f9479dbb01ee582/modeling_videollama3.py:384: FutureWarning: `num_logits_to_keep` is deprecated and will be removed in version 4.50 for `Videollama3Qwen2ForCausalLM.forward`. Use `logits_to_keep` instead.\n",
      "  return super().forward(\n",
      " 61%|██████    | 354/579 [10:08<05:41,  1.52s/it]"
     ]
    },
    {
     "name": "stdout",
     "output_type": "stream",
     "text": [
      "The video shows a man in a yellow shirt celebrating after scoring a goal. He is seen jumping and screaming with joy, while the crowd cheers loudly in the background.\n"
     ]
    },
    {
     "name": "stderr",
     "output_type": "stream",
     "text": [
      "/home/ubuntu/.cache/huggingface/modules/transformers_modules/DAMO-NLP-SG/VideoLLaMA3-2B/562961752c456a26c46194130f9479dbb01ee582/modeling_videollama3.py:384: FutureWarning: `num_logits_to_keep` is deprecated and will be removed in version 4.50 for `Videollama3Qwen2ForCausalLM.forward`. Use `logits_to_keep` instead.\n",
      "  return super().forward(\n",
      " 61%|██████▏   | 355/579 [10:10<05:45,  1.54s/it]"
     ]
    },
    {
     "name": "stdout",
     "output_type": "stream",
     "text": [
      "The video shows a group of people running down the street at night, passing by a casino. They are joined by another woman who is also running with them. The scene then shifts to show two women shaking hands after completing their run.\n"
     ]
    },
    {
     "name": "stderr",
     "output_type": "stream",
     "text": [
      "/home/ubuntu/.cache/huggingface/modules/transformers_modules/DAMO-NLP-SG/VideoLLaMA3-2B/562961752c456a26c46194130f9479dbb01ee582/modeling_videollama3.py:384: FutureWarning: `num_logits_to_keep` is deprecated and will be removed in version 4.50 for `Videollama3Qwen2ForCausalLM.forward`. Use `logits_to_keep` instead.\n",
      "  return super().forward(\n",
      " 61%|██████▏   | 356/579 [10:12<05:37,  1.52s/it]"
     ]
    },
    {
     "name": "stdout",
     "output_type": "stream",
     "text": [
      "The video shows a fighter jet flying through the sky, performing stunts and maneuvers. The jets are white in color and have blue stripes on their wings. They fly high above clouds while shooting off flares.\n"
     ]
    },
    {
     "name": "stderr",
     "output_type": "stream",
     "text": [
      "/home/ubuntu/.cache/huggingface/modules/transformers_modules/DAMO-NLP-SG/VideoLLaMA3-2B/562961752c456a26c46194130f9479dbb01ee582/modeling_videollama3.py:384: FutureWarning: `num_logits_to_keep` is deprecated and will be removed in version 4.50 for `Videollama3Qwen2ForCausalLM.forward`. Use `logits_to_keep` instead.\n",
      "  return super().forward(\n",
      " 62%|██████▏   | 357/579 [10:14<06:35,  1.78s/it]"
     ]
    },
    {
     "name": "stdout",
     "output_type": "stream",
     "text": [
      "In the video, we see a man who is talking to the camera. He then transitions into an animated scene where he is wearing Iron Man gear and standing in front of a building. The animation shows him swimming underwater with his hands up. After that, he appears on a raft while still wearing the Iron Man suit. Finally, he wears black armor and stands against a blue background holding a hammer.\n"
     ]
    },
    {
     "name": "stderr",
     "output_type": "stream",
     "text": [
      "/home/ubuntu/.cache/huggingface/modules/transformers_modules/DAMO-NLP-SG/VideoLLaMA3-2B/562961752c456a26c46194130f9479dbb01ee582/modeling_videollama3.py:384: FutureWarning: `num_logits_to_keep` is deprecated and will be removed in version 4.50 for `Videollama3Qwen2ForCausalLM.forward`. Use `logits_to_keep` instead.\n",
      "  return super().forward(\n",
      " 62%|██████▏   | 358/579 [10:16<06:28,  1.76s/it]"
     ]
    },
    {
     "name": "stdout",
     "output_type": "stream",
     "text": [
      "The video shows a woman walking her dog in an open area while another person walks their dog. There are also two people holding leashes of dogs and one person standing next to the dog on the street. The dogs are seen running around, playing with each other, and interacting with their owners.\n"
     ]
    },
    {
     "name": "stderr",
     "output_type": "stream",
     "text": [
      "/home/ubuntu/.cache/huggingface/modules/transformers_modules/DAMO-NLP-SG/VideoLLaMA3-2B/562961752c456a26c46194130f9479dbb01ee582/modeling_videollama3.py:384: FutureWarning: `num_logits_to_keep` is deprecated and will be removed in version 4.50 for `Videollama3Qwen2ForCausalLM.forward`. Use `logits_to_keep` instead.\n",
      "  return super().forward(\n",
      " 62%|██████▏   | 359/579 [10:18<06:42,  1.83s/it]"
     ]
    },
    {
     "name": "stdout",
     "output_type": "stream",
     "text": [
      "In the video, we see a man in winter gear who is attempting to cross over a frozen body of water. He is using poles and falls into the icy water while trying to get across. Another person appears on screen later on, but the focus remains on the first man's struggle with the cold weather and ice.\n"
     ]
    },
    {
     "name": "stderr",
     "output_type": "stream",
     "text": [
      "/home/ubuntu/.cache/huggingface/modules/transformers_modules/DAMO-NLP-SG/VideoLLaMA3-2B/562961752c456a26c46194130f9479dbb01ee582/modeling_videollama3.py:384: FutureWarning: `num_logits_to_keep` is deprecated and will be removed in version 4.50 for `Videollama3Qwen2ForCausalLM.forward`. Use `logits_to_keep` instead.\n",
      "  return super().forward(\n",
      " 62%|██████▏   | 360/579 [10:19<06:32,  1.79s/it]"
     ]
    },
    {
     "name": "stdout",
     "output_type": "stream",
     "text": [
      "The video shows a group of people in uniform standing around each other. A dog is seen walking down the street. There are also soldiers and civilians gathered together. The video takes place in an outdoor setting with many different types of people present, including men and women.\n"
     ]
    },
    {
     "name": "stderr",
     "output_type": "stream",
     "text": [
      "/home/ubuntu/.cache/huggingface/modules/transformers_modules/DAMO-NLP-SG/VideoLLaMA3-2B/562961752c456a26c46194130f9479dbb01ee582/modeling_videollama3.py:384: FutureWarning: `num_logits_to_keep` is deprecated and will be removed in version 4.50 for `Videollama3Qwen2ForCausalLM.forward`. Use `logits_to_keep` instead.\n",
      "  return super().forward(\n",
      " 62%|██████▏   | 361/579 [10:21<06:17,  1.73s/it]"
     ]
    },
    {
     "name": "stdout",
     "output_type": "stream",
     "text": [
      "In the video, two men are seen fighting in a ring. They are wrestling and grappling with each other while being watched by an audience. The fight is intense and physical as both men push and pull on each other's arms.\n"
     ]
    },
    {
     "name": "stderr",
     "output_type": "stream",
     "text": [
      "/home/ubuntu/.cache/huggingface/modules/transformers_modules/DAMO-NLP-SG/VideoLLaMA3-2B/562961752c456a26c46194130f9479dbb01ee582/modeling_videollama3.py:384: FutureWarning: `num_logits_to_keep` is deprecated and will be removed in version 4.50 for `Videollama3Qwen2ForCausalLM.forward`. Use `logits_to_keep` instead.\n",
      "  return super().forward(\n",
      " 63%|██████▎   | 362/579 [10:22<05:34,  1.54s/it]"
     ]
    },
    {
     "name": "stdout",
     "output_type": "stream",
     "text": [
      "The video shows a man wearing a baseball cap and gold chain talking about his life, followed by several still images of the same man.\n"
     ]
    },
    {
     "name": "stderr",
     "output_type": "stream",
     "text": [
      "/home/ubuntu/.cache/huggingface/modules/transformers_modules/DAMO-NLP-SG/VideoLLaMA3-2B/562961752c456a26c46194130f9479dbb01ee582/modeling_videollama3.py:384: FutureWarning: `num_logits_to_keep` is deprecated and will be removed in version 4.50 for `Videollama3Qwen2ForCausalLM.forward`. Use `logits_to_keep` instead.\n",
      "  return super().forward(\n",
      " 63%|██████▎   | 363/579 [10:23<05:18,  1.47s/it]"
     ]
    },
    {
     "name": "stdout",
     "output_type": "stream",
     "text": [
      "The video shows a man at a football game who is excited to see his team win. He wakes up early in the morning and goes back to the stadium to watch the game.\n"
     ]
    },
    {
     "name": "stderr",
     "output_type": "stream",
     "text": [
      "/home/ubuntu/.cache/huggingface/modules/transformers_modules/DAMO-NLP-SG/VideoLLaMA3-2B/562961752c456a26c46194130f9479dbb01ee582/modeling_videollama3.py:384: FutureWarning: `num_logits_to_keep` is deprecated and will be removed in version 4.50 for `Videollama3Qwen2ForCausalLM.forward`. Use `logits_to_keep` instead.\n",
      "  return super().forward(\n",
      " 63%|██████▎   | 364/579 [10:25<05:00,  1.40s/it]"
     ]
    },
    {
     "name": "stdout",
     "output_type": "stream",
     "text": [
      "The video begins with a person in a black shirt holding a sword, and then transitions to a logo. The logo is shown on the screen twice before fading out.\n"
     ]
    },
    {
     "name": "stderr",
     "output_type": "stream",
     "text": [
      "/home/ubuntu/.cache/huggingface/modules/transformers_modules/DAMO-NLP-SG/VideoLLaMA3-2B/562961752c456a26c46194130f9479dbb01ee582/modeling_videollama3.py:384: FutureWarning: `num_logits_to_keep` is deprecated and will be removed in version 4.50 for `Videollama3Qwen2ForCausalLM.forward`. Use `logits_to_keep` instead.\n",
      "  return super().forward(\n",
      " 63%|██████▎   | 365/579 [10:26<05:06,  1.43s/it]"
     ]
    },
    {
     "name": "stdout",
     "output_type": "stream",
     "text": [
      "The video shows a man wearing a red shirt sitting in his wheelchair. He talks about being injured and paralyzed, with text on the screen indicating that he had no legs before. The background of the video is filled with pictures.\n"
     ]
    },
    {
     "name": "stderr",
     "output_type": "stream",
     "text": [
      "/home/ubuntu/.cache/huggingface/modules/transformers_modules/DAMO-NLP-SG/VideoLLaMA3-2B/562961752c456a26c46194130f9479dbb01ee582/modeling_videollama3.py:384: FutureWarning: `num_logits_to_keep` is deprecated and will be removed in version 4.50 for `Videollama3Qwen2ForCausalLM.forward`. Use `logits_to_keep` instead.\n",
      "  return super().forward(\n",
      " 63%|██████▎   | 366/579 [10:27<05:00,  1.41s/it]"
     ]
    },
    {
     "name": "stdout",
     "output_type": "stream",
     "text": [
      "The video starts with a robot standing in the dark and then zooms out to reveal that it is a character. The camera pans around the room, showing different angles of the character.\n"
     ]
    },
    {
     "name": "stderr",
     "output_type": "stream",
     "text": [
      "/home/ubuntu/.cache/huggingface/modules/transformers_modules/DAMO-NLP-SG/VideoLLaMA3-2B/562961752c456a26c46194130f9479dbb01ee582/modeling_videollama3.py:384: FutureWarning: `num_logits_to_keep` is deprecated and will be removed in version 4.50 for `Videollama3Qwen2ForCausalLM.forward`. Use `logits_to_keep` instead.\n",
      "  return super().forward(\n",
      " 63%|██████▎   | 367/579 [10:29<04:51,  1.37s/it]"
     ]
    },
    {
     "name": "stdout",
     "output_type": "stream",
     "text": [
      "In the video, a woman is sitting in a chair and talking. She has blonde hair and is wearing a blue shirt. The background shows some greenery outside of her window.\n"
     ]
    },
    {
     "name": "stderr",
     "output_type": "stream",
     "text": [
      "/home/ubuntu/.cache/huggingface/modules/transformers_modules/DAMO-NLP-SG/VideoLLaMA3-2B/562961752c456a26c46194130f9479dbb01ee582/modeling_videollama3.py:384: FutureWarning: `num_logits_to_keep` is deprecated and will be removed in version 4.50 for `Videollama3Qwen2ForCausalLM.forward`. Use `logits_to_keep` instead.\n",
      "  return super().forward(\n",
      " 64%|██████▎   | 368/579 [10:31<05:34,  1.59s/it]"
     ]
    },
    {
     "name": "stdout",
     "output_type": "stream",
     "text": [
      "A group of girls are running on a track. They start together, but then separate into smaller groups as they run. The camera follows one girl in particular who is wearing a yellow top and black shorts. She is very focused and determined to win the race. Another young woman with short hair also competes in this event.\n"
     ]
    },
    {
     "name": "stderr",
     "output_type": "stream",
     "text": [
      "/home/ubuntu/.cache/huggingface/modules/transformers_modules/DAMO-NLP-SG/VideoLLaMA3-2B/562961752c456a26c46194130f9479dbb01ee582/modeling_videollama3.py:384: FutureWarning: `num_logits_to_keep` is deprecated and will be removed in version 4.50 for `Videollama3Qwen2ForCausalLM.forward`. Use `logits_to_keep` instead.\n",
      "  return super().forward(\n",
      " 64%|██████▎   | 369/579 [10:32<05:09,  1.47s/it]"
     ]
    },
    {
     "name": "stdout",
     "output_type": "stream",
     "text": [
      "The video shows a woman walking down the pier, while talking to a man. They are then seen sitting at a table in an office and continuing their conversation.\n"
     ]
    },
    {
     "name": "stderr",
     "output_type": "stream",
     "text": [
      "/home/ubuntu/.cache/huggingface/modules/transformers_modules/DAMO-NLP-SG/VideoLLaMA3-2B/562961752c456a26c46194130f9479dbb01ee582/modeling_videollama3.py:384: FutureWarning: `num_logits_to_keep` is deprecated and will be removed in version 4.50 for `Videollama3Qwen2ForCausalLM.forward`. Use `logits_to_keep` instead.\n",
      "  return super().forward(\n",
      " 64%|██████▍   | 370/579 [10:34<05:58,  1.71s/it]"
     ]
    },
    {
     "name": "stdout",
     "output_type": "stream",
     "text": [
      "The video shows a group of men playing rugby on the field. They are wearing red and blue jerseys. The game is intense, with players running up against each other to gain possession of the ball. One player in a blue jersey is tackled by another player in a red jersey. There are also several referees present who are closely monitoring the game.\n",
      "QA_GT_caption_based_noisy\n"
     ]
    },
    {
     "name": "stderr",
     "output_type": "stream",
     "text": [
      "/home/ubuntu/.cache/huggingface/modules/transformers_modules/DAMO-NLP-SG/VideoLLaMA3-2B/562961752c456a26c46194130f9479dbb01ee582/modeling_videollama3.py:384: FutureWarning: `num_logits_to_keep` is deprecated and will be removed in version 4.50 for `Videollama3Qwen2ForCausalLM.forward`. Use `logits_to_keep` instead.\n",
      "  return super().forward(\n",
      " 64%|██████▍   | 371/579 [10:36<05:56,  1.71s/it]"
     ]
    },
    {
     "name": "stdout",
     "output_type": "stream",
     "text": [
      "In the video, a man is standing in front of a wall with posters and shelves. He is wearing a shirt that has an anime character on it. There are also some pictures hanging above him. The man gestures towards his face while talking to the camera.\n"
     ]
    },
    {
     "name": "stderr",
     "output_type": "stream",
     "text": [
      "/home/ubuntu/.cache/huggingface/modules/transformers_modules/DAMO-NLP-SG/VideoLLaMA3-2B/562961752c456a26c46194130f9479dbb01ee582/modeling_videollama3.py:384: FutureWarning: `num_logits_to_keep` is deprecated and will be removed in version 4.50 for `Videollama3Qwen2ForCausalLM.forward`. Use `logits_to_keep` instead.\n",
      "  return super().forward(\n",
      " 64%|██████▍   | 372/579 [10:37<05:18,  1.54s/it]"
     ]
    },
    {
     "name": "stdout",
     "output_type": "stream",
     "text": [
      "The video features a man in sunglasses who is talking to the camera. The background shows people playing cricket and practicing their skills on a field.\n"
     ]
    },
    {
     "name": "stderr",
     "output_type": "stream",
     "text": [
      "/home/ubuntu/.cache/huggingface/modules/transformers_modules/DAMO-NLP-SG/VideoLLaMA3-2B/562961752c456a26c46194130f9479dbb01ee582/modeling_videollama3.py:384: FutureWarning: `num_logits_to_keep` is deprecated and will be removed in version 4.50 for `Videollama3Qwen2ForCausalLM.forward`. Use `logits_to_keep` instead.\n",
      "  return super().forward(\n",
      " 64%|██████▍   | 373/579 [10:39<05:40,  1.65s/it]"
     ]
    },
    {
     "name": "stdout",
     "output_type": "stream",
     "text": [
      "In the video, a man is seen working out in his home gym. He starts by jumping up and down on the floor while holding an open book. After that, he does push ups with the same book underneath him. Then, he jumps up again before going to the weight room where he lifts weights for his back muscles.\n"
     ]
    },
    {
     "name": "stderr",
     "output_type": "stream",
     "text": [
      "/home/ubuntu/.cache/huggingface/modules/transformers_modules/DAMO-NLP-SG/VideoLLaMA3-2B/562961752c456a26c46194130f9479dbb01ee582/modeling_videollama3.py:384: FutureWarning: `num_logits_to_keep` is deprecated and will be removed in version 4.50 for `Videollama3Qwen2ForCausalLM.forward`. Use `logits_to_keep` instead.\n",
      "  return super().forward(\n",
      " 65%|██████▍   | 374/579 [10:41<05:32,  1.62s/it]"
     ]
    },
    {
     "name": "stdout",
     "output_type": "stream",
     "text": [
      "The video shows a man wearing glasses who appears to be speaking. There are several logos of different sports teams shown behind him, including the one for Arsenal and Liverpool FC. The background is mostly red with white splashes on it.\n"
     ]
    },
    {
     "name": "stderr",
     "output_type": "stream",
     "text": [
      "/home/ubuntu/.cache/huggingface/modules/transformers_modules/DAMO-NLP-SG/VideoLLaMA3-2B/562961752c456a26c46194130f9479dbb01ee582/modeling_videollama3.py:384: FutureWarning: `num_logits_to_keep` is deprecated and will be removed in version 4.50 for `Videollama3Qwen2ForCausalLM.forward`. Use `logits_to_keep` instead.\n",
      "  return super().forward(\n",
      " 65%|██████▍   | 375/579 [10:43<06:13,  1.83s/it]"
     ]
    },
    {
     "name": "stdout",
     "output_type": "stream",
     "text": [
      "The video shows a man in a blue shirt and black shorts standing on an indoor field. He is holding two footballs, one in each hand. Another person walks into the frame and starts to pass him the ball from one hand to another. The first person catches the ball with his hands while the second person continues to toss it over his head. They seem to be practicing passing drills for football training.\n"
     ]
    },
    {
     "name": "stderr",
     "output_type": "stream",
     "text": [
      "/home/ubuntu/.cache/huggingface/modules/transformers_modules/DAMO-NLP-SG/VideoLLaMA3-2B/562961752c456a26c46194130f9479dbb01ee582/modeling_videollama3.py:384: FutureWarning: `num_logits_to_keep` is deprecated and will be removed in version 4.50 for `Videollama3Qwen2ForCausalLM.forward`. Use `logits_to_keep` instead.\n",
      "  return super().forward(\n",
      " 65%|██████▍   | 376/579 [10:45<06:06,  1.81s/it]"
     ]
    },
    {
     "name": "stdout",
     "output_type": "stream",
     "text": [
      "The video shows a race car driving on the track, with two cars racing side by side. There is also footage of a person in an orange suit holding up a trophy and another shot of someone in an orange jacket standing still while holding a trophy above their head.\n"
     ]
    },
    {
     "name": "stderr",
     "output_type": "stream",
     "text": [
      "/home/ubuntu/.cache/huggingface/modules/transformers_modules/DAMO-NLP-SG/VideoLLaMA3-2B/562961752c456a26c46194130f9479dbb01ee582/modeling_videollama3.py:384: FutureWarning: `num_logits_to_keep` is deprecated and will be removed in version 4.50 for `Videollama3Qwen2ForCausalLM.forward`. Use `logits_to_keep` instead.\n",
      "  return super().forward(\n",
      " 65%|██████▌   | 377/579 [10:49<08:35,  2.55s/it]"
     ]
    },
    {
     "name": "stdout",
     "output_type": "stream",
     "text": [
      "The video shows a group of young children dressed in white martial arts uniforms. They are standing together, ready to practice their moves and techniques under the guidance of an instructor. The children then move into various areas where they engage in different activities related to martial arts training.\n",
      "Throughout the video, we see several shots of people practicing different types of exercises such as weightlifting, boxing, kickboxing, and wrestling. Some scenes show individuals sparring or engaging in other combat sports like mixed martial arts (MMA). There is also footage of people working out on treadmills, elliptical machines, and stationary bikes.\n",
      "Overall, the video showcases a variety of physical activities that focus on strength, endurance, coordination, and agility. It emphasizes the importance of regular exercise and promotes healthy lifestyles for all ages.\n"
     ]
    },
    {
     "name": "stderr",
     "output_type": "stream",
     "text": [
      "/home/ubuntu/.cache/huggingface/modules/transformers_modules/DAMO-NLP-SG/VideoLLaMA3-2B/562961752c456a26c46194130f9479dbb01ee582/modeling_videollama3.py:384: FutureWarning: `num_logits_to_keep` is deprecated and will be removed in version 4.50 for `Videollama3Qwen2ForCausalLM.forward`. Use `logits_to_keep` instead.\n",
      "  return super().forward(\n",
      " 65%|██████▌   | 378/579 [10:51<07:46,  2.32s/it]"
     ]
    },
    {
     "name": "stdout",
     "output_type": "stream",
     "text": [
      "The video shows a boxing match between two men. One of the fighters is celebrating his victory by raising his arms in triumph while the other fighter looks on with disappointment. The crowd is cheering and applauding for the winner, who is holding up his hand to acknowledge their support.\n"
     ]
    },
    {
     "name": "stderr",
     "output_type": "stream",
     "text": [
      "/home/ubuntu/.cache/huggingface/modules/transformers_modules/DAMO-NLP-SG/VideoLLaMA3-2B/562961752c456a26c46194130f9479dbb01ee582/modeling_videollama3.py:384: FutureWarning: `num_logits_to_keep` is deprecated and will be removed in version 4.50 for `Videollama3Qwen2ForCausalLM.forward`. Use `logits_to_keep` instead.\n",
      "  return super().forward(\n",
      " 65%|██████▌   | 379/579 [10:54<08:20,  2.50s/it]"
     ]
    },
    {
     "name": "stdout",
     "output_type": "stream",
     "text": [
      "The video features a series of scenes from an animated show. It starts with a character standing on the ground, followed by several characters running towards him while holding weapons. Then, there is a scene where two people are shown in a dark room. The next scene shows a man and woman walking together. Later, we see a person sitting down, followed by another scene where a group of people are shown. Finally, there is a scene featuring two men playing tennis against each other.\n",
      "QA_GT_caption_based_noisy\n"
     ]
    },
    {
     "name": "stderr",
     "output_type": "stream",
     "text": [
      "/home/ubuntu/.cache/huggingface/modules/transformers_modules/DAMO-NLP-SG/VideoLLaMA3-2B/562961752c456a26c46194130f9479dbb01ee582/modeling_videollama3.py:384: FutureWarning: `num_logits_to_keep` is deprecated and will be removed in version 4.50 for `Videollama3Qwen2ForCausalLM.forward`. Use `logits_to_keep` instead.\n",
      "  return super().forward(\n",
      " 66%|██████▌   | 380/579 [10:55<07:10,  2.17s/it]"
     ]
    },
    {
     "name": "stdout",
     "output_type": "stream",
     "text": [
      "The video shows a group of athletes competing in a running race on an outdoor track. The camera focuses on their progress as they run, and there are also close-up shots of some runners.\n"
     ]
    },
    {
     "name": "stderr",
     "output_type": "stream",
     "text": [
      "/home/ubuntu/.cache/huggingface/modules/transformers_modules/DAMO-NLP-SG/VideoLLaMA3-2B/562961752c456a26c46194130f9479dbb01ee582/modeling_videollama3.py:384: FutureWarning: `num_logits_to_keep` is deprecated and will be removed in version 4.50 for `Videollama3Qwen2ForCausalLM.forward`. Use `logits_to_keep` instead.\n",
      "  return super().forward(\n",
      " 66%|██████▌   | 381/579 [10:57<06:43,  2.04s/it]"
     ]
    },
    {
     "name": "stdout",
     "output_type": "stream",
     "text": [
      "The video shows a group of young girls playing soccer in a park. They are running after the ball and kicking it around, while some adults are watching them play. The players seem to be having fun and enjoying themselves as they run back and forth on the field.\n"
     ]
    },
    {
     "name": "stderr",
     "output_type": "stream",
     "text": [
      "/home/ubuntu/.cache/huggingface/modules/transformers_modules/DAMO-NLP-SG/VideoLLaMA3-2B/562961752c456a26c46194130f9479dbb01ee582/modeling_videollama3.py:384: FutureWarning: `num_logits_to_keep` is deprecated and will be removed in version 4.50 for `Videollama3Qwen2ForCausalLM.forward`. Use `logits_to_keep` instead.\n",
      "  return super().forward(\n",
      " 66%|██████▌   | 382/579 [10:59<06:50,  2.08s/it]"
     ]
    },
    {
     "name": "stdout",
     "output_type": "stream",
     "text": [
      "The video shows various scenes of people participating in track and field events. There are shots of athletes running, jumping, and competing in different races. It also includes footage of coaches giving instructions to their teams and spectators watching the events from the stands. The video showcases the dedication, hard work, and athleticism involved in these sports.\n",
      "QA_GT_caption_based_noisy\n"
     ]
    },
    {
     "name": "stderr",
     "output_type": "stream",
     "text": [
      "/home/ubuntu/.cache/huggingface/modules/transformers_modules/DAMO-NLP-SG/VideoLLaMA3-2B/562961752c456a26c46194130f9479dbb01ee582/modeling_videollama3.py:384: FutureWarning: `num_logits_to_keep` is deprecated and will be removed in version 4.50 for `Videollama3Qwen2ForCausalLM.forward`. Use `logits_to_keep` instead.\n",
      "  return super().forward(\n",
      " 66%|██████▌   | 383/579 [11:00<05:59,  1.83s/it]"
     ]
    },
    {
     "name": "stdout",
     "output_type": "stream",
     "text": [
      "The video shows a group of football players and coaches on the field. They are practicing throwing and catching footballs while being watched by other people, including reporters.\n"
     ]
    },
    {
     "name": "stderr",
     "output_type": "stream",
     "text": [
      "/home/ubuntu/.cache/huggingface/modules/transformers_modules/DAMO-NLP-SG/VideoLLaMA3-2B/562961752c456a26c46194130f9479dbb01ee582/modeling_videollama3.py:384: FutureWarning: `num_logits_to_keep` is deprecated and will be removed in version 4.50 for `Videollama3Qwen2ForCausalLM.forward`. Use `logits_to_keep` instead.\n",
      "  return super().forward(\n",
      " 66%|██████▋   | 384/579 [11:02<06:06,  1.88s/it]"
     ]
    },
    {
     "name": "stdout",
     "output_type": "stream",
     "text": [
      "The video shows a basketball game in progress. A player wearing black and yellow is dribbling the ball, while players from both teams are trying to block him. One of the players successfully makes a shot and celebrates by jumping up and down. The crowd cheers as he scores the basket.\n",
      "QA_GT_caption_based_noisy\n"
     ]
    },
    {
     "name": "stderr",
     "output_type": "stream",
     "text": [
      "/home/ubuntu/.cache/huggingface/modules/transformers_modules/DAMO-NLP-SG/VideoLLaMA3-2B/562961752c456a26c46194130f9479dbb01ee582/modeling_videollama3.py:384: FutureWarning: `num_logits_to_keep` is deprecated and will be removed in version 4.50 for `Videollama3Qwen2ForCausalLM.forward`. Use `logits_to_keep` instead.\n",
      "  return super().forward(\n",
      " 66%|██████▋   | 385/579 [11:03<05:26,  1.68s/it]"
     ]
    },
    {
     "name": "stdout",
     "output_type": "stream",
     "text": [
      "The video shows a man standing in front of a screen, looking at it and smiling. He seems to be enjoying himself while watching the content on the screen.\n"
     ]
    },
    {
     "name": "stderr",
     "output_type": "stream",
     "text": [
      "/home/ubuntu/.cache/huggingface/modules/transformers_modules/DAMO-NLP-SG/VideoLLaMA3-2B/562961752c456a26c46194130f9479dbb01ee582/modeling_videollama3.py:384: FutureWarning: `num_logits_to_keep` is deprecated and will be removed in version 4.50 for `Videollama3Qwen2ForCausalLM.forward`. Use `logits_to_keep` instead.\n",
      "  return super().forward(\n",
      " 67%|██████▋   | 386/579 [11:05<04:59,  1.55s/it]"
     ]
    },
    {
     "name": "stdout",
     "output_type": "stream",
     "text": [
      "In the video, a man wearing a black hoodie is crowd surfing at a concert. The crowd is cheering and waving their hands in excitement as he moves through them.\n"
     ]
    },
    {
     "name": "stderr",
     "output_type": "stream",
     "text": [
      "/home/ubuntu/.cache/huggingface/modules/transformers_modules/DAMO-NLP-SG/VideoLLaMA3-2B/562961752c456a26c46194130f9479dbb01ee582/modeling_videollama3.py:384: FutureWarning: `num_logits_to_keep` is deprecated and will be removed in version 4.50 for `Videollama3Qwen2ForCausalLM.forward`. Use `logits_to_keep` instead.\n",
      "  return super().forward(\n",
      " 67%|██████▋   | 387/579 [11:06<04:24,  1.38s/it]"
     ]
    },
    {
     "name": "stdout",
     "output_type": "stream",
     "text": [
      "The video shows a man in a pink sweatshirt talking to the camera. He is giving interview tips and making hand gestures while speaking.\n"
     ]
    },
    {
     "name": "stderr",
     "output_type": "stream",
     "text": [
      "/home/ubuntu/.cache/huggingface/modules/transformers_modules/DAMO-NLP-SG/VideoLLaMA3-2B/562961752c456a26c46194130f9479dbb01ee582/modeling_videollama3.py:384: FutureWarning: `num_logits_to_keep` is deprecated and will be removed in version 4.50 for `Videollama3Qwen2ForCausalLM.forward`. Use `logits_to_keep` instead.\n",
      "  return super().forward(\n",
      " 67%|██████▋   | 388/579 [11:07<04:30,  1.42s/it]"
     ]
    },
    {
     "name": "stdout",
     "output_type": "stream",
     "text": [
      "A group of football players are huddled together before running onto the field. They play a game with another team, and one player gets tackled to the ground. The crowd cheers as they run up against each other.\n"
     ]
    },
    {
     "name": "stderr",
     "output_type": "stream",
     "text": [
      "/home/ubuntu/.cache/huggingface/modules/transformers_modules/DAMO-NLP-SG/VideoLLaMA3-2B/562961752c456a26c46194130f9479dbb01ee582/modeling_videollama3.py:384: FutureWarning: `num_logits_to_keep` is deprecated and will be removed in version 4.50 for `Videollama3Qwen2ForCausalLM.forward`. Use `logits_to_keep` instead.\n",
      "  return super().forward(\n",
      " 67%|██████▋   | 389/579 [11:09<04:38,  1.47s/it]"
     ]
    },
    {
     "name": "stdout",
     "output_type": "stream",
     "text": [
      "The video shows a computer screen with an animated game on it. The person playing the game is standing in front of a building, and there are boxes around them. They can be seen moving their arms and legs while interacting with the game.\n"
     ]
    },
    {
     "name": "stderr",
     "output_type": "stream",
     "text": [
      "/home/ubuntu/.cache/huggingface/modules/transformers_modules/DAMO-NLP-SG/VideoLLaMA3-2B/562961752c456a26c46194130f9479dbb01ee582/modeling_videollama3.py:384: FutureWarning: `num_logits_to_keep` is deprecated and will be removed in version 4.50 for `Videollama3Qwen2ForCausalLM.forward`. Use `logits_to_keep` instead.\n",
      "  return super().forward(\n",
      " 67%|██████▋   | 390/579 [11:11<05:34,  1.77s/it]"
     ]
    },
    {
     "name": "stdout",
     "output_type": "stream",
     "text": [
      "The video shows a group of people sitting at a table and discussing something. Then, the scene changes to a woman with red hair who is lying on her stomach and writing in a notebook. She appears to be thinking about what she is writing. Finally, there are three men sitting behind a podium talking. The overall tone of the video seems to suggest that these individuals are involved in some kind of business or professional discussion.\n"
     ]
    },
    {
     "name": "stderr",
     "output_type": "stream",
     "text": [
      "/home/ubuntu/.cache/huggingface/modules/transformers_modules/DAMO-NLP-SG/VideoLLaMA3-2B/562961752c456a26c46194130f9479dbb01ee582/modeling_videollama3.py:384: FutureWarning: `num_logits_to_keep` is deprecated and will be removed in version 4.50 for `Videollama3Qwen2ForCausalLM.forward`. Use `logits_to_keep` instead.\n",
      "  return super().forward(\n",
      " 68%|██████▊   | 391/579 [11:13<05:28,  1.75s/it]"
     ]
    },
    {
     "name": "stdout",
     "output_type": "stream",
     "text": [
      "The video shows a group of people standing outside on an airplane. The scene then transitions to the same group inside the plane, with one man walking down a hallway while another man is looking at his phone. There are also two men sitting in chairs and talking.\n"
     ]
    },
    {
     "name": "stderr",
     "output_type": "stream",
     "text": [
      "/home/ubuntu/.cache/huggingface/modules/transformers_modules/DAMO-NLP-SG/VideoLLaMA3-2B/562961752c456a26c46194130f9479dbb01ee582/modeling_videollama3.py:384: FutureWarning: `num_logits_to_keep` is deprecated and will be removed in version 4.50 for `Videollama3Qwen2ForCausalLM.forward`. Use `logits_to_keep` instead.\n",
      "  return super().forward(\n",
      " 68%|██████▊   | 392/579 [11:15<05:44,  1.84s/it]"
     ]
    },
    {
     "name": "stdout",
     "output_type": "stream",
     "text": [
      "The video starts with a hand writing the words \"Draw my life\" on a white board. Then, another person draws a map of the United States and adds an arrow pointing to Washington state, which is labeled as Aberdeen Washington. The drawing also includes two people in suits, presumably Kurt Cobain's parents, along with their children.\n"
     ]
    },
    {
     "name": "stderr",
     "output_type": "stream",
     "text": [
      "/home/ubuntu/.cache/huggingface/modules/transformers_modules/DAMO-NLP-SG/VideoLLaMA3-2B/562961752c456a26c46194130f9479dbb01ee582/modeling_videollama3.py:384: FutureWarning: `num_logits_to_keep` is deprecated and will be removed in version 4.50 for `Videollama3Qwen2ForCausalLM.forward`. Use `logits_to_keep` instead.\n",
      "  return super().forward(\n",
      " 68%|██████▊   | 393/579 [11:17<05:33,  1.79s/it]"
     ]
    },
    {
     "name": "stdout",
     "output_type": "stream",
     "text": [
      "In the video, a man is seen walking into view and standing in front of some lights. He then turns around to face away from the camera while another person appears behind him. The first person walks off screen before the second person disappears as well.\n"
     ]
    },
    {
     "name": "stderr",
     "output_type": "stream",
     "text": [
      "/home/ubuntu/.cache/huggingface/modules/transformers_modules/DAMO-NLP-SG/VideoLLaMA3-2B/562961752c456a26c46194130f9479dbb01ee582/modeling_videollama3.py:384: FutureWarning: `num_logits_to_keep` is deprecated and will be removed in version 4.50 for `Videollama3Qwen2ForCausalLM.forward`. Use `logits_to_keep` instead.\n",
      "  return super().forward(\n",
      " 68%|██████▊   | 394/579 [11:19<05:47,  1.88s/it]"
     ]
    },
    {
     "name": "stdout",
     "output_type": "stream",
     "text": [
      "A young man in a green and white football jersey is practicing his throwing technique on a field. He starts by holding the ball at chest level, then throws it overhand to his right side. The camera follows him as he runs forward while keeping his eye on the ball. After releasing the ball, he continues running until he reaches a line of cones.\n"
     ]
    },
    {
     "name": "stderr",
     "output_type": "stream",
     "text": [
      "/home/ubuntu/.cache/huggingface/modules/transformers_modules/DAMO-NLP-SG/VideoLLaMA3-2B/562961752c456a26c46194130f9479dbb01ee582/modeling_videollama3.py:384: FutureWarning: `num_logits_to_keep` is deprecated and will be removed in version 4.50 for `Videollama3Qwen2ForCausalLM.forward`. Use `logits_to_keep` instead.\n",
      "  return super().forward(\n",
      " 68%|██████▊   | 395/579 [11:20<05:22,  1.75s/it]"
     ]
    },
    {
     "name": "stdout",
     "output_type": "stream",
     "text": [
      "The video begins with a title screen that says \"Home of Football\" and then transitions to a football stadium. The camera pans around the field, showing people walking around and a green light on top of it.\n"
     ]
    },
    {
     "name": "stderr",
     "output_type": "stream",
     "text": [
      "/home/ubuntu/.cache/huggingface/modules/transformers_modules/DAMO-NLP-SG/VideoLLaMA3-2B/562961752c456a26c46194130f9479dbb01ee582/modeling_videollama3.py:384: FutureWarning: `num_logits_to_keep` is deprecated and will be removed in version 4.50 for `Videollama3Qwen2ForCausalLM.forward`. Use `logits_to_keep` instead.\n",
      "  return super().forward(\n",
      " 68%|██████▊   | 396/579 [11:22<05:11,  1.70s/it]"
     ]
    },
    {
     "name": "stdout",
     "output_type": "stream",
     "text": [
      "The video shows a young man holding a baseball bat and talking to the camera. He then runs around a baseball field, catching a ball thrown by another player. The scene is set in an outdoor stadium with mountains visible in the background.\n"
     ]
    },
    {
     "name": "stderr",
     "output_type": "stream",
     "text": [
      "/home/ubuntu/.cache/huggingface/modules/transformers_modules/DAMO-NLP-SG/VideoLLaMA3-2B/562961752c456a26c46194130f9479dbb01ee582/modeling_videollama3.py:384: FutureWarning: `num_logits_to_keep` is deprecated and will be removed in version 4.50 for `Videollama3Qwen2ForCausalLM.forward`. Use `logits_to_keep` instead.\n",
      "  return super().forward(\n",
      " 69%|██████▊   | 397/579 [11:23<05:07,  1.69s/it]"
     ]
    },
    {
     "name": "stdout",
     "output_type": "stream",
     "text": [
      "The video starts with a logo of Franciscan Health. Then, we see a woman in scrubs holding up a stethoscope and smiling at the camera while talking about her job as an RN (Registered Nurse) working on a medical team.\n"
     ]
    },
    {
     "name": "stderr",
     "output_type": "stream",
     "text": [
      "/home/ubuntu/.cache/huggingface/modules/transformers_modules/DAMO-NLP-SG/VideoLLaMA3-2B/562961752c456a26c46194130f9479dbb01ee582/modeling_videollama3.py:384: FutureWarning: `num_logits_to_keep` is deprecated and will be removed in version 4.50 for `Videollama3Qwen2ForCausalLM.forward`. Use `logits_to_keep` instead.\n",
      "  return super().forward(\n",
      " 69%|██████▊   | 398/579 [11:25<05:02,  1.67s/it]"
     ]
    },
    {
     "name": "stdout",
     "output_type": "stream",
     "text": [
      "The video starts with a man talking about mental toughness. Then, the screen flashes to show the words \"Mental Toughness.\" Finally, the man appears again in front of a television set and talks more about building confidence for football players.\n"
     ]
    },
    {
     "name": "stderr",
     "output_type": "stream",
     "text": [
      "/home/ubuntu/.cache/huggingface/modules/transformers_modules/DAMO-NLP-SG/VideoLLaMA3-2B/562961752c456a26c46194130f9479dbb01ee582/modeling_videollama3.py:384: FutureWarning: `num_logits_to_keep` is deprecated and will be removed in version 4.50 for `Videollama3Qwen2ForCausalLM.forward`. Use `logits_to_keep` instead.\n",
      "  return super().forward(\n",
      " 69%|██████▉   | 399/579 [11:27<04:58,  1.66s/it]"
     ]
    },
    {
     "name": "stdout",
     "output_type": "stream",
     "text": [
      "The video shows a man on a motorcycle racing around a track. He is wearing an orange and black helmet, and there are other people in the background watching him. The man speeds past a sign that says \"Little One\" and then continues to race down the track.\n"
     ]
    },
    {
     "name": "stderr",
     "output_type": "stream",
     "text": [
      "/home/ubuntu/.cache/huggingface/modules/transformers_modules/DAMO-NLP-SG/VideoLLaMA3-2B/562961752c456a26c46194130f9479dbb01ee582/modeling_videollama3.py:384: FutureWarning: `num_logits_to_keep` is deprecated and will be removed in version 4.50 for `Videollama3Qwen2ForCausalLM.forward`. Use `logits_to_keep` instead.\n",
      "  return super().forward(\n",
      " 69%|██████▉   | 400/579 [11:30<06:33,  2.20s/it]"
     ]
    },
    {
     "name": "stdout",
     "output_type": "stream",
     "text": [
      "The video features a series of black and white images that showcase the life and career of Alice Davis, an animator who worked at Disney. It begins with an image of her wearing a headband, followed by another image where she is sitting in front of a bookcase. The next few frames show various photos of her throughout her career, including one where she is holding papers while seated.\n",
      "Afterward, the video shifts to a photo of a restaurant called Tam O'Shanter, which appears to be located near Disneyland. This scene seems unrelated to Alice Davis' work but provides a glimpse into her personal interests or associations.\n"
     ]
    },
    {
     "name": "stderr",
     "output_type": "stream",
     "text": [
      "/home/ubuntu/.cache/huggingface/modules/transformers_modules/DAMO-NLP-SG/VideoLLaMA3-2B/562961752c456a26c46194130f9479dbb01ee582/modeling_videollama3.py:384: FutureWarning: `num_logits_to_keep` is deprecated and will be removed in version 4.50 for `Videollama3Qwen2ForCausalLM.forward`. Use `logits_to_keep` instead.\n",
      "  return super().forward(\n",
      " 69%|██████▉   | 401/579 [11:33<06:44,  2.28s/it]"
     ]
    },
    {
     "name": "stdout",
     "output_type": "stream",
     "text": [
      "The video shows a group of people participating in various activities. It starts with two teams playing football on the field, then transitions to different scenes including a woman packing items into a box, people standing and walking around at an event or gathering, children waving from their car windows while holding bags, and young boys posing for photos. The video ends with one boy talking about his team's victory.\n",
      "QA_GT_caption_based_noisy\n"
     ]
    },
    {
     "name": "stderr",
     "output_type": "stream",
     "text": [
      "/home/ubuntu/.cache/huggingface/modules/transformers_modules/DAMO-NLP-SG/VideoLLaMA3-2B/562961752c456a26c46194130f9479dbb01ee582/modeling_videollama3.py:384: FutureWarning: `num_logits_to_keep` is deprecated and will be removed in version 4.50 for `Videollama3Qwen2ForCausalLM.forward`. Use `logits_to_keep` instead.\n",
      "  return super().forward(\n",
      " 69%|██████▉   | 402/579 [11:34<05:58,  2.03s/it]"
     ]
    },
    {
     "name": "stdout",
     "output_type": "stream",
     "text": [
      "The video shows two men playing basketball in a gym. One of the men jumps and dunks the ball while his friend watches him from behind. The scene then transitions to another man speaking into a microphone.\n"
     ]
    },
    {
     "name": "stderr",
     "output_type": "stream",
     "text": [
      "/home/ubuntu/.cache/huggingface/modules/transformers_modules/DAMO-NLP-SG/VideoLLaMA3-2B/562961752c456a26c46194130f9479dbb01ee582/modeling_videollama3.py:384: FutureWarning: `num_logits_to_keep` is deprecated and will be removed in version 4.50 for `Videollama3Qwen2ForCausalLM.forward`. Use `logits_to_keep` instead.\n",
      "  return super().forward(\n",
      " 70%|██████▉   | 403/579 [11:35<05:25,  1.85s/it]"
     ]
    },
    {
     "name": "stdout",
     "output_type": "stream",
     "text": [
      "The video shows a woman in uniform walking towards a door. She then enters an office where two other people are working at their computers. The woman is seen looking around the room, and there are many monitors on display.\n"
     ]
    },
    {
     "name": "stderr",
     "output_type": "stream",
     "text": [
      "/home/ubuntu/.cache/huggingface/modules/transformers_modules/DAMO-NLP-SG/VideoLLaMA3-2B/562961752c456a26c46194130f9479dbb01ee582/modeling_videollama3.py:384: FutureWarning: `num_logits_to_keep` is deprecated and will be removed in version 4.50 for `Videollama3Qwen2ForCausalLM.forward`. Use `logits_to_keep` instead.\n",
      "  return super().forward(\n",
      " 70%|██████▉   | 404/579 [11:38<05:54,  2.03s/it]"
     ]
    },
    {
     "name": "stdout",
     "output_type": "stream",
     "text": [
      "The video shows a young man putting on his uniform and getting ready to go. He is seen putting on a helmet, goggles, and other protective gear before he begins training exercises in the fire station. The footage captures him practicing various firefighting techniques such as rescuing a dummy from a simulated fire scene. Overall, it provides an insight into what firefighters do for their training and prepares them for real-life emergencies.\n"
     ]
    },
    {
     "name": "stderr",
     "output_type": "stream",
     "text": [
      "/home/ubuntu/.cache/huggingface/modules/transformers_modules/DAMO-NLP-SG/VideoLLaMA3-2B/562961752c456a26c46194130f9479dbb01ee582/modeling_videollama3.py:384: FutureWarning: `num_logits_to_keep` is deprecated and will be removed in version 4.50 for `Videollama3Qwen2ForCausalLM.forward`. Use `logits_to_keep` instead.\n",
      "  return super().forward(\n",
      " 70%|██████▉   | 405/579 [11:39<04:59,  1.72s/it]"
     ]
    },
    {
     "name": "stdout",
     "output_type": "stream",
     "text": [
      "In the video, a man is seen standing on a tennis court and talking to someone. He then walks over to serve the ball during a match.\n"
     ]
    },
    {
     "name": "stderr",
     "output_type": "stream",
     "text": [
      "/home/ubuntu/.cache/huggingface/modules/transformers_modules/DAMO-NLP-SG/VideoLLaMA3-2B/562961752c456a26c46194130f9479dbb01ee582/modeling_videollama3.py:384: FutureWarning: `num_logits_to_keep` is deprecated and will be removed in version 4.50 for `Videollama3Qwen2ForCausalLM.forward`. Use `logits_to_keep` instead.\n",
      "  return super().forward(\n",
      " 70%|███████   | 406/579 [11:40<04:44,  1.64s/it]"
     ]
    },
    {
     "name": "stdout",
     "output_type": "stream",
     "text": [
      "A group of roller skaters are competing in a competition. They are wearing protective gear and skating on the rink. One team is trying to block another team from passing by, while referees watch the match.\n"
     ]
    },
    {
     "name": "stderr",
     "output_type": "stream",
     "text": [
      "/home/ubuntu/.cache/huggingface/modules/transformers_modules/DAMO-NLP-SG/VideoLLaMA3-2B/562961752c456a26c46194130f9479dbb01ee582/modeling_videollama3.py:384: FutureWarning: `num_logits_to_keep` is deprecated and will be removed in version 4.50 for `Videollama3Qwen2ForCausalLM.forward`. Use `logits_to_keep` instead.\n",
      "  return super().forward(\n",
      " 70%|███████   | 407/579 [11:43<05:08,  1.79s/it]"
     ]
    },
    {
     "name": "stdout",
     "output_type": "stream",
     "text": [
      "The video shows a basketball game between two teams, one in blue and the other in yellow. During the game, a player from the team in blue attempts to shoot the ball but misses it. The player then goes for another shot while being closely guarded by players from the opposing team. Despite his efforts, he is unable to make the shot as well.\n"
     ]
    },
    {
     "name": "stderr",
     "output_type": "stream",
     "text": [
      "/home/ubuntu/.cache/huggingface/modules/transformers_modules/DAMO-NLP-SG/VideoLLaMA3-2B/562961752c456a26c46194130f9479dbb01ee582/modeling_videollama3.py:384: FutureWarning: `num_logits_to_keep` is deprecated and will be removed in version 4.50 for `Videollama3Qwen2ForCausalLM.forward`. Use `logits_to_keep` instead.\n",
      "  return super().forward(\n",
      " 70%|███████   | 408/579 [11:45<05:37,  1.97s/it]"
     ]
    },
    {
     "name": "stdout",
     "output_type": "stream",
     "text": [
      "In the video, a man is performing various acrobatic stunts on a set of monkey bars in his backyard. He starts by jumping and hanging from the top bar before swinging to another bar below him. The man then climbs up a wooden structure using only his hands and feet. Finally, he swings back and forth on a swingset while holding onto a ring that's suspended above flames.\n"
     ]
    },
    {
     "name": "stderr",
     "output_type": "stream",
     "text": [
      "/home/ubuntu/.cache/huggingface/modules/transformers_modules/DAMO-NLP-SG/VideoLLaMA3-2B/562961752c456a26c46194130f9479dbb01ee582/modeling_videollama3.py:384: FutureWarning: `num_logits_to_keep` is deprecated and will be removed in version 4.50 for `Videollama3Qwen2ForCausalLM.forward`. Use `logits_to_keep` instead.\n",
      "  return super().forward(\n",
      " 71%|███████   | 409/579 [11:46<04:53,  1.72s/it]"
     ]
    },
    {
     "name": "stdout",
     "output_type": "stream",
     "text": [
      "The video shows a cartoon pink star that is dancing and having fun. The star appears to be smiling and enjoying itself as it moves around the screen.\n"
     ]
    },
    {
     "name": "stderr",
     "output_type": "stream",
     "text": [
      "/home/ubuntu/.cache/huggingface/modules/transformers_modules/DAMO-NLP-SG/VideoLLaMA3-2B/562961752c456a26c46194130f9479dbb01ee582/modeling_videollama3.py:384: FutureWarning: `num_logits_to_keep` is deprecated and will be removed in version 4.50 for `Videollama3Qwen2ForCausalLM.forward`. Use `logits_to_keep` instead.\n",
      "  return super().forward(\n",
      " 71%|███████   | 410/579 [11:48<04:37,  1.64s/it]"
     ]
    },
    {
     "name": "stdout",
     "output_type": "stream",
     "text": [
      "The video shows two teams playing soccer in a stadium. The players are wearing different colored jerseys, and the ball is white. They kick the ball back and forth across the field while running around trying to score goals.\n"
     ]
    },
    {
     "name": "stderr",
     "output_type": "stream",
     "text": [
      "/home/ubuntu/.cache/huggingface/modules/transformers_modules/DAMO-NLP-SG/VideoLLaMA3-2B/562961752c456a26c46194130f9479dbb01ee582/modeling_videollama3.py:384: FutureWarning: `num_logits_to_keep` is deprecated and will be removed in version 4.50 for `Videollama3Qwen2ForCausalLM.forward`. Use `logits_to_keep` instead.\n",
      "  return super().forward(\n",
      " 71%|███████   | 411/579 [11:49<04:10,  1.49s/it]"
     ]
    },
    {
     "name": "stdout",
     "output_type": "stream",
     "text": [
      "The video shows a vintage television set displaying various images, including a map of Yellowstone National Park. It also displays text and numbers on the screen.\n"
     ]
    },
    {
     "name": "stderr",
     "output_type": "stream",
     "text": [
      "/home/ubuntu/.cache/huggingface/modules/transformers_modules/DAMO-NLP-SG/VideoLLaMA3-2B/562961752c456a26c46194130f9479dbb01ee582/modeling_videollama3.py:384: FutureWarning: `num_logits_to_keep` is deprecated and will be removed in version 4.50 for `Videollama3Qwen2ForCausalLM.forward`. Use `logits_to_keep` instead.\n",
      "  return super().forward(\n",
      " 71%|███████   | 412/579 [11:50<03:56,  1.42s/it]"
     ]
    },
    {
     "name": "stdout",
     "output_type": "stream",
     "text": [
      "The video shows a car race where two cars are racing against each other on the track. They are closely following one another, and there is an intense competition between them.\n"
     ]
    },
    {
     "name": "stderr",
     "output_type": "stream",
     "text": [
      "/home/ubuntu/.cache/huggingface/modules/transformers_modules/DAMO-NLP-SG/VideoLLaMA3-2B/562961752c456a26c46194130f9479dbb01ee582/modeling_videollama3.py:384: FutureWarning: `num_logits_to_keep` is deprecated and will be removed in version 4.50 for `Videollama3Qwen2ForCausalLM.forward`. Use `logits_to_keep` instead.\n",
      "  return super().forward(\n",
      " 71%|███████▏  | 413/579 [11:52<04:11,  1.52s/it]"
     ]
    },
    {
     "name": "stdout",
     "output_type": "stream",
     "text": [
      "The video shows a man in a basketball uniform playing against another player. There is also footage of a boxer and his trainer, as well as an athlete jumping into the air to make a basket during a game. The video seems to be showcasing different sports and athletes.\n"
     ]
    },
    {
     "name": "stderr",
     "output_type": "stream",
     "text": [
      "/home/ubuntu/.cache/huggingface/modules/transformers_modules/DAMO-NLP-SG/VideoLLaMA3-2B/562961752c456a26c46194130f9479dbb01ee582/modeling_videollama3.py:384: FutureWarning: `num_logits_to_keep` is deprecated and will be removed in version 4.50 for `Videollama3Qwen2ForCausalLM.forward`. Use `logits_to_keep` instead.\n",
      "  return super().forward(\n",
      " 72%|███████▏  | 414/579 [11:53<03:58,  1.45s/it]"
     ]
    },
    {
     "name": "stdout",
     "output_type": "stream",
     "text": [
      "In the video, a basketball player is seen running and then jumping over another player who is lying on the floor. The other players are also shown sitting around the court.\n"
     ]
    },
    {
     "name": "stderr",
     "output_type": "stream",
     "text": [
      "/home/ubuntu/.cache/huggingface/modules/transformers_modules/DAMO-NLP-SG/VideoLLaMA3-2B/562961752c456a26c46194130f9479dbb01ee582/modeling_videollama3.py:384: FutureWarning: `num_logits_to_keep` is deprecated and will be removed in version 4.50 for `Videollama3Qwen2ForCausalLM.forward`. Use `logits_to_keep` instead.\n",
      "  return super().forward(\n",
      " 72%|███████▏  | 415/579 [11:55<04:07,  1.51s/it]"
     ]
    },
    {
     "name": "stdout",
     "output_type": "stream",
     "text": [
      "The video shows a woman walking down the street while carrying a coffee cup. She is wearing a black suit jacket and white shirt. The scene then cuts to another woman who is sitting in front of a window, talking about her work as a government official.\n"
     ]
    },
    {
     "name": "stderr",
     "output_type": "stream",
     "text": [
      "/home/ubuntu/.cache/huggingface/modules/transformers_modules/DAMO-NLP-SG/VideoLLaMA3-2B/562961752c456a26c46194130f9479dbb01ee582/modeling_videollama3.py:384: FutureWarning: `num_logits_to_keep` is deprecated and will be removed in version 4.50 for `Videollama3Qwen2ForCausalLM.forward`. Use `logits_to_keep` instead.\n",
      "  return super().forward(\n",
      " 72%|███████▏  | 416/579 [11:57<04:52,  1.80s/it]"
     ]
    },
    {
     "name": "stdout",
     "output_type": "stream",
     "text": [
      "The video shows a group of men wearing racing suits and sunglasses. They are standing on the side of a race track, talking to each other. One man is holding his hand up to his ear like he's listening intently. There is also a car driving around in circles on the racetrack while another car drives past it with its lights flashing. The people are laughing at one point as well.\n"
     ]
    },
    {
     "name": "stderr",
     "output_type": "stream",
     "text": [
      "/home/ubuntu/.cache/huggingface/modules/transformers_modules/DAMO-NLP-SG/VideoLLaMA3-2B/562961752c456a26c46194130f9479dbb01ee582/modeling_videollama3.py:384: FutureWarning: `num_logits_to_keep` is deprecated and will be removed in version 4.50 for `Videollama3Qwen2ForCausalLM.forward`. Use `logits_to_keep` instead.\n",
      "  return super().forward(\n",
      " 72%|███████▏  | 417/579 [11:58<04:32,  1.68s/it]"
     ]
    },
    {
     "name": "stdout",
     "output_type": "stream",
     "text": [
      "The video shows a rugby game being played in front of a crowd. The players are wearing red and yellow uniforms, with one player carrying the ball. There is also a group of people playing on a field during the day.\n"
     ]
    },
    {
     "name": "stderr",
     "output_type": "stream",
     "text": [
      "/home/ubuntu/.cache/huggingface/modules/transformers_modules/DAMO-NLP-SG/VideoLLaMA3-2B/562961752c456a26c46194130f9479dbb01ee582/modeling_videollama3.py:384: FutureWarning: `num_logits_to_keep` is deprecated and will be removed in version 4.50 for `Videollama3Qwen2ForCausalLM.forward`. Use `logits_to_keep` instead.\n",
      "  return super().forward(\n",
      " 72%|███████▏  | 418/579 [12:00<04:15,  1.59s/it]"
     ]
    },
    {
     "name": "stdout",
     "output_type": "stream",
     "text": [
      "The video shows a man in a black shirt and shorts who is playing basketball. He is interviewed by another man holding a microphone, and then he walks out of the building with his team mates.\n"
     ]
    },
    {
     "name": "stderr",
     "output_type": "stream",
     "text": [
      "/home/ubuntu/.cache/huggingface/modules/transformers_modules/DAMO-NLP-SG/VideoLLaMA3-2B/562961752c456a26c46194130f9479dbb01ee582/modeling_videollama3.py:384: FutureWarning: `num_logits_to_keep` is deprecated and will be removed in version 4.50 for `Videollama3Qwen2ForCausalLM.forward`. Use `logits_to_keep` instead.\n",
      "  return super().forward(\n",
      " 72%|███████▏  | 419/579 [12:01<04:11,  1.57s/it]"
     ]
    },
    {
     "name": "stdout",
     "output_type": "stream",
     "text": [
      "The video features two women, Melina and Torrie Wilson, performing a dance routine on stage. They are both dressed in colorful outfits. The scene then shifts to them wrestling each other inside a ring while the crowd cheers loudly.\n"
     ]
    },
    {
     "name": "stderr",
     "output_type": "stream",
     "text": [
      "/home/ubuntu/.cache/huggingface/modules/transformers_modules/DAMO-NLP-SG/VideoLLaMA3-2B/562961752c456a26c46194130f9479dbb01ee582/modeling_videollama3.py:384: FutureWarning: `num_logits_to_keep` is deprecated and will be removed in version 4.50 for `Videollama3Qwen2ForCausalLM.forward`. Use `logits_to_keep` instead.\n",
      "  return super().forward(\n",
      " 73%|███████▎  | 420/579 [12:03<04:12,  1.59s/it]"
     ]
    },
    {
     "name": "stdout",
     "output_type": "stream",
     "text": [
      "The video shows a busy city street with cars passing by, and then transitions to show an older man using a leaf blower. The camera captures the bustling environment of the city before focusing on the elderly man who is working outside in his yard.\n"
     ]
    },
    {
     "name": "stderr",
     "output_type": "stream",
     "text": [
      "/home/ubuntu/.cache/huggingface/modules/transformers_modules/DAMO-NLP-SG/VideoLLaMA3-2B/562961752c456a26c46194130f9479dbb01ee582/modeling_videollama3.py:384: FutureWarning: `num_logits_to_keep` is deprecated and will be removed in version 4.50 for `Videollama3Qwen2ForCausalLM.forward`. Use `logits_to_keep` instead.\n",
      "  return super().forward(\n",
      " 73%|███████▎  | 421/579 [12:05<04:12,  1.60s/it]"
     ]
    },
    {
     "name": "stdout",
     "output_type": "stream",
     "text": [
      "The video shows a group of people playing ice hockey on an outdoor rink. They are wearing different colored uniforms and using sticks to hit the puck around. At one point, they score a goal and celebrate by jumping up and down in excitement.\n"
     ]
    },
    {
     "name": "stderr",
     "output_type": "stream",
     "text": [
      "/home/ubuntu/.cache/huggingface/modules/transformers_modules/DAMO-NLP-SG/VideoLLaMA3-2B/562961752c456a26c46194130f9479dbb01ee582/modeling_videollama3.py:384: FutureWarning: `num_logits_to_keep` is deprecated and will be removed in version 4.50 for `Videollama3Qwen2ForCausalLM.forward`. Use `logits_to_keep` instead.\n",
      "  return super().forward(\n",
      " 73%|███████▎  | 422/579 [12:06<03:58,  1.52s/it]"
     ]
    },
    {
     "name": "stdout",
     "output_type": "stream",
     "text": [
      "In the video, a man is sitting in front of a camera and talking about how to become successful in sales. He emphasizes that having experience in medical device sales is important for success.\n"
     ]
    },
    {
     "name": "stderr",
     "output_type": "stream",
     "text": [
      "/home/ubuntu/.cache/huggingface/modules/transformers_modules/DAMO-NLP-SG/VideoLLaMA3-2B/562961752c456a26c46194130f9479dbb01ee582/modeling_videollama3.py:384: FutureWarning: `num_logits_to_keep` is deprecated and will be removed in version 4.50 for `Videollama3Qwen2ForCausalLM.forward`. Use `logits_to_keep` instead.\n",
      "  return super().forward(\n",
      " 73%|███████▎  | 423/579 [12:08<04:12,  1.62s/it]"
     ]
    },
    {
     "name": "stdout",
     "output_type": "stream",
     "text": [
      "The video features a group of people at an expo, browsing through booths and merchandise. There are shots of the event's logo displayed on various clothing items such as shirts and sweatshirts. The video also includes interviews with vendors who discuss their products and services related to bodybuilding and fitness.\n"
     ]
    },
    {
     "name": "stderr",
     "output_type": "stream",
     "text": [
      "/home/ubuntu/.cache/huggingface/modules/transformers_modules/DAMO-NLP-SG/VideoLLaMA3-2B/562961752c456a26c46194130f9479dbb01ee582/modeling_videollama3.py:384: FutureWarning: `num_logits_to_keep` is deprecated and will be removed in version 4.50 for `Videollama3Qwen2ForCausalLM.forward`. Use `logits_to_keep` instead.\n",
      "  return super().forward(\n",
      " 73%|███████▎  | 424/579 [12:09<04:12,  1.63s/it]"
     ]
    },
    {
     "name": "stdout",
     "output_type": "stream",
     "text": [
      "The video shows a group of women running on an outdoor track. They are competing in a race and one of them, McLaughlin, crosses the finish line first. The other runners slow down as they approach the end of the race.\n"
     ]
    },
    {
     "name": "stderr",
     "output_type": "stream",
     "text": [
      "/home/ubuntu/.cache/huggingface/modules/transformers_modules/DAMO-NLP-SG/VideoLLaMA3-2B/562961752c456a26c46194130f9479dbb01ee582/modeling_videollama3.py:384: FutureWarning: `num_logits_to_keep` is deprecated and will be removed in version 4.50 for `Videollama3Qwen2ForCausalLM.forward`. Use `logits_to_keep` instead.\n",
      "  return super().forward(\n",
      " 73%|███████▎  | 425/579 [12:12<04:45,  1.85s/it]"
     ]
    },
    {
     "name": "stdout",
     "output_type": "stream",
     "text": [
      "The video begins with a crowd of people walking in the streets. Then, it shows a man wearing glasses who is standing and talking to someone. After that, there are shots of roller coasters at an amusement park. Next, the camera pans out from a person looking at a beach view through a fence. Finally, the video ends with another shot of the same person talking while sitting down.\n"
     ]
    },
    {
     "name": "stderr",
     "output_type": "stream",
     "text": [
      "/home/ubuntu/.cache/huggingface/modules/transformers_modules/DAMO-NLP-SG/VideoLLaMA3-2B/562961752c456a26c46194130f9479dbb01ee582/modeling_videollama3.py:384: FutureWarning: `num_logits_to_keep` is deprecated and will be removed in version 4.50 for `Videollama3Qwen2ForCausalLM.forward`. Use `logits_to_keep` instead.\n",
      "  return super().forward(\n",
      " 74%|███████▎  | 426/579 [12:14<04:59,  1.96s/it]"
     ]
    },
    {
     "name": "stdout",
     "output_type": "stream",
     "text": [
      "The video shows different people performing soccer tricks and juggling balls in various locations. Some are indoors, while others are outdoors on grass or turf fields. The players demonstrate their skills by bouncing the ball off their feet, knees, heads, and even tossing it over their shoulders. They showcase impressive coordination, balance, and control as they manipulate the ball with precision.\n"
     ]
    },
    {
     "name": "stderr",
     "output_type": "stream",
     "text": [
      "/home/ubuntu/.cache/huggingface/modules/transformers_modules/DAMO-NLP-SG/VideoLLaMA3-2B/562961752c456a26c46194130f9479dbb01ee582/modeling_videollama3.py:384: FutureWarning: `num_logits_to_keep` is deprecated and will be removed in version 4.50 for `Videollama3Qwen2ForCausalLM.forward`. Use `logits_to_keep` instead.\n",
      "  return super().forward(\n",
      " 74%|███████▎  | 427/579 [12:16<04:38,  1.83s/it]"
     ]
    },
    {
     "name": "stdout",
     "output_type": "stream",
     "text": [
      "The video shows a car racing on a track with trees in the background. There are also shots of two cars racing side by side, and one car drifting around corners. The video ends with a shot of several cars speeding past at night.\n"
     ]
    },
    {
     "name": "stderr",
     "output_type": "stream",
     "text": [
      "/home/ubuntu/.cache/huggingface/modules/transformers_modules/DAMO-NLP-SG/VideoLLaMA3-2B/562961752c456a26c46194130f9479dbb01ee582/modeling_videollama3.py:384: FutureWarning: `num_logits_to_keep` is deprecated and will be removed in version 4.50 for `Videollama3Qwen2ForCausalLM.forward`. Use `logits_to_keep` instead.\n",
      "  return super().forward(\n",
      " 74%|███████▍  | 428/579 [12:17<04:29,  1.79s/it]"
     ]
    },
    {
     "name": "stdout",
     "output_type": "stream",
     "text": [
      "In the video, two men are wrestling in a ring. One of them is wearing American flag shorts and red boots while the other one has black pants on. They seem to be having a heated exchange with each other as they engage in this intense match.\n"
     ]
    },
    {
     "name": "stderr",
     "output_type": "stream",
     "text": [
      "/home/ubuntu/.cache/huggingface/modules/transformers_modules/DAMO-NLP-SG/VideoLLaMA3-2B/562961752c456a26c46194130f9479dbb01ee582/modeling_videollama3.py:384: FutureWarning: `num_logits_to_keep` is deprecated and will be removed in version 4.50 for `Videollama3Qwen2ForCausalLM.forward`. Use `logits_to_keep` instead.\n",
      "  return super().forward(\n",
      " 74%|███████▍  | 429/579 [12:19<04:14,  1.69s/it]"
     ]
    },
    {
     "name": "stdout",
     "output_type": "stream",
     "text": [
      "A man wearing a helmet is being helped off his car by race officials and medical personnel. The man is injured and appears to be in pain as he walks slowly away from the green race car on the track.\n"
     ]
    },
    {
     "name": "stderr",
     "output_type": "stream",
     "text": [
      "/home/ubuntu/.cache/huggingface/modules/transformers_modules/DAMO-NLP-SG/VideoLLaMA3-2B/562961752c456a26c46194130f9479dbb01ee582/modeling_videollama3.py:384: FutureWarning: `num_logits_to_keep` is deprecated and will be removed in version 4.50 for `Videollama3Qwen2ForCausalLM.forward`. Use `logits_to_keep` instead.\n",
      "  return super().forward(\n",
      " 74%|███████▍  | 430/579 [12:20<03:56,  1.58s/it]"
     ]
    },
    {
     "name": "stdout",
     "output_type": "stream",
     "text": [
      "In the video, a man is seen standing in front of an audience. He then walks into a wrestling ring and grabs a championship belt. The crowd cheers as he runs around the ring while holding the belt.\n"
     ]
    },
    {
     "name": "stderr",
     "output_type": "stream",
     "text": [
      "/home/ubuntu/.cache/huggingface/modules/transformers_modules/DAMO-NLP-SG/VideoLLaMA3-2B/562961752c456a26c46194130f9479dbb01ee582/modeling_videollama3.py:384: FutureWarning: `num_logits_to_keep` is deprecated and will be removed in version 4.50 for `Videollama3Qwen2ForCausalLM.forward`. Use `logits_to_keep` instead.\n",
      "  return super().forward(\n",
      " 74%|███████▍  | 431/579 [12:22<04:02,  1.64s/it]"
     ]
    },
    {
     "name": "stdout",
     "output_type": "stream",
     "text": [
      "The video shows a man wearing a hat who is being interviewed. There are also shots of helmets, including one with gold plating and Michael Schumacher's name on it. The interview takes place inside a tent-like structure where people can be seen working in the background.\n"
     ]
    },
    {
     "name": "stderr",
     "output_type": "stream",
     "text": [
      "/home/ubuntu/.cache/huggingface/modules/transformers_modules/DAMO-NLP-SG/VideoLLaMA3-2B/562961752c456a26c46194130f9479dbb01ee582/modeling_videollama3.py:384: FutureWarning: `num_logits_to_keep` is deprecated and will be removed in version 4.50 for `Videollama3Qwen2ForCausalLM.forward`. Use `logits_to_keep` instead.\n",
      "  return super().forward(\n",
      " 75%|███████▍  | 432/579 [12:24<04:05,  1.67s/it]"
     ]
    },
    {
     "name": "stdout",
     "output_type": "stream",
     "text": [
      "The video shows a group of people riding bicycles down the street. They are wearing helmets and some have backpacks attached to their bikes. There is also an old man who joins them on his bicycle. The riders pass by parked cars and go past a fence.\n"
     ]
    },
    {
     "name": "stderr",
     "output_type": "stream",
     "text": [
      "/home/ubuntu/.cache/huggingface/modules/transformers_modules/DAMO-NLP-SG/VideoLLaMA3-2B/562961752c456a26c46194130f9479dbb01ee582/modeling_videollama3.py:384: FutureWarning: `num_logits_to_keep` is deprecated and will be removed in version 4.50 for `Videollama3Qwen2ForCausalLM.forward`. Use `logits_to_keep` instead.\n",
      "  return super().forward(\n",
      " 75%|███████▍  | 433/579 [12:25<04:07,  1.70s/it]"
     ]
    },
    {
     "name": "stdout",
     "output_type": "stream",
     "text": [
      "The video shows a man working on his bicycle in an indoor setting. He is seen using various tools to assemble and repair the bike, including a drill and a screwdriver. The man appears focused and determined as he works on the bike.\n",
      "QA_GT_caption_based_noisy\n"
     ]
    },
    {
     "name": "stderr",
     "output_type": "stream",
     "text": [
      "/home/ubuntu/.cache/huggingface/modules/transformers_modules/DAMO-NLP-SG/VideoLLaMA3-2B/562961752c456a26c46194130f9479dbb01ee582/modeling_videollama3.py:384: FutureWarning: `num_logits_to_keep` is deprecated and will be removed in version 4.50 for `Videollama3Qwen2ForCausalLM.forward`. Use `logits_to_keep` instead.\n",
      "  return super().forward(\n",
      " 75%|███████▍  | 434/579 [12:27<04:16,  1.77s/it]"
     ]
    },
    {
     "name": "stdout",
     "output_type": "stream",
     "text": [
      "The video starts with a police officer's back and then shows the inside of a car. The camera captures various scenes, including a man in uniform smiling while driving, a person standing outside near tall grass, and a house next to trees. Additionally, there is an aerial view of a road surrounded by trees.\n"
     ]
    },
    {
     "name": "stderr",
     "output_type": "stream",
     "text": [
      "/home/ubuntu/.cache/huggingface/modules/transformers_modules/DAMO-NLP-SG/VideoLLaMA3-2B/562961752c456a26c46194130f9479dbb01ee582/modeling_videollama3.py:384: FutureWarning: `num_logits_to_keep` is deprecated and will be removed in version 4.50 for `Videollama3Qwen2ForCausalLM.forward`. Use `logits_to_keep` instead.\n",
      "  return super().forward(\n",
      " 75%|███████▌  | 435/579 [12:28<03:51,  1.61s/it]"
     ]
    },
    {
     "name": "stdout",
     "output_type": "stream",
     "text": [
      "The video shows a soccer game where one team scores a goal and celebrates. The players in the yellow uniform are celebrating after scoring while the crowd cheers for them.\n"
     ]
    },
    {
     "name": "stderr",
     "output_type": "stream",
     "text": [
      "/home/ubuntu/.cache/huggingface/modules/transformers_modules/DAMO-NLP-SG/VideoLLaMA3-2B/562961752c456a26c46194130f9479dbb01ee582/modeling_videollama3.py:384: FutureWarning: `num_logits_to_keep` is deprecated and will be removed in version 4.50 for `Videollama3Qwen2ForCausalLM.forward`. Use `logits_to_keep` instead.\n",
      "  return super().forward(\n",
      " 75%|███████▌  | 436/579 [12:30<03:43,  1.56s/it]"
     ]
    },
    {
     "name": "stdout",
     "output_type": "stream",
     "text": [
      "A football game is being played between the Tennessee team and Alabama. The Tennessee quarterback throws a pass to a receiver who catches it, but he gets tackled by an Alabama defender before he can run with it.\n"
     ]
    },
    {
     "name": "stderr",
     "output_type": "stream",
     "text": [
      "/home/ubuntu/.cache/huggingface/modules/transformers_modules/DAMO-NLP-SG/VideoLLaMA3-2B/562961752c456a26c46194130f9479dbb01ee582/modeling_videollama3.py:384: FutureWarning: `num_logits_to_keep` is deprecated and will be removed in version 4.50 for `Videollama3Qwen2ForCausalLM.forward`. Use `logits_to_keep` instead.\n",
      "  return super().forward(\n",
      " 75%|███████▌  | 437/579 [12:31<03:17,  1.39s/it]"
     ]
    },
    {
     "name": "stdout",
     "output_type": "stream",
     "text": [
      "A group of men are running down a basketball court with smoke coming out. They are wearing black and yellow shirts.\n"
     ]
    },
    {
     "name": "stderr",
     "output_type": "stream",
     "text": [
      "/home/ubuntu/.cache/huggingface/modules/transformers_modules/DAMO-NLP-SG/VideoLLaMA3-2B/562961752c456a26c46194130f9479dbb01ee582/modeling_videollama3.py:384: FutureWarning: `num_logits_to_keep` is deprecated and will be removed in version 4.50 for `Videollama3Qwen2ForCausalLM.forward`. Use `logits_to_keep` instead.\n",
      "  return super().forward(\n",
      " 76%|███████▌  | 438/579 [12:32<03:22,  1.44s/it]"
     ]
    },
    {
     "name": "stdout",
     "output_type": "stream",
     "text": [
      "The video shows a robot competition between two teams. The robots are racing on a track, and one of them is winning while the other is losing. In the background, there are people watching the game from outside the arena.\n"
     ]
    },
    {
     "name": "stderr",
     "output_type": "stream",
     "text": [
      "/home/ubuntu/.cache/huggingface/modules/transformers_modules/DAMO-NLP-SG/VideoLLaMA3-2B/562961752c456a26c46194130f9479dbb01ee582/modeling_videollama3.py:384: FutureWarning: `num_logits_to_keep` is deprecated and will be removed in version 4.50 for `Videollama3Qwen2ForCausalLM.forward`. Use `logits_to_keep` instead.\n",
      "  return super().forward(\n",
      " 76%|███████▌  | 439/579 [12:34<03:38,  1.56s/it]"
     ]
    },
    {
     "name": "stdout",
     "output_type": "stream",
     "text": [
      "In the video, a woman is standing and speaking. She is wearing a black shirt and has red lipstick on. There are also three men in front of her who are demonstrating self-defense techniques. One man is holding a gun while another is using a knife to cut something off the wall.\n"
     ]
    },
    {
     "name": "stderr",
     "output_type": "stream",
     "text": [
      "/home/ubuntu/.cache/huggingface/modules/transformers_modules/DAMO-NLP-SG/VideoLLaMA3-2B/562961752c456a26c46194130f9479dbb01ee582/modeling_videollama3.py:384: FutureWarning: `num_logits_to_keep` is deprecated and will be removed in version 4.50 for `Videollama3Qwen2ForCausalLM.forward`. Use `logits_to_keep` instead.\n",
      "  return super().forward(\n",
      " 76%|███████▌  | 440/579 [12:36<03:50,  1.66s/it]"
     ]
    },
    {
     "name": "stdout",
     "output_type": "stream",
     "text": [
      "The video shows a man driving a truck and pointing at something outside the window. He is wearing a hat, sunglasses, and a black shirt while holding onto the steering wheel with both hands. The camera zooms out to reveal an aerial view of the parking lot filled with trucks and shipping containers.\n"
     ]
    },
    {
     "name": "stderr",
     "output_type": "stream",
     "text": [
      "/home/ubuntu/.cache/huggingface/modules/transformers_modules/DAMO-NLP-SG/VideoLLaMA3-2B/562961752c456a26c46194130f9479dbb01ee582/modeling_videollama3.py:384: FutureWarning: `num_logits_to_keep` is deprecated and will be removed in version 4.50 for `Videollama3Qwen2ForCausalLM.forward`. Use `logits_to_keep` instead.\n",
      "  return super().forward(\n",
      " 76%|███████▌  | 441/579 [12:38<04:07,  1.79s/it]"
     ]
    },
    {
     "name": "stdout",
     "output_type": "stream",
     "text": [
      "The video is a montage of historical footage that shows the transition from 1939 to 1951. It features scenes of people fleeing Spain and the Civil War, as well as individuals enrolling in art school. The video aims to convey a sense of resilience and artistic expression during difficult times.\n",
      "QA_GT_caption_based_noisy\n"
     ]
    },
    {
     "name": "stderr",
     "output_type": "stream",
     "text": [
      "/home/ubuntu/.cache/huggingface/modules/transformers_modules/DAMO-NLP-SG/VideoLLaMA3-2B/562961752c456a26c46194130f9479dbb01ee582/modeling_videollama3.py:384: FutureWarning: `num_logits_to_keep` is deprecated and will be removed in version 4.50 for `Videollama3Qwen2ForCausalLM.forward`. Use `logits_to_keep` instead.\n",
      "  return super().forward(\n",
      " 76%|███████▋  | 442/579 [12:40<03:51,  1.69s/it]"
     ]
    },
    {
     "name": "stdout",
     "output_type": "stream",
     "text": [
      "The video shows several clips of rugby matches. The camera focuses on a large group of people playing rugby, with players running and tackling each other. There are also some slow-motion shots of the game.\n"
     ]
    },
    {
     "name": "stderr",
     "output_type": "stream",
     "text": [
      "/home/ubuntu/.cache/huggingface/modules/transformers_modules/DAMO-NLP-SG/VideoLLaMA3-2B/562961752c456a26c46194130f9479dbb01ee582/modeling_videollama3.py:384: FutureWarning: `num_logits_to_keep` is deprecated and will be removed in version 4.50 for `Videollama3Qwen2ForCausalLM.forward`. Use `logits_to_keep` instead.\n",
      "  return super().forward(\n",
      " 77%|███████▋  | 443/579 [12:41<03:32,  1.56s/it]"
     ]
    },
    {
     "name": "stdout",
     "output_type": "stream",
     "text": [
      "A basketball game is being played on a court. The players are wearing white and red uniforms. One of the teams scores a basket, which causes the crowd to cheer.\n"
     ]
    },
    {
     "name": "stderr",
     "output_type": "stream",
     "text": [
      "/home/ubuntu/.cache/huggingface/modules/transformers_modules/DAMO-NLP-SG/VideoLLaMA3-2B/562961752c456a26c46194130f9479dbb01ee582/modeling_videollama3.py:384: FutureWarning: `num_logits_to_keep` is deprecated and will be removed in version 4.50 for `Videollama3Qwen2ForCausalLM.forward`. Use `logits_to_keep` instead.\n",
      "  return super().forward(\n",
      " 77%|███████▋  | 444/579 [12:42<03:15,  1.45s/it]"
     ]
    },
    {
     "name": "stdout",
     "output_type": "stream",
     "text": [
      "The video shows a plane flying over cars in an open area. It is not clear if the pilot was aware of the people on the ground or not.\n"
     ]
    },
    {
     "name": "stderr",
     "output_type": "stream",
     "text": [
      "/home/ubuntu/.cache/huggingface/modules/transformers_modules/DAMO-NLP-SG/VideoLLaMA3-2B/562961752c456a26c46194130f9479dbb01ee582/modeling_videollama3.py:384: FutureWarning: `num_logits_to_keep` is deprecated and will be removed in version 4.50 for `Videollama3Qwen2ForCausalLM.forward`. Use `logits_to_keep` instead.\n",
      "  return super().forward(\n",
      " 77%|███████▋  | 445/579 [12:46<04:30,  2.02s/it]"
     ]
    },
    {
     "name": "stdout",
     "output_type": "stream",
     "text": [
      "In the video, a group of people are playing soccer in a large field. They are wearing different colored uniforms and one team is wearing blue while the other team is wearing yellow. The players are running around the field trying to score goals by kicking the ball into each other's goal. There is also a referee present on the field who is dressed in a black outfit. One player kicks the ball towards the goal but misses it. Another player successfully scores a goal after receiving a pass from his teammate. The crowd cheers for the players as they celebrate their successful plays.\n",
      "QA_GT_caption_based_noisy\n"
     ]
    },
    {
     "name": "stderr",
     "output_type": "stream",
     "text": [
      "/home/ubuntu/.cache/huggingface/modules/transformers_modules/DAMO-NLP-SG/VideoLLaMA3-2B/562961752c456a26c46194130f9479dbb01ee582/modeling_videollama3.py:384: FutureWarning: `num_logits_to_keep` is deprecated and will be removed in version 4.50 for `Videollama3Qwen2ForCausalLM.forward`. Use `logits_to_keep` instead.\n",
      "  return super().forward(\n",
      " 77%|███████▋  | 446/579 [12:48<04:25,  2.00s/it]"
     ]
    },
    {
     "name": "stdout",
     "output_type": "stream",
     "text": [
      "The video shows a large crowd at an event, with bright lights and music playing in the background. The camera pans around to show different parts of the audience and then focuses on a person standing in front of them. There is also a screen behind the person showing what appears to be a game being played.\n"
     ]
    },
    {
     "name": "stderr",
     "output_type": "stream",
     "text": [
      "/home/ubuntu/.cache/huggingface/modules/transformers_modules/DAMO-NLP-SG/VideoLLaMA3-2B/562961752c456a26c46194130f9479dbb01ee582/modeling_videollama3.py:384: FutureWarning: `num_logits_to_keep` is deprecated and will be removed in version 4.50 for `Videollama3Qwen2ForCausalLM.forward`. Use `logits_to_keep` instead.\n",
      "  return super().forward(\n",
      " 77%|███████▋  | 447/579 [12:49<04:09,  1.89s/it]"
     ]
    },
    {
     "name": "stdout",
     "output_type": "stream",
     "text": [
      "In the video, we see a group of cars racing on a track. One car is seen drifting around a curve while another car passes it. Suddenly, one of the cars loses control and crashes into the wall, causing debris to fly everywhere.\n"
     ]
    },
    {
     "name": "stderr",
     "output_type": "stream",
     "text": [
      "/home/ubuntu/.cache/huggingface/modules/transformers_modules/DAMO-NLP-SG/VideoLLaMA3-2B/562961752c456a26c46194130f9479dbb01ee582/modeling_videollama3.py:384: FutureWarning: `num_logits_to_keep` is deprecated and will be removed in version 4.50 for `Videollama3Qwen2ForCausalLM.forward`. Use `logits_to_keep` instead.\n",
      "  return super().forward(\n",
      " 77%|███████▋  | 448/579 [12:51<04:00,  1.84s/it]"
     ]
    },
    {
     "name": "stdout",
     "output_type": "stream",
     "text": [
      "The video features a man and woman standing in front of a wall. The woman is holding a clipboard while the man talks to her, possibly about landing their dream job or finding work. They seem to be discussing various topics related to employment opportunities and career development.\n"
     ]
    },
    {
     "name": "stderr",
     "output_type": "stream",
     "text": [
      "/home/ubuntu/.cache/huggingface/modules/transformers_modules/DAMO-NLP-SG/VideoLLaMA3-2B/562961752c456a26c46194130f9479dbb01ee582/modeling_videollama3.py:384: FutureWarning: `num_logits_to_keep` is deprecated and will be removed in version 4.50 for `Videollama3Qwen2ForCausalLM.forward`. Use `logits_to_keep` instead.\n",
      "  return super().forward(\n",
      " 78%|███████▊  | 449/579 [12:54<04:34,  2.11s/it]"
     ]
    },
    {
     "name": "stdout",
     "output_type": "stream",
     "text": [
      "The video is about a man who talks to the camera and then drives away in his car. The video also includes text that appears on the screen at different times, such as \"subscribe\" and \"this week.\" Additionally, there are various objects present in the video, including signs with messages like \"subscribe,\" a yellow circle with black letters, a red and white sign with a hand pointing at it, and a large red and white logo with a picture of a person.\n"
     ]
    },
    {
     "name": "stderr",
     "output_type": "stream",
     "text": [
      "/home/ubuntu/.cache/huggingface/modules/transformers_modules/DAMO-NLP-SG/VideoLLaMA3-2B/562961752c456a26c46194130f9479dbb01ee582/modeling_videollama3.py:384: FutureWarning: `num_logits_to_keep` is deprecated and will be removed in version 4.50 for `Videollama3Qwen2ForCausalLM.forward`. Use `logits_to_keep` instead.\n",
      "  return super().forward(\n",
      " 78%|███████▊  | 450/579 [12:55<04:10,  1.94s/it]"
     ]
    },
    {
     "name": "stdout",
     "output_type": "stream",
     "text": [
      "The video shows two men in red jackets standing next to each other. One of the men is talking, and there are people sitting on a blue bench behind them. The scene then shifts to soccer players kicking a ball around during a game.\n"
     ]
    },
    {
     "name": "stderr",
     "output_type": "stream",
     "text": [
      "/home/ubuntu/.cache/huggingface/modules/transformers_modules/DAMO-NLP-SG/VideoLLaMA3-2B/562961752c456a26c46194130f9479dbb01ee582/modeling_videollama3.py:384: FutureWarning: `num_logits_to_keep` is deprecated and will be removed in version 4.50 for `Videollama3Qwen2ForCausalLM.forward`. Use `logits_to_keep` instead.\n",
      "  return super().forward(\n",
      " 78%|███████▊  | 451/579 [12:57<03:52,  1.81s/it]"
     ]
    },
    {
     "name": "stdout",
     "output_type": "stream",
     "text": [
      "The video shows a man wearing a suit and tie, reading from papers. He is standing in front of a television screen with the letters \"etv\" on it. The background music playing while he reads is Hindi.\n"
     ]
    },
    {
     "name": "stderr",
     "output_type": "stream",
     "text": [
      "/home/ubuntu/.cache/huggingface/modules/transformers_modules/DAMO-NLP-SG/VideoLLaMA3-2B/562961752c456a26c46194130f9479dbb01ee582/modeling_videollama3.py:384: FutureWarning: `num_logits_to_keep` is deprecated and will be removed in version 4.50 for `Videollama3Qwen2ForCausalLM.forward`. Use `logits_to_keep` instead.\n",
      "  return super().forward(\n",
      " 78%|███████▊  | 452/579 [12:58<03:44,  1.77s/it]"
     ]
    },
    {
     "name": "stdout",
     "output_type": "stream",
     "text": [
      "The video shows a basketball game where the Golden State Warriors are playing against another team. The focus is on Stephen Curry, who makes several impressive plays throughout the game. He scores from various distances and makes difficult shots that demonstrate his skill as a player.\n"
     ]
    },
    {
     "name": "stderr",
     "output_type": "stream",
     "text": [
      "/home/ubuntu/.cache/huggingface/modules/transformers_modules/DAMO-NLP-SG/VideoLLaMA3-2B/562961752c456a26c46194130f9479dbb01ee582/modeling_videollama3.py:384: FutureWarning: `num_logits_to_keep` is deprecated and will be removed in version 4.50 for `Videollama3Qwen2ForCausalLM.forward`. Use `logits_to_keep` instead.\n",
      "  return super().forward(\n",
      " 78%|███████▊  | 453/579 [13:00<03:33,  1.70s/it]"
     ]
    },
    {
     "name": "stdout",
     "output_type": "stream",
     "text": [
      "The video shows a man wearing green shoes running down the track and then jumping over another person. He is holding a football in his hand as he runs. The scene takes place on a field with several other people around him.\n"
     ]
    },
    {
     "name": "stderr",
     "output_type": "stream",
     "text": [
      "/home/ubuntu/.cache/huggingface/modules/transformers_modules/DAMO-NLP-SG/VideoLLaMA3-2B/562961752c456a26c46194130f9479dbb01ee582/modeling_videollama3.py:384: FutureWarning: `num_logits_to_keep` is deprecated and will be removed in version 4.50 for `Videollama3Qwen2ForCausalLM.forward`. Use `logits_to_keep` instead.\n",
      "  return super().forward(\n",
      " 78%|███████▊  | 454/579 [13:01<03:16,  1.57s/it]"
     ]
    },
    {
     "name": "stdout",
     "output_type": "stream",
     "text": [
      "The video shows two men playing darts. One of the players throws a dart at the board, which hits one of the circles. They then discuss what they will do next.\n"
     ]
    },
    {
     "name": "stderr",
     "output_type": "stream",
     "text": [
      "/home/ubuntu/.cache/huggingface/modules/transformers_modules/DAMO-NLP-SG/VideoLLaMA3-2B/562961752c456a26c46194130f9479dbb01ee582/modeling_videollama3.py:384: FutureWarning: `num_logits_to_keep` is deprecated and will be removed in version 4.50 for `Videollama3Qwen2ForCausalLM.forward`. Use `logits_to_keep` instead.\n",
      "  return super().forward(\n",
      " 79%|███████▊  | 455/579 [13:02<02:55,  1.42s/it]"
     ]
    },
    {
     "name": "stdout",
     "output_type": "stream",
     "text": [
      "The video shows a crowd of people standing and watching as an ambulance races by.\n"
     ]
    },
    {
     "name": "stderr",
     "output_type": "stream",
     "text": [
      "/home/ubuntu/.cache/huggingface/modules/transformers_modules/DAMO-NLP-SG/VideoLLaMA3-2B/562961752c456a26c46194130f9479dbb01ee582/modeling_videollama3.py:384: FutureWarning: `num_logits_to_keep` is deprecated and will be removed in version 4.50 for `Videollama3Qwen2ForCausalLM.forward`. Use `logits_to_keep` instead.\n",
      "  return super().forward(\n",
      " 79%|███████▉  | 456/579 [13:05<03:55,  1.91s/it]"
     ]
    },
    {
     "name": "stdout",
     "output_type": "stream",
     "text": [
      "The video shows different people solving Rubik's cubes blindfolded. One person is sitting at a table while another holds up a piece of paper and moves it around to give directions. The person with the mask solves the cube in 15 seconds, but then has trouble solving the puzzle again after taking off their mask. Another man sits down on a chair and tries to solve a cube blindfolded, only to have his head replaced by a cardboard box for comedic effect. Overall, the video showcases various individuals attempting to solve the challenging puzzle without seeing it.\n"
     ]
    },
    {
     "name": "stderr",
     "output_type": "stream",
     "text": [
      "/home/ubuntu/.cache/huggingface/modules/transformers_modules/DAMO-NLP-SG/VideoLLaMA3-2B/562961752c456a26c46194130f9479dbb01ee582/modeling_videollama3.py:384: FutureWarning: `num_logits_to_keep` is deprecated and will be removed in version 4.50 for `Videollama3Qwen2ForCausalLM.forward`. Use `logits_to_keep` instead.\n",
      "  return super().forward(\n",
      " 79%|███████▉  | 457/579 [13:07<03:47,  1.86s/it]"
     ]
    },
    {
     "name": "stdout",
     "output_type": "stream",
     "text": [
      "In the video, two teams are playing football on a field. One team is wearing blue and white uniforms while the other team is wearing red uniforms. The quarterback from the red team throws a pass to a receiver who catches it in the end zone for a touchdown.\n"
     ]
    },
    {
     "name": "stderr",
     "output_type": "stream",
     "text": [
      "/home/ubuntu/.cache/huggingface/modules/transformers_modules/DAMO-NLP-SG/VideoLLaMA3-2B/562961752c456a26c46194130f9479dbb01ee582/modeling_videollama3.py:384: FutureWarning: `num_logits_to_keep` is deprecated and will be removed in version 4.50 for `Videollama3Qwen2ForCausalLM.forward`. Use `logits_to_keep` instead.\n",
      "  return super().forward(\n",
      " 79%|███████▉  | 458/579 [13:09<03:34,  1.77s/it]"
     ]
    },
    {
     "name": "stdout",
     "output_type": "stream",
     "text": [
      "The video shows a group of people sitting around a table. One man is talking while the others listen attentively and nod their heads in agreement. The atmosphere seems to be quite serious as they engage in conversation about something important or significant.\n"
     ]
    },
    {
     "name": "stderr",
     "output_type": "stream",
     "text": [
      "/home/ubuntu/.cache/huggingface/modules/transformers_modules/DAMO-NLP-SG/VideoLLaMA3-2B/562961752c456a26c46194130f9479dbb01ee582/modeling_videollama3.py:384: FutureWarning: `num_logits_to_keep` is deprecated and will be removed in version 4.50 for `Videollama3Qwen2ForCausalLM.forward`. Use `logits_to_keep` instead.\n",
      "  return super().forward(\n",
      " 79%|███████▉  | 459/579 [13:10<03:16,  1.64s/it]"
     ]
    },
    {
     "name": "stdout",
     "output_type": "stream",
     "text": [
      "The video shows two soldiers sitting in a vehicle, looking out of the window. Then it cuts to black and then to another scene where a soldier is walking up a hill.\n"
     ]
    },
    {
     "name": "stderr",
     "output_type": "stream",
     "text": [
      "/home/ubuntu/.cache/huggingface/modules/transformers_modules/DAMO-NLP-SG/VideoLLaMA3-2B/562961752c456a26c46194130f9479dbb01ee582/modeling_videollama3.py:384: FutureWarning: `num_logits_to_keep` is deprecated and will be removed in version 4.50 for `Videollama3Qwen2ForCausalLM.forward`. Use `logits_to_keep` instead.\n",
      "  return super().forward(\n",
      " 79%|███████▉  | 460/579 [13:11<03:00,  1.51s/it]"
     ]
    },
    {
     "name": "stdout",
     "output_type": "stream",
     "text": [
      "The video shows a boxing match between two boxers in the ring. The referee is watching them closely as they fight, while the audience cheers and claps.\n"
     ]
    },
    {
     "name": "stderr",
     "output_type": "stream",
     "text": [
      "/home/ubuntu/.cache/huggingface/modules/transformers_modules/DAMO-NLP-SG/VideoLLaMA3-2B/562961752c456a26c46194130f9479dbb01ee582/modeling_videollama3.py:384: FutureWarning: `num_logits_to_keep` is deprecated and will be removed in version 4.50 for `Videollama3Qwen2ForCausalLM.forward`. Use `logits_to_keep` instead.\n",
      "  return super().forward(\n",
      " 80%|███████▉  | 461/579 [13:12<02:46,  1.41s/it]"
     ]
    },
    {
     "name": "stdout",
     "output_type": "stream",
     "text": [
      "The video shows a woman wearing an orange safety jacket and helmet standing outside of a building. She is speaking to the camera while being filmed from different angles.\n"
     ]
    },
    {
     "name": "stderr",
     "output_type": "stream",
     "text": [
      "/home/ubuntu/.cache/huggingface/modules/transformers_modules/DAMO-NLP-SG/VideoLLaMA3-2B/562961752c456a26c46194130f9479dbb01ee582/modeling_videollama3.py:384: FutureWarning: `num_logits_to_keep` is deprecated and will be removed in version 4.50 for `Videollama3Qwen2ForCausalLM.forward`. Use `logits_to_keep` instead.\n",
      "  return super().forward(\n",
      " 80%|███████▉  | 462/579 [13:14<02:48,  1.44s/it]"
     ]
    },
    {
     "name": "stdout",
     "output_type": "stream",
     "text": [
      "In the video, a boy is seen playing with some toys in his room. He falls down while trying to play and then gets up again. Later, he picks up one of the toys that fell on the floor.\n"
     ]
    },
    {
     "name": "stderr",
     "output_type": "stream",
     "text": [
      "/home/ubuntu/.cache/huggingface/modules/transformers_modules/DAMO-NLP-SG/VideoLLaMA3-2B/562961752c456a26c46194130f9479dbb01ee582/modeling_videollama3.py:384: FutureWarning: `num_logits_to_keep` is deprecated and will be removed in version 4.50 for `Videollama3Qwen2ForCausalLM.forward`. Use `logits_to_keep` instead.\n",
      "  return super().forward(\n",
      " 80%|███████▉  | 463/579 [13:15<02:42,  1.40s/it]"
     ]
    },
    {
     "name": "stdout",
     "output_type": "stream",
     "text": [
      "The video shows a group of people racing in cars around a track. The race is being shown on television and the viewers can see the excitement as they follow the action.\n"
     ]
    },
    {
     "name": "stderr",
     "output_type": "stream",
     "text": [
      "/home/ubuntu/.cache/huggingface/modules/transformers_modules/DAMO-NLP-SG/VideoLLaMA3-2B/562961752c456a26c46194130f9479dbb01ee582/modeling_videollama3.py:384: FutureWarning: `num_logits_to_keep` is deprecated and will be removed in version 4.50 for `Videollama3Qwen2ForCausalLM.forward`. Use `logits_to_keep` instead.\n",
      "  return super().forward(\n",
      " 80%|████████  | 464/579 [13:20<04:24,  2.30s/it]"
     ]
    },
    {
     "name": "stdout",
     "output_type": "stream",
     "text": [
      "The video starts with two men standing in front of a white background. One man is wearing an orange hard hat and the other is wearing a grey sweater. The man in the hard hat is holding a hammer, while the other man is looking at him. They seem to be having a conversation or preparing for something.\n",
      "In the next scene, we see the same two men again, but this time they are outside. The man in the grey sweater is now holding a selfie stick, while the other man is still holding the hammer. They appear to be taking a picture together, possibly for social media or a project.\n",
      "Overall, the video seems to show two friends interacting in different settings - first indoors, then outdoors. While their actions differ slightly between scenes, both men maintain eye contact and engage in conversation throughout the video.\n"
     ]
    },
    {
     "name": "stderr",
     "output_type": "stream",
     "text": [
      "/home/ubuntu/.cache/huggingface/modules/transformers_modules/DAMO-NLP-SG/VideoLLaMA3-2B/562961752c456a26c46194130f9479dbb01ee582/modeling_videollama3.py:384: FutureWarning: `num_logits_to_keep` is deprecated and will be removed in version 4.50 for `Videollama3Qwen2ForCausalLM.forward`. Use `logits_to_keep` instead.\n",
      "  return super().forward(\n",
      " 80%|████████  | 465/579 [13:22<04:20,  2.28s/it]"
     ]
    },
    {
     "name": "stdout",
     "output_type": "stream",
     "text": [
      "The video shows a man driving in a golf cart, speaking to the camera while wearing glasses and braces. He then transitions into different locations such as a locker room or dressing room with women around him, standing outside on a street, inside a kitchen, and sitting at a table. The scenes are accompanied by rap music playing in the background.\n",
      "QA_GT_caption_based_noisy\n"
     ]
    },
    {
     "name": "stderr",
     "output_type": "stream",
     "text": [
      "/home/ubuntu/.cache/huggingface/modules/transformers_modules/DAMO-NLP-SG/VideoLLaMA3-2B/562961752c456a26c46194130f9479dbb01ee582/modeling_videollama3.py:384: FutureWarning: `num_logits_to_keep` is deprecated and will be removed in version 4.50 for `Videollama3Qwen2ForCausalLM.forward`. Use `logits_to_keep` instead.\n",
      "  return super().forward(\n",
      " 80%|████████  | 466/579 [13:24<04:17,  2.28s/it]"
     ]
    },
    {
     "name": "stdout",
     "output_type": "stream",
     "text": [
      "The video shows a female gymnast walking onto the mat, smiling and waving at the camera. She is wearing a black and yellow leotard with her hair pulled back in a ponytail. The background music playing is \"I Want You Now\" by Queen. There are also other people on stage, including one woman who appears to be the coach of the gymnast.\n"
     ]
    },
    {
     "name": "stderr",
     "output_type": "stream",
     "text": [
      "/home/ubuntu/.cache/huggingface/modules/transformers_modules/DAMO-NLP-SG/VideoLLaMA3-2B/562961752c456a26c46194130f9479dbb01ee582/modeling_videollama3.py:384: FutureWarning: `num_logits_to_keep` is deprecated and will be removed in version 4.50 for `Videollama3Qwen2ForCausalLM.forward`. Use `logits_to_keep` instead.\n",
      "  return super().forward(\n",
      " 81%|████████  | 467/579 [13:26<03:50,  2.06s/it]"
     ]
    },
    {
     "name": "stdout",
     "output_type": "stream",
     "text": [
      "The video shows a man in uniform who is repairing an object. He uses a multimeter to check the electrical system of a machine and then looks at it. The scene takes place outdoors, with green grass visible behind him.\n"
     ]
    },
    {
     "name": "stderr",
     "output_type": "stream",
     "text": [
      "/home/ubuntu/.cache/huggingface/modules/transformers_modules/DAMO-NLP-SG/VideoLLaMA3-2B/562961752c456a26c46194130f9479dbb01ee582/modeling_videollama3.py:384: FutureWarning: `num_logits_to_keep` is deprecated and will be removed in version 4.50 for `Videollama3Qwen2ForCausalLM.forward`. Use `logits_to_keep` instead.\n",
      "  return super().forward(\n",
      " 81%|████████  | 468/579 [13:27<03:35,  1.94s/it]"
     ]
    },
    {
     "name": "stdout",
     "output_type": "stream",
     "text": [
      "The video shows a man wearing a blue jacket speaking to the camera. In the background, there are several people playing soccer on a field while others watch from the sidelines. The weather is rainy and it seems like the man is at an outdoor sports facility.\n"
     ]
    },
    {
     "name": "stderr",
     "output_type": "stream",
     "text": [
      "/home/ubuntu/.cache/huggingface/modules/transformers_modules/DAMO-NLP-SG/VideoLLaMA3-2B/562961752c456a26c46194130f9479dbb01ee582/modeling_videollama3.py:384: FutureWarning: `num_logits_to_keep` is deprecated and will be removed in version 4.50 for `Videollama3Qwen2ForCausalLM.forward`. Use `logits_to_keep` instead.\n",
      "  return super().forward(\n",
      " 81%|████████  | 469/579 [13:28<03:04,  1.68s/it]"
     ]
    },
    {
     "name": "stdout",
     "output_type": "stream",
     "text": [
      "A man is doing a handstand on top of a blue box. He then flips over and gets up from the box.\n"
     ]
    },
    {
     "name": "stderr",
     "output_type": "stream",
     "text": [
      "/home/ubuntu/.cache/huggingface/modules/transformers_modules/DAMO-NLP-SG/VideoLLaMA3-2B/562961752c456a26c46194130f9479dbb01ee582/modeling_videollama3.py:384: FutureWarning: `num_logits_to_keep` is deprecated and will be removed in version 4.50 for `Videollama3Qwen2ForCausalLM.forward`. Use `logits_to_keep` instead.\n",
      "  return super().forward(\n",
      " 81%|████████  | 470/579 [13:30<03:05,  1.70s/it]"
     ]
    },
    {
     "name": "stdout",
     "output_type": "stream",
     "text": [
      "The video shows a group of people riding bicycles down the street. They are wearing helmets and cycling gear. One man is smiling at the camera while another man in yellow stands on his bike. The cyclists are passing by other pedestrians, including one person with blue sunglasses.\n"
     ]
    },
    {
     "name": "stderr",
     "output_type": "stream",
     "text": [
      "/home/ubuntu/.cache/huggingface/modules/transformers_modules/DAMO-NLP-SG/VideoLLaMA3-2B/562961752c456a26c46194130f9479dbb01ee582/modeling_videollama3.py:384: FutureWarning: `num_logits_to_keep` is deprecated and will be removed in version 4.50 for `Videollama3Qwen2ForCausalLM.forward`. Use `logits_to_keep` instead.\n",
      "  return super().forward(\n",
      " 81%|████████▏ | 471/579 [13:33<03:28,  1.93s/it]"
     ]
    },
    {
     "name": "stdout",
     "output_type": "stream",
     "text": [
      "The video shows a basketball game being played in a gym. The players are wearing blue and white uniforms, while the crowd is watching from the stands. One player jumps up to shoot the ball into the basket while another player tries to block it. In addition, there is a scene where a group of young men jump together at one end of the court as part of their warm-up routine before starting to play.\n"
     ]
    },
    {
     "name": "stderr",
     "output_type": "stream",
     "text": [
      "/home/ubuntu/.cache/huggingface/modules/transformers_modules/DAMO-NLP-SG/VideoLLaMA3-2B/562961752c456a26c46194130f9479dbb01ee582/modeling_videollama3.py:384: FutureWarning: `num_logits_to_keep` is deprecated and will be removed in version 4.50 for `Videollama3Qwen2ForCausalLM.forward`. Use `logits_to_keep` instead.\n",
      "  return super().forward(\n",
      " 82%|████████▏ | 472/579 [13:34<03:15,  1.83s/it]"
     ]
    },
    {
     "name": "stdout",
     "output_type": "stream",
     "text": [
      "The video is a montage of various clips featuring Jordan Clarkson, a professional basketball player. The first clip shows him in different poses and outfits with his name written on the screen. The second clip features him playing basketball while wearing a blue jersey.\n"
     ]
    },
    {
     "name": "stderr",
     "output_type": "stream",
     "text": [
      "/home/ubuntu/.cache/huggingface/modules/transformers_modules/DAMO-NLP-SG/VideoLLaMA3-2B/562961752c456a26c46194130f9479dbb01ee582/modeling_videollama3.py:384: FutureWarning: `num_logits_to_keep` is deprecated and will be removed in version 4.50 for `Videollama3Qwen2ForCausalLM.forward`. Use `logits_to_keep` instead.\n",
      "  return super().forward(\n",
      " 82%|████████▏ | 473/579 [13:36<03:16,  1.85s/it]"
     ]
    },
    {
     "name": "stdout",
     "output_type": "stream",
     "text": [
      "The video shows a soccer game where a man wearing a red and black striped shirt is playing. He kicks the ball into the goal while another player in white tries to block it. The crowd cheers for him, and he celebrates by running with his teammates who are also celebrating.\n"
     ]
    },
    {
     "name": "stderr",
     "output_type": "stream",
     "text": [
      "/home/ubuntu/.cache/huggingface/modules/transformers_modules/DAMO-NLP-SG/VideoLLaMA3-2B/562961752c456a26c46194130f9479dbb01ee582/modeling_videollama3.py:384: FutureWarning: `num_logits_to_keep` is deprecated and will be removed in version 4.50 for `Videollama3Qwen2ForCausalLM.forward`. Use `logits_to_keep` instead.\n",
      "  return super().forward(\n",
      " 82%|████████▏ | 474/579 [13:38<03:13,  1.85s/it]"
     ]
    },
    {
     "name": "stdout",
     "output_type": "stream",
     "text": [
      "The video shows a cricket match where the bowler is delivering the ball to the batsman. The batsman hits the ball and runs towards the boundary, while the fielders chase after it. A player from the opposing team catches the ball and throws it back towards the wicketkeeper.\n"
     ]
    },
    {
     "name": "stderr",
     "output_type": "stream",
     "text": [
      "/home/ubuntu/.cache/huggingface/modules/transformers_modules/DAMO-NLP-SG/VideoLLaMA3-2B/562961752c456a26c46194130f9479dbb01ee582/modeling_videollama3.py:384: FutureWarning: `num_logits_to_keep` is deprecated and will be removed in version 4.50 for `Videollama3Qwen2ForCausalLM.forward`. Use `logits_to_keep` instead.\n",
      "  return super().forward(\n",
      " 82%|████████▏ | 475/579 [13:40<03:27,  2.00s/it]"
     ]
    },
    {
     "name": "stdout",
     "output_type": "stream",
     "text": [
      "The video starts with a man standing in front of a mirror. He then shows off his championship belt while talking to the camera. The scene changes, and we see him holding up his phone to take pictures or videos. After that, he is shown fighting another boxer in a ring, wearing boxing gloves and moving around. The video ends with a shot of two men looking at each other.\n"
     ]
    },
    {
     "name": "stderr",
     "output_type": "stream",
     "text": [
      "/home/ubuntu/.cache/huggingface/modules/transformers_modules/DAMO-NLP-SG/VideoLLaMA3-2B/562961752c456a26c46194130f9479dbb01ee582/modeling_videollama3.py:384: FutureWarning: `num_logits_to_keep` is deprecated and will be removed in version 4.50 for `Videollama3Qwen2ForCausalLM.forward`. Use `logits_to_keep` instead.\n",
      "  return super().forward(\n",
      " 82%|████████▏ | 476/579 [13:42<03:18,  1.93s/it]"
     ]
    },
    {
     "name": "stdout",
     "output_type": "stream",
     "text": [
      "The video shows a person playing the game Clash of Clans. The player is attacking an enemy base with various troops and spells, but ultimately loses to the enemy army. Throughout the gameplay, text overlays appear on the screen in response to the events happening in the game.\n"
     ]
    },
    {
     "name": "stderr",
     "output_type": "stream",
     "text": [
      "/home/ubuntu/.cache/huggingface/modules/transformers_modules/DAMO-NLP-SG/VideoLLaMA3-2B/562961752c456a26c46194130f9479dbb01ee582/modeling_videollama3.py:384: FutureWarning: `num_logits_to_keep` is deprecated and will be removed in version 4.50 for `Videollama3Qwen2ForCausalLM.forward`. Use `logits_to_keep` instead.\n",
      "  return super().forward(\n",
      " 82%|████████▏ | 477/579 [13:43<03:01,  1.78s/it]"
     ]
    },
    {
     "name": "stdout",
     "output_type": "stream",
     "text": [
      "The video shows a race car driver getting ready to drive on the track. It then transitions to show cars lined up in a row and being serviced by mechanics before they go back out onto the track.\n"
     ]
    },
    {
     "name": "stderr",
     "output_type": "stream",
     "text": [
      "/home/ubuntu/.cache/huggingface/modules/transformers_modules/DAMO-NLP-SG/VideoLLaMA3-2B/562961752c456a26c46194130f9479dbb01ee582/modeling_videollama3.py:384: FutureWarning: `num_logits_to_keep` is deprecated and will be removed in version 4.50 for `Videollama3Qwen2ForCausalLM.forward`. Use `logits_to_keep` instead.\n",
      "  return super().forward(\n",
      " 83%|████████▎ | 478/579 [13:45<03:00,  1.78s/it]"
     ]
    },
    {
     "name": "stdout",
     "output_type": "stream",
     "text": [
      "The video shows a first-person shooter game where players engage in intense battles. The footage includes gameplay clips from the game, with various characters and weapons being used by different players. There are also brief moments of transitions between scenes, possibly indicating changes in location or time within the game.\n"
     ]
    },
    {
     "name": "stderr",
     "output_type": "stream",
     "text": [
      "/home/ubuntu/.cache/huggingface/modules/transformers_modules/DAMO-NLP-SG/VideoLLaMA3-2B/562961752c456a26c46194130f9479dbb01ee582/modeling_videollama3.py:384: FutureWarning: `num_logits_to_keep` is deprecated and will be removed in version 4.50 for `Videollama3Qwen2ForCausalLM.forward`. Use `logits_to_keep` instead.\n",
      "  return super().forward(\n",
      " 83%|████████▎ | 479/579 [13:47<02:45,  1.66s/it]"
     ]
    },
    {
     "name": "stdout",
     "output_type": "stream",
     "text": [
      "In the video, a person is seen gliding through the air using a parachute. They are being pulled by a car that is driving behind them. The sky appears to be clear and blue.\n"
     ]
    },
    {
     "name": "stderr",
     "output_type": "stream",
     "text": [
      "/home/ubuntu/.cache/huggingface/modules/transformers_modules/DAMO-NLP-SG/VideoLLaMA3-2B/562961752c456a26c46194130f9479dbb01ee582/modeling_videollama3.py:384: FutureWarning: `num_logits_to_keep` is deprecated and will be removed in version 4.50 for `Videollama3Qwen2ForCausalLM.forward`. Use `logits_to_keep` instead.\n",
      "  return super().forward(\n",
      " 83%|████████▎ | 480/579 [13:48<02:43,  1.65s/it]"
     ]
    },
    {
     "name": "stdout",
     "output_type": "stream",
     "text": [
      "The video shows a soccer game in progress. A player wearing a blue jersey is dribbling the ball towards the goal while being chased by players from the opposing team. The goalkeeper is also seen preparing to defend against any potential shots on goal.\n"
     ]
    },
    {
     "name": "stderr",
     "output_type": "stream",
     "text": [
      "/home/ubuntu/.cache/huggingface/modules/transformers_modules/DAMO-NLP-SG/VideoLLaMA3-2B/562961752c456a26c46194130f9479dbb01ee582/modeling_videollama3.py:384: FutureWarning: `num_logits_to_keep` is deprecated and will be removed in version 4.50 for `Videollama3Qwen2ForCausalLM.forward`. Use `logits_to_keep` instead.\n",
      "  return super().forward(\n",
      " 83%|████████▎ | 481/579 [13:50<02:39,  1.63s/it]"
     ]
    },
    {
     "name": "stdout",
     "output_type": "stream",
     "text": [
      "The video shows a group of people dressed in formal wear posing for pictures outside and then inside a large building. A man sets the table with glasses, wine, flowers, and silverware. The camera pans around the mansion at night.\n"
     ]
    },
    {
     "name": "stderr",
     "output_type": "stream",
     "text": [
      "/home/ubuntu/.cache/huggingface/modules/transformers_modules/DAMO-NLP-SG/VideoLLaMA3-2B/562961752c456a26c46194130f9479dbb01ee582/modeling_videollama3.py:384: FutureWarning: `num_logits_to_keep` is deprecated and will be removed in version 4.50 for `Videollama3Qwen2ForCausalLM.forward`. Use `logits_to_keep` instead.\n",
      "  return super().forward(\n",
      " 83%|████████▎ | 482/579 [13:52<02:41,  1.66s/it]"
     ]
    },
    {
     "name": "stdout",
     "output_type": "stream",
     "text": [
      "The video shows a soccer game being played in front of a large crowd. The camera pans around the stadium, showing fans cheering and waving flags while playing music in the background. At one point, confetti is thrown into the air as the players continue to play.\n"
     ]
    },
    {
     "name": "stderr",
     "output_type": "stream",
     "text": [
      "/home/ubuntu/.cache/huggingface/modules/transformers_modules/DAMO-NLP-SG/VideoLLaMA3-2B/562961752c456a26c46194130f9479dbb01ee582/modeling_videollama3.py:384: FutureWarning: `num_logits_to_keep` is deprecated and will be removed in version 4.50 for `Videollama3Qwen2ForCausalLM.forward`. Use `logits_to_keep` instead.\n",
      "  return super().forward(\n",
      " 83%|████████▎ | 483/579 [13:53<02:36,  1.63s/it]"
     ]
    },
    {
     "name": "stdout",
     "output_type": "stream",
     "text": [
      "The video shows two boxers fighting in a boxing ring. One of the fighters is wearing blue shorts and red gloves, while the other fighter is wearing black shorts with white gloves. The referee is also present to oversee the fight.\n"
     ]
    },
    {
     "name": "stderr",
     "output_type": "stream",
     "text": [
      "/home/ubuntu/.cache/huggingface/modules/transformers_modules/DAMO-NLP-SG/VideoLLaMA3-2B/562961752c456a26c46194130f9479dbb01ee582/modeling_videollama3.py:384: FutureWarning: `num_logits_to_keep` is deprecated and will be removed in version 4.50 for `Videollama3Qwen2ForCausalLM.forward`. Use `logits_to_keep` instead.\n",
      "  return super().forward(\n",
      " 84%|████████▎ | 484/579 [13:55<02:30,  1.59s/it]"
     ]
    },
    {
     "name": "stdout",
     "output_type": "stream",
     "text": [
      "The video shows a group of athletes running on the track, while other people are watching. There is also a relay race where two boys are seen walking and talking with their hands up as they finish the race.\n"
     ]
    },
    {
     "name": "stderr",
     "output_type": "stream",
     "text": [
      "/home/ubuntu/.cache/huggingface/modules/transformers_modules/DAMO-NLP-SG/VideoLLaMA3-2B/562961752c456a26c46194130f9479dbb01ee582/modeling_videollama3.py:384: FutureWarning: `num_logits_to_keep` is deprecated and will be removed in version 4.50 for `Videollama3Qwen2ForCausalLM.forward`. Use `logits_to_keep` instead.\n",
      "  return super().forward(\n",
      " 84%|████████▍ | 485/579 [13:56<02:31,  1.61s/it]"
     ]
    },
    {
     "name": "stdout",
     "output_type": "stream",
     "text": [
      "In the video, a woman is seen petting her dogs. She pets one of them and then proceeds to give it treats. There are two other dogs sitting on the floor as well. The woman is also talking about positive reinforcement for training dogs.\n"
     ]
    },
    {
     "name": "stderr",
     "output_type": "stream",
     "text": [
      "/home/ubuntu/.cache/huggingface/modules/transformers_modules/DAMO-NLP-SG/VideoLLaMA3-2B/562961752c456a26c46194130f9479dbb01ee582/modeling_videollama3.py:384: FutureWarning: `num_logits_to_keep` is deprecated and will be removed in version 4.50 for `Videollama3Qwen2ForCausalLM.forward`. Use `logits_to_keep` instead.\n",
      "  return super().forward(\n",
      " 84%|████████▍ | 486/579 [13:59<03:05,  2.00s/it]"
     ]
    },
    {
     "name": "stdout",
     "output_type": "stream",
     "text": [
      "The video shows a soccer game between two teams. One team is wearing blue and white uniforms, while the other team is wearing black and red uniforms. The referee is also present on the field. In the beginning of the video, one player kicks the ball towards the goal, but it goes into the net before he can get to it. Then, another player scores by kicking the ball into the net. Later in the video, there are more goals scored by both teams.\n",
      "QA_GT_caption_based_noisy\n"
     ]
    },
    {
     "name": "stderr",
     "output_type": "stream",
     "text": [
      "/home/ubuntu/.cache/huggingface/modules/transformers_modules/DAMO-NLP-SG/VideoLLaMA3-2B/562961752c456a26c46194130f9479dbb01ee582/modeling_videollama3.py:384: FutureWarning: `num_logits_to_keep` is deprecated and will be removed in version 4.50 for `Videollama3Qwen2ForCausalLM.forward`. Use `logits_to_keep` instead.\n",
      "  return super().forward(\n",
      " 84%|████████▍ | 487/579 [14:00<02:35,  1.69s/it]"
     ]
    },
    {
     "name": "stdout",
     "output_type": "stream",
     "text": [
      "The video shows a group of people at a baseball stadium, posing for pictures and enjoying their time together.\n"
     ]
    },
    {
     "name": "stderr",
     "output_type": "stream",
     "text": [
      "/home/ubuntu/.cache/huggingface/modules/transformers_modules/DAMO-NLP-SG/VideoLLaMA3-2B/562961752c456a26c46194130f9479dbb01ee582/modeling_videollama3.py:384: FutureWarning: `num_logits_to_keep` is deprecated and will be removed in version 4.50 for `Videollama3Qwen2ForCausalLM.forward`. Use `logits_to_keep` instead.\n",
      "  return super().forward(\n",
      " 84%|████████▍ | 488/579 [14:02<02:52,  1.90s/it]"
     ]
    },
    {
     "name": "stdout",
     "output_type": "stream",
     "text": [
      "The video shows a group of men playing poker at a table. One man in particular is shown stacking his chips and looking down at the cards on the table. The camera then pans around to show other players, including one with white hair wearing a red jacket who raises $510,000. There are also several stacks of money visible throughout the video.\n",
      "QA_GT_caption_based_noisy\n"
     ]
    },
    {
     "name": "stderr",
     "output_type": "stream",
     "text": [
      "/home/ubuntu/.cache/huggingface/modules/transformers_modules/DAMO-NLP-SG/VideoLLaMA3-2B/562961752c456a26c46194130f9479dbb01ee582/modeling_videollama3.py:384: FutureWarning: `num_logits_to_keep` is deprecated and will be removed in version 4.50 for `Videollama3Qwen2ForCausalLM.forward`. Use `logits_to_keep` instead.\n",
      "  return super().forward(\n",
      " 84%|████████▍ | 489/579 [14:04<02:46,  1.85s/it]"
     ]
    },
    {
     "name": "stdout",
     "output_type": "stream",
     "text": [
      "In the video, a man is seen walking on top of rocks near water. He then jumps into the water and swims to shore. The camera captures his movements as he walks up the rock, and there are also shots from above showing him swimming back to land.\n"
     ]
    },
    {
     "name": "stderr",
     "output_type": "stream",
     "text": [
      "/home/ubuntu/.cache/huggingface/modules/transformers_modules/DAMO-NLP-SG/VideoLLaMA3-2B/562961752c456a26c46194130f9479dbb01ee582/modeling_videollama3.py:384: FutureWarning: `num_logits_to_keep` is deprecated and will be removed in version 4.50 for `Videollama3Qwen2ForCausalLM.forward`. Use `logits_to_keep` instead.\n",
      "  return super().forward(\n",
      " 85%|████████▍ | 490/579 [14:06<02:42,  1.83s/it]"
     ]
    },
    {
     "name": "stdout",
     "output_type": "stream",
     "text": [
      "The video shows a large crowd of people walking and standing around. It then cuts to an artist who is DJing at a concert or festival, spinning records on his turntables while wearing headphones. The camera pans back out to show the audience enjoying the music being played by the DJ.\n"
     ]
    },
    {
     "name": "stderr",
     "output_type": "stream",
     "text": [
      "/home/ubuntu/.cache/huggingface/modules/transformers_modules/DAMO-NLP-SG/VideoLLaMA3-2B/562961752c456a26c46194130f9479dbb01ee582/modeling_videollama3.py:384: FutureWarning: `num_logits_to_keep` is deprecated and will be removed in version 4.50 for `Videollama3Qwen2ForCausalLM.forward`. Use `logits_to_keep` instead.\n",
      "  return super().forward(\n",
      " 85%|████████▍ | 491/579 [14:08<02:43,  1.86s/it]"
     ]
    },
    {
     "name": "stdout",
     "output_type": "stream",
     "text": [
      "The video shows a group of people running in a marathon. They are wearing different colored clothes and some have numbers pinned on their shirts. The runners start from the beginning of the road, run down it, and then continue to cross the finish line. There is music playing in the background as they run.\n"
     ]
    },
    {
     "name": "stderr",
     "output_type": "stream",
     "text": [
      "/home/ubuntu/.cache/huggingface/modules/transformers_modules/DAMO-NLP-SG/VideoLLaMA3-2B/562961752c456a26c46194130f9479dbb01ee582/modeling_videollama3.py:384: FutureWarning: `num_logits_to_keep` is deprecated and will be removed in version 4.50 for `Videollama3Qwen2ForCausalLM.forward`. Use `logits_to_keep` instead.\n",
      "  return super().forward(\n",
      " 85%|████████▍ | 492/579 [14:09<02:25,  1.67s/it]"
     ]
    },
    {
     "name": "stdout",
     "output_type": "stream",
     "text": [
      "The video shows a woman speaking on television while sitting in front of a sign that says \"choose or lose.\" She is wearing a green and white striped shirt.\n"
     ]
    },
    {
     "name": "stderr",
     "output_type": "stream",
     "text": [
      "/home/ubuntu/.cache/huggingface/modules/transformers_modules/DAMO-NLP-SG/VideoLLaMA3-2B/562961752c456a26c46194130f9479dbb01ee582/modeling_videollama3.py:384: FutureWarning: `num_logits_to_keep` is deprecated and will be removed in version 4.50 for `Videollama3Qwen2ForCausalLM.forward`. Use `logits_to_keep` instead.\n",
      "  return super().forward(\n",
      " 85%|████████▌ | 493/579 [14:10<02:14,  1.57s/it]"
     ]
    },
    {
     "name": "stdout",
     "output_type": "stream",
     "text": [
      "The video starts with a football player in the tunnel, and then it cuts to him running on the field. The next scene shows a man talking into a microphone during an interview.\n"
     ]
    },
    {
     "name": "stderr",
     "output_type": "stream",
     "text": [
      "/home/ubuntu/.cache/huggingface/modules/transformers_modules/DAMO-NLP-SG/VideoLLaMA3-2B/562961752c456a26c46194130f9479dbb01ee582/modeling_videollama3.py:384: FutureWarning: `num_logits_to_keep` is deprecated and will be removed in version 4.50 for `Videollama3Qwen2ForCausalLM.forward`. Use `logits_to_keep` instead.\n",
      "  return super().forward(\n",
      " 85%|████████▌ | 494/579 [14:12<02:06,  1.48s/it]"
     ]
    },
    {
     "name": "stdout",
     "output_type": "stream",
     "text": [
      "The video shows a basketball game with a player named Rookie Ildefonso on the court. He is seen running and jumping to make a shot while being surrounded by other players.\n"
     ]
    },
    {
     "name": "stderr",
     "output_type": "stream",
     "text": [
      "/home/ubuntu/.cache/huggingface/modules/transformers_modules/DAMO-NLP-SG/VideoLLaMA3-2B/562961752c456a26c46194130f9479dbb01ee582/modeling_videollama3.py:384: FutureWarning: `num_logits_to_keep` is deprecated and will be removed in version 4.50 for `Videollama3Qwen2ForCausalLM.forward`. Use `logits_to_keep` instead.\n",
      "  return super().forward(\n",
      " 85%|████████▌ | 495/579 [14:13<02:04,  1.48s/it]"
     ]
    },
    {
     "name": "stdout",
     "output_type": "stream",
     "text": [
      "The video shows a man with glasses kicking a football on a field. He is wearing tan boots and a white shirt. After the kick, the camera follows the ball as it goes through the goal post.\n"
     ]
    },
    {
     "name": "stderr",
     "output_type": "stream",
     "text": [
      "/home/ubuntu/.cache/huggingface/modules/transformers_modules/DAMO-NLP-SG/VideoLLaMA3-2B/562961752c456a26c46194130f9479dbb01ee582/modeling_videollama3.py:384: FutureWarning: `num_logits_to_keep` is deprecated and will be removed in version 4.50 for `Videollama3Qwen2ForCausalLM.forward`. Use `logits_to_keep` instead.\n",
      "  return super().forward(\n",
      " 86%|████████▌ | 496/579 [14:14<01:55,  1.39s/it]"
     ]
    },
    {
     "name": "stdout",
     "output_type": "stream",
     "text": [
      "A large group of men are standing in a crowded arena. They are looking at the camera and talking to each other while others watch from their seats.\n"
     ]
    },
    {
     "name": "stderr",
     "output_type": "stream",
     "text": [
      "/home/ubuntu/.cache/huggingface/modules/transformers_modules/DAMO-NLP-SG/VideoLLaMA3-2B/562961752c456a26c46194130f9479dbb01ee582/modeling_videollama3.py:384: FutureWarning: `num_logits_to_keep` is deprecated and will be removed in version 4.50 for `Videollama3Qwen2ForCausalLM.forward`. Use `logits_to_keep` instead.\n",
      "  return super().forward(\n",
      " 86%|████████▌ | 497/579 [14:16<02:08,  1.56s/it]"
     ]
    },
    {
     "name": "stdout",
     "output_type": "stream",
     "text": [
      "The video features a woman who is singing into a microphone. She starts by holding the microphone to her mouth and then points up with one finger. In another shot, she holds the microphone in front of her chest while still pointing up. The background seems to be dark, but it's not clear what kind of setting or environment there might be.\n"
     ]
    },
    {
     "name": "stderr",
     "output_type": "stream",
     "text": [
      "/home/ubuntu/.cache/huggingface/modules/transformers_modules/DAMO-NLP-SG/VideoLLaMA3-2B/562961752c456a26c46194130f9479dbb01ee582/modeling_videollama3.py:384: FutureWarning: `num_logits_to_keep` is deprecated and will be removed in version 4.50 for `Videollama3Qwen2ForCausalLM.forward`. Use `logits_to_keep` instead.\n",
      "  return super().forward(\n",
      " 86%|████████▌ | 498/579 [14:18<01:58,  1.47s/it]"
     ]
    },
    {
     "name": "stdout",
     "output_type": "stream",
     "text": [
      "The video shows a series of pictures of Jennifer Lawrence in different outfits and hairstyles. The captions describe her life, career, and achievements as she transitions through the images.\n"
     ]
    },
    {
     "name": "stderr",
     "output_type": "stream",
     "text": [
      "/home/ubuntu/.cache/huggingface/modules/transformers_modules/DAMO-NLP-SG/VideoLLaMA3-2B/562961752c456a26c46194130f9479dbb01ee582/modeling_videollama3.py:384: FutureWarning: `num_logits_to_keep` is deprecated and will be removed in version 4.50 for `Videollama3Qwen2ForCausalLM.forward`. Use `logits_to_keep` instead.\n",
      "  return super().forward(\n",
      " 86%|████████▌ | 499/579 [14:19<02:03,  1.54s/it]"
     ]
    },
    {
     "name": "stdout",
     "output_type": "stream",
     "text": [
      "In the video, two men are seen fighting in a ring. One of them is wearing green shorts and he throws punches at his opponent who is wearing black shorts. The fighter in black shorts tries to defend himself but eventually falls down on the ground after being hit by the other man's punch.\n"
     ]
    },
    {
     "name": "stderr",
     "output_type": "stream",
     "text": [
      "/home/ubuntu/.cache/huggingface/modules/transformers_modules/DAMO-NLP-SG/VideoLLaMA3-2B/562961752c456a26c46194130f9479dbb01ee582/modeling_videollama3.py:384: FutureWarning: `num_logits_to_keep` is deprecated and will be removed in version 4.50 for `Videollama3Qwen2ForCausalLM.forward`. Use `logits_to_keep` instead.\n",
      "  return super().forward(\n",
      " 86%|████████▋ | 500/579 [14:21<02:02,  1.55s/it]"
     ]
    },
    {
     "name": "stdout",
     "output_type": "stream",
     "text": [
      "The video shows a large group of people riding bikes down a snowy path. The scene is captured from behind, and the riders are moving towards the camera. The weather appears to be cold as there is snow on the ground.\n"
     ]
    },
    {
     "name": "stderr",
     "output_type": "stream",
     "text": [
      "/home/ubuntu/.cache/huggingface/modules/transformers_modules/DAMO-NLP-SG/VideoLLaMA3-2B/562961752c456a26c46194130f9479dbb01ee582/modeling_videollama3.py:384: FutureWarning: `num_logits_to_keep` is deprecated and will be removed in version 4.50 for `Videollama3Qwen2ForCausalLM.forward`. Use `logits_to_keep` instead.\n",
      "  return super().forward(\n",
      " 87%|████████▋ | 501/579 [14:23<02:17,  1.77s/it]"
     ]
    },
    {
     "name": "stdout",
     "output_type": "stream",
     "text": [
      "The video shows a man walking towards the camera at sunset. He is wearing sunglasses and holding his phone up to his eye, as if he was taking pictures or recording something. The scene then changes to an indoor setting where another person is also seen using their phone in front of them. Finally, there are shots of people talking and working with cameras while sitting down on chairs.\n"
     ]
    },
    {
     "name": "stderr",
     "output_type": "stream",
     "text": [
      "/home/ubuntu/.cache/huggingface/modules/transformers_modules/DAMO-NLP-SG/VideoLLaMA3-2B/562961752c456a26c46194130f9479dbb01ee582/modeling_videollama3.py:384: FutureWarning: `num_logits_to_keep` is deprecated and will be removed in version 4.50 for `Videollama3Qwen2ForCausalLM.forward`. Use `logits_to_keep` instead.\n",
      "  return super().forward(\n",
      " 87%|████████▋ | 502/579 [14:25<02:18,  1.80s/it]"
     ]
    },
    {
     "name": "stdout",
     "output_type": "stream",
     "text": [
      "The video is about a game where players hide in corners of the room and try to find each other. In this particular scene, two characters are hiding in a corner while another character tries to locate them. The player who was previously in the corner moves out of view and then comes back into view.\n"
     ]
    },
    {
     "name": "stderr",
     "output_type": "stream",
     "text": [
      "/home/ubuntu/.cache/huggingface/modules/transformers_modules/DAMO-NLP-SG/VideoLLaMA3-2B/562961752c456a26c46194130f9479dbb01ee582/modeling_videollama3.py:384: FutureWarning: `num_logits_to_keep` is deprecated and will be removed in version 4.50 for `Videollama3Qwen2ForCausalLM.forward`. Use `logits_to_keep` instead.\n",
      "  return super().forward(\n",
      " 87%|████████▋ | 503/579 [14:29<02:58,  2.35s/it]"
     ]
    },
    {
     "name": "stdout",
     "output_type": "stream",
     "text": [
      "The video shows a large group of people standing around a stage where two robots are competing. The audience is cheering and watching the match intently, while some of them are holding cameras to capture the event. Two men wearing yellow shirts can be seen standing in front of the stage, possibly overseeing the competition or providing commentary on the game.\n",
      "In another scene from the same event, we see two men playing with a robot at an indoor facility. They seem to be having fun as they move around with the robot. Overall, the video captures various scenes of people engaging in different activities, including watching and participating in competitions, enjoying games, and interacting with technology.\n"
     ]
    },
    {
     "name": "stderr",
     "output_type": "stream",
     "text": [
      "/home/ubuntu/.cache/huggingface/modules/transformers_modules/DAMO-NLP-SG/VideoLLaMA3-2B/562961752c456a26c46194130f9479dbb01ee582/modeling_videollama3.py:384: FutureWarning: `num_logits_to_keep` is deprecated and will be removed in version 4.50 for `Videollama3Qwen2ForCausalLM.forward`. Use `logits_to_keep` instead.\n",
      "  return super().forward(\n",
      " 87%|████████▋ | 504/579 [14:31<02:51,  2.28s/it]"
     ]
    },
    {
     "name": "stdout",
     "output_type": "stream",
     "text": [
      "The video shows a man swimming in an indoor pool. He is wearing swim trunks and there are lane lines on the bottom of the pool. The water is clear, allowing for good visibility. There are other people present in the background, but they do not seem to be involved with the main focus of the video which is the man swimming.\n"
     ]
    },
    {
     "name": "stderr",
     "output_type": "stream",
     "text": [
      "/home/ubuntu/.cache/huggingface/modules/transformers_modules/DAMO-NLP-SG/VideoLLaMA3-2B/562961752c456a26c46194130f9479dbb01ee582/modeling_videollama3.py:384: FutureWarning: `num_logits_to_keep` is deprecated and will be removed in version 4.50 for `Videollama3Qwen2ForCausalLM.forward`. Use `logits_to_keep` instead.\n",
      "  return super().forward(\n",
      " 87%|████████▋ | 505/579 [14:33<02:47,  2.27s/it]"
     ]
    },
    {
     "name": "stdout",
     "output_type": "stream",
     "text": [
      "The video shows a gymnast performing her routine on the floor. She starts by spinning around and then performs various flips before landing in a position. However, during one of these moves, she loses balance and falls onto the mat. Despite this setback, she quickly gets up and continues with her routine, showcasing her determination to finish strong.\n",
      "QA_GT_caption_based_noisy\n"
     ]
    },
    {
     "name": "stderr",
     "output_type": "stream",
     "text": [
      "/home/ubuntu/.cache/huggingface/modules/transformers_modules/DAMO-NLP-SG/VideoLLaMA3-2B/562961752c456a26c46194130f9479dbb01ee582/modeling_videollama3.py:384: FutureWarning: `num_logits_to_keep` is deprecated and will be removed in version 4.50 for `Videollama3Qwen2ForCausalLM.forward`. Use `logits_to_keep` instead.\n",
      "  return super().forward(\n",
      " 87%|████████▋ | 506/579 [14:36<02:58,  2.44s/it]"
     ]
    },
    {
     "name": "stdout",
     "output_type": "stream",
     "text": [
      "In the video, there are several scenes. In one scene, a group of men in military gear is seen walking and talking together on a foggy day. Another scene shows a man in uniform speaking to a small group of people outside. Then, we see soldiers standing at attention and holding weapons. There is also a scene where a soldier with an FBI vest talks to some other people while others stand around him. Finally, a team of armed men walk down the street and into a building.\n"
     ]
    },
    {
     "name": "stderr",
     "output_type": "stream",
     "text": [
      "/home/ubuntu/.cache/huggingface/modules/transformers_modules/DAMO-NLP-SG/VideoLLaMA3-2B/562961752c456a26c46194130f9479dbb01ee582/modeling_videollama3.py:384: FutureWarning: `num_logits_to_keep` is deprecated and will be removed in version 4.50 for `Videollama3Qwen2ForCausalLM.forward`. Use `logits_to_keep` instead.\n",
      "  return super().forward(\n",
      " 88%|████████▊ | 507/579 [14:37<02:32,  2.12s/it]"
     ]
    },
    {
     "name": "stdout",
     "output_type": "stream",
     "text": [
      "In the video, a man is demonstrating his golf swing technique. He takes a practice swing and then hits the ball with the club. The camera shows him from different angles as he swings.\n"
     ]
    },
    {
     "name": "stderr",
     "output_type": "stream",
     "text": [
      "/home/ubuntu/.cache/huggingface/modules/transformers_modules/DAMO-NLP-SG/VideoLLaMA3-2B/562961752c456a26c46194130f9479dbb01ee582/modeling_videollama3.py:384: FutureWarning: `num_logits_to_keep` is deprecated and will be removed in version 4.50 for `Videollama3Qwen2ForCausalLM.forward`. Use `logits_to_keep` instead.\n",
      "  return super().forward(\n",
      " 88%|████████▊ | 508/579 [14:39<02:31,  2.13s/it]"
     ]
    },
    {
     "name": "stdout",
     "output_type": "stream",
     "text": [
      "In the video, a person is drawing trees on a white board. They start by writing \"DRAW my LIFE\" in red and then draw two black trees with branches next to each other. After that, they add more greenery around the trees using different colors of markers. The final result shows several trees with varying shades of green and blue surrounding them.\n"
     ]
    },
    {
     "name": "stderr",
     "output_type": "stream",
     "text": [
      "/home/ubuntu/.cache/huggingface/modules/transformers_modules/DAMO-NLP-SG/VideoLLaMA3-2B/562961752c456a26c46194130f9479dbb01ee582/modeling_videollama3.py:384: FutureWarning: `num_logits_to_keep` is deprecated and will be removed in version 4.50 for `Videollama3Qwen2ForCausalLM.forward`. Use `logits_to_keep` instead.\n",
      "  return super().forward(\n",
      " 88%|████████▊ | 509/579 [14:41<02:24,  2.06s/it]"
     ]
    },
    {
     "name": "stdout",
     "output_type": "stream",
     "text": [
      "The video shows a young woman interacting with her iPad, which displays pictures of herself and others. She is seen walking in the park while holding her child who points at something off-camera. The woman then holds up two balloons shaped like the number 2, indicating that she is celebrating her second birthday.\n"
     ]
    },
    {
     "name": "stderr",
     "output_type": "stream",
     "text": [
      "/home/ubuntu/.cache/huggingface/modules/transformers_modules/DAMO-NLP-SG/VideoLLaMA3-2B/562961752c456a26c46194130f9479dbb01ee582/modeling_videollama3.py:384: FutureWarning: `num_logits_to_keep` is deprecated and will be removed in version 4.50 for `Videollama3Qwen2ForCausalLM.forward`. Use `logits_to_keep` instead.\n",
      "  return super().forward(\n",
      " 88%|████████▊ | 510/579 [14:43<02:10,  1.89s/it]"
     ]
    },
    {
     "name": "stdout",
     "output_type": "stream",
     "text": [
      "In the video, a police officer is seen talking to someone. The officer has his hand up and appears to be in an interrogation room. He is wearing a uniform shirt with epaulets. There are other people present during the conversation.\n"
     ]
    },
    {
     "name": "stderr",
     "output_type": "stream",
     "text": [
      "/home/ubuntu/.cache/huggingface/modules/transformers_modules/DAMO-NLP-SG/VideoLLaMA3-2B/562961752c456a26c46194130f9479dbb01ee582/modeling_videollama3.py:384: FutureWarning: `num_logits_to_keep` is deprecated and will be removed in version 4.50 for `Videollama3Qwen2ForCausalLM.forward`. Use `logits_to_keep` instead.\n",
      "  return super().forward(\n",
      " 88%|████████▊ | 511/579 [14:45<02:10,  1.91s/it]"
     ]
    },
    {
     "name": "stdout",
     "output_type": "stream",
     "text": [
      "The video shows a man in a yellow shirt who throws a ball to another player. The scene then shifts to an Australian cricket match where the same man, wearing a yellow uniform with \"Australia\" written on it, bowls the ball towards the batsman. He is seen running and celebrating after bowling the ball.\n"
     ]
    },
    {
     "name": "stderr",
     "output_type": "stream",
     "text": [
      "/home/ubuntu/.cache/huggingface/modules/transformers_modules/DAMO-NLP-SG/VideoLLaMA3-2B/562961752c456a26c46194130f9479dbb01ee582/modeling_videollama3.py:384: FutureWarning: `num_logits_to_keep` is deprecated and will be removed in version 4.50 for `Videollama3Qwen2ForCausalLM.forward`. Use `logits_to_keep` instead.\n",
      "  return super().forward(\n",
      " 88%|████████▊ | 512/579 [14:46<01:59,  1.78s/it]"
     ]
    },
    {
     "name": "stdout",
     "output_type": "stream",
     "text": [
      "In the video, a man is seen walking on a bridge while wearing athletic shoes. He then turns around and walks back towards the camera. The sun shines brightly behind him as he walks along the metal bridge.\n"
     ]
    },
    {
     "name": "stderr",
     "output_type": "stream",
     "text": [
      "/home/ubuntu/.cache/huggingface/modules/transformers_modules/DAMO-NLP-SG/VideoLLaMA3-2B/562961752c456a26c46194130f9479dbb01ee582/modeling_videollama3.py:384: FutureWarning: `num_logits_to_keep` is deprecated and will be removed in version 4.50 for `Videollama3Qwen2ForCausalLM.forward`. Use `logits_to_keep` instead.\n",
      "  return super().forward(\n",
      " 89%|████████▊ | 513/579 [14:50<02:34,  2.34s/it]"
     ]
    },
    {
     "name": "stdout",
     "output_type": "stream",
     "text": [
      "The video shows a man sitting in front of the camera, speaking to it. He is wearing a blue shirt and appears to be happy as he talks about his love for technology. The background includes a computer monitor on a desk with two monitors, one showing an image of the moon. There are also books stacked on top of each other near the monitor.\n",
      "In addition to the man, there are three women shown briefly in the video. One woman has blonde hair and wears a brown jacket over a black top while another woman sits at a table with her hands clasped behind her back. A third woman's face is not visible but she seems to be smiling or laughing.\n"
     ]
    },
    {
     "name": "stderr",
     "output_type": "stream",
     "text": [
      "/home/ubuntu/.cache/huggingface/modules/transformers_modules/DAMO-NLP-SG/VideoLLaMA3-2B/562961752c456a26c46194130f9479dbb01ee582/modeling_videollama3.py:384: FutureWarning: `num_logits_to_keep` is deprecated and will be removed in version 4.50 for `Videollama3Qwen2ForCausalLM.forward`. Use `logits_to_keep` instead.\n",
      "  return super().forward(\n",
      " 89%|████████▉ | 514/579 [14:52<02:24,  2.22s/it]"
     ]
    },
    {
     "name": "stdout",
     "output_type": "stream",
     "text": [
      "The video shows a woman in the crowd clapping. Then, it transitions to a game where two teams are playing basketball on an outdoor court. The players are running around and passing the ball while others watch from the sidelines.\n"
     ]
    },
    {
     "name": "stderr",
     "output_type": "stream",
     "text": [
      "/home/ubuntu/.cache/huggingface/modules/transformers_modules/DAMO-NLP-SG/VideoLLaMA3-2B/562961752c456a26c46194130f9479dbb01ee582/modeling_videollama3.py:384: FutureWarning: `num_logits_to_keep` is deprecated and will be removed in version 4.50 for `Videollama3Qwen2ForCausalLM.forward`. Use `logits_to_keep` instead.\n",
      "  return super().forward(\n",
      " 89%|████████▉ | 515/579 [14:54<02:18,  2.16s/it]"
     ]
    },
    {
     "name": "stdout",
     "output_type": "stream",
     "text": [
      "The video shows a young boy with blond hair in different settings. He is seen pointing at the camera, holding up his hands, and standing in front of various backgrounds including mountains, a red background, and underwater. There are also scenes where he looks surprised and faces an alien creature. The video seems to be a collection of random clips featuring this character.\n"
     ]
    },
    {
     "name": "stderr",
     "output_type": "stream",
     "text": [
      "/home/ubuntu/.cache/huggingface/modules/transformers_modules/DAMO-NLP-SG/VideoLLaMA3-2B/562961752c456a26c46194130f9479dbb01ee582/modeling_videollama3.py:384: FutureWarning: `num_logits_to_keep` is deprecated and will be removed in version 4.50 for `Videollama3Qwen2ForCausalLM.forward`. Use `logits_to_keep` instead.\n",
      "  return super().forward(\n",
      " 89%|████████▉ | 516/579 [14:55<02:05,  2.00s/it]"
     ]
    },
    {
     "name": "stdout",
     "output_type": "stream",
     "text": [
      "In the video, there is a man in a green outfit who gets hit by a wind wave. The wind blows his shirt off and he falls to the ground. Another character appears next to him with an angry expression on their face.\n"
     ]
    },
    {
     "name": "stderr",
     "output_type": "stream",
     "text": [
      "/home/ubuntu/.cache/huggingface/modules/transformers_modules/DAMO-NLP-SG/VideoLLaMA3-2B/562961752c456a26c46194130f9479dbb01ee582/modeling_videollama3.py:384: FutureWarning: `num_logits_to_keep` is deprecated and will be removed in version 4.50 for `Videollama3Qwen2ForCausalLM.forward`. Use `logits_to_keep` instead.\n",
      "  return super().forward(\n",
      " 89%|████████▉ | 517/579 [14:57<01:53,  1.83s/it]"
     ]
    },
    {
     "name": "stdout",
     "output_type": "stream",
     "text": [
      "The video shows a soccer player who gets injured during a game and is taken to the hospital. He sits on the ground crying as people attend to him while a man speaks about it in an interview.\n"
     ]
    },
    {
     "name": "stderr",
     "output_type": "stream",
     "text": [
      "/home/ubuntu/.cache/huggingface/modules/transformers_modules/DAMO-NLP-SG/VideoLLaMA3-2B/562961752c456a26c46194130f9479dbb01ee582/modeling_videollama3.py:384: FutureWarning: `num_logits_to_keep` is deprecated and will be removed in version 4.50 for `Videollama3Qwen2ForCausalLM.forward`. Use `logits_to_keep` instead.\n",
      "  return super().forward(\n",
      " 89%|████████▉ | 518/579 [14:58<01:40,  1.65s/it]"
     ]
    },
    {
     "name": "stdout",
     "output_type": "stream",
     "text": [
      "In the video, we see a soldier in military gear sitting down and looking around. Then, he is seen jumping out of an airplane while holding onto his parachute.\n"
     ]
    },
    {
     "name": "stderr",
     "output_type": "stream",
     "text": [
      "/home/ubuntu/.cache/huggingface/modules/transformers_modules/DAMO-NLP-SG/VideoLLaMA3-2B/562961752c456a26c46194130f9479dbb01ee582/modeling_videollama3.py:384: FutureWarning: `num_logits_to_keep` is deprecated and will be removed in version 4.50 for `Videollama3Qwen2ForCausalLM.forward`. Use `logits_to_keep` instead.\n",
      "  return super().forward(\n",
      " 90%|████████▉ | 519/579 [15:00<01:36,  1.60s/it]"
     ]
    },
    {
     "name": "stdout",
     "output_type": "stream",
     "text": [
      "The video shows a man and woman sitting next to each other. The scene changes from color to black and white, and then the camera zooms in on their faces. There is also an older photo of them together.\n"
     ]
    },
    {
     "name": "stderr",
     "output_type": "stream",
     "text": [
      "/home/ubuntu/.cache/huggingface/modules/transformers_modules/DAMO-NLP-SG/VideoLLaMA3-2B/562961752c456a26c46194130f9479dbb01ee582/modeling_videollama3.py:384: FutureWarning: `num_logits_to_keep` is deprecated and will be removed in version 4.50 for `Videollama3Qwen2ForCausalLM.forward`. Use `logits_to_keep` instead.\n",
      "  return super().forward(\n",
      " 90%|████████▉ | 520/579 [15:01<01:35,  1.62s/it]"
     ]
    },
    {
     "name": "stdout",
     "output_type": "stream",
     "text": [
      "The video shows two men boxing in a ring. One of the boxers, who is wearing red gloves, loses his tooth while fighting and it falls into the crowd. The referee tries to get him back into the ring but he keeps falling out again.\n"
     ]
    },
    {
     "name": "stderr",
     "output_type": "stream",
     "text": [
      "/home/ubuntu/.cache/huggingface/modules/transformers_modules/DAMO-NLP-SG/VideoLLaMA3-2B/562961752c456a26c46194130f9479dbb01ee582/modeling_videollama3.py:384: FutureWarning: `num_logits_to_keep` is deprecated and will be removed in version 4.50 for `Videollama3Qwen2ForCausalLM.forward`. Use `logits_to_keep` instead.\n",
      "  return super().forward(\n",
      " 90%|████████▉ | 521/579 [15:03<01:35,  1.64s/it]"
     ]
    },
    {
     "name": "stdout",
     "output_type": "stream",
     "text": [
      "In the video, a cartoon man is sitting in an office. He has brown hair and blue eyes. There are two pictures on the wall behind him, one of which is a yellow ribbon. The man stands up from his desk and talks to someone off camera.\n"
     ]
    },
    {
     "name": "stderr",
     "output_type": "stream",
     "text": [
      "/home/ubuntu/.cache/huggingface/modules/transformers_modules/DAMO-NLP-SG/VideoLLaMA3-2B/562961752c456a26c46194130f9479dbb01ee582/modeling_videollama3.py:384: FutureWarning: `num_logits_to_keep` is deprecated and will be removed in version 4.50 for `Videollama3Qwen2ForCausalLM.forward`. Use `logits_to_keep` instead.\n",
      "  return super().forward(\n",
      " 90%|█████████ | 522/579 [15:05<01:41,  1.78s/it]"
     ]
    },
    {
     "name": "stdout",
     "output_type": "stream",
     "text": [
      "The video shows a soccer game being played on the field. There are two teams playing, one wearing white and black uniforms while the other is in blue. The players are running around trying to score goals. One of the players scores a goal and his teammates cheer him on. They celebrate by jumping up and down together with their arms raised.\n"
     ]
    },
    {
     "name": "stderr",
     "output_type": "stream",
     "text": [
      "/home/ubuntu/.cache/huggingface/modules/transformers_modules/DAMO-NLP-SG/VideoLLaMA3-2B/562961752c456a26c46194130f9479dbb01ee582/modeling_videollama3.py:384: FutureWarning: `num_logits_to_keep` is deprecated and will be removed in version 4.50 for `Videollama3Qwen2ForCausalLM.forward`. Use `logits_to_keep` instead.\n",
      "  return super().forward(\n",
      " 90%|█████████ | 523/579 [15:08<01:58,  2.12s/it]"
     ]
    },
    {
     "name": "stdout",
     "output_type": "stream",
     "text": [
      "The video shows a group of people walking around in locker rooms, talking about how to get the best spots. They discuss their experiences and give advice on where to find good spaces. One man mentions that he has been standing next to someone named Marnus for five minutes and they are already in his spot. Another man talks about his own experience with the situation. The video seems to be related to sports or team activities, as it is set in locker rooms and involves discussions about getting the right place.\n"
     ]
    },
    {
     "name": "stderr",
     "output_type": "stream",
     "text": [
      "/home/ubuntu/.cache/huggingface/modules/transformers_modules/DAMO-NLP-SG/VideoLLaMA3-2B/562961752c456a26c46194130f9479dbb01ee582/modeling_videollama3.py:384: FutureWarning: `num_logits_to_keep` is deprecated and will be removed in version 4.50 for `Videollama3Qwen2ForCausalLM.forward`. Use `logits_to_keep` instead.\n",
      "  return super().forward(\n",
      " 91%|█████████ | 524/579 [15:10<01:49,  1.98s/it]"
     ]
    },
    {
     "name": "stdout",
     "output_type": "stream",
     "text": [
      "The video shows a group of men playing with guns, while another man is being interviewed. The interviewee speaks to the camera in front of an orange sign that says \"the extra.\" There are also scenes of people running around and horses in the background.\n",
      "QA_GT_caption_based_noisy\n"
     ]
    },
    {
     "name": "stderr",
     "output_type": "stream",
     "text": [
      "/home/ubuntu/.cache/huggingface/modules/transformers_modules/DAMO-NLP-SG/VideoLLaMA3-2B/562961752c456a26c46194130f9479dbb01ee582/modeling_videollama3.py:384: FutureWarning: `num_logits_to_keep` is deprecated and will be removed in version 4.50 for `Videollama3Qwen2ForCausalLM.forward`. Use `logits_to_keep` instead.\n",
      "  return super().forward(\n",
      " 91%|█████████ | 525/579 [15:11<01:37,  1.81s/it]"
     ]
    },
    {
     "name": "stdout",
     "output_type": "stream",
     "text": [
      "The video shows a football game with players from two different teams, one team wearing green and the other team wearing yellow. The crowd is cheering loudly as they watch the game unfold on the field.\n"
     ]
    },
    {
     "name": "stderr",
     "output_type": "stream",
     "text": [
      "/home/ubuntu/.cache/huggingface/modules/transformers_modules/DAMO-NLP-SG/VideoLLaMA3-2B/562961752c456a26c46194130f9479dbb01ee582/modeling_videollama3.py:384: FutureWarning: `num_logits_to_keep` is deprecated and will be removed in version 4.50 for `Videollama3Qwen2ForCausalLM.forward`. Use `logits_to_keep` instead.\n",
      "  return super().forward(\n",
      " 91%|█████████ | 526/579 [15:12<01:25,  1.61s/it]"
     ]
    },
    {
     "name": "stdout",
     "output_type": "stream",
     "text": [
      "The video shows a man in red talking about his friend Michael Kozicki, who is wearing sunglasses and reading from a piece of paper.\n"
     ]
    },
    {
     "name": "stderr",
     "output_type": "stream",
     "text": [
      "/home/ubuntu/.cache/huggingface/modules/transformers_modules/DAMO-NLP-SG/VideoLLaMA3-2B/562961752c456a26c46194130f9479dbb01ee582/modeling_videollama3.py:384: FutureWarning: `num_logits_to_keep` is deprecated and will be removed in version 4.50 for `Videollama3Qwen2ForCausalLM.forward`. Use `logits_to_keep` instead.\n",
      "  return super().forward(\n",
      " 91%|█████████ | 527/579 [15:14<01:25,  1.65s/it]"
     ]
    },
    {
     "name": "stdout",
     "output_type": "stream",
     "text": [
      "The video shows a man lifting weights in different locations. He starts by lifting the weight bar on a bench and then moves to squatting with it. The gym he is working out in has mats covering the floor, which are commonly used for safety purposes during workouts.\n"
     ]
    },
    {
     "name": "stderr",
     "output_type": "stream",
     "text": [
      "/home/ubuntu/.cache/huggingface/modules/transformers_modules/DAMO-NLP-SG/VideoLLaMA3-2B/562961752c456a26c46194130f9479dbb01ee582/modeling_videollama3.py:384: FutureWarning: `num_logits_to_keep` is deprecated and will be removed in version 4.50 for `Videollama3Qwen2ForCausalLM.forward`. Use `logits_to_keep` instead.\n",
      "  return super().forward(\n",
      " 91%|█████████ | 528/579 [15:16<01:25,  1.67s/it]"
     ]
    },
    {
     "name": "stdout",
     "output_type": "stream",
     "text": [
      "The video shows a soccer game being played in a stadium. It starts with the players entering the field and then transitions to them playing the match, kicking the ball around, running up and down the field, and passing it back and forth. The crowd is cheering loudly as they watch the game unfold.\n"
     ]
    },
    {
     "name": "stderr",
     "output_type": "stream",
     "text": [
      "/home/ubuntu/.cache/huggingface/modules/transformers_modules/DAMO-NLP-SG/VideoLLaMA3-2B/562961752c456a26c46194130f9479dbb01ee582/modeling_videollama3.py:384: FutureWarning: `num_logits_to_keep` is deprecated and will be removed in version 4.50 for `Videollama3Qwen2ForCausalLM.forward`. Use `logits_to_keep` instead.\n",
      "  return super().forward(\n",
      " 91%|█████████▏| 529/579 [15:17<01:16,  1.54s/it]"
     ]
    },
    {
     "name": "stdout",
     "output_type": "stream",
     "text": [
      "The video shows a basketball game where a player from the Celtics team scores a basket. The crowd cheers and claps for him as he celebrates his successful shot.\n"
     ]
    },
    {
     "name": "stderr",
     "output_type": "stream",
     "text": [
      "/home/ubuntu/.cache/huggingface/modules/transformers_modules/DAMO-NLP-SG/VideoLLaMA3-2B/562961752c456a26c46194130f9479dbb01ee582/modeling_videollama3.py:384: FutureWarning: `num_logits_to_keep` is deprecated and will be removed in version 4.50 for `Videollama3Qwen2ForCausalLM.forward`. Use `logits_to_keep` instead.\n",
      "  return super().forward(\n",
      " 92%|█████████▏| 530/579 [15:18<01:15,  1.53s/it]"
     ]
    },
    {
     "name": "stdout",
     "output_type": "stream",
     "text": [
      "The video shows a basketball game with two teams playing against each other. The players are wearing uniforms and the audience is cheering them on. At one point, there is an advertisement for a basketball player's jersey being sold.\n"
     ]
    },
    {
     "name": "stderr",
     "output_type": "stream",
     "text": [
      "/home/ubuntu/.cache/huggingface/modules/transformers_modules/DAMO-NLP-SG/VideoLLaMA3-2B/562961752c456a26c46194130f9479dbb01ee582/modeling_videollama3.py:384: FutureWarning: `num_logits_to_keep` is deprecated and will be removed in version 4.50 for `Videollama3Qwen2ForCausalLM.forward`. Use `logits_to_keep` instead.\n",
      "  return super().forward(\n",
      " 92%|█████████▏| 531/579 [15:22<01:38,  2.05s/it]"
     ]
    },
    {
     "name": "stdout",
     "output_type": "stream",
     "text": [
      "The video starts with a white background and the words \"Career Girls\" written in pink letters. Then, it shows an animated star character that is smiling while standing on a grey road. The star has two legs and arms, and there are green trees behind it. After that, we see another animation of a yellow star wearing a construction hat, which also appears to be smiling. Next, there's a scene showing tall buildings and skyscrapers in black and white, along with some green grass. Finally, the video ends with more animations of stars and buildings appearing on screen.\n"
     ]
    },
    {
     "name": "stderr",
     "output_type": "stream",
     "text": [
      "/home/ubuntu/.cache/huggingface/modules/transformers_modules/DAMO-NLP-SG/VideoLLaMA3-2B/562961752c456a26c46194130f9479dbb01ee582/modeling_videollama3.py:384: FutureWarning: `num_logits_to_keep` is deprecated and will be removed in version 4.50 for `Videollama3Qwen2ForCausalLM.forward`. Use `logits_to_keep` instead.\n",
      "  return super().forward(\n",
      " 92%|█████████▏| 532/579 [15:23<01:29,  1.90s/it]"
     ]
    },
    {
     "name": "stdout",
     "output_type": "stream",
     "text": [
      "The video shows a cartoon character sitting at a table with a green light on it. There are words displayed in the middle of the screen that say \"continue\" and \"quit\". The character is looking angry, while another character appears to be laughing.\n"
     ]
    },
    {
     "name": "stderr",
     "output_type": "stream",
     "text": [
      "/home/ubuntu/.cache/huggingface/modules/transformers_modules/DAMO-NLP-SG/VideoLLaMA3-2B/562961752c456a26c46194130f9479dbb01ee582/modeling_videollama3.py:384: FutureWarning: `num_logits_to_keep` is deprecated and will be removed in version 4.50 for `Videollama3Qwen2ForCausalLM.forward`. Use `logits_to_keep` instead.\n",
      "  return super().forward(\n",
      " 92%|█████████▏| 533/579 [15:25<01:25,  1.86s/it]"
     ]
    },
    {
     "name": "stdout",
     "output_type": "stream",
     "text": [
      "The video shows a young woman with blonde hair who appears to be auditioning for the role of Arya Stark in Game of Thrones. She speaks directly to the camera while another girl, presumably Sansa Stark, is shown speaking as well. The background music is intense and dramatic.\n"
     ]
    },
    {
     "name": "stderr",
     "output_type": "stream",
     "text": [
      "/home/ubuntu/.cache/huggingface/modules/transformers_modules/DAMO-NLP-SG/VideoLLaMA3-2B/562961752c456a26c46194130f9479dbb01ee582/modeling_videollama3.py:384: FutureWarning: `num_logits_to_keep` is deprecated and will be removed in version 4.50 for `Videollama3Qwen2ForCausalLM.forward`. Use `logits_to_keep` instead.\n",
      "  return super().forward(\n",
      " 92%|█████████▏| 534/579 [15:26<01:13,  1.64s/it]"
     ]
    },
    {
     "name": "stdout",
     "output_type": "stream",
     "text": [
      "The video shows a logo of a bug with its arms up. The bug is black and red in color, and the background is white.\n"
     ]
    },
    {
     "name": "stderr",
     "output_type": "stream",
     "text": [
      "/home/ubuntu/.cache/huggingface/modules/transformers_modules/DAMO-NLP-SG/VideoLLaMA3-2B/562961752c456a26c46194130f9479dbb01ee582/modeling_videollama3.py:384: FutureWarning: `num_logits_to_keep` is deprecated and will be removed in version 4.50 for `Videollama3Qwen2ForCausalLM.forward`. Use `logits_to_keep` instead.\n",
      "  return super().forward(\n",
      " 92%|█████████▏| 535/579 [15:27<01:08,  1.56s/it]"
     ]
    },
    {
     "name": "stdout",
     "output_type": "stream",
     "text": [
      "The video shows a man in black and white clothes looking up at the sky, followed by a woman with long hair sitting on a chair. Then, we see a group of girls dancing together.\n"
     ]
    },
    {
     "name": "stderr",
     "output_type": "stream",
     "text": [
      "/home/ubuntu/.cache/huggingface/modules/transformers_modules/DAMO-NLP-SG/VideoLLaMA3-2B/562961752c456a26c46194130f9479dbb01ee582/modeling_videollama3.py:384: FutureWarning: `num_logits_to_keep` is deprecated and will be removed in version 4.50 for `Videollama3Qwen2ForCausalLM.forward`. Use `logits_to_keep` instead.\n",
      "  return super().forward(\n",
      " 93%|█████████▎| 536/579 [15:30<01:13,  1.71s/it]"
     ]
    },
    {
     "name": "stdout",
     "output_type": "stream",
     "text": [
      "The video shows a woman standing on the beach talking about her experiences in the game. She is seen smiling and laughing with other contestants, including one who hugs her. The video also features an intro screen displaying information such as name, age, occupation, hometown, current residence, and CBS logo.\n",
      "QA_GT_caption_based_noisy\n"
     ]
    },
    {
     "name": "stderr",
     "output_type": "stream",
     "text": [
      "/home/ubuntu/.cache/huggingface/modules/transformers_modules/DAMO-NLP-SG/VideoLLaMA3-2B/562961752c456a26c46194130f9479dbb01ee582/modeling_videollama3.py:384: FutureWarning: `num_logits_to_keep` is deprecated and will be removed in version 4.50 for `Videollama3Qwen2ForCausalLM.forward`. Use `logits_to_keep` instead.\n",
      "  return super().forward(\n",
      " 93%|█████████▎| 537/579 [15:33<01:28,  2.10s/it]"
     ]
    },
    {
     "name": "stdout",
     "output_type": "stream",
     "text": [
      "The video shows a series of still images, starting with a black and white photo of two women sitting on a bed. The next image is also a black and white photo of the same woman in different clothes. Then there are several more photos showing different people in various settings. One person is wearing a blue shirt, another is holding a microphone, and one is taking a picture of themselves. There is also an image of a man with his arm raised up. Some of the pictures have captions written over them, while others do not.\n"
     ]
    },
    {
     "name": "stderr",
     "output_type": "stream",
     "text": [
      "/home/ubuntu/.cache/huggingface/modules/transformers_modules/DAMO-NLP-SG/VideoLLaMA3-2B/562961752c456a26c46194130f9479dbb01ee582/modeling_videollama3.py:384: FutureWarning: `num_logits_to_keep` is deprecated and will be removed in version 4.50 for `Videollama3Qwen2ForCausalLM.forward`. Use `logits_to_keep` instead.\n",
      "  return super().forward(\n",
      " 93%|█████████▎| 538/579 [15:34<01:15,  1.84s/it]"
     ]
    },
    {
     "name": "stdout",
     "output_type": "stream",
     "text": [
      "In the video, a woman is sitting on a beach and talking about her life. She mentions that she grew up outside of New York City in Westchester county.\n"
     ]
    },
    {
     "name": "stderr",
     "output_type": "stream",
     "text": [
      "/home/ubuntu/.cache/huggingface/modules/transformers_modules/DAMO-NLP-SG/VideoLLaMA3-2B/562961752c456a26c46194130f9479dbb01ee582/modeling_videollama3.py:384: FutureWarning: `num_logits_to_keep` is deprecated and will be removed in version 4.50 for `Videollama3Qwen2ForCausalLM.forward`. Use `logits_to_keep` instead.\n",
      "  return super().forward(\n",
      " 93%|█████████▎| 539/579 [15:35<01:09,  1.74s/it]"
     ]
    },
    {
     "name": "stdout",
     "output_type": "stream",
     "text": [
      "The video shows a wreck on the race track with several cars involved. One of the cars flips over and crashes into the fence. There is also a man in a green shirt talking about his experience with the accident.\n"
     ]
    },
    {
     "name": "stderr",
     "output_type": "stream",
     "text": [
      "/home/ubuntu/.cache/huggingface/modules/transformers_modules/DAMO-NLP-SG/VideoLLaMA3-2B/562961752c456a26c46194130f9479dbb01ee582/modeling_videollama3.py:384: FutureWarning: `num_logits_to_keep` is deprecated and will be removed in version 4.50 for `Videollama3Qwen2ForCausalLM.forward`. Use `logits_to_keep` instead.\n",
      "  return super().forward(\n",
      " 93%|█████████▎| 540/579 [15:37<01:07,  1.72s/it]"
     ]
    },
    {
     "name": "stdout",
     "output_type": "stream",
     "text": [
      "The video begins with a woman smiling at the camera, and then transitions to show her shaking hands with another person. There are also shots of people holding up their caps in celebration, as well as pictures of individuals wearing graduation gowns sitting on steps outside buildings.\n"
     ]
    },
    {
     "name": "stderr",
     "output_type": "stream",
     "text": [
      "/home/ubuntu/.cache/huggingface/modules/transformers_modules/DAMO-NLP-SG/VideoLLaMA3-2B/562961752c456a26c46194130f9479dbb01ee582/modeling_videollama3.py:384: FutureWarning: `num_logits_to_keep` is deprecated and will be removed in version 4.50 for `Videollama3Qwen2ForCausalLM.forward`. Use `logits_to_keep` instead.\n",
      "  return super().forward(\n",
      " 93%|█████████▎| 541/579 [15:38<01:02,  1.64s/it]"
     ]
    },
    {
     "name": "stdout",
     "output_type": "stream",
     "text": [
      "In the video, a man wearing a mask is seen talking to a little girl at an outdoor playground. He bends down and talks to her while holding his hands on his hips. The woman sitting next to him also has a mask on.\n"
     ]
    },
    {
     "name": "stderr",
     "output_type": "stream",
     "text": [
      "/home/ubuntu/.cache/huggingface/modules/transformers_modules/DAMO-NLP-SG/VideoLLaMA3-2B/562961752c456a26c46194130f9479dbb01ee582/modeling_videollama3.py:384: FutureWarning: `num_logits_to_keep` is deprecated and will be removed in version 4.50 for `Videollama3Qwen2ForCausalLM.forward`. Use `logits_to_keep` instead.\n",
      "  return super().forward(\n",
      " 94%|█████████▎| 542/579 [15:40<01:00,  1.63s/it]"
     ]
    },
    {
     "name": "stdout",
     "output_type": "stream",
     "text": [
      "In the video, two men are in a boxing ring. One of them is wearing white and the other one has blond hair. They start by clapping their hands together while someone speaks to them. Then they begin throwing punches at each other.\n"
     ]
    },
    {
     "name": "stderr",
     "output_type": "stream",
     "text": [
      "/home/ubuntu/.cache/huggingface/modules/transformers_modules/DAMO-NLP-SG/VideoLLaMA3-2B/562961752c456a26c46194130f9479dbb01ee582/modeling_videollama3.py:384: FutureWarning: `num_logits_to_keep` is deprecated and will be removed in version 4.50 for `Videollama3Qwen2ForCausalLM.forward`. Use `logits_to_keep` instead.\n",
      "  return super().forward(\n",
      " 94%|█████████▍| 543/579 [15:42<00:59,  1.64s/it]"
     ]
    },
    {
     "name": "stdout",
     "output_type": "stream",
     "text": [
      "The video is about a woman who is pondering the question of what she does not like. Then, a man wearing a bandanna appears and asks how many people know a specific song. He also asks if anyone knows who sang that particular song.\n"
     ]
    },
    {
     "name": "stderr",
     "output_type": "stream",
     "text": [
      "/home/ubuntu/.cache/huggingface/modules/transformers_modules/DAMO-NLP-SG/VideoLLaMA3-2B/562961752c456a26c46194130f9479dbb01ee582/modeling_videollama3.py:384: FutureWarning: `num_logits_to_keep` is deprecated and will be removed in version 4.50 for `Videollama3Qwen2ForCausalLM.forward`. Use `logits_to_keep` instead.\n",
      "  return super().forward(\n",
      " 94%|█████████▍| 544/579 [15:43<00:58,  1.68s/it]"
     ]
    },
    {
     "name": "stdout",
     "output_type": "stream",
     "text": [
      "The video shows a man wearing a yellow shirt who is sitting in front of the camera and talking. He seems to be in his living room, as there are couches behind him. The background music playing throughout the video is \"Viva la Vida\" by Coldplay.\n"
     ]
    },
    {
     "name": "stderr",
     "output_type": "stream",
     "text": [
      "/home/ubuntu/.cache/huggingface/modules/transformers_modules/DAMO-NLP-SG/VideoLLaMA3-2B/562961752c456a26c46194130f9479dbb01ee582/modeling_videollama3.py:384: FutureWarning: `num_logits_to_keep` is deprecated and will be removed in version 4.50 for `Videollama3Qwen2ForCausalLM.forward`. Use `logits_to_keep` instead.\n",
      "  return super().forward(\n",
      " 94%|█████████▍| 545/579 [15:45<01:00,  1.78s/it]"
     ]
    },
    {
     "name": "stdout",
     "output_type": "stream",
     "text": [
      "In the video, a girl is shown dancing in front of a crowd. She has her arms crossed and looks annoyed. The scene then changes to show two cartoon characters on a screen. One character is wearing a blue shirt while the other one is wearing a red shirt. There are also people walking around in the background.\n"
     ]
    },
    {
     "name": "stderr",
     "output_type": "stream",
     "text": [
      "/home/ubuntu/.cache/huggingface/modules/transformers_modules/DAMO-NLP-SG/VideoLLaMA3-2B/562961752c456a26c46194130f9479dbb01ee582/modeling_videollama3.py:384: FutureWarning: `num_logits_to_keep` is deprecated and will be removed in version 4.50 for `Videollama3Qwen2ForCausalLM.forward`. Use `logits_to_keep` instead.\n",
      "  return super().forward(\n",
      " 94%|█████████▍| 546/579 [15:47<00:57,  1.76s/it]"
     ]
    },
    {
     "name": "stdout",
     "output_type": "stream",
     "text": [
      "The video shows a man playing football with another person in an indoor facility. He is seen kicking the ball into the goal while wearing different outfits and helmets. The players are also seen running, jumping, catching balls, and practicing their skills on a green field.\n"
     ]
    },
    {
     "name": "stderr",
     "output_type": "stream",
     "text": [
      "/home/ubuntu/.cache/huggingface/modules/transformers_modules/DAMO-NLP-SG/VideoLLaMA3-2B/562961752c456a26c46194130f9479dbb01ee582/modeling_videollama3.py:384: FutureWarning: `num_logits_to_keep` is deprecated and will be removed in version 4.50 for `Videollama3Qwen2ForCausalLM.forward`. Use `logits_to_keep` instead.\n",
      "  return super().forward(\n",
      " 94%|█████████▍| 547/579 [15:49<00:56,  1.77s/it]"
     ]
    },
    {
     "name": "stdout",
     "output_type": "stream",
     "text": [
      "The video shows a man participating in an athletic competition. He runs down the track and pole vaults over a bar, successfully clearing it. The crowd cheers as he celebrates his victory by waving a flag. Afterward, two commentators are shown sitting at a desk discussing the event.\n"
     ]
    },
    {
     "name": "stderr",
     "output_type": "stream",
     "text": [
      "/home/ubuntu/.cache/huggingface/modules/transformers_modules/DAMO-NLP-SG/VideoLLaMA3-2B/562961752c456a26c46194130f9479dbb01ee582/modeling_videollama3.py:384: FutureWarning: `num_logits_to_keep` is deprecated and will be removed in version 4.50 for `Videollama3Qwen2ForCausalLM.forward`. Use `logits_to_keep` instead.\n",
      "  return super().forward(\n",
      " 95%|█████████▍| 548/579 [15:50<00:51,  1.66s/it]"
     ]
    },
    {
     "name": "stdout",
     "output_type": "stream",
     "text": [
      "The video begins with a logo and transitions to an aerial view of the city. The scene then changes to show people walking on stage, followed by two teams shaking hands in front of a crowd.\n"
     ]
    },
    {
     "name": "stderr",
     "output_type": "stream",
     "text": [
      "/home/ubuntu/.cache/huggingface/modules/transformers_modules/DAMO-NLP-SG/VideoLLaMA3-2B/562961752c456a26c46194130f9479dbb01ee582/modeling_videollama3.py:384: FutureWarning: `num_logits_to_keep` is deprecated and will be removed in version 4.50 for `Videollama3Qwen2ForCausalLM.forward`. Use `logits_to_keep` instead.\n",
      "  return super().forward(\n",
      " 95%|█████████▍| 549/579 [15:51<00:42,  1.42s/it]"
     ]
    },
    {
     "name": "stdout",
     "output_type": "stream",
     "text": [
      "The video shows a man talking and pointing at different anime characters while music is playing.\n"
     ]
    },
    {
     "name": "stderr",
     "output_type": "stream",
     "text": [
      "/home/ubuntu/.cache/huggingface/modules/transformers_modules/DAMO-NLP-SG/VideoLLaMA3-2B/562961752c456a26c46194130f9479dbb01ee582/modeling_videollama3.py:384: FutureWarning: `num_logits_to_keep` is deprecated and will be removed in version 4.50 for `Videollama3Qwen2ForCausalLM.forward`. Use `logits_to_keep` instead.\n",
      "  return super().forward(\n",
      " 95%|█████████▍| 550/579 [15:53<00:44,  1.53s/it]"
     ]
    },
    {
     "name": "stdout",
     "output_type": "stream",
     "text": [
      "The video starts with an aerial view of a football field. Then, it shows the legs of a person running on the field and later transitions to a man lifting weights in a gym. The video then cuts back to the football field where another man is seen running towards the camera.\n"
     ]
    },
    {
     "name": "stderr",
     "output_type": "stream",
     "text": [
      "/home/ubuntu/.cache/huggingface/modules/transformers_modules/DAMO-NLP-SG/VideoLLaMA3-2B/562961752c456a26c46194130f9479dbb01ee582/modeling_videollama3.py:384: FutureWarning: `num_logits_to_keep` is deprecated and will be removed in version 4.50 for `Videollama3Qwen2ForCausalLM.forward`. Use `logits_to_keep` instead.\n",
      "  return super().forward(\n",
      " 95%|█████████▌| 551/579 [15:55<00:42,  1.51s/it]"
     ]
    },
    {
     "name": "stdout",
     "output_type": "stream",
     "text": [
      "The video shows a group of Marines in uniform carrying large backpacks. They are walking down a trail while carrying the backpacks on their shoulders. The terrain is hilly and there is grass all around them.\n"
     ]
    },
    {
     "name": "stderr",
     "output_type": "stream",
     "text": [
      "/home/ubuntu/.cache/huggingface/modules/transformers_modules/DAMO-NLP-SG/VideoLLaMA3-2B/562961752c456a26c46194130f9479dbb01ee582/modeling_videollama3.py:384: FutureWarning: `num_logits_to_keep` is deprecated and will be removed in version 4.50 for `Videollama3Qwen2ForCausalLM.forward`. Use `logits_to_keep` instead.\n",
      "  return super().forward(\n",
      " 95%|█████████▌| 552/579 [15:56<00:39,  1.46s/it]"
     ]
    },
    {
     "name": "stdout",
     "output_type": "stream",
     "text": [
      "The video features a man wearing cycling gear and shoes, riding on a stationary bike. He is pedaling in an exercise machine while the camera captures his movements from various angles.\n"
     ]
    },
    {
     "name": "stderr",
     "output_type": "stream",
     "text": [
      "/home/ubuntu/.cache/huggingface/modules/transformers_modules/DAMO-NLP-SG/VideoLLaMA3-2B/562961752c456a26c46194130f9479dbb01ee582/modeling_videollama3.py:384: FutureWarning: `num_logits_to_keep` is deprecated and will be removed in version 4.50 for `Videollama3Qwen2ForCausalLM.forward`. Use `logits_to_keep` instead.\n",
      "  return super().forward(\n",
      " 96%|█████████▌| 553/579 [15:57<00:39,  1.51s/it]"
     ]
    },
    {
     "name": "stdout",
     "output_type": "stream",
     "text": [
      "In the video, a man is seen talking to the camera while holding up various objects. He begins by showing off different knives before transitioning into sword fighting with another person. The two men engage in a choreographed fight sequence using swords and sticks.\n"
     ]
    },
    {
     "name": "stderr",
     "output_type": "stream",
     "text": [
      "/home/ubuntu/.cache/huggingface/modules/transformers_modules/DAMO-NLP-SG/VideoLLaMA3-2B/562961752c456a26c46194130f9479dbb01ee582/modeling_videollama3.py:384: FutureWarning: `num_logits_to_keep` is deprecated and will be removed in version 4.50 for `Videollama3Qwen2ForCausalLM.forward`. Use `logits_to_keep` instead.\n",
      "  return super().forward(\n",
      " 96%|█████████▌| 554/579 [15:59<00:38,  1.56s/it]"
     ]
    },
    {
     "name": "stdout",
     "output_type": "stream",
     "text": [
      "The video shows a man walking in the rain, then sitting down and crying. He later sits on the ground while another person is painting him with green food coloring. The scene changes to show the same man performing karate moves in a boxing ring.\n"
     ]
    },
    {
     "name": "stderr",
     "output_type": "stream",
     "text": [
      "/home/ubuntu/.cache/huggingface/modules/transformers_modules/DAMO-NLP-SG/VideoLLaMA3-2B/562961752c456a26c46194130f9479dbb01ee582/modeling_videollama3.py:384: FutureWarning: `num_logits_to_keep` is deprecated and will be removed in version 4.50 for `Videollama3Qwen2ForCausalLM.forward`. Use `logits_to_keep` instead.\n",
      "  return super().forward(\n",
      " 96%|█████████▌| 555/579 [16:01<00:38,  1.59s/it]"
     ]
    },
    {
     "name": "stdout",
     "output_type": "stream",
     "text": [
      "The video shows a soccer game in progress. There are players on the field, some of whom are running around and kicking the ball. One player is seen holding up his hand while others kick the ball. The crowd can be heard cheering for their team.\n"
     ]
    },
    {
     "name": "stderr",
     "output_type": "stream",
     "text": [
      "/home/ubuntu/.cache/huggingface/modules/transformers_modules/DAMO-NLP-SG/VideoLLaMA3-2B/562961752c456a26c46194130f9479dbb01ee582/modeling_videollama3.py:384: FutureWarning: `num_logits_to_keep` is deprecated and will be removed in version 4.50 for `Videollama3Qwen2ForCausalLM.forward`. Use `logits_to_keep` instead.\n",
      "  return super().forward(\n",
      " 96%|█████████▌| 556/579 [16:02<00:36,  1.58s/it]"
     ]
    },
    {
     "name": "stdout",
     "output_type": "stream",
     "text": [
      "The video shows a group of military men in uniform working together. They are seen assembling and disassembling equipment, repairing laptops, and examining objects on the ground. The soldiers are also shown talking to each other while they work.\n"
     ]
    },
    {
     "name": "stderr",
     "output_type": "stream",
     "text": [
      "/home/ubuntu/.cache/huggingface/modules/transformers_modules/DAMO-NLP-SG/VideoLLaMA3-2B/562961752c456a26c46194130f9479dbb01ee582/modeling_videollama3.py:384: FutureWarning: `num_logits_to_keep` is deprecated and will be removed in version 4.50 for `Videollama3Qwen2ForCausalLM.forward`. Use `logits_to_keep` instead.\n",
      "  return super().forward(\n",
      " 96%|█████████▌| 557/579 [16:04<00:36,  1.64s/it]"
     ]
    },
    {
     "name": "stdout",
     "output_type": "stream",
     "text": [
      "The video shows a man holding several trophies and smiling at the camera. He is standing in front of a backdrop with logos on it, which includes a soccer ball logo and other company names. The man appears to be proud of his achievements as he holds up various awards and medals.\n"
     ]
    },
    {
     "name": "stderr",
     "output_type": "stream",
     "text": [
      "/home/ubuntu/.cache/huggingface/modules/transformers_modules/DAMO-NLP-SG/VideoLLaMA3-2B/562961752c456a26c46194130f9479dbb01ee582/modeling_videollama3.py:384: FutureWarning: `num_logits_to_keep` is deprecated and will be removed in version 4.50 for `Videollama3Qwen2ForCausalLM.forward`. Use `logits_to_keep` instead.\n",
      "  return super().forward(\n",
      " 96%|█████████▋| 558/579 [16:06<00:34,  1.65s/it]"
     ]
    },
    {
     "name": "stdout",
     "output_type": "stream",
     "text": [
      "The video shows a woman in a blue dress standing in front of a poker table. There are several people sitting at the table, and they seem to be playing a game of poker. The woman is talking about how the game has been going so far.\n"
     ]
    },
    {
     "name": "stderr",
     "output_type": "stream",
     "text": [
      "/home/ubuntu/.cache/huggingface/modules/transformers_modules/DAMO-NLP-SG/VideoLLaMA3-2B/562961752c456a26c46194130f9479dbb01ee582/modeling_videollama3.py:384: FutureWarning: `num_logits_to_keep` is deprecated and will be removed in version 4.50 for `Videollama3Qwen2ForCausalLM.forward`. Use `logits_to_keep` instead.\n",
      "  return super().forward(\n",
      " 97%|█████████▋| 559/579 [16:08<00:38,  1.91s/it]"
     ]
    },
    {
     "name": "stdout",
     "output_type": "stream",
     "text": [
      "The video is a compilation of short clips showing different people and scenes. The first scene shows two men standing in front of each other, while the second scene shows several men walking around together. In another scene, there are people sitting on a bench with a man holding his hand to his chest. Additionally, there is a group of people walking down a street at night, as well as a person taking a picture with someone else nearby.\n"
     ]
    },
    {
     "name": "stderr",
     "output_type": "stream",
     "text": [
      "/home/ubuntu/.cache/huggingface/modules/transformers_modules/DAMO-NLP-SG/VideoLLaMA3-2B/562961752c456a26c46194130f9479dbb01ee582/modeling_videollama3.py:384: FutureWarning: `num_logits_to_keep` is deprecated and will be removed in version 4.50 for `Videollama3Qwen2ForCausalLM.forward`. Use `logits_to_keep` instead.\n",
      "  return super().forward(\n",
      " 97%|█████████▋| 560/579 [16:11<00:38,  2.01s/it]"
     ]
    },
    {
     "name": "stdout",
     "output_type": "stream",
     "text": [
      "The video shows a black hearse parked in front of an AA Cargo building. There is also footage of people walking down the street carrying Puerto Rican flags and wearing costumes, which suggests that they are celebrating or participating in a parade. The presence of the flag on the hearse could indicate that it belongs to someone who has recently passed away and is being honored at this event.\n"
     ]
    },
    {
     "name": "stderr",
     "output_type": "stream",
     "text": [
      "/home/ubuntu/.cache/huggingface/modules/transformers_modules/DAMO-NLP-SG/VideoLLaMA3-2B/562961752c456a26c46194130f9479dbb01ee582/modeling_videollama3.py:384: FutureWarning: `num_logits_to_keep` is deprecated and will be removed in version 4.50 for `Videollama3Qwen2ForCausalLM.forward`. Use `logits_to_keep` instead.\n",
      "  return super().forward(\n",
      " 97%|█████████▋| 561/579 [16:12<00:31,  1.74s/it]"
     ]
    },
    {
     "name": "stdout",
     "output_type": "stream",
     "text": [
      "The video shows a car crashing into a group of people. After the crash, there is an explosion and debris falling from the sky.\n"
     ]
    },
    {
     "name": "stderr",
     "output_type": "stream",
     "text": [
      "/home/ubuntu/.cache/huggingface/modules/transformers_modules/DAMO-NLP-SG/VideoLLaMA3-2B/562961752c456a26c46194130f9479dbb01ee582/modeling_videollama3.py:384: FutureWarning: `num_logits_to_keep` is deprecated and will be removed in version 4.50 for `Videollama3Qwen2ForCausalLM.forward`. Use `logits_to_keep` instead.\n",
      "  return super().forward(\n",
      " 97%|█████████▋| 562/579 [16:14<00:30,  1.77s/it]"
     ]
    },
    {
     "name": "stdout",
     "output_type": "stream",
     "text": [
      "The video features a man wearing a black cap and jacket who is seen talking to the camera. There are also football players shown on the field, with one of them signing autographs for fans. The video ends with more shots of people playing football in different locations.\n",
      "QA_GT_caption_based_noisy\n"
     ]
    },
    {
     "name": "stderr",
     "output_type": "stream",
     "text": [
      "/home/ubuntu/.cache/huggingface/modules/transformers_modules/DAMO-NLP-SG/VideoLLaMA3-2B/562961752c456a26c46194130f9479dbb01ee582/modeling_videollama3.py:384: FutureWarning: `num_logits_to_keep` is deprecated and will be removed in version 4.50 for `Videollama3Qwen2ForCausalLM.forward`. Use `logits_to_keep` instead.\n",
      "  return super().forward(\n",
      " 97%|█████████▋| 563/579 [16:15<00:26,  1.65s/it]"
     ]
    },
    {
     "name": "stdout",
     "output_type": "stream",
     "text": [
      "The video shows a group of people playing basketball on a court. There is also a TV screen with several pictures of men and women, as well as some clips of them speaking to the camera.\n"
     ]
    },
    {
     "name": "stderr",
     "output_type": "stream",
     "text": [
      "/home/ubuntu/.cache/huggingface/modules/transformers_modules/DAMO-NLP-SG/VideoLLaMA3-2B/562961752c456a26c46194130f9479dbb01ee582/modeling_videollama3.py:384: FutureWarning: `num_logits_to_keep` is deprecated and will be removed in version 4.50 for `Videollama3Qwen2ForCausalLM.forward`. Use `logits_to_keep` instead.\n",
      "  return super().forward(\n",
      " 97%|█████████▋| 564/579 [16:16<00:23,  1.57s/it]"
     ]
    },
    {
     "name": "stdout",
     "output_type": "stream",
     "text": [
      "The video shows a helicopter flying in the sky. It then transitions to an airplane on the runway, and later to a scene where soldiers are helping injured people by carrying them away from the battlefield.\n"
     ]
    },
    {
     "name": "stderr",
     "output_type": "stream",
     "text": [
      "/home/ubuntu/.cache/huggingface/modules/transformers_modules/DAMO-NLP-SG/VideoLLaMA3-2B/562961752c456a26c46194130f9479dbb01ee582/modeling_videollama3.py:384: FutureWarning: `num_logits_to_keep` is deprecated and will be removed in version 4.50 for `Videollama3Qwen2ForCausalLM.forward`. Use `logits_to_keep` instead.\n",
      "  return super().forward(\n",
      " 98%|█████████▊| 565/579 [16:17<00:20,  1.44s/it]"
     ]
    },
    {
     "name": "stdout",
     "output_type": "stream",
     "text": [
      "The video shows a person dressed in brown holding a yellow light saber. Then, the scene changes to show another person with blue eyes and wearing a red robe wielding the same weapon.\n"
     ]
    },
    {
     "name": "stderr",
     "output_type": "stream",
     "text": [
      "/home/ubuntu/.cache/huggingface/modules/transformers_modules/DAMO-NLP-SG/VideoLLaMA3-2B/562961752c456a26c46194130f9479dbb01ee582/modeling_videollama3.py:384: FutureWarning: `num_logits_to_keep` is deprecated and will be removed in version 4.50 for `Videollama3Qwen2ForCausalLM.forward`. Use `logits_to_keep` instead.\n",
      "  return super().forward(\n",
      " 98%|█████████▊| 566/579 [16:19<00:20,  1.55s/it]"
     ]
    },
    {
     "name": "stdout",
     "output_type": "stream",
     "text": [
      "The video shows a soccer game in which the players are wearing blue and white uniforms. One of the teams scores a goal, and their coach is seen celebrating with his teammates after the player kicks the ball into the net. The crowd cheers for them as they continue to play.\n"
     ]
    },
    {
     "name": "stderr",
     "output_type": "stream",
     "text": [
      "/home/ubuntu/.cache/huggingface/modules/transformers_modules/DAMO-NLP-SG/VideoLLaMA3-2B/562961752c456a26c46194130f9479dbb01ee582/modeling_videollama3.py:384: FutureWarning: `num_logits_to_keep` is deprecated and will be removed in version 4.50 for `Videollama3Qwen2ForCausalLM.forward`. Use `logits_to_keep` instead.\n",
      "  return super().forward(\n",
      " 98%|█████████▊| 567/579 [16:21<00:18,  1.54s/it]"
     ]
    },
    {
     "name": "stdout",
     "output_type": "stream",
     "text": [
      "The video starts with a jet flying over the clouds. Then, it shows Tom Cruise's face in slow motion and he is talking to another person. After that, there are several shots of people fighting each other indoors.\n"
     ]
    },
    {
     "name": "stderr",
     "output_type": "stream",
     "text": [
      "/home/ubuntu/.cache/huggingface/modules/transformers_modules/DAMO-NLP-SG/VideoLLaMA3-2B/562961752c456a26c46194130f9479dbb01ee582/modeling_videollama3.py:384: FutureWarning: `num_logits_to_keep` is deprecated and will be removed in version 4.50 for `Videollama3Qwen2ForCausalLM.forward`. Use `logits_to_keep` instead.\n",
      "  return super().forward(\n",
      " 98%|█████████▊| 568/579 [16:22<00:16,  1.53s/it]"
     ]
    },
    {
     "name": "stdout",
     "output_type": "stream",
     "text": [
      "The video shows a man wearing biking gear and riding his bike on the dirt. He is filming himself as he rides down the hill, which has dry grass around it. The weather appears to be sunny with clear skies.\n"
     ]
    },
    {
     "name": "stderr",
     "output_type": "stream",
     "text": [
      "/home/ubuntu/.cache/huggingface/modules/transformers_modules/DAMO-NLP-SG/VideoLLaMA3-2B/562961752c456a26c46194130f9479dbb01ee582/modeling_videollama3.py:384: FutureWarning: `num_logits_to_keep` is deprecated and will be removed in version 4.50 for `Videollama3Qwen2ForCausalLM.forward`. Use `logits_to_keep` instead.\n",
      "  return super().forward(\n",
      " 98%|█████████▊| 569/579 [16:24<00:15,  1.56s/it]"
     ]
    },
    {
     "name": "stdout",
     "output_type": "stream",
     "text": [
      "The video shows a man driving a car on the race track. He is followed by another person who also drives a car and cheers for him. The man then celebrates with his team, clapping and hugging them while they cheer in return.\n"
     ]
    },
    {
     "name": "stderr",
     "output_type": "stream",
     "text": [
      "/home/ubuntu/.cache/huggingface/modules/transformers_modules/DAMO-NLP-SG/VideoLLaMA3-2B/562961752c456a26c46194130f9479dbb01ee582/modeling_videollama3.py:384: FutureWarning: `num_logits_to_keep` is deprecated and will be removed in version 4.50 for `Videollama3Qwen2ForCausalLM.forward`. Use `logits_to_keep` instead.\n",
      "  return super().forward(\n",
      " 98%|█████████▊| 570/579 [16:26<00:15,  1.68s/it]"
     ]
    },
    {
     "name": "stdout",
     "output_type": "stream",
     "text": [
      "The video shows two men standing outside, one holding a soccer ball and the other making hand gestures. The man in red is wearing a Liverpool jersey and has his arms crossed while the other man is wearing a grey beanie and a beige sweatshirt. They are on a grassy field with trees behind them.\n"
     ]
    },
    {
     "name": "stderr",
     "output_type": "stream",
     "text": [
      "/home/ubuntu/.cache/huggingface/modules/transformers_modules/DAMO-NLP-SG/VideoLLaMA3-2B/562961752c456a26c46194130f9479dbb01ee582/modeling_videollama3.py:384: FutureWarning: `num_logits_to_keep` is deprecated and will be removed in version 4.50 for `Videollama3Qwen2ForCausalLM.forward`. Use `logits_to_keep` instead.\n",
      "  return super().forward(\n",
      " 99%|█████████▊| 571/579 [16:32<00:24,  3.05s/it]"
     ]
    },
    {
     "name": "stdout",
     "output_type": "stream",
     "text": [
      "The video is a tribute to the legendary musicians Janis Joplin and Bruce Springsteen, highlighting their shared history as superstars. It begins with an introduction of both artists in black and white photos, showcasing their iconic appearances. The scene then transitions to a poster featuring Janis Joplin performing on stage, emphasizing her talent and influence.\n",
      "\n",
      "Following this, the video delves into the personal lives of these two figures through interviews or speeches given by them themselves. This segment offers a glimpse into their thoughts and experiences beyond their music careers. \n",
      "\n",
      "Next, the focus shifts to specific events or performances where both artists were present together. A concert poster for one of their joint performances serves as a visual reminder of their collaborative efforts. The video then captures a moment from that event, possibly featuring a memorable performance or interaction between the two musicians.\n",
      "\n",
      "Throughout the video, text overlays provide additional context, such as dates and locations related to their performances or public engagements. These elements help viewers understand the timeline and significance of each part of the tribute.\n",
      "\n",
      "Overall, the video presents a well-rounded portrayal of Janis Joplin and Bruce Springsteen's legacies as musical icons and highlights their impact on the music industry.\n"
     ]
    },
    {
     "name": "stderr",
     "output_type": "stream",
     "text": [
      "/home/ubuntu/.cache/huggingface/modules/transformers_modules/DAMO-NLP-SG/VideoLLaMA3-2B/562961752c456a26c46194130f9479dbb01ee582/modeling_videollama3.py:384: FutureWarning: `num_logits_to_keep` is deprecated and will be removed in version 4.50 for `Videollama3Qwen2ForCausalLM.forward`. Use `logits_to_keep` instead.\n",
      "  return super().forward(\n",
      " 99%|█████████▉| 572/579 [16:34<00:18,  2.69s/it]"
     ]
    },
    {
     "name": "stdout",
     "output_type": "stream",
     "text": [
      "The video shows a man who is an Olympic fencer speaking to the camera while being filmed. He then goes on to demonstrate his fencing skills by practicing in various settings, including a pool and a blue-lit room. The video also includes interviews with other people about the sport of fencing.\n"
     ]
    },
    {
     "name": "stderr",
     "output_type": "stream",
     "text": [
      "/home/ubuntu/.cache/huggingface/modules/transformers_modules/DAMO-NLP-SG/VideoLLaMA3-2B/562961752c456a26c46194130f9479dbb01ee582/modeling_videollama3.py:384: FutureWarning: `num_logits_to_keep` is deprecated and will be removed in version 4.50 for `Videollama3Qwen2ForCausalLM.forward`. Use `logits_to_keep` instead.\n",
      "  return super().forward(\n",
      " 99%|█████████▉| 573/579 [16:37<00:15,  2.66s/it]"
     ]
    },
    {
     "name": "stdout",
     "output_type": "stream",
     "text": [
      "The video shows a hand drawing on a white board. The first thing the person draws is a rectangle with the words \"Draw my life\" written inside it. Then, they draw a map of Spain and label Alcalá de Henares as the capital city. Next, the person adds more details to the map by drawing in a castle and two men standing next to each other. They also add a line connecting the two men to the castle.\n"
     ]
    },
    {
     "name": "stderr",
     "output_type": "stream",
     "text": [
      "/home/ubuntu/.cache/huggingface/modules/transformers_modules/DAMO-NLP-SG/VideoLLaMA3-2B/562961752c456a26c46194130f9479dbb01ee582/modeling_videollama3.py:384: FutureWarning: `num_logits_to_keep` is deprecated and will be removed in version 4.50 for `Videollama3Qwen2ForCausalLM.forward`. Use `logits_to_keep` instead.\n",
      "  return super().forward(\n",
      " 99%|█████████▉| 574/579 [16:38<00:11,  2.32s/it]"
     ]
    },
    {
     "name": "stdout",
     "output_type": "stream",
     "text": [
      "The video is about the reasons why nurses are leaving their jobs. It features a man talking to the camera while displaying text on the screen. The man is wearing a pink shirt and there is also music playing in the background.\n"
     ]
    },
    {
     "name": "stderr",
     "output_type": "stream",
     "text": [
      "/home/ubuntu/.cache/huggingface/modules/transformers_modules/DAMO-NLP-SG/VideoLLaMA3-2B/562961752c456a26c46194130f9479dbb01ee582/modeling_videollama3.py:384: FutureWarning: `num_logits_to_keep` is deprecated and will be removed in version 4.50 for `Videollama3Qwen2ForCausalLM.forward`. Use `logits_to_keep` instead.\n",
      "  return super().forward(\n",
      " 99%|█████████▉| 575/579 [16:39<00:08,  2.05s/it]"
     ]
    },
    {
     "name": "stdout",
     "output_type": "stream",
     "text": [
      "The video begins with an excavator digging up dirt, followed by a man walking around a building. The scene then transitions to show people working on the inside of the building while it is being constructed.\n"
     ]
    },
    {
     "name": "stderr",
     "output_type": "stream",
     "text": [
      "/home/ubuntu/.cache/huggingface/modules/transformers_modules/DAMO-NLP-SG/VideoLLaMA3-2B/562961752c456a26c46194130f9479dbb01ee582/modeling_videollama3.py:384: FutureWarning: `num_logits_to_keep` is deprecated and will be removed in version 4.50 for `Videollama3Qwen2ForCausalLM.forward`. Use `logits_to_keep` instead.\n",
      "  return super().forward(\n",
      " 99%|█████████▉| 576/579 [16:41<00:05,  1.77s/it]"
     ]
    },
    {
     "name": "stdout",
     "output_type": "stream",
     "text": [
      "The video shows a football game in progress. The players are on the field and there is a coach standing next to them, giving instructions.\n"
     ]
    },
    {
     "name": "stderr",
     "output_type": "stream",
     "text": [
      "/home/ubuntu/.cache/huggingface/modules/transformers_modules/DAMO-NLP-SG/VideoLLaMA3-2B/562961752c456a26c46194130f9479dbb01ee582/modeling_videollama3.py:384: FutureWarning: `num_logits_to_keep` is deprecated and will be removed in version 4.50 for `Videollama3Qwen2ForCausalLM.forward`. Use `logits_to_keep` instead.\n",
      "  return super().forward(\n",
      "100%|█████████▉| 577/579 [16:44<00:04,  2.21s/it]"
     ]
    },
    {
     "name": "stdout",
     "output_type": "stream",
     "text": [
      "The video shows a group of cars lined up on a race track, waiting for the starting signal. They are all in their respective positions, ready to begin the race once the lights turn green. As soon as the light turns green, they quickly accelerate and start racing around the track at high speed. The drivers skillfully navigate through sharp turns and overtake each other with impressive precision. The sound of engines revving and tires screeching is audible throughout the video, creating an exciting atmosphere. Overall, it's an exhilarating display of automotive prowess and racing skills.\n"
     ]
    },
    {
     "name": "stderr",
     "output_type": "stream",
     "text": [
      "/home/ubuntu/.cache/huggingface/modules/transformers_modules/DAMO-NLP-SG/VideoLLaMA3-2B/562961752c456a26c46194130f9479dbb01ee582/modeling_videollama3.py:384: FutureWarning: `num_logits_to_keep` is deprecated and will be removed in version 4.50 for `Videollama3Qwen2ForCausalLM.forward`. Use `logits_to_keep` instead.\n",
      "  return super().forward(\n",
      "100%|█████████▉| 578/579 [16:45<00:02,  2.03s/it]"
     ]
    },
    {
     "name": "stdout",
     "output_type": "stream",
     "text": [
      "The video shows a group of women playing baseball, with some wearing uniforms and others in casual clothing. One woman is seen throwing a ball while another holds up her glove. The video also includes shots of the players on the field, as well as one player practicing alone.\n"
     ]
    },
    {
     "name": "stderr",
     "output_type": "stream",
     "text": [
      "/home/ubuntu/.cache/huggingface/modules/transformers_modules/DAMO-NLP-SG/VideoLLaMA3-2B/562961752c456a26c46194130f9479dbb01ee582/modeling_videollama3.py:384: FutureWarning: `num_logits_to_keep` is deprecated and will be removed in version 4.50 for `Videollama3Qwen2ForCausalLM.forward`. Use `logits_to_keep` instead.\n",
      "  return super().forward(\n",
      "100%|██████████| 579/579 [16:49<00:00,  1.74s/it]"
     ]
    },
    {
     "name": "stdout",
     "output_type": "stream",
     "text": [
      "The video shows a series of pictures and scenes with football players. It starts with a picture of a man wearing an American football uniform, followed by another player in a red jersey standing in front of a car. Then it shows a black screen with white text that reads \"BUT...\". Next, there are pictures of different NFL players on the field in their respective jerseys. After that, the video cuts to images of people playing games on the computer. The next scene features several pictures of men in sports uniforms against each other. Finally, the video displays various pictures of people dressed up for football games.\n"
     ]
    },
    {
     "name": "stderr",
     "output_type": "stream",
     "text": [
      "\n"
     ]
    }
   ],
   "source": [
    "data_list = []\n",
    "for sample in tqdm(dataset, total=len(dataset)):\n",
    "    video_path = sample[\"mp4_path\"]\n",
    "    conversation = [\n",
    "        {\"role\": \"system\", \"content\": \"You are a helpful assistant.\"},\n",
    "        {\n",
    "            \"role\": \"user\",\n",
    "            \"content\": [\n",
    "                {\"type\": \"video\", \"video\": {\"video_path\": video_path, \"fps\": 1, \"max_frames\": 180, \"start_time\": 0, \"end_time\": 15}},\n",
    "                {\"type\": \"text\", \"text\": \"Describe the video.\"},\n",
    "            ]\n",
    "        },\n",
    "    ]\n",
    "\n",
    "    inputs = processor(\n",
    "        conversation=conversation,\n",
    "        add_system_prompt=True,\n",
    "        add_generation_prompt=True,\n",
    "        return_tensors=\"pt\"\n",
    "    )\n",
    "    inputs = {k: v.to(device) if isinstance(v, torch.Tensor) else v for k, v in inputs.items()}\n",
    "    if \"pixel_values\" in inputs:\n",
    "        inputs[\"pixel_values\"] = inputs[\"pixel_values\"].to(torch.bfloat16)\n",
    "    output_ids = model.generate(**inputs, max_new_tokens=1024)\n",
    "    response = processor.batch_decode(output_ids, skip_special_tokens=True)[0].strip()\n",
    "\n",
    "    data_list.append({\"mp4_path\": video_path, \"description\": response})\n",
    "    print(response)"
   ]
  },
  {
   "cell_type": "code",
   "execution_count": 8,
   "metadata": {},
   "outputs": [
    {
     "data": {
      "text/plain": [
       "579"
      ]
     },
     "execution_count": 8,
     "metadata": {},
     "output_type": "execute_result"
    }
   ],
   "source": [
    "len(data_list)"
   ]
  },
  {
   "cell_type": "code",
   "execution_count": 12,
   "metadata": {},
   "outputs": [],
   "source": [
    "#collate to original dataset\n",
    "collate_list = []\n",
    "\n",
    "for sample in data_list:\n",
    "    data_dict = {}\n",
    "    data_dict[\"mp4_path\"] = sample[\"mp4_path\"]\n",
    "    data_dict[\"chunks\"] = [{\"activity\": {\"start\": 0, \"end\": 15, \"description\": sample[\"description\"]}, \"interval\": (0,15)}]\n",
    "    collate_list.append(data_dict)"
   ]
  },
  {
   "cell_type": "code",
   "execution_count": 15,
   "metadata": {},
   "outputs": [
    {
     "data": {
      "text/plain": [
       "{'mp4_path': '/home/ubuntu/temp/mp4s/10.mp4',\n",
       " 'chunks': [{'activity': {'start': 0,\n",
       "    'end': 15,\n",
       "    'description': 'The video shows a group of men playing cricket in an open field. They are divided into two teams, one wearing white and the other green shirts. The players hit the ball with their bats and run on the ground. In the background, there is a large crowd watching the game from the stands.'},\n",
       "   'interval': (0, 15)}]}"
      ]
     },
     "execution_count": 15,
     "metadata": {},
     "output_type": "execute_result"
    }
   ],
   "source": [
    "collate_list[2]"
   ]
  },
  {
   "cell_type": "code",
   "execution_count": 16,
   "metadata": {},
   "outputs": [
    {
     "data": {
      "application/vnd.jupyter.widget-view+json": {
       "model_id": "2714815ced0447cc94f7cb3260d54097",
       "version_major": 2,
       "version_minor": 0
      },
      "text/plain": [
       "Saving the dataset (0/1 shards):   0%|          | 0/579 [00:00<?, ? examples/s]"
      ]
     },
     "metadata": {},
     "output_type": "display_data"
    }
   ],
   "source": [
    "from datasets import Dataset\n",
    "filtered_dataset = Dataset.from_list(collate_list)\n",
    "filtered_dataset.save_to_disk(f\"/home/ubuntu/temp/sports_description_dataset\")"
   ]
  },
  {
   "cell_type": "code",
   "execution_count": null,
   "metadata": {},
   "outputs": [],
   "source": []
  }
 ],
 "metadata": {
  "kernelspec": {
   "display_name": "usr",
   "language": "python",
   "name": "python3"
  },
  "language_info": {
   "codemirror_mode": {
    "name": "ipython",
    "version": 3
   },
   "file_extension": ".py",
   "mimetype": "text/x-python",
   "name": "python",
   "nbconvert_exporter": "python",
   "pygments_lexer": "ipython3",
   "version": "3.10.12"
  }
 },
 "nbformat": 4,
 "nbformat_minor": 2
}
