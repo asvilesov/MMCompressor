{
 "cells": [
  {
   "cell_type": "code",
   "execution_count": null,
   "metadata": {},
   "outputs": [],
   "source": [
    "import torch\n",
    "from transformers import AutoModelForCausalLM, AutoProcessor\n",
    "\n",
    "device = \"cuda:0\"\n",
    "model_path = \"DAMO-NLP-SG/VideoLLaMA3-2B\"\n",
    "model = AutoModelForCausalLM.from_pretrained(\n",
    "    model_path,\n",
    "    trust_remote_code=True,\n",
    "    device_map={\"\": device},\n",
    "    torch_dtype=torch.bfloat16,\n",
    "    attn_implementation=\"flash_attention_2\",\n",
    ")\n",
    "processor = AutoProcessor.from_pretrained(model_path, trust_remote_code=True)\n",
    "\n"
   ]
  },
  {
   "cell_type": "code",
   "execution_count": null,
   "metadata": {},
   "outputs": [],
   "source": [
    "conversation = [\n",
    "    {\"role\": \"system\", \"content\": \"You are a helpful assistant.\"},\n",
    "    {\n",
    "        \"role\": \"user\",\n",
    "        \"content\": [\n",
    "            {\"type\": \"video\", \"video\": {\"video_path\": \"/home/ubuntu/temp/mp4s/0.mp4\", \"fps\": 1, \"max_frames\": 180, \"start_time\": 0, \"end_time\": 15}},\n",
    "            {\"type\": \"text\", \"text\": \"Describe the video.\"},\n",
    "        ]\n",
    "    },\n",
    "    {\"role\": \"assistant\", \"content\": \"It is a police academy training video.\"},\n",
    "    {\"role\": \"user\", \"content\": \"What is the video about?\"},\n",
    "]\n",
    "\n",
    "inputs = processor(\n",
    "    conversation=conversation,\n",
    "    add_system_prompt=True,\n",
    "    add_generation_prompt=True,\n",
    "    return_tensors=\"pt\"\n",
    ")\n",
    "inputs = {k: v.to(device) if isinstance(v, torch.Tensor) else v for k, v in inputs.items()}\n",
    "if \"pixel_values\" in inputs:\n",
    "    inputs[\"pixel_values\"] = inputs[\"pixel_values\"].to(torch.bfloat16)\n",
    "output_ids = model.generate(**inputs, max_new_tokens=1024)\n",
    "response = processor.batch_decode(output_ids, skip_special_tokens=True)[0].strip()\n",
    "print(response)"
   ]
  },
  {
   "cell_type": "code",
   "execution_count": null,
   "metadata": {},
   "outputs": [],
   "source": [
    "from transformers.cache_utils import DynamicCache\n",
    "conversation = [\n",
    "    {\"role\": \"system\", \"content\": \"You are a helpful assistant.\"},\n",
    "    {\n",
    "        \"role\": \"user\",\n",
    "        \"content\": [\n",
    "            {\"type\": \"video\", \"video\": {\"video_path\": \"/home/ubuntu/temp/mp4s/0.mp4\", \"fps\": 1, \"max_frames\": 180, \"start_time\": 0, \"end_time\": 15}},\n",
    "            {\"type\": \"text\", \"text\": \"Describe the video.\"},\n",
    "        ]\n",
    "    },\n",
    "    {\"role\": \"assistant\", \"content\": \"It is a police academy training video.\"},\n",
    "    {\"role\": \"user\", \"content\": \"What is the video about?\"},\n",
    "]\n",
    "\n",
    "inputs = processor(\n",
    "    conversation=conversation,\n",
    "    add_system_prompt=True,\n",
    "    add_generation_prompt=False,\n",
    "    return_tensors=\"pt\"\n",
    ")\n",
    "inputs = {k: v.to(device) if isinstance(v, torch.Tensor) else v for k, v in inputs.items()}\n",
    "if \"pixel_values\" in inputs:\n",
    "    inputs[\"pixel_values\"] = inputs[\"pixel_values\"].to(torch.bfloat16)\n",
    "kv_cache = DynamicCache()\n",
    "a = model.forward(**inputs, past_key_values=kv_cache, use_cache=True)\n",
    "print(kv_cache[0][0].shape)"
   ]
  },
  {
   "cell_type": "code",
   "execution_count": null,
   "metadata": {},
   "outputs": [],
   "source": [
    "inputs[\"input_ids\"][:,-50:]"
   ]
  },
  {
   "cell_type": "code",
   "execution_count": null,
   "metadata": {},
   "outputs": [],
   "source": [
    "tokenizer = processor.tokenizer \n",
    "tokens = tokenizer.tokenize(\"assistant\")\n",
    "input_ids = [tokenizer.convert_tokens_to_ids(tokens)]\n",
    "\n",
    "token_output_list = []\n",
    "\n",
    "input_ids = [[77091, 198]]\n",
    "output = model.forward(input_ids=torch.tensor(input_ids).cuda(), past_key_values=kv_cache, use_cache=True)\n",
    "print(kv_cache[0][0].shape)\n",
    "\n",
    "max_idx=torch.argmax(output.logits, dim=-1)\n",
    "max_idx = max_idx[:,1:]\n",
    "print(max_idx)\n",
    "print(tokenizer.convert_ids_to_tokens(max_idx))\n",
    "token_output_list.append(max_idx[0][0])"
   ]
  },
  {
   "cell_type": "code",
   "execution_count": null,
   "metadata": {},
   "outputs": [],
   "source": [
    "for i in range(10):\n",
    "    output = model.forward(input_ids=max_idx, past_key_values=kv_cache, use_cache=True)\n",
    "    max_idx=torch.argmax(output.logits, dim=-1)\n",
    "    print(tokenizer.convert_ids_to_tokens(max_idx))\n",
    "    print(max_idx)\n",
    "    token_output_list.append(max_idx[0][0])"
   ]
  },
  {
   "cell_type": "code",
   "execution_count": null,
   "metadata": {},
   "outputs": [],
   "source": [
    "token_output_list"
   ]
  },
  {
   "cell_type": "code",
   "execution_count": null,
   "metadata": {},
   "outputs": [],
   "source": [
    "tokenizer.decode(token_output_list)"
   ]
  }
 ],
 "metadata": {
  "kernelspec": {
   "display_name": "Python 3 (ipykernel)",
   "language": "python",
   "name": "python3"
  },
  "language_info": {
   "codemirror_mode": {
    "name": "ipython",
    "version": 3
   },
   "file_extension": ".py",
   "mimetype": "text/x-python",
   "name": "python",
   "nbconvert_exporter": "python",
   "pygments_lexer": "ipython3",
   "version": "3.10.12"
  }
 },
 "nbformat": 4,
 "nbformat_minor": 4
}
