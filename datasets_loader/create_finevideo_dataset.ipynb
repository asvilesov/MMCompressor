{
 "cells": [
  {
   "cell_type": "code",
   "execution_count": 2,
   "metadata": {},
   "outputs": [
    {
     "data": {
      "application/vnd.jupyter.widget-view+json": {
       "model_id": "06a9e5b9ba13430aaf390a091fed882d",
       "version_major": 2,
       "version_minor": 0
      },
      "text/plain": [
       "Resolving data files:   0%|          | 0/1357 [00:00<?, ?it/s]"
      ]
     },
     "metadata": {},
     "output_type": "display_data"
    },
    {
     "data": {
      "application/vnd.jupyter.widget-view+json": {
       "model_id": "9d29e2ba7c6f46cb9c8f0e2cdc81f9a7",
       "version_major": 2,
       "version_minor": 0
      },
      "text/plain": [
       "Resolving data files:   0%|          | 0/1357 [00:00<?, ?it/s]"
      ]
     },
     "metadata": {},
     "output_type": "display_data"
    },
    {
     "data": {
      "application/vnd.jupyter.widget-view+json": {
       "model_id": "80396ab5038a4a5986dd459f99aa47ef",
       "version_major": 2,
       "version_minor": 0
      },
      "text/plain": [
       "Loading dataset shards:   0%|          | 0/916 [00:00<?, ?it/s]"
      ]
     },
     "metadata": {},
     "output_type": "display_data"
    }
   ],
   "source": [
    "from datasets import load_dataset\n",
    "from datetime import datetime\n",
    "\n",
    "import os\n",
    "\n",
    "# #full dataset (600GB of data)\n",
    "dataset = load_dataset(\"HuggingFaceFV/finevideo\", split=\"train\", num_proc=64)"
   ]
  },
  {
   "cell_type": "code",
   "execution_count": 3,
   "metadata": {},
   "outputs": [
    {
     "data": {
      "text/plain": [
       "Dataset({\n",
       "    features: ['mp4', 'json'],\n",
       "    num_rows: 43751\n",
       "})"
      ]
     },
     "execution_count": 3,
     "metadata": {},
     "output_type": "execute_result"
    }
   ],
   "source": [
    "dataset"
   ]
  },
  {
   "cell_type": "markdown",
   "metadata": {},
   "source": [
    "# Process the Dataset"
   ]
  },
  {
   "cell_type": "code",
   "execution_count": 4,
   "metadata": {},
   "outputs": [],
   "source": [
    "filtered_dataset = dataset.filter(lambda x: x['json'][\"content_parent_category\"] == \"Sports\", num_proc=64)"
   ]
  },
  {
   "cell_type": "code",
   "execution_count": 5,
   "metadata": {},
   "outputs": [
    {
     "data": {
      "text/plain": [
       "dict_keys(['content_fine_category', 'content_metadata', 'content_parent_category', 'duration_seconds', 'original_json_filename', 'original_video_filename', 'resolution', 'text_to_speech', 'text_to_speech_word_count', 'timecoded_text_to_speech', 'youtube_age_limit', 'youtube_categories', 'youtube_channel', 'youtube_channel_follower_count', 'youtube_comment_count', 'youtube_description', 'youtube_like_count', 'youtube_tags', 'youtube_title', 'youtube_upload_date', 'youtube_view_count'])"
      ]
     },
     "execution_count": 5,
     "metadata": {},
     "output_type": "execute_result"
    }
   ],
   "source": [
    "filtered_dataset[0][\"json\"].keys()"
   ]
  },
  {
   "cell_type": "code",
   "execution_count": 47,
   "metadata": {},
   "outputs": [
    {
     "name": "stderr",
     "output_type": "stream",
     "text": [
      "100%|██████████| 3359/3359 [00:25<00:00, 129.38it/s]\n"
     ]
    }
   ],
   "source": [
    "import numpy as np\n",
    "from tqdm import tqdm\n",
    "def process_dataset_chunks(dataset, chunk_size=5, max_chunks=10):\n",
    "    # chunk size in seconds\n",
    "    datetimer = lambda x: datetime.strptime(x, \"%H:%M:%S.%f\").time()\n",
    "    dataset_list = []\n",
    "    for example in tqdm(dataset, total=len(dataset)):\n",
    "        batch_item = {\"chunks\": []}\n",
    "        # combine activities\n",
    "        all_activities = []\n",
    "        example = filtered_dataset[0]\n",
    "        for j in range(len(example[\"json\"][\"content_metadata\"][\"scenes\"])):\n",
    "            all_activities += example[\"json\"][\"content_metadata\"][\"scenes\"][j][\"activities\"]\n",
    "        # convert timestamp start and end to int tuple\n",
    "        for activity in all_activities:\n",
    "            start = datetimer(activity[\"timestamp\"][\"start_timestamp\"])\n",
    "            start = start.second + start.minute * 60 + start.hour * 3600\n",
    "            end = datetimer(activity[\"timestamp\"][\"end_timestamp\"])\n",
    "            end = end.second + end.minute * 60 + end.hour * 360\n",
    "            activity[\"timestamp\"][\"interval\"] = (start, end)\n",
    "        # chunk intervals \n",
    "        max_seconds = example[\"json\"][\"duration_seconds\"]\n",
    "        chunked_intervals = [(chunk_size*i, chunk_size*(i+1)) for i in range(max_chunks)]\n",
    "        # sample activity that happened before the end of the chunk\n",
    "        rolling_activities = []\n",
    "        idx = 0\n",
    "        for chunk in chunked_intervals:\n",
    "            if(chunk[1] > max_seconds):\n",
    "                break\n",
    "            for j, activity in enumerate(all_activities):\n",
    "                if activity[\"timestamp\"][\"interval\"][0] < chunk[1] and j > idx:\n",
    "                    rolling_activities.append(activity)\n",
    "                    idx += 1\n",
    "            if(len(rolling_activities) == 0):\n",
    "                sample_idx = np.random.randint(0, len(all_activities))\n",
    "            else:\n",
    "                sample_idx = np.random.randint(0, len(rolling_activities))\n",
    "            batch_item[\"chunks\"].append({\"interval\": all_activities[sample_idx][\"timestamp\"][\"interval\"], \n",
    "                                         \"activity\": all_activities[sample_idx][\"description\"]})\n",
    "        batch_item[\"mp4\"] = example[\"mp4\"]\n",
    "        dataset_list.append(batch_item)\n",
    "\n",
    "    return dataset_list\n",
    "\n",
    "processed_dataset = process_dataset_chunks(filtered_dataset, chunk_size=5, max_chunks=20)\n",
    "\n",
    "\n",
    "        "
   ]
  },
  {
   "cell_type": "code",
   "execution_count": 49,
   "metadata": {},
   "outputs": [
    {
     "data": {
      "text/plain": [
       "[{'interval': (0, 1), 'activity': 'Police recruits practice combat'},\n",
       " {'interval': (6, 8), 'activity': 'Police officers stand in formation'},\n",
       " {'interval': (2, 3),\n",
       "  'activity': 'Police officers walk together on a sidewalk'},\n",
       " {'interval': (2, 3),\n",
       "  'activity': 'Police officers walk together on a sidewalk'},\n",
       " {'interval': (7, 8), 'activity': 'Police recruit #2 runs'},\n",
       " {'interval': (24, 25), 'activity': 'Police car navigates an obstacle course'},\n",
       " {'interval': (19, 20),\n",
       "  'activity': 'Police recruits practice combat techniques'},\n",
       " {'interval': (2, 3),\n",
       "  'activity': 'Police officers walk together on a sidewalk'},\n",
       " {'interval': (24, 25), 'activity': 'Police car navigates an obstacle course'},\n",
       " {'interval': (7, 8), 'activity': 'Police recruit #2 runs'},\n",
       " {'interval': (39, 40),\n",
       "  'activity': 'Shots of the Academy buildings and grounds'},\n",
       " {'interval': (27, 28), 'activity': 'Police recruits apply a tourniquet'},\n",
       " {'interval': (27, 28), 'activity': 'Police recruits apply a tourniquet'},\n",
       " {'interval': (63, 64),\n",
       "  'activity': 'Jane Fitzgerald speaks about a typical day for a recruit'},\n",
       " {'interval': (3, 4), 'activity': 'Police recruits work together on laptops'},\n",
       " {'interval': (19, 20),\n",
       "  'activity': 'Police recruits practice combat techniques'},\n",
       " {'interval': (37, 38), 'activity': 'Shot of a swimming pool at the Academy'},\n",
       " {'interval': (30, 31),\n",
       "  'activity': 'Police recruits shoot at a shooting range'},\n",
       " {'interval': (13, 14),\n",
       "  'activity': 'Police recruit #2 practices CPR on a dummy'},\n",
       " {'interval': (22, 23),\n",
       "  'activity': 'Unknown Officer 1 sprays Police recruit #1 with pepper spray'}]"
      ]
     },
     "execution_count": 49,
     "metadata": {},
     "output_type": "execute_result"
    }
   ],
   "source": [
    "processed_dataset[0][\"chunks\"]"
   ]
  },
  {
   "cell_type": "code",
   "execution_count": null,
   "metadata": {},
   "outputs": [
    {
     "ename": "PermissionError",
     "evalue": "[Errno 13] Permission denied: '/sports_dataset'",
     "output_type": "error",
     "traceback": [
      "\u001b[0;31m---------------------------------------------------------------------------\u001b[0m",
      "\u001b[0;31mPermissionError\u001b[0m                           Traceback (most recent call last)",
      "\u001b[0;32m/tmp/ipykernel_140691/4294496384.py\u001b[0m in \u001b[0;36m<module>\u001b[0;34m\u001b[0m\n\u001b[1;32m      1\u001b[0m \u001b[0;32mfrom\u001b[0m \u001b[0mdatasets\u001b[0m \u001b[0;32mimport\u001b[0m \u001b[0mDataset\u001b[0m\u001b[0;34m\u001b[0m\u001b[0;34m\u001b[0m\u001b[0m\n\u001b[1;32m      2\u001b[0m \u001b[0mprocessed_dataset_hf\u001b[0m \u001b[0;34m=\u001b[0m \u001b[0mDataset\u001b[0m\u001b[0;34m.\u001b[0m\u001b[0mfrom_list\u001b[0m\u001b[0;34m(\u001b[0m\u001b[0mprocessed_dataset\u001b[0m\u001b[0;34m)\u001b[0m\u001b[0;34m\u001b[0m\u001b[0;34m\u001b[0m\u001b[0m\n\u001b[0;32m----> 3\u001b[0;31m \u001b[0mprocessed_dataset_hf\u001b[0m\u001b[0;34m.\u001b[0m\u001b[0msave_to_disk\u001b[0m\u001b[0;34m(\u001b[0m\u001b[0;34m\"/sports_dataset\"\u001b[0m\u001b[0;34m)\u001b[0m\u001b[0;34m\u001b[0m\u001b[0;34m\u001b[0m\u001b[0m\n\u001b[0m",
      "\u001b[0;32m~/.local/lib/python3.10/site-packages/datasets/arrow_dataset.py\u001b[0m in \u001b[0;36msave_to_disk\u001b[0;34m(self, dataset_path, max_shard_size, num_shards, num_proc, storage_options)\u001b[0m\n\u001b[1;32m   1500\u001b[0m                 )\n\u001b[1;32m   1501\u001b[0m \u001b[0;34m\u001b[0m\u001b[0m\n\u001b[0;32m-> 1502\u001b[0;31m         \u001b[0mfs\u001b[0m\u001b[0;34m.\u001b[0m\u001b[0mmakedirs\u001b[0m\u001b[0;34m(\u001b[0m\u001b[0mdataset_path\u001b[0m\u001b[0;34m,\u001b[0m \u001b[0mexist_ok\u001b[0m\u001b[0;34m=\u001b[0m\u001b[0;32mTrue\u001b[0m\u001b[0;34m)\u001b[0m\u001b[0;34m\u001b[0m\u001b[0;34m\u001b[0m\u001b[0m\n\u001b[0m\u001b[1;32m   1503\u001b[0m \u001b[0;34m\u001b[0m\u001b[0m\n\u001b[1;32m   1504\u001b[0m         \u001b[0;31m# Get json serializable state\u001b[0m\u001b[0;34m\u001b[0m\u001b[0;34m\u001b[0m\u001b[0m\n",
      "\u001b[0;32m/usr/lib/python3/dist-packages/fsspec/implementations/local.py\u001b[0m in \u001b[0;36mmakedirs\u001b[0;34m(self, path, exist_ok)\u001b[0m\n\u001b[1;32m     56\u001b[0m     \u001b[0;32mdef\u001b[0m \u001b[0mmakedirs\u001b[0m\u001b[0;34m(\u001b[0m\u001b[0mself\u001b[0m\u001b[0;34m,\u001b[0m \u001b[0mpath\u001b[0m\u001b[0;34m,\u001b[0m \u001b[0mexist_ok\u001b[0m\u001b[0;34m=\u001b[0m\u001b[0;32mFalse\u001b[0m\u001b[0;34m)\u001b[0m\u001b[0;34m:\u001b[0m\u001b[0;34m\u001b[0m\u001b[0;34m\u001b[0m\u001b[0m\n\u001b[1;32m     57\u001b[0m         \u001b[0mpath\u001b[0m \u001b[0;34m=\u001b[0m \u001b[0mself\u001b[0m\u001b[0;34m.\u001b[0m\u001b[0m_strip_protocol\u001b[0m\u001b[0;34m(\u001b[0m\u001b[0mpath\u001b[0m\u001b[0;34m)\u001b[0m\u001b[0;34m\u001b[0m\u001b[0;34m\u001b[0m\u001b[0m\n\u001b[0;32m---> 58\u001b[0;31m         \u001b[0mos\u001b[0m\u001b[0;34m.\u001b[0m\u001b[0mmakedirs\u001b[0m\u001b[0;34m(\u001b[0m\u001b[0mpath\u001b[0m\u001b[0;34m,\u001b[0m \u001b[0mexist_ok\u001b[0m\u001b[0;34m=\u001b[0m\u001b[0mexist_ok\u001b[0m\u001b[0;34m)\u001b[0m\u001b[0;34m\u001b[0m\u001b[0;34m\u001b[0m\u001b[0m\n\u001b[0m\u001b[1;32m     59\u001b[0m \u001b[0;34m\u001b[0m\u001b[0m\n\u001b[1;32m     60\u001b[0m     \u001b[0;32mdef\u001b[0m \u001b[0mrmdir\u001b[0m\u001b[0;34m(\u001b[0m\u001b[0mself\u001b[0m\u001b[0;34m,\u001b[0m \u001b[0mpath\u001b[0m\u001b[0;34m)\u001b[0m\u001b[0;34m:\u001b[0m\u001b[0;34m\u001b[0m\u001b[0;34m\u001b[0m\u001b[0m\n",
      "\u001b[0;32m/usr/lib/python3.10/os.py\u001b[0m in \u001b[0;36mmakedirs\u001b[0;34m(name, mode, exist_ok)\u001b[0m\n\u001b[1;32m    223\u001b[0m             \u001b[0;32mreturn\u001b[0m\u001b[0;34m\u001b[0m\u001b[0;34m\u001b[0m\u001b[0m\n\u001b[1;32m    224\u001b[0m     \u001b[0;32mtry\u001b[0m\u001b[0;34m:\u001b[0m\u001b[0;34m\u001b[0m\u001b[0;34m\u001b[0m\u001b[0m\n\u001b[0;32m--> 225\u001b[0;31m         \u001b[0mmkdir\u001b[0m\u001b[0;34m(\u001b[0m\u001b[0mname\u001b[0m\u001b[0;34m,\u001b[0m \u001b[0mmode\u001b[0m\u001b[0;34m)\u001b[0m\u001b[0;34m\u001b[0m\u001b[0;34m\u001b[0m\u001b[0m\n\u001b[0m\u001b[1;32m    226\u001b[0m     \u001b[0;32mexcept\u001b[0m \u001b[0mOSError\u001b[0m\u001b[0;34m:\u001b[0m\u001b[0;34m\u001b[0m\u001b[0;34m\u001b[0m\u001b[0m\n\u001b[1;32m    227\u001b[0m         \u001b[0;31m# Cannot rely on checking for EEXIST, since the operating system\u001b[0m\u001b[0;34m\u001b[0m\u001b[0;34m\u001b[0m\u001b[0m\n",
      "\u001b[0;31mPermissionError\u001b[0m: [Errno 13] Permission denied: '/sports_dataset'"
     ]
    }
   ],
   "source": [
    "from datasets import Dataset\n",
    "processed_dataset_hf = Dataset.from_list(processed_dataset)"
   ]
  },
  {
   "cell_type": "code",
   "execution_count": 52,
   "metadata": {},
   "outputs": [
    {
     "name": "stderr",
     "output_type": "stream",
     "text": [
      "Saving the dataset (116/116 shards): 100%|██████████| 3359/3359 [00:10<00:00, 307.44 examples/s]\n"
     ]
    }
   ],
   "source": [
    "processed_dataset_hf.save_to_disk(\"~/temp/sports_dataset\")"
   ]
  },
  {
   "cell_type": "markdown",
   "metadata": {},
   "source": [
    "# Analyzing the Dataset"
   ]
  },
  {
   "cell_type": "code",
   "execution_count": 6,
   "metadata": {},
   "outputs": [
    {
     "data": {
      "text/plain": [
       "Dataset({\n",
       "    features: ['mp4', 'json'],\n",
       "    num_rows: 3359\n",
       "})"
      ]
     },
     "execution_count": 6,
     "metadata": {},
     "output_type": "execute_result"
    }
   ],
   "source": [
    "filtered_dataset"
   ]
  },
  {
   "cell_type": "code",
   "execution_count": 7,
   "metadata": {},
   "outputs": [
    {
     "data": {
      "text/plain": [
       "('Career Highlights', 'Sports')"
      ]
     },
     "execution_count": 7,
     "metadata": {},
     "output_type": "execute_result"
    }
   ],
   "source": [
    "sample = filtered_dataset[0]\n",
    "sample['json']['content_fine_category'], sample['json']['content_parent_category'] \n"
   ]
  },
  {
   "cell_type": "code",
   "execution_count": 9,
   "metadata": {},
   "outputs": [],
   "source": [
    "with open('../../sample.mp4', 'wb') as video_file:\n",
    "    video_file.write(sample['mp4'])"
   ]
  },
  {
   "cell_type": "code",
   "execution_count": 31,
   "metadata": {},
   "outputs": [
    {
     "data": {
      "text/plain": [
       "dict_keys(['content_fine_category', 'content_metadata', 'content_parent_category', 'duration_seconds', 'original_json_filename', 'original_video_filename', 'resolution', 'text_to_speech', 'text_to_speech_word_count', 'timecoded_text_to_speech', 'youtube_age_limit', 'youtube_categories', 'youtube_channel', 'youtube_channel_follower_count', 'youtube_comment_count', 'youtube_description', 'youtube_like_count', 'youtube_tags', 'youtube_title', 'youtube_upload_date', 'youtube_view_count'])"
      ]
     },
     "execution_count": 31,
     "metadata": {},
     "output_type": "execute_result"
    }
   ],
   "source": [
    "sample['json'].keys()"
   ]
  },
  {
   "cell_type": "code",
   "execution_count": 32,
   "metadata": {},
   "outputs": [
    {
     "data": {
      "text/plain": [
       "[{'end': '00:00:03.560',\n",
       "  'start': '00:00:00.000',\n",
       "  'text': ' Good luck and may I assist you?'},\n",
       " {'end': '00:00:21.040', 'start': '00:00:18.560', 'text': ' Go! Go!'},\n",
       " {'end': '00:00:27.160', 'start': '00:00:26.000', 'text': ' Three.'},\n",
       " {'end': '00:00:28.800', 'start': '00:00:27.560', 'text': ' Two.'},\n",
       " {'end': '00:00:37.000',\n",
       "  'start': '00:00:30.000',\n",
       "  'text': ' Life as a QPS recruit is very fun.'},\n",
       " {'end': '00:00:40.000',\n",
       "  'start': '00:00:37.000',\n",
       "  'text': ' You can kind of live and breathe economy.'},\n",
       " {'end': '00:00:42.000',\n",
       "  'start': '00:00:40.000',\n",
       "  'text': ' You go to bed thinking about what you learnt that day.'},\n",
       " {'end': '00:00:45.000',\n",
       "  'start': '00:00:42.000',\n",
       "  'text': \" You wake up thinking about what you're going to learn that in the next day.\"},\n",
       " {'end': '00:00:53.000',\n",
       "  'start': '00:00:45.000',\n",
       "  'text': \" It's definitely very consuming but it's been amazing learning the ins and outs of policing.\"},\n",
       " {'end': '00:00:59.000',\n",
       "  'start': '00:00:53.000',\n",
       "  'text': \" The purpose of the course is to make sure that the people we've selected to join the organisation\"},\n",
       " {'end': '00:01:03.000',\n",
       "  'start': '00:00:59.000',\n",
       "  'text': ' are job ready by the time they leave and are sworn in.'},\n",
       " {'end': '00:01:09.000',\n",
       "  'start': '00:01:03.000',\n",
       "  'text': ' A typical day for a recruit here at the academy, they would normally commence their morning'},\n",
       " {'end': '00:01:16.000',\n",
       "  'start': '00:01:09.000',\n",
       "  'text': ' with a morning parade and a roll call then depending on what is scheduled for that particular day'},\n",
       " {'end': '00:01:21.000',\n",
       "  'start': '00:01:16.000',\n",
       "  'text': ' they could be doing some of their online learning products and assessment items.'},\n",
       " {'end': '00:01:25.000',\n",
       "  'start': '00:01:21.000',\n",
       "  'text': ' They could be having some tutorial sessions with facilitators.'},\n",
       " {'end': '00:01:30.000',\n",
       "  'start': '00:01:25.000',\n",
       "  'text': ' All they could be undertaking what we have called scenario-based training'},\n",
       " {'end': '00:01:38.000',\n",
       "  'start': '00:01:30.000',\n",
       "  'text': ' where they run through some practice scenarios in preparation for them being out on the road operationally.'},\n",
       " {'end': '00:01:44.000',\n",
       "  'start': '00:01:38.000',\n",
       "  'text': \" It's a challenging course so the expectation upon them is to be committed to the learnings\"},\n",
       " {'end': '00:01:46.000',\n",
       "  'start': '00:01:44.000',\n",
       "  'text': ' that are undertaken within the academy.'},\n",
       " {'end': '00:01:50.000',\n",
       "  'start': '00:01:46.000',\n",
       "  'text': ' So the biggest challenge for me starting was I went from a job that was outside all day'},\n",
       " {'end': '00:01:55.000',\n",
       "  'start': '00:01:50.000',\n",
       "  'text': ' every day to being in a classroom and doing lots and lots of study.'},\n",
       " {'end': '00:02:00.000',\n",
       "  'start': '00:01:55.000',\n",
       "  'text': ' So it was a really big life adjustment for me but yeah after a couple of months'},\n",
       " {'end': '00:02:03.000',\n",
       "  'start': '00:02:00.000',\n",
       "  'text': ' I definitely started to feel like my new normal.'},\n",
       " {'end': '00:02:09.000',\n",
       "  'start': '00:02:05.000',\n",
       "  'text': ' Look, the training is critical.'},\n",
       " {'end': '00:02:14.000',\n",
       "  'start': '00:02:09.000',\n",
       "  'text': \" It's critical for the organisation to make sure that by the time someone is sworn in\"},\n",
       " {'end': '00:02:18.000',\n",
       "  'start': '00:02:14.000',\n",
       "  'text': ' that they have the skills set to actually undertake the job.'},\n",
       " {'end': '00:02:25.000',\n",
       "  'start': '00:02:20.000',\n",
       "  'text': ' The one that requires is not only an understanding of the laws and the legislative power'},\n",
       " {'end': '00:02:31.000',\n",
       "  'start': '00:02:25.000',\n",
       "  'text': \" that we have and are able to use in extreme circumstances but it's also an understanding\"},\n",
       " {'end': '00:02:38.000',\n",
       "  'start': '00:02:31.000',\n",
       "  'text': ' of how they make decisions in a crisis environment at times and that requires'},\n",
       " {'end': '00:02:45.000',\n",
       "  'start': '00:02:38.000',\n",
       "  'text': ' not only the skills in terms of the learnings but it requires that the people that we select'},\n",
       " {'end': '00:02:50.000',\n",
       "  'start': '00:02:45.000',\n",
       "  'text': ' who have a value alignment with the organisation being strong and integrity,'},\n",
       " {'end': '00:02:55.000',\n",
       "  'start': '00:02:50.000',\n",
       "  'text': ' having a sense of community, a respect and fairness and professionalism'},\n",
       " {'end': '00:03:01.000',\n",
       "  'start': '00:02:55.000',\n",
       "  'text': ' that they apply those values in an operational environment at every time.'},\n",
       " {'end': '00:03:12.000',\n",
       "  'start': '00:03:06.000',\n",
       "  'text': ' Upon their successful completion graduation the programme they then enter into their first year.'},\n",
       " {'end': '00:03:17.000',\n",
       "  'start': '00:03:12.000',\n",
       "  'text': ' So whilst the academy they allocated at different training centres around the state'},\n",
       " {'end': '00:03:22.000',\n",
       "  'start': '00:03:17.000',\n",
       "  'text': ' upon graduation they will transfer to those training stations.'},\n",
       " {'end': '00:03:26.000',\n",
       "  'start': '00:03:22.000',\n",
       "  'text': ' Within those stations are a number of field training officers who will then'},\n",
       " {'end': '00:03:30.000',\n",
       "  'start': '00:03:26.000',\n",
       "  'text': ' for a first year constable that is a 12 month period.'},\n",
       " {'end': '00:03:34.000',\n",
       "  'start': '00:03:30.000',\n",
       "  'text': ' Their first two months is a hundred percent supervision and then after that two months'},\n",
       " {'end': '00:03:36.000',\n",
       "  'start': '00:03:34.000',\n",
       "  'text': ' is 50 percent supervision.'},\n",
       " {'end': '00:03:40.000',\n",
       "  'start': '00:03:36.000',\n",
       "  'text': \" Through that period of time there's a number of workplace activities that they need\"},\n",
       " {'end': '00:03:46.000',\n",
       "  'start': '00:03:40.000',\n",
       "  'text': ' to meet the requirements of and at the end of the 18 months having collectively successfully'},\n",
       " {'end': '00:03:53.000',\n",
       "  'start': '00:03:46.000',\n",
       "  'text': \" passed everything they'll then be confirmed and be a fully operational police officer\"},\n",
       " {'end': '00:03:55.000',\n",
       "  'start': '00:03:53.000',\n",
       "  'text': ' that can work without supervision.'},\n",
       " {'end': '00:04:01.000',\n",
       "  'start': '00:03:55.000',\n",
       "  'text': \" We're certainly trying hard to recruit so that being a member of this organisation\"},\n",
       " {'end': '00:04:07.000',\n",
       "  'start': '00:04:01.000',\n",
       "  'text': ' there is an expectation by the community of showing leadership and being looked upon to be a leader'},\n",
       " {'end': '00:04:13.000',\n",
       "  'start': '00:04:07.000',\n",
       "  'text': ' and we very much value our development of people as leaders in the organisation.'}]"
      ]
     },
     "execution_count": 32,
     "metadata": {},
     "output_type": "execute_result"
    }
   ],
   "source": [
    "sample['json']['timecoded_text_to_speech']"
   ]
  },
  {
   "cell_type": "code",
   "execution_count": null,
   "metadata": {},
   "outputs": [
    {
     "data": {
      "text/plain": [
       "dict_keys(['characterList', 'description', 'fps', 'qAndA', 'scenes', 'storylines', 'title', 'trimmingSuggestions'])"
      ]
     },
     "execution_count": 33,
     "metadata": {},
     "output_type": "execute_result"
    }
   ],
   "source": [
    "sample['json']['content_metadata'].keys()"
   ]
  },
  {
   "cell_type": "code",
   "execution_count": 34,
   "metadata": {},
   "outputs": [
    {
     "data": {
      "text/plain": [
       "[{'characterId': 'c1',\n",
       "  'description': 'White female, light brown hair tied in a bun, pale complexion, wearing a blue QPS training shirt.',\n",
       "  'name': 'Police Recruit #1'},\n",
       " {'characterId': 'c2',\n",
       "  'description': 'White male with short brown hair, wearing a blue QPS training shirt.',\n",
       "  'name': 'Police Recruit #2'},\n",
       " {'characterId': 'c3',\n",
       "  'description': 'Superintendent, White male with short brown hair and greying temples, wearing a QPS uniform and tie.',\n",
       "  'name': 'Joe Jaramazovic'},\n",
       " {'characterId': 'c4',\n",
       "  'description': 'Senior Sergeant, White female with short blonde hair and glasses, wearing a QPS uniform.',\n",
       "  'name': 'Jane Fitzgerald'},\n",
       " {'characterId': 'c5',\n",
       "  'description': 'White male, short brown hair, wearing a QPS uniform and tie.',\n",
       "  'name': 'Unknown Officer 1'}]"
      ]
     },
     "execution_count": 34,
     "metadata": {},
     "output_type": "execute_result"
    }
   ],
   "source": [
    "sample['json']['content_metadata']['characterList']"
   ]
  },
  {
   "cell_type": "code",
   "execution_count": 35,
   "metadata": {},
   "outputs": [
    {
     "data": {
      "text/plain": [
       "'A video analysis of the daily life and experiences of police recruits at the Queensland Police Service Academy.'"
      ]
     },
     "execution_count": 35,
     "metadata": {},
     "output_type": "execute_result"
    }
   ],
   "source": [
    "sample['json']['content_metadata'][\"description\"]"
   ]
  },
  {
   "cell_type": "code",
   "execution_count": 36,
   "metadata": {},
   "outputs": [
    {
     "data": {
      "text/plain": [
       "[{'answer': 'The video starts with police recruits practicing combat techniques, specifically ground fighting and grappling.',\n",
       "  'question': 'What type of training is shown in the very beginning of the video?'},\n",
       " {'answer': 'She mentions the difficulty of transitioning from a job that involved being outdoors all day to the academy environment, which involves long hours of classroom learning and studying.',\n",
       "  'question': 'What does Police Recruit #1 say is the biggest challenge she faced during her training?'},\n",
       " {'answer': 'The video showcases signage displaying the core values of Integrity, Community, Respect and Fairness, and Professionalism, emphasizing their significance in the training and the overall culture of the Queensland Police Service.',\n",
       "  'question': 'How does the video visually represent the core values of the Queensland Police Service?'},\n",
       " {'answer': 'The initial training program lasts for 18 months. The first two months involve 100% supervision, followed by 50% supervision for the remainder of the first year.',\n",
       "  'question': 'What is the duration of the training program and how does the level of supervision change throughout?'},\n",
       " {'answer': 'The graduating recruits raise their police hats in a synchronized gesture, symbolizing their official entry into the Queensland Police Service.',\n",
       "  'question': 'What specific action do the police recruits perform at the end of the graduation ceremony?'}]"
      ]
     },
     "execution_count": 36,
     "metadata": {},
     "output_type": "execute_result"
    }
   ],
   "source": [
    "sample['json']['content_metadata'][\"qAndA\"]"
   ]
  },
  {
   "cell_type": "code",
   "execution_count": 37,
   "metadata": {},
   "outputs": [
    {
     "data": {
      "text/plain": [
       "[{'activities': [{'description': 'Police recruits practice combat',\n",
       "    'timestamp': {'end_timestamp': '00:00:01.000',\n",
       "     'start_timestamp': '00:00:00.000'}},\n",
       "   {'description': 'Police officers walk together on a sidewalk',\n",
       "    'timestamp': {'end_timestamp': '00:00:03.000',\n",
       "     'start_timestamp': '00:00:02.000'}},\n",
       "   {'description': 'Police recruits work together on laptops',\n",
       "    'timestamp': {'end_timestamp': '00:00:04.000',\n",
       "     'start_timestamp': '00:00:03.000'}},\n",
       "   {'description': 'Police officers stand in formation',\n",
       "    'timestamp': {'end_timestamp': '00:00:08.000',\n",
       "     'start_timestamp': '00:00:06.000'}},\n",
       "   {'description': 'Police recruit #2 runs',\n",
       "    'timestamp': {'end_timestamp': '00:00:08.000',\n",
       "     'start_timestamp': '00:00:07.000'}},\n",
       "   {'description': 'Police recruits practice shooting',\n",
       "    'timestamp': {'end_timestamp': '00:00:10.000',\n",
       "     'start_timestamp': '00:00:09.000'}},\n",
       "   {'description': 'Police officers ride in a patrol car',\n",
       "    'timestamp': {'end_timestamp': '00:00:11.000',\n",
       "     'start_timestamp': '00:00:10.000'}},\n",
       "   {'description': 'Police recruit #2 practices CPR on a dummy',\n",
       "    'timestamp': {'end_timestamp': '00:00:14.000',\n",
       "     'start_timestamp': '00:00:13.000'}},\n",
       "   {'description': 'Police recruits run an obstacle course',\n",
       "    'timestamp': {'end_timestamp': '00:00:16.000',\n",
       "     'start_timestamp': '00:00:15.000'}},\n",
       "   {'description': 'Police recruits practice combat techniques',\n",
       "    'timestamp': {'end_timestamp': '00:00:20.000',\n",
       "     'start_timestamp': '00:00:19.000'}},\n",
       "   {'description': 'Police recruit #1 runs on a sidewalk',\n",
       "    'timestamp': {'end_timestamp': '00:00:21.000',\n",
       "     'start_timestamp': '00:00:20.000'}},\n",
       "   {'description': 'Unknown Officer 1 sprays Police recruit #1 with pepper spray',\n",
       "    'timestamp': {'end_timestamp': '00:00:23.000',\n",
       "     'start_timestamp': '00:00:22.000'}},\n",
       "   {'description': 'Police car navigates an obstacle course',\n",
       "    'timestamp': {'end_timestamp': '00:00:25.000',\n",
       "     'start_timestamp': '00:00:24.000'}},\n",
       "   {'description': 'Police recruits practice fighting techniques',\n",
       "    'timestamp': {'end_timestamp': '00:00:26.000',\n",
       "     'start_timestamp': '00:00:25.000'}},\n",
       "   {'description': 'Police recruits apply a tourniquet',\n",
       "    'timestamp': {'end_timestamp': '00:00:28.000',\n",
       "     'start_timestamp': '00:00:27.000'}},\n",
       "   {'description': 'Police recruits shoot at a shooting range',\n",
       "    'timestamp': {'end_timestamp': '00:00:31.000',\n",
       "     'start_timestamp': '00:00:30.000'}}],\n",
       "  'audioVisualCorrelation': 1.0,\n",
       "  'cast': ['Police Recruit #1', 'Police Recruit #2', 'Unknown Officer 1'],\n",
       "  'characterInteraction': [{'characters': ['Police Recruit #1',\n",
       "     'Police Recruit #2',\n",
       "     'Unknown Officer 1'],\n",
       "    'description': 'Police recruits and officers engage in various training activities demonstrating teamwork and collaboration'}],\n",
       "  'contextualRelevance': 'The scene introduces the audience to the different aspects of police training at the Academy.',\n",
       "  'dynamismScore': 1.0,\n",
       "  'mood': {'description': 'Excited. The fast-paced editing and variety of activities create a sense of energy and excitement.',\n",
       "   'keyMoments': [{'changeDescription': 'From dynamic visuals to static text with sound fading out',\n",
       "     'timestamp': '00:00:31.000'}]},\n",
       "  'narrativeProgression': [{'description': 'Police training begins with a variety of physical and tactical activities',\n",
       "    'timestamp': '00:00:00.000'},\n",
       "   {'description': 'Text overlay introduces the focus of the video',\n",
       "    'timestamp': '00:00:31.000'}],\n",
       "  'props': [{'name': 'Boxing headgear',\n",
       "    'timestamp': {'end_timestamp': '00:00:01.000',\n",
       "     'start_timestamp': '00:00:00.000'}},\n",
       "   {'name': 'Laptops',\n",
       "    'timestamp': {'end_timestamp': '00:00:04.000',\n",
       "     'start_timestamp': '00:00:03.000'}},\n",
       "   {'name': 'Gun',\n",
       "    'timestamp': {'end_timestamp': '00:00:10.000',\n",
       "     'start_timestamp': '00:00:09.000'}},\n",
       "   {'name': 'Patrol car',\n",
       "    'timestamp': {'end_timestamp': '00:00:11.000',\n",
       "     'start_timestamp': '00:00:10.000'}},\n",
       "   {'name': 'CPR dummy',\n",
       "    'timestamp': {'end_timestamp': '00:00:14.000',\n",
       "     'start_timestamp': '00:00:13.000'}},\n",
       "   {'name': 'Pepper spray',\n",
       "    'timestamp': {'end_timestamp': '00:00:23.000',\n",
       "     'start_timestamp': '00:00:22.000'}},\n",
       "   {'name': 'Batons',\n",
       "    'timestamp': {'end_timestamp': '00:00:26.000',\n",
       "     'start_timestamp': '00:00:25.000'}},\n",
       "   {'name': 'Tourniquet',\n",
       "    'timestamp': {'end_timestamp': '00:00:28.000',\n",
       "     'start_timestamp': '00:00:27.000'}},\n",
       "   {'name': 'Guns',\n",
       "    'timestamp': {'end_timestamp': '00:00:31.000',\n",
       "     'start_timestamp': '00:00:30.000'}}],\n",
       "  'sceneId': 1,\n",
       "  'thematicElements': 'The demanding nature of police training, the importance of teamwork and collaboration, the commitment required to become a police officer.',\n",
       "  'timestamps': {'end_timestamp': '00:00:34.200',\n",
       "   'start_timestamp': '00:00:00.000'},\n",
       "  'title': 'Introduction to Training',\n",
       "  'videoEditingDetails': [{'description': 'Fast cuts between different activities',\n",
       "    'timestamps': {'end_timestamp': '00:00:30.000',\n",
       "     'start_timestamp': '00:00:00.000'}},\n",
       "   {'description': 'Text overlay: \"Life at the Academy\"',\n",
       "    'timestamps': {'end_timestamp': '00:00:32.000',\n",
       "     'start_timestamp': '00:00:31.000'}}]},\n",
       " {'activities': [{'description': 'Police recruit #1 speaks about life at the Academy',\n",
       "    'timestamp': {'end_timestamp': '00:00:36.000',\n",
       "     'start_timestamp': '00:00:35.000'}},\n",
       "   {'description': 'Shot of a swimming pool at the Academy',\n",
       "    'timestamp': {'end_timestamp': '00:00:38.000',\n",
       "     'start_timestamp': '00:00:37.000'}},\n",
       "   {'description': 'Shots of the Academy buildings and grounds',\n",
       "    'timestamp': {'end_timestamp': '00:00:40.000',\n",
       "     'start_timestamp': '00:00:39.000'}},\n",
       "   {'description': 'Shot of police recruits eating in a cafeteria',\n",
       "    'timestamp': {'end_timestamp': '00:00:47.000',\n",
       "     'start_timestamp': '00:00:46.000'}},\n",
       "   {'description': 'Joe Jaramazovic speaks about the purpose of the course',\n",
       "    'timestamp': {'end_timestamp': '00:00:52.560',\n",
       "     'start_timestamp': '00:00:52.560'}}],\n",
       "  'audioVisualCorrelation': 1.0,\n",
       "  'cast': ['Police Recruit #1', 'Joe Jaramazovic'],\n",
       "  'characterInteraction': [{'characters': ['Police Recruit #1',\n",
       "     'Joe Jaramazovic'],\n",
       "    'description': 'Interviews with Police Recruit #1 and Superintendent Jaramazovic provide perspectives on the training and its purpose'}],\n",
       "  'contextualRelevance': 'The scene provides insight into the challenges and rewards of life at the Academy.',\n",
       "  'dynamismScore': 0.5,\n",
       "  'mood': {'description': 'Content. The visuals and interview dialogue create a sense of satisfaction with the training program.',\n",
       "   'keyMoments': []},\n",
       "  'narrativeProgression': [{'description': 'Police Recruit #1 describes the demanding but rewarding experience of the academy training',\n",
       "    'timestamp': '00:00:35.000'},\n",
       "   {'description': 'Superintendent Joe Jaramazovic emphasizes the importance of producing job-ready officers',\n",
       "    'timestamp': '00:00:52.560'}],\n",
       "  'props': [{'name': 'Queensland Police Service Academy sign',\n",
       "    'timestamp': {'end_timestamp': '00:00:35.000',\n",
       "     'start_timestamp': '00:00:34.240'}}],\n",
       "  'sceneId': 2,\n",
       "  'thematicElements': 'The immersive nature of the Academy experience, the dedication and commitment of police recruits, the importance of the training program in preparing recruits for the realities of police work.',\n",
       "  'timestamps': {'end_timestamp': '00:00:52.560',\n",
       "   'start_timestamp': '00:00:34.240'},\n",
       "  'title': 'Life at the Academy',\n",
       "  'videoEditingDetails': [{'description': 'Slower paced editing compared to Scene 1',\n",
       "    'timestamps': {'end_timestamp': '00:00:52.560',\n",
       "     'start_timestamp': '00:00:34.240'}}]},\n",
       " {'activities': [{'description': 'Jane Fitzgerald speaks about a typical day for a recruit',\n",
       "    'timestamp': {'end_timestamp': '00:01:04.000',\n",
       "     'start_timestamp': '00:01:03.000'}},\n",
       "   {'description': 'Shots of police recruits standing in formation',\n",
       "    'timestamp': {'end_timestamp': '00:01:08.000',\n",
       "     'start_timestamp': '00:01:07.000'}},\n",
       "   {'description': 'Police recruits walking to training',\n",
       "    'timestamp': {'end_timestamp': '00:01:12.000',\n",
       "     'start_timestamp': '00:01:11.000'}},\n",
       "   {'description': 'Police recruits working on computers in a classroom',\n",
       "    'timestamp': {'end_timestamp': '00:01:17.000',\n",
       "     'start_timestamp': '00:01:16.000'}},\n",
       "   {'description': 'Police recruit reading and taking notes',\n",
       "    'timestamp': {'end_timestamp': '00:01:20.000',\n",
       "     'start_timestamp': '00:01:19.000'}},\n",
       "   {'description': 'Police recruits in a classroom listening to an instructor',\n",
       "    'timestamp': {'end_timestamp': '00:01:23.000',\n",
       "     'start_timestamp': '00:01:22.000'}},\n",
       "   {'description': 'Police recruits walking down a hallway',\n",
       "    'timestamp': {'end_timestamp': '00:01:28.000',\n",
       "     'start_timestamp': '00:01:27.000'}},\n",
       "   {'description': 'Police officers conducting a training scenario',\n",
       "    'timestamp': {'end_timestamp': '00:01:29.000',\n",
       "     'start_timestamp': '00:01:28.000'}},\n",
       "   {'description': 'Police recruits walking beside a pool',\n",
       "    'timestamp': {'end_timestamp': '00:01:31.000',\n",
       "     'start_timestamp': '00:01:30.000'}},\n",
       "   {'description': 'Police officers interacting with a recruit during a training scenario',\n",
       "    'timestamp': {'end_timestamp': '00:01:33.000',\n",
       "     'start_timestamp': '00:01:32.000'}},\n",
       "   {'description': 'Police officers conducting an interrogation scenario',\n",
       "    'timestamp': {'end_timestamp': '00:01:36.000',\n",
       "     'start_timestamp': '00:01:35.000'}},\n",
       "   {'description': 'Unknown Officer 1 speaks about the challenging nature of the course',\n",
       "    'timestamp': {'end_timestamp': '00:01:39.000',\n",
       "     'start_timestamp': '00:01:38.000'}},\n",
       "   {'description': 'Police recruits watching a presentation',\n",
       "    'timestamp': {'end_timestamp': '00:01:41.000',\n",
       "     'start_timestamp': '00:01:40.000'}},\n",
       "   {'description': 'Police recruits working on computers',\n",
       "    'timestamp': {'end_timestamp': '00:01:45.000',\n",
       "     'start_timestamp': '00:01:44.000'}},\n",
       "   {'description': 'Police recruit practicing handcuffing another recruit',\n",
       "    'timestamp': {'end_timestamp': '00:01:46.000',\n",
       "     'start_timestamp': '00:01:46.000'}}],\n",
       "  'audioVisualCorrelation': 1.0,\n",
       "  'cast': ['Jane Fitzgerald', 'Unknown Officer 1'],\n",
       "  'characterInteraction': [{'characters': ['Jane Fitzgerald',\n",
       "     'Unknown Officer 1'],\n",
       "    'description': 'Senior Sergeant Fitzgerald and Unknown Officer 1 explain different aspects of the police training and its importance'}],\n",
       "  'contextualRelevance': 'The scene highlights the variety of training activities and the expectations placed on recruits.',\n",
       "  'dynamismScore': 0.8,\n",
       "  'mood': {'description': \"Proud. The visuals and interviews convey a sense of accomplishment and confidence in the recruits' abilities.\",\n",
       "   'keyMoments': []},\n",
       "  'narrativeProgression': [{'description': 'Senior Sergeant Jane Fitzgerald outlines the daily routine and diverse training activities at the academy',\n",
       "    'timestamp': '00:01:03.000'},\n",
       "   {'description': 'Unknown Officer 1 highlights the challenging yet crucial nature of the course and the commitment expected from recruits',\n",
       "    'timestamp': '00:01:38.000'}],\n",
       "  'props': [{'name': 'Queensland Police Service Academy building',\n",
       "    'timestamp': {'end_timestamp': '00:01:04.000',\n",
       "     'start_timestamp': '00:01:03.000'}},\n",
       "   {'name': 'Computers',\n",
       "    'timestamp': {'end_timestamp': '00:01:17.000',\n",
       "     'start_timestamp': '00:01:16.000'}},\n",
       "   {'name': 'Notebook and pen',\n",
       "    'timestamp': {'end_timestamp': '00:01:20.000',\n",
       "     'start_timestamp': '00:01:19.000'}},\n",
       "   {'name': 'Handcuffs',\n",
       "    'timestamp': {'end_timestamp': '00:01:46.000',\n",
       "     'start_timestamp': '00:01:46.000'}}],\n",
       "  'sceneId': 3,\n",
       "  'thematicElements': 'The comprehensive and rigorous nature of the training program, the emphasis on ethical and professional conduct, the importance of developing critical thinking and decision-making skills.',\n",
       "  'timestamps': {'end_timestamp': '00:01:46.000',\n",
       "   'start_timestamp': '00:00:52.600'},\n",
       "  'title': 'A Day in the Life',\n",
       "  'videoEditingDetails': [{'description': 'Fast cuts between different training activities',\n",
       "    'timestamps': {'end_timestamp': '00:01:46.000',\n",
       "     'start_timestamp': '00:01:07.000'}},\n",
       "   {'description': 'Shot of sign that reads \"Integrity\"',\n",
       "    'timestamps': {'end_timestamp': '00:01:46.000',\n",
       "     'start_timestamp': '00:01:46.000'}},\n",
       "   {'description': 'Shot of sign that reads \"Community\"',\n",
       "    'timestamps': {'end_timestamp': '00:01:46.000',\n",
       "     'start_timestamp': '00:01:46.000'}},\n",
       "   {'description': 'Shot of sign that reads \"Respect and Fairness\"',\n",
       "    'timestamps': {'end_timestamp': '00:01:46.000',\n",
       "     'start_timestamp': '00:01:46.000'}},\n",
       "   {'description': 'Shot of sign that reads \"Professionalism\"',\n",
       "    'timestamps': {'end_timestamp': '00:01:46.000',\n",
       "     'start_timestamp': '00:01:46.000'}}]},\n",
       " {'activities': [{'description': 'Police Recruit #1 speaks about the biggest challenge she faced',\n",
       "    'timestamp': {'end_timestamp': '00:01:47.000',\n",
       "     'start_timestamp': '00:01:46.040'}},\n",
       "   {'description': 'Shots of police recruits participating in various training exercises',\n",
       "    'timestamp': {'end_timestamp': '00:01:50.000',\n",
       "     'start_timestamp': '00:01:49.000'}}],\n",
       "  'audioVisualCorrelation': 1.0,\n",
       "  'cast': ['Police Recruit #1'],\n",
       "  'characterInteraction': [{'characters': ['Police Recruit #1'],\n",
       "    'description': 'Interview with Police Recruit #1 provides insight into her personal experience and challenges during the training'}],\n",
       "  'contextualRelevance': 'The scene focuses on the personal challenges and growth experienced by the recruits.',\n",
       "  'dynamismScore': 0.8,\n",
       "  'mood': {'description': \"Excited. The visuals and Police Recruit #1's dialogue maintain the feeling of excitement and positive outlook towards the training.\",\n",
       "   'keyMoments': []},\n",
       "  'narrativeProgression': [{'description': 'Police Recruit #1 shares her personal challenge of transitioning from an outdoor job to a classroom setting and intensive studying',\n",
       "    'timestamp': '00:01:46.040'},\n",
       "   {'description': 'Police Recruit #1 expresses how she adapted to the change and eventually felt comfortable in her new role',\n",
       "    'timestamp': '00:01:59.000'}],\n",
       "  'props': [],\n",
       "  'sceneId': 4,\n",
       "  'thematicElements': 'The personal growth and adaptability required during police training, the challenges of transitioning into a new and demanding role, the ability to overcome obstacles and embrace new experiences.',\n",
       "  'timestamps': {'end_timestamp': '00:02:02.720',\n",
       "   'start_timestamp': '00:01:46.040'},\n",
       "  'title': 'Conquering Challenges',\n",
       "  'videoEditingDetails': [{'description': 'Fast cuts between different training activities',\n",
       "    'timestamps': {'end_timestamp': '00:02:02.720',\n",
       "     'start_timestamp': '00:01:49.000'}}]},\n",
       " {'activities': [{'description': 'Unknown Officer 1 speaks about the critical nature of the training',\n",
       "    'timestamp': {'end_timestamp': '00:02:06.000',\n",
       "     'start_timestamp': '00:02:05.000'}},\n",
       "   {'description': 'Shots of police recruits participating in various training exercises',\n",
       "    'timestamp': {'end_timestamp': '00:02:10.000',\n",
       "     'start_timestamp': '00:02:09.000'}},\n",
       "   {'description': 'Joe Jaramazovic speaks about the importance of understanding the laws and making decisions',\n",
       "    'timestamp': {'end_timestamp': '00:02:18.000',\n",
       "     'start_timestamp': '00:02:17.000'}},\n",
       "   {'description': 'Jane Fitzgerald speaks about the first year of service',\n",
       "    'timestamp': {'end_timestamp': '00:03:07.000',\n",
       "     'start_timestamp': '00:03:06.000'}},\n",
       "   {'description': 'Shots of police recruits graduating from the Academy',\n",
       "    'timestamp': {'end_timestamp': '00:03:09.000',\n",
       "     'start_timestamp': '00:03:08.000'}},\n",
       "   {'description': 'Joe Jaramazovic speaks about the importance of leadership',\n",
       "    'timestamp': {'end_timestamp': '00:03:57.000',\n",
       "     'start_timestamp': '00:03:56.000'}},\n",
       "   {'description': 'Shots of police officers interacting with the community',\n",
       "    'timestamp': {'end_timestamp': '00:04:08.000',\n",
       "     'start_timestamp': '00:04:07.000'}}],\n",
       "  'audioVisualCorrelation': 1.0,\n",
       "  'cast': ['Joe Jaramazovic', 'Jane Fitzgerald'],\n",
       "  'characterInteraction': [{'characters': ['Joe Jaramazovic',\n",
       "     'Jane Fitzgerald'],\n",
       "    'description': 'Interviews with Superintendent Jaramazovic and Senior Sergeant Fitzgerald continue to offer insights into the significance of the training, the transition into operational roles, and the values upheld by the Queensland Police Service'}],\n",
       "  'contextualRelevance': 'This scene marks the culmination of the training and emphasizes the transition into operational roles, highlighting the values and expectations placed upon new officers.',\n",
       "  'dynamismScore': 0.7,\n",
       "  'mood': {'description': 'Proud. The graduation ceremony, positive testimonials, and community interaction visuals contribute to a sense of pride and accomplishment.',\n",
       "   'keyMoments': []},\n",
       "  'narrativeProgression': [{'description': 'Unknown Officer 1 stresses the critical importance of the rigorous training for preparing recruits for real-world policing',\n",
       "    'timestamp': '00:02:05.000'},\n",
       "   {'description': 'Superintendent Jaramazovic reinforces the necessity of both knowledge of laws and the ability to make critical decisions in high-pressure situations',\n",
       "    'timestamp': '00:02:17.000'},\n",
       "   {'description': 'Senior Sergeant Fitzgerald outlines the first year of service, its structure, and the continuous support provided to newly graduated officers',\n",
       "    'timestamp': '00:03:06.000'},\n",
       "   {'description': 'Superintendent Jaramazovic emphasizes the importance of leadership and community engagement as core values for the Queensland Police Service',\n",
       "    'timestamp': '00:03:56.000'}],\n",
       "  'props': [{'name': 'Queensland Police Service Academy North Queensland Campus building',\n",
       "    'timestamp': {'end_timestamp': '00:02:05.000',\n",
       "     'start_timestamp': '00:02:04.000'}},\n",
       "   {'name': 'Handcuffs',\n",
       "    'timestamp': {'end_timestamp': '00:02:16.000',\n",
       "     'start_timestamp': '00:02:15.000'}},\n",
       "   {'name': 'Bob Atkinson Operational Capabilities Centre building',\n",
       "    'timestamp': {'end_timestamp': '00:02:18.000',\n",
       "     'start_timestamp': '00:02:17.000'}},\n",
       "   {'name': 'Sign that reads \"Integrity\"',\n",
       "    'timestamp': {'end_timestamp': '00:02:50.000',\n",
       "     'start_timestamp': '00:02:49.000'}},\n",
       "   {'name': 'Sign that reads \"Community\"',\n",
       "    'timestamp': {'end_timestamp': '00:02:52.000',\n",
       "     'start_timestamp': '00:02:51.000'}},\n",
       "   {'name': 'Sign that reads \"Respect and Fairness\"',\n",
       "    'timestamp': {'end_timestamp': '00:02:53.000',\n",
       "     'start_timestamp': '00:02:52.000'}},\n",
       "   {'name': 'Sign that reads \"Professionalism\"',\n",
       "    'timestamp': {'end_timestamp': '00:02:55.000',\n",
       "     'start_timestamp': '00:02:54.000'}}],\n",
       "  'sceneId': 5,\n",
       "  'thematicElements': 'The real-world application of the training program, the development of strong ethical and moral principles, the transition from recruit to fully operational police officer, the role of leadership and community engagement in policing.',\n",
       "  'timestamps': {'end_timestamp': '00:04:20.920',\n",
       "   'start_timestamp': '00:02:02.760'},\n",
       "  'title': 'Graduation and Transition',\n",
       "  'videoEditingDetails': [{'description': 'Fast cuts between different training activities and interviews',\n",
       "    'timestamps': {'end_timestamp': '00:04:07.000',\n",
       "     'start_timestamp': '00:02:09.000'}}]},\n",
       " {'activities': [],\n",
       "  'audioVisualCorrelation': 0.0,\n",
       "  'cast': [],\n",
       "  'characterInteraction': [],\n",
       "  'contextualRelevance': 'The scene serves as a closing segment providing contact information and channels for further engagement, rather than contributing to a narrative storyline.',\n",
       "  'dynamismScore': 0.2,\n",
       "  'mood': {'description': 'Neutral. It serves as a closing segment providing contact information and channels for further engagement.',\n",
       "   'keyMoments': []},\n",
       "  'narrativeProgression': [{'description': 'This scene provides concluding information and directs viewers to resources for further information.',\n",
       "    'timestamp': '00:04:21.000'}],\n",
       "  'props': [{'name': 'Queensland Police emblem',\n",
       "    'timestamp': {'end_timestamp': '00:04:24.000',\n",
       "     'start_timestamp': '00:04:23.000'}},\n",
       "   {'name': 'Social media icons and website addresses',\n",
       "    'timestamp': {'end_timestamp': '00:04:26.000',\n",
       "     'start_timestamp': '00:04:25.000'}}],\n",
       "  'sceneId': 6,\n",
       "  'thematicElements': 'The scene serves as a closure to the video, providing avenues for further engagement with the audience.',\n",
       "  'timestamps': {'end_timestamp': '00:04:28.080',\n",
       "   'start_timestamp': '00:04:20.960'},\n",
       "  'title': 'Closing and Contact Information',\n",
       "  'videoEditingDetails': [{'description': 'Fade to black',\n",
       "    'timestamps': {'end_timestamp': '00:04:23.000',\n",
       "     'start_timestamp': '00:04:22.000'}},\n",
       "   {'description': 'Queensland Police emblem animation',\n",
       "    'timestamps': {'end_timestamp': '00:04:24.000',\n",
       "     'start_timestamp': '00:04:23.000'}},\n",
       "   {'description': 'Text overlay with social media icons and website addresses',\n",
       "    'timestamps': {'end_timestamp': '00:04:26.000',\n",
       "     'start_timestamp': '00:04:25.000'}}]}]"
      ]
     },
     "execution_count": 37,
     "metadata": {},
     "output_type": "execute_result"
    }
   ],
   "source": [
    "sample['json']['content_metadata'][\"scenes\"]"
   ]
  },
  {
   "cell_type": "code",
   "execution_count": null,
   "metadata": {},
   "outputs": [],
   "source": []
  }
 ],
 "metadata": {
  "kernelspec": {
   "display_name": "usr",
   "language": "python",
   "name": "python3"
  },
  "language_info": {
   "codemirror_mode": {
    "name": "ipython",
    "version": 3
   },
   "file_extension": ".py",
   "mimetype": "text/x-python",
   "name": "python",
   "nbconvert_exporter": "python",
   "pygments_lexer": "ipython3",
   "version": "3.10.12"
  }
 },
 "nbformat": 4,
 "nbformat_minor": 2
}
